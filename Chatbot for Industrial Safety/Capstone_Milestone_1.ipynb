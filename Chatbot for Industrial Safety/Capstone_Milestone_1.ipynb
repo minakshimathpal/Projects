{
 "cells": [
  {
   "cell_type": "markdown",
   "id": "0136bfbc",
   "metadata": {
    "id": "0136bfbc"
   },
   "source": [
    "# 1. Milestone 1: [ Duration: 2 weeks, Score: 20 points]"
   ]
  },
  {
   "cell_type": "markdown",
   "id": "a1b052ea",
   "metadata": {
    "id": "a1b052ea"
   },
   "source": [
    "## Importing all the dependencies "
   ]
  },
  {
   "cell_type": "code",
   "execution_count": null,
   "id": "2291ebd0",
   "metadata": {
    "colab": {
     "base_uri": "https://localhost:8080/"
    },
    "id": "2291ebd0",
    "outputId": "9937e0ee-98f2-4bea-a814-e65af48f6258"
   },
   "outputs": [
    {
     "name": "stdout",
     "output_type": "stream",
     "text": [
      "[nltk_data] Downloading package punkt to /root/nltk_data...\n",
      "[nltk_data]   Package punkt is already up-to-date!\n",
      "[nltk_data] Downloading package stopwords to /root/nltk_data...\n",
      "[nltk_data]   Package stopwords is already up-to-date!\n",
      "[nltk_data] Downloading package wordnet to /root/nltk_data...\n",
      "[nltk_data]   Package wordnet is already up-to-date!\n",
      "[nltk_data] Downloading package averaged_perceptron_tagger to\n",
      "[nltk_data]     /root/nltk_data...\n",
      "[nltk_data]   Package averaged_perceptron_tagger is already up-to-\n",
      "[nltk_data]       date!\n",
      "Requirement already satisfied: nlpaug in /usr/local/lib/python3.7/dist-packages (1.1.8)\n",
      "Requirement already satisfied: requests>=2.22.0 in /usr/local/lib/python3.7/dist-packages (from nlpaug) (2.23.0)\n",
      "Requirement already satisfied: pandas>=1.2.0 in /usr/local/lib/python3.7/dist-packages (from nlpaug) (1.3.4)\n",
      "Requirement already satisfied: numpy>=1.16.2 in /usr/local/lib/python3.7/dist-packages (from nlpaug) (1.19.5)\n",
      "Requirement already satisfied: pytz>=2017.3 in /usr/local/lib/python3.7/dist-packages (from pandas>=1.2.0->nlpaug) (2018.9)\n",
      "Requirement already satisfied: python-dateutil>=2.7.3 in /usr/local/lib/python3.7/dist-packages (from pandas>=1.2.0->nlpaug) (2.8.2)\n",
      "Requirement already satisfied: six>=1.5 in /usr/local/lib/python3.7/dist-packages (from python-dateutil>=2.7.3->pandas>=1.2.0->nlpaug) (1.15.0)\n",
      "Requirement already satisfied: idna<3,>=2.5 in /usr/local/lib/python3.7/dist-packages (from requests>=2.22.0->nlpaug) (2.10)\n",
      "Requirement already satisfied: certifi>=2017.4.17 in /usr/local/lib/python3.7/dist-packages (from requests>=2.22.0->nlpaug) (2021.10.8)\n",
      "Requirement already satisfied: chardet<4,>=3.0.2 in /usr/local/lib/python3.7/dist-packages (from requests>=2.22.0->nlpaug) (3.0.4)\n",
      "Requirement already satisfied: urllib3!=1.25.0,!=1.25.1,<1.26,>=1.21.1 in /usr/local/lib/python3.7/dist-packages (from requests>=2.22.0->nlpaug) (1.24.3)\n",
      "Requirement already satisfied: transformers in /usr/local/lib/python3.7/dist-packages (4.12.5)\n",
      "Requirement already satisfied: sacremoses in /usr/local/lib/python3.7/dist-packages (from transformers) (0.0.46)\n",
      "Requirement already satisfied: regex!=2019.12.17 in /usr/local/lib/python3.7/dist-packages (from transformers) (2019.12.20)\n",
      "Requirement already satisfied: huggingface-hub<1.0,>=0.1.0 in /usr/local/lib/python3.7/dist-packages (from transformers) (0.1.2)\n",
      "Requirement already satisfied: tqdm>=4.27 in /usr/local/lib/python3.7/dist-packages (from transformers) (4.62.3)\n",
      "Requirement already satisfied: numpy>=1.17 in /usr/local/lib/python3.7/dist-packages (from transformers) (1.19.5)\n",
      "Requirement already satisfied: tokenizers<0.11,>=0.10.1 in /usr/local/lib/python3.7/dist-packages (from transformers) (0.10.3)\n",
      "Requirement already satisfied: pyyaml>=5.1 in /usr/local/lib/python3.7/dist-packages (from transformers) (6.0)\n",
      "Requirement already satisfied: packaging>=20.0 in /usr/local/lib/python3.7/dist-packages (from transformers) (21.3)\n",
      "Requirement already satisfied: importlib-metadata in /usr/local/lib/python3.7/dist-packages (from transformers) (4.8.2)\n",
      "Requirement already satisfied: requests in /usr/local/lib/python3.7/dist-packages (from transformers) (2.23.0)\n",
      "Requirement already satisfied: filelock in /usr/local/lib/python3.7/dist-packages (from transformers) (3.4.0)\n",
      "Requirement already satisfied: typing-extensions>=3.7.4.3 in /usr/local/lib/python3.7/dist-packages (from huggingface-hub<1.0,>=0.1.0->transformers) (3.10.0.2)\n",
      "Requirement already satisfied: pyparsing!=3.0.5,>=2.0.2 in /usr/local/lib/python3.7/dist-packages (from packaging>=20.0->transformers) (3.0.6)\n",
      "Requirement already satisfied: zipp>=0.5 in /usr/local/lib/python3.7/dist-packages (from importlib-metadata->transformers) (3.6.0)\n",
      "Requirement already satisfied: certifi>=2017.4.17 in /usr/local/lib/python3.7/dist-packages (from requests->transformers) (2021.10.8)\n",
      "Requirement already satisfied: chardet<4,>=3.0.2 in /usr/local/lib/python3.7/dist-packages (from requests->transformers) (3.0.4)\n",
      "Requirement already satisfied: idna<3,>=2.5 in /usr/local/lib/python3.7/dist-packages (from requests->transformers) (2.10)\n",
      "Requirement already satisfied: urllib3!=1.25.0,!=1.25.1,<1.26,>=1.21.1 in /usr/local/lib/python3.7/dist-packages (from requests->transformers) (1.24.3)\n",
      "Requirement already satisfied: six in /usr/local/lib/python3.7/dist-packages (from sacremoses->transformers) (1.15.0)\n",
      "Requirement already satisfied: click in /usr/local/lib/python3.7/dist-packages (from sacremoses->transformers) (7.1.2)\n",
      "Requirement already satisfied: joblib in /usr/local/lib/python3.7/dist-packages (from sacremoses->transformers) (1.1.0)\n",
      "Requirement already satisfied: tensorflow_text in /usr/local/lib/python3.7/dist-packages (2.7.3)\n",
      "Requirement already satisfied: tensorflow<2.8,>=2.7.0 in /usr/local/lib/python3.7/dist-packages (from tensorflow_text) (2.7.0)\n",
      "Requirement already satisfied: tensorflow-hub>=0.8.0 in /usr/local/lib/python3.7/dist-packages (from tensorflow_text) (0.12.0)\n",
      "Requirement already satisfied: termcolor>=1.1.0 in /usr/local/lib/python3.7/dist-packages (from tensorflow<2.8,>=2.7.0->tensorflow_text) (1.1.0)\n",
      "Requirement already satisfied: flatbuffers<3.0,>=1.12 in /usr/local/lib/python3.7/dist-packages (from tensorflow<2.8,>=2.7.0->tensorflow_text) (2.0)\n",
      "Requirement already satisfied: typing-extensions>=3.6.6 in /usr/local/lib/python3.7/dist-packages (from tensorflow<2.8,>=2.7.0->tensorflow_text) (3.10.0.2)\n",
      "Requirement already satisfied: keras<2.8,>=2.7.0rc0 in /usr/local/lib/python3.7/dist-packages (from tensorflow<2.8,>=2.7.0->tensorflow_text) (2.7.0)\n",
      "Requirement already satisfied: keras-preprocessing>=1.1.1 in /usr/local/lib/python3.7/dist-packages (from tensorflow<2.8,>=2.7.0->tensorflow_text) (1.1.2)\n",
      "Requirement already satisfied: google-pasta>=0.1.1 in /usr/local/lib/python3.7/dist-packages (from tensorflow<2.8,>=2.7.0->tensorflow_text) (0.2.0)\n",
      "Requirement already satisfied: grpcio<2.0,>=1.24.3 in /usr/local/lib/python3.7/dist-packages (from tensorflow<2.8,>=2.7.0->tensorflow_text) (1.42.0)\n",
      "Requirement already satisfied: astunparse>=1.6.0 in /usr/local/lib/python3.7/dist-packages (from tensorflow<2.8,>=2.7.0->tensorflow_text) (1.6.3)\n",
      "Requirement already satisfied: tensorflow-estimator<2.8,~=2.7.0rc0 in /usr/local/lib/python3.7/dist-packages (from tensorflow<2.8,>=2.7.0->tensorflow_text) (2.7.0)\n",
      "Requirement already satisfied: tensorflow-io-gcs-filesystem>=0.21.0 in /usr/local/lib/python3.7/dist-packages (from tensorflow<2.8,>=2.7.0->tensorflow_text) (0.22.0)\n",
      "Requirement already satisfied: six>=1.12.0 in /usr/local/lib/python3.7/dist-packages (from tensorflow<2.8,>=2.7.0->tensorflow_text) (1.15.0)\n",
      "Requirement already satisfied: numpy>=1.14.5 in /usr/local/lib/python3.7/dist-packages (from tensorflow<2.8,>=2.7.0->tensorflow_text) (1.19.5)\n",
      "Requirement already satisfied: wheel<1.0,>=0.32.0 in /usr/local/lib/python3.7/dist-packages (from tensorflow<2.8,>=2.7.0->tensorflow_text) (0.37.0)\n",
      "Requirement already satisfied: h5py>=2.9.0 in /usr/local/lib/python3.7/dist-packages (from tensorflow<2.8,>=2.7.0->tensorflow_text) (3.1.0)\n",
      "Requirement already satisfied: opt-einsum>=2.3.2 in /usr/local/lib/python3.7/dist-packages (from tensorflow<2.8,>=2.7.0->tensorflow_text) (3.3.0)\n",
      "Requirement already satisfied: tensorboard~=2.6 in /usr/local/lib/python3.7/dist-packages (from tensorflow<2.8,>=2.7.0->tensorflow_text) (2.7.0)\n",
      "Requirement already satisfied: wrapt>=1.11.0 in /usr/local/lib/python3.7/dist-packages (from tensorflow<2.8,>=2.7.0->tensorflow_text) (1.13.3)\n",
      "Requirement already satisfied: absl-py>=0.4.0 in /usr/local/lib/python3.7/dist-packages (from tensorflow<2.8,>=2.7.0->tensorflow_text) (0.12.0)\n",
      "Requirement already satisfied: libclang>=9.0.1 in /usr/local/lib/python3.7/dist-packages (from tensorflow<2.8,>=2.7.0->tensorflow_text) (12.0.0)\n",
      "Requirement already satisfied: gast<0.5.0,>=0.2.1 in /usr/local/lib/python3.7/dist-packages (from tensorflow<2.8,>=2.7.0->tensorflow_text) (0.4.0)\n",
      "Requirement already satisfied: protobuf>=3.9.2 in /usr/local/lib/python3.7/dist-packages (from tensorflow<2.8,>=2.7.0->tensorflow_text) (3.17.3)\n",
      "Requirement already satisfied: cached-property in /usr/local/lib/python3.7/dist-packages (from h5py>=2.9.0->tensorflow<2.8,>=2.7.0->tensorflow_text) (1.5.2)\n",
      "Requirement already satisfied: google-auth-oauthlib<0.5,>=0.4.1 in /usr/local/lib/python3.7/dist-packages (from tensorboard~=2.6->tensorflow<2.8,>=2.7.0->tensorflow_text) (0.4.6)\n",
      "Requirement already satisfied: requests<3,>=2.21.0 in /usr/local/lib/python3.7/dist-packages (from tensorboard~=2.6->tensorflow<2.8,>=2.7.0->tensorflow_text) (2.23.0)\n",
      "Requirement already satisfied: setuptools>=41.0.0 in /usr/local/lib/python3.7/dist-packages (from tensorboard~=2.6->tensorflow<2.8,>=2.7.0->tensorflow_text) (57.4.0)\n",
      "Requirement already satisfied: werkzeug>=0.11.15 in /usr/local/lib/python3.7/dist-packages (from tensorboard~=2.6->tensorflow<2.8,>=2.7.0->tensorflow_text) (1.0.1)\n",
      "Requirement already satisfied: markdown>=2.6.8 in /usr/local/lib/python3.7/dist-packages (from tensorboard~=2.6->tensorflow<2.8,>=2.7.0->tensorflow_text) (3.3.6)\n",
      "Requirement already satisfied: tensorboard-plugin-wit>=1.6.0 in /usr/local/lib/python3.7/dist-packages (from tensorboard~=2.6->tensorflow<2.8,>=2.7.0->tensorflow_text) (1.8.0)\n",
      "Requirement already satisfied: tensorboard-data-server<0.7.0,>=0.6.0 in /usr/local/lib/python3.7/dist-packages (from tensorboard~=2.6->tensorflow<2.8,>=2.7.0->tensorflow_text) (0.6.1)\n",
      "Requirement already satisfied: google-auth<3,>=1.6.3 in /usr/local/lib/python3.7/dist-packages (from tensorboard~=2.6->tensorflow<2.8,>=2.7.0->tensorflow_text) (1.35.0)\n",
      "Requirement already satisfied: pyasn1-modules>=0.2.1 in /usr/local/lib/python3.7/dist-packages (from google-auth<3,>=1.6.3->tensorboard~=2.6->tensorflow<2.8,>=2.7.0->tensorflow_text) (0.2.8)\n",
      "Requirement already satisfied: cachetools<5.0,>=2.0.0 in /usr/local/lib/python3.7/dist-packages (from google-auth<3,>=1.6.3->tensorboard~=2.6->tensorflow<2.8,>=2.7.0->tensorflow_text) (4.2.4)\n",
      "Requirement already satisfied: rsa<5,>=3.1.4 in /usr/local/lib/python3.7/dist-packages (from google-auth<3,>=1.6.3->tensorboard~=2.6->tensorflow<2.8,>=2.7.0->tensorflow_text) (4.7.2)\n",
      "Requirement already satisfied: requests-oauthlib>=0.7.0 in /usr/local/lib/python3.7/dist-packages (from google-auth-oauthlib<0.5,>=0.4.1->tensorboard~=2.6->tensorflow<2.8,>=2.7.0->tensorflow_text) (1.3.0)\n",
      "Requirement already satisfied: importlib-metadata>=4.4 in /usr/local/lib/python3.7/dist-packages (from markdown>=2.6.8->tensorboard~=2.6->tensorflow<2.8,>=2.7.0->tensorflow_text) (4.8.2)\n",
      "Requirement already satisfied: zipp>=0.5 in /usr/local/lib/python3.7/dist-packages (from importlib-metadata>=4.4->markdown>=2.6.8->tensorboard~=2.6->tensorflow<2.8,>=2.7.0->tensorflow_text) (3.6.0)\n",
      "Requirement already satisfied: pyasn1<0.5.0,>=0.4.6 in /usr/local/lib/python3.7/dist-packages (from pyasn1-modules>=0.2.1->google-auth<3,>=1.6.3->tensorboard~=2.6->tensorflow<2.8,>=2.7.0->tensorflow_text) (0.4.8)\n",
      "Requirement already satisfied: idna<3,>=2.5 in /usr/local/lib/python3.7/dist-packages (from requests<3,>=2.21.0->tensorboard~=2.6->tensorflow<2.8,>=2.7.0->tensorflow_text) (2.10)\n",
      "Requirement already satisfied: urllib3!=1.25.0,!=1.25.1,<1.26,>=1.21.1 in /usr/local/lib/python3.7/dist-packages (from requests<3,>=2.21.0->tensorboard~=2.6->tensorflow<2.8,>=2.7.0->tensorflow_text) (1.24.3)\n",
      "Requirement already satisfied: chardet<4,>=3.0.2 in /usr/local/lib/python3.7/dist-packages (from requests<3,>=2.21.0->tensorboard~=2.6->tensorflow<2.8,>=2.7.0->tensorflow_text) (3.0.4)\n",
      "Requirement already satisfied: certifi>=2017.4.17 in /usr/local/lib/python3.7/dist-packages (from requests<3,>=2.21.0->tensorboard~=2.6->tensorflow<2.8,>=2.7.0->tensorflow_text) (2021.10.8)\n",
      "Requirement already satisfied: oauthlib>=3.0.0 in /usr/local/lib/python3.7/dist-packages (from requests-oauthlib>=0.7.0->google-auth-oauthlib<0.5,>=0.4.1->tensorboard~=2.6->tensorflow<2.8,>=2.7.0->tensorflow_text) (3.1.1)\n",
      "Drive already mounted at /content/drive/; to attempt to forcibly remount, call drive.mount(\"/content/drive/\", force_remount=True).\n"
     ]
    }
   ],
   "source": [
    "#Importing numpy handle mathematical calculations and pandas for data manipulation and analysis.\n",
    "import numpy as np\n",
    "import pandas as pd\n",
    "\n",
    "#Matplotlib can be used to visuvalize the data and seaborn is built on top of it\n",
    "import matplotlib.pyplot as plt\n",
    "import seaborn as sns\n",
    "%matplotlib inline\n",
    "\n",
    "#Hypothesis tests\n",
    "from scipy.stats import chi2_contingency,chisquare\n",
    "\n",
    "#Scikit learn libraries & other Model building\n",
    "from sklearn.pipeline import Pipeline\n",
    "from sklearn.naive_bayes import MultinomialNB\n",
    "from sklearn.ensemble import RandomForestClassifier\n",
    "from sklearn.preprocessing import LabelEncoder\n",
    "import nltk,warnings,gensim,re\n",
    "from string import punctuation\n",
    "nltk.download(['punkt','stopwords','wordnet','averaged_perceptron_tagger'])\n",
    "\n",
    "import tensorflow as tf\n",
    "from nltk.corpus import stopwords\n",
    "from nltk.stem import PorterStemmer,WordNetLemmatizer\n",
    "from nltk import word_tokenize\n",
    "from nltk.tokenize import sent_tokenize, word_tokenize\n",
    "from sklearn.feature_extraction.text import TfidfVectorizer,CountVectorizer\n",
    "warnings.filterwarnings(action = 'ignore')\n",
    "from gensim.models import Word2Vec\n",
    "from tensorflow.keras.preprocessing.sequence import pad_sequences\n",
    "from tensorflow.keras.preprocessing.text import Tokenizer\n",
    "from tensorflow.keras.models import Model, Sequential,load_model\n",
    "from tensorflow.keras.layers import Dense, Input, LSTM, Embedding, Dropout, Activation, Flatten, Bidirectional, GlobalMaxPool1D, BatchNormalization,SimpleRNN,GRU\n",
    "from keras.constraints import max_norm, unit_norm\n",
    "from tensorflow.keras.optimizers import Adam,SGD,RMSprop\n",
    "from tensorflow.keras.callbacks import ReduceLROnPlateau,EarlyStopping\n",
    "from sklearn.metrics import confusion_matrix, classification_report, roc_curve, auc, accuracy_score, precision_recall_curve\n",
    "from sklearn.model_selection import train_test_split,GridSearchCV\n",
    "from imblearn import over_sampling\n",
    "from imblearn.over_sampling import SMOTE\n",
    "!pip install nlpaug \n",
    "!pip install transformers\n",
    "# Run this  during the first time\n",
    "from transformers import XLNetConfig, XLNetModel\n",
    "import transformers\n",
    "import nlpaug.augmenter.char as nac\n",
    "import nlpaug.augmenter.word as naw\n",
    "import nlpaug.augmenter.sentence as nas\n",
    "import nlpaug.flow as nafc\n",
    "import nlpaug.augmenter.word as naw\n",
    "import nlpaug.flow as naf\n",
    "from nlpaug.util import Action\n",
    "!pip install tensorflow_text\n",
    "import tensorflow_hub as hub\n",
    "import tensorflow_text as text\n",
    "from transformers import XLNetConfig, XLNetModel\n",
    "from tensorflow.keras.initializers import GlorotUniform\n",
    "\n",
    "#Drive\n",
    "import warnings\n",
    "from google.colab import drive\n",
    "warnings.filterwarnings('ignore')\n",
    "drive.mount('/content/drive/')\n",
    "project_path = '/content/drive/My Drive/Data Science/NLP/Capstone'\n",
    "\n"
   ]
  },
  {
   "cell_type": "code",
   "execution_count": null,
   "id": "InxpJlcc_Xz3",
   "metadata": {
    "id": "InxpJlcc_Xz3"
   },
   "outputs": [],
   "source": []
  },
  {
   "cell_type": "markdown",
   "id": "93833725",
   "metadata": {
    "id": "93833725"
   },
   "source": [
    "# Step 1: Import the data "
   ]
  },
  {
   "cell_type": "markdown",
   "id": "q4MlmxA3wa49",
   "metadata": {
    "id": "q4MlmxA3wa49"
   },
   "source": [
    "# New Section"
   ]
  },
  {
   "cell_type": "code",
   "execution_count": null,
   "id": "17e37242",
   "metadata": {
    "id": "17e37242"
   },
   "outputs": [],
   "source": [
    "df = pd.read_csv(project_path+'/Data.csv',index_col=False)"
   ]
  },
  {
   "cell_type": "markdown",
   "id": "aefe91a8",
   "metadata": {
    "id": "aefe91a8"
   },
   "source": [
    "# Step 2: Data cleansing\n",
    "\n",
    "* We will filter the columns that shall be used to build model. Not all the columns provided can be used to build model.\n",
    "\n",
    "* We will rename the column headers, few are incorrectly labelled.\n",
    "\n",
    "* We will check for duplicates and remove them if found.\n",
    "\n",
    "* We will convert a column (Date) to a proper datatype (Datetime). This shall later be used to identify other insights.\n",
    "\n",
    "* We will check for null values (there were no null values)"
   ]
  },
  {
   "cell_type": "code",
   "execution_count": null,
   "id": "40abbb16",
   "metadata": {
    "id": "40abbb16"
   },
   "outputs": [],
   "source": [
    "df = df[['Data','Countries','Local','Industry Sector','Accident Level',\n",
    "         'Potential Accident Level','Genre','Employee or Third Party','Critical Risk','Description']]\n",
    "\n",
    "#Filter the important columns\n",
    "#Step#1"
   ]
  },
  {
   "cell_type": "code",
   "execution_count": null,
   "id": "2b20550f",
   "metadata": {
    "colab": {
     "base_uri": "https://localhost:8080/",
     "height": 310
    },
    "id": "2b20550f",
    "outputId": "c9287ca0-bbb0-40b9-a4ed-eb9072f84aff"
   },
   "outputs": [
    {
     "data": {
      "text/html": [
       "<div>\n",
       "<style scoped>\n",
       "    .dataframe tbody tr th:only-of-type {\n",
       "        vertical-align: middle;\n",
       "    }\n",
       "\n",
       "    .dataframe tbody tr th {\n",
       "        vertical-align: top;\n",
       "    }\n",
       "\n",
       "    .dataframe thead th {\n",
       "        text-align: right;\n",
       "    }\n",
       "</style>\n",
       "<table border=\"1\" class=\"dataframe\">\n",
       "  <thead>\n",
       "    <tr style=\"text-align: right;\">\n",
       "      <th></th>\n",
       "      <th>Date</th>\n",
       "      <th>Countries</th>\n",
       "      <th>Locality</th>\n",
       "      <th>Industry Sector</th>\n",
       "      <th>Accident Level</th>\n",
       "      <th>Potential Accident Level</th>\n",
       "      <th>Gender</th>\n",
       "      <th>Employee or Third Party</th>\n",
       "      <th>Critical Risk</th>\n",
       "      <th>Description</th>\n",
       "    </tr>\n",
       "  </thead>\n",
       "  <tbody>\n",
       "    <tr>\n",
       "      <th>0</th>\n",
       "      <td>2016-01-01 00:00:00</td>\n",
       "      <td>Country_01</td>\n",
       "      <td>Local_01</td>\n",
       "      <td>Mining</td>\n",
       "      <td>I</td>\n",
       "      <td>IV</td>\n",
       "      <td>Male</td>\n",
       "      <td>Third Party</td>\n",
       "      <td>Pressed</td>\n",
       "      <td>While removing the drill rod of the Jumbo 08 f...</td>\n",
       "    </tr>\n",
       "    <tr>\n",
       "      <th>1</th>\n",
       "      <td>2016-01-02 00:00:00</td>\n",
       "      <td>Country_02</td>\n",
       "      <td>Local_02</td>\n",
       "      <td>Mining</td>\n",
       "      <td>I</td>\n",
       "      <td>IV</td>\n",
       "      <td>Male</td>\n",
       "      <td>Employee</td>\n",
       "      <td>Pressurized Systems</td>\n",
       "      <td>During the activation of a sodium sulphide pum...</td>\n",
       "    </tr>\n",
       "    <tr>\n",
       "      <th>2</th>\n",
       "      <td>2016-01-06 00:00:00</td>\n",
       "      <td>Country_01</td>\n",
       "      <td>Local_03</td>\n",
       "      <td>Mining</td>\n",
       "      <td>I</td>\n",
       "      <td>III</td>\n",
       "      <td>Male</td>\n",
       "      <td>Third Party (Remote)</td>\n",
       "      <td>Manual Tools</td>\n",
       "      <td>In the sub-station MILPO located at level +170...</td>\n",
       "    </tr>\n",
       "    <tr>\n",
       "      <th>3</th>\n",
       "      <td>2016-01-08 00:00:00</td>\n",
       "      <td>Country_01</td>\n",
       "      <td>Local_04</td>\n",
       "      <td>Mining</td>\n",
       "      <td>I</td>\n",
       "      <td>I</td>\n",
       "      <td>Male</td>\n",
       "      <td>Third Party</td>\n",
       "      <td>Others</td>\n",
       "      <td>Being 9:45 am. approximately in the Nv. 1880 C...</td>\n",
       "    </tr>\n",
       "    <tr>\n",
       "      <th>4</th>\n",
       "      <td>2016-01-10 00:00:00</td>\n",
       "      <td>Country_01</td>\n",
       "      <td>Local_04</td>\n",
       "      <td>Mining</td>\n",
       "      <td>IV</td>\n",
       "      <td>IV</td>\n",
       "      <td>Male</td>\n",
       "      <td>Third Party</td>\n",
       "      <td>Others</td>\n",
       "      <td>Approximately at 11:45 a.m. in circumstances t...</td>\n",
       "    </tr>\n",
       "  </tbody>\n",
       "</table>\n",
       "</div>"
      ],
      "text/plain": [
       "                  Date  ...                                        Description\n",
       "0  2016-01-01 00:00:00  ...  While removing the drill rod of the Jumbo 08 f...\n",
       "1  2016-01-02 00:00:00  ...  During the activation of a sodium sulphide pum...\n",
       "2  2016-01-06 00:00:00  ...  In the sub-station MILPO located at level +170...\n",
       "3  2016-01-08 00:00:00  ...  Being 9:45 am. approximately in the Nv. 1880 C...\n",
       "4  2016-01-10 00:00:00  ...  Approximately at 11:45 a.m. in circumstances t...\n",
       "\n",
       "[5 rows x 10 columns]"
      ]
     },
     "execution_count": 5,
     "metadata": {},
     "output_type": "execute_result"
    }
   ],
   "source": [
    "df.columns = ['Date', 'Countries', 'Locality', 'Industry Sector', 'Accident Level',\n",
    "       'Potential Accident Level', 'Gender', 'Employee or Third Party',\n",
    "       'Critical Risk', 'Description']\n",
    "#Step#2\n",
    "#Renamed the headings\n",
    "\n",
    "df.head()"
   ]
  },
  {
   "cell_type": "code",
   "execution_count": null,
   "id": "811dcda3",
   "metadata": {
    "colab": {
     "base_uri": "https://localhost:8080/",
     "height": 408
    },
    "id": "811dcda3",
    "outputId": "da21f65a-1368-43dd-e560-bb6a45c7fc36"
   },
   "outputs": [
    {
     "data": {
      "text/html": [
       "<div>\n",
       "<style scoped>\n",
       "    .dataframe tbody tr th:only-of-type {\n",
       "        vertical-align: middle;\n",
       "    }\n",
       "\n",
       "    .dataframe tbody tr th {\n",
       "        vertical-align: top;\n",
       "    }\n",
       "\n",
       "    .dataframe thead th {\n",
       "        text-align: right;\n",
       "    }\n",
       "</style>\n",
       "<table border=\"1\" class=\"dataframe\">\n",
       "  <thead>\n",
       "    <tr style=\"text-align: right;\">\n",
       "      <th></th>\n",
       "      <th>Date</th>\n",
       "      <th>Countries</th>\n",
       "      <th>Locality</th>\n",
       "      <th>Industry Sector</th>\n",
       "      <th>Accident Level</th>\n",
       "      <th>Potential Accident Level</th>\n",
       "      <th>Gender</th>\n",
       "      <th>Employee or Third Party</th>\n",
       "      <th>Critical Risk</th>\n",
       "      <th>Description</th>\n",
       "    </tr>\n",
       "  </thead>\n",
       "  <tbody>\n",
       "    <tr>\n",
       "      <th>77</th>\n",
       "      <td>2016-04-01 00:00:00</td>\n",
       "      <td>Country_01</td>\n",
       "      <td>Local_01</td>\n",
       "      <td>Mining</td>\n",
       "      <td>I</td>\n",
       "      <td>V</td>\n",
       "      <td>Male</td>\n",
       "      <td>Third Party (Remote)</td>\n",
       "      <td>Others</td>\n",
       "      <td>In circumstances that two workers of the Abrat...</td>\n",
       "    </tr>\n",
       "    <tr>\n",
       "      <th>262</th>\n",
       "      <td>2016-12-01 00:00:00</td>\n",
       "      <td>Country_01</td>\n",
       "      <td>Local_03</td>\n",
       "      <td>Mining</td>\n",
       "      <td>I</td>\n",
       "      <td>IV</td>\n",
       "      <td>Male</td>\n",
       "      <td>Employee</td>\n",
       "      <td>Others</td>\n",
       "      <td>During the activity of chuteo of ore in hopper...</td>\n",
       "    </tr>\n",
       "    <tr>\n",
       "      <th>303</th>\n",
       "      <td>2017-01-21 00:00:00</td>\n",
       "      <td>Country_02</td>\n",
       "      <td>Local_02</td>\n",
       "      <td>Mining</td>\n",
       "      <td>I</td>\n",
       "      <td>I</td>\n",
       "      <td>Male</td>\n",
       "      <td>Third Party (Remote)</td>\n",
       "      <td>Others</td>\n",
       "      <td>Employees engaged in the removal of material f...</td>\n",
       "    </tr>\n",
       "    <tr>\n",
       "      <th>345</th>\n",
       "      <td>2017-03-02 00:00:00</td>\n",
       "      <td>Country_03</td>\n",
       "      <td>Local_10</td>\n",
       "      <td>Others</td>\n",
       "      <td>I</td>\n",
       "      <td>I</td>\n",
       "      <td>Male</td>\n",
       "      <td>Third Party</td>\n",
       "      <td>Venomous Animals</td>\n",
       "      <td>On 02/03/17 during the soil sampling in the re...</td>\n",
       "    </tr>\n",
       "    <tr>\n",
       "      <th>346</th>\n",
       "      <td>2017-03-02 00:00:00</td>\n",
       "      <td>Country_03</td>\n",
       "      <td>Local_10</td>\n",
       "      <td>Others</td>\n",
       "      <td>I</td>\n",
       "      <td>I</td>\n",
       "      <td>Male</td>\n",
       "      <td>Third Party</td>\n",
       "      <td>Venomous Animals</td>\n",
       "      <td>On 02/03/17 during the soil sampling in the re...</td>\n",
       "    </tr>\n",
       "    <tr>\n",
       "      <th>355</th>\n",
       "      <td>2017-03-15 00:00:00</td>\n",
       "      <td>Country_03</td>\n",
       "      <td>Local_10</td>\n",
       "      <td>Others</td>\n",
       "      <td>I</td>\n",
       "      <td>I</td>\n",
       "      <td>Male</td>\n",
       "      <td>Third Party</td>\n",
       "      <td>Venomous Animals</td>\n",
       "      <td>Team of the VMS Project performed soil collect...</td>\n",
       "    </tr>\n",
       "    <tr>\n",
       "      <th>397</th>\n",
       "      <td>2017-05-23 00:00:00</td>\n",
       "      <td>Country_01</td>\n",
       "      <td>Local_04</td>\n",
       "      <td>Mining</td>\n",
       "      <td>I</td>\n",
       "      <td>IV</td>\n",
       "      <td>Male</td>\n",
       "      <td>Third Party</td>\n",
       "      <td>Projection of fragments</td>\n",
       "      <td>In moments when the 02 collaborators carried o...</td>\n",
       "    </tr>\n",
       "  </tbody>\n",
       "</table>\n",
       "</div>"
      ],
      "text/plain": [
       "                    Date  ...                                        Description\n",
       "77   2016-04-01 00:00:00  ...  In circumstances that two workers of the Abrat...\n",
       "262  2016-12-01 00:00:00  ...  During the activity of chuteo of ore in hopper...\n",
       "303  2017-01-21 00:00:00  ...  Employees engaged in the removal of material f...\n",
       "345  2017-03-02 00:00:00  ...  On 02/03/17 during the soil sampling in the re...\n",
       "346  2017-03-02 00:00:00  ...  On 02/03/17 during the soil sampling in the re...\n",
       "355  2017-03-15 00:00:00  ...  Team of the VMS Project performed soil collect...\n",
       "397  2017-05-23 00:00:00  ...  In moments when the 02 collaborators carried o...\n",
       "\n",
       "[7 rows x 10 columns]"
      ]
     },
     "execution_count": 6,
     "metadata": {},
     "output_type": "execute_result"
    }
   ],
   "source": [
    "df[df.duplicated()]\n",
    "\n",
    "#It displays 7 duplicates in the dataset, we will drop them"
   ]
  },
  {
   "cell_type": "code",
   "execution_count": null,
   "id": "fea7558a",
   "metadata": {
    "id": "fea7558a"
   },
   "outputs": [],
   "source": [
    "df.drop_duplicates(inplace=True)\n",
    "\n",
    "#Removed the duplicates\n",
    "#Step#3"
   ]
  },
  {
   "cell_type": "code",
   "execution_count": null,
   "id": "f5ad9b86",
   "metadata": {
    "colab": {
     "base_uri": "https://localhost:8080/"
    },
    "id": "f5ad9b86",
    "outputId": "277c794f-9f1c-4934-e2b6-a85d5d33fe02"
   },
   "outputs": [
    {
     "name": "stdout",
     "output_type": "stream",
     "text": [
      "<class 'pandas.core.frame.DataFrame'>\n",
      "Int64Index: 418 entries, 0 to 424\n",
      "Data columns (total 10 columns):\n",
      " #   Column                    Non-Null Count  Dtype \n",
      "---  ------                    --------------  ----- \n",
      " 0   Date                      418 non-null    object\n",
      " 1   Countries                 418 non-null    object\n",
      " 2   Locality                  418 non-null    object\n",
      " 3   Industry Sector           418 non-null    object\n",
      " 4   Accident Level            418 non-null    object\n",
      " 5   Potential Accident Level  418 non-null    object\n",
      " 6   Gender                    418 non-null    object\n",
      " 7   Employee or Third Party   418 non-null    object\n",
      " 8   Critical Risk             418 non-null    object\n",
      " 9   Description               418 non-null    object\n",
      "dtypes: object(10)\n",
      "memory usage: 35.9+ KB\n"
     ]
    }
   ],
   "source": [
    "df.info()\n",
    "\n",
    "#Date is in object type"
   ]
  },
  {
   "cell_type": "code",
   "execution_count": null,
   "id": "bcccf5a2",
   "metadata": {
    "id": "bcccf5a2"
   },
   "outputs": [],
   "source": [
    "df['Date'] = pd.to_datetime(df['Date'].apply(lambda x: x.split(\" \")[0]))\n",
    "\n",
    "# We convert date to a datetime format, this is to get few more important insights from data."
   ]
  },
  {
   "cell_type": "code",
   "execution_count": null,
   "id": "921f3b84",
   "metadata": {
    "colab": {
     "base_uri": "https://localhost:8080/"
    },
    "id": "921f3b84",
    "outputId": "6be97e54-e994-47ed-9f8e-b7e79fd665b1"
   },
   "outputs": [
    {
     "data": {
      "text/plain": [
       "Date                        0\n",
       "Countries                   0\n",
       "Locality                    0\n",
       "Industry Sector             0\n",
       "Accident Level              0\n",
       "Potential Accident Level    0\n",
       "Gender                      0\n",
       "Employee or Third Party     0\n",
       "Critical Risk               0\n",
       "Description                 0\n",
       "dtype: int64"
      ]
     },
     "execution_count": 10,
     "metadata": {},
     "output_type": "execute_result"
    }
   ],
   "source": [
    "df.isnull().sum()\n",
    "\n",
    "#There is no null values"
   ]
  },
  {
   "cell_type": "code",
   "execution_count": null,
   "id": "Y8i9dOfeBS69",
   "metadata": {
    "id": "Y8i9dOfeBS69"
   },
   "outputs": [],
   "source": []
  },
  {
   "cell_type": "markdown",
   "id": "dbb1c8b8",
   "metadata": {
    "id": "dbb1c8b8"
   },
   "source": [
    "### Exploratory Data Analysis "
   ]
  },
  {
   "cell_type": "code",
   "execution_count": null,
   "id": "ed2e78f3",
   "metadata": {
    "colab": {
     "base_uri": "https://localhost:8080/",
     "height": 328
    },
    "id": "ed2e78f3",
    "outputId": "164ae108-3d43-48de-ce7f-271276bc737f"
   },
   "outputs": [
    {
     "data": {
      "text/html": [
       "<div>\n",
       "<style scoped>\n",
       "    .dataframe tbody tr th:only-of-type {\n",
       "        vertical-align: middle;\n",
       "    }\n",
       "\n",
       "    .dataframe tbody tr th {\n",
       "        vertical-align: top;\n",
       "    }\n",
       "\n",
       "    .dataframe thead th {\n",
       "        text-align: right;\n",
       "    }\n",
       "</style>\n",
       "<table border=\"1\" class=\"dataframe\">\n",
       "  <thead>\n",
       "    <tr style=\"text-align: right;\">\n",
       "      <th></th>\n",
       "      <th>Date</th>\n",
       "      <th>Countries</th>\n",
       "      <th>Locality</th>\n",
       "      <th>Industry Sector</th>\n",
       "      <th>Accident Level</th>\n",
       "      <th>Potential Accident Level</th>\n",
       "      <th>Gender</th>\n",
       "      <th>Employee or Third Party</th>\n",
       "      <th>Critical Risk</th>\n",
       "      <th>Description</th>\n",
       "    </tr>\n",
       "  </thead>\n",
       "  <tbody>\n",
       "    <tr>\n",
       "      <th>0</th>\n",
       "      <td>2016-01-01</td>\n",
       "      <td>Country_01</td>\n",
       "      <td>Local_01</td>\n",
       "      <td>Mining</td>\n",
       "      <td>I</td>\n",
       "      <td>IV</td>\n",
       "      <td>Male</td>\n",
       "      <td>Third Party</td>\n",
       "      <td>Pressed</td>\n",
       "      <td>While removing the drill rod of the Jumbo 08 f...</td>\n",
       "    </tr>\n",
       "    <tr>\n",
       "      <th>1</th>\n",
       "      <td>2016-01-02</td>\n",
       "      <td>Country_02</td>\n",
       "      <td>Local_02</td>\n",
       "      <td>Mining</td>\n",
       "      <td>I</td>\n",
       "      <td>IV</td>\n",
       "      <td>Male</td>\n",
       "      <td>Employee</td>\n",
       "      <td>Pressurized Systems</td>\n",
       "      <td>During the activation of a sodium sulphide pum...</td>\n",
       "    </tr>\n",
       "    <tr>\n",
       "      <th>2</th>\n",
       "      <td>2016-01-06</td>\n",
       "      <td>Country_01</td>\n",
       "      <td>Local_03</td>\n",
       "      <td>Mining</td>\n",
       "      <td>I</td>\n",
       "      <td>III</td>\n",
       "      <td>Male</td>\n",
       "      <td>Third Party (Remote)</td>\n",
       "      <td>Manual Tools</td>\n",
       "      <td>In the sub-station MILPO located at level +170...</td>\n",
       "    </tr>\n",
       "    <tr>\n",
       "      <th>3</th>\n",
       "      <td>2016-01-08</td>\n",
       "      <td>Country_01</td>\n",
       "      <td>Local_04</td>\n",
       "      <td>Mining</td>\n",
       "      <td>I</td>\n",
       "      <td>I</td>\n",
       "      <td>Male</td>\n",
       "      <td>Third Party</td>\n",
       "      <td>Others</td>\n",
       "      <td>Being 9:45 am. approximately in the Nv. 1880 C...</td>\n",
       "    </tr>\n",
       "    <tr>\n",
       "      <th>4</th>\n",
       "      <td>2016-01-10</td>\n",
       "      <td>Country_01</td>\n",
       "      <td>Local_04</td>\n",
       "      <td>Mining</td>\n",
       "      <td>IV</td>\n",
       "      <td>IV</td>\n",
       "      <td>Male</td>\n",
       "      <td>Third Party</td>\n",
       "      <td>Others</td>\n",
       "      <td>Approximately at 11:45 a.m. in circumstances t...</td>\n",
       "    </tr>\n",
       "  </tbody>\n",
       "</table>\n",
       "</div>"
      ],
      "text/plain": [
       "        Date  ...                                        Description\n",
       "0 2016-01-01  ...  While removing the drill rod of the Jumbo 08 f...\n",
       "1 2016-01-02  ...  During the activation of a sodium sulphide pum...\n",
       "2 2016-01-06  ...  In the sub-station MILPO located at level +170...\n",
       "3 2016-01-08  ...  Being 9:45 am. approximately in the Nv. 1880 C...\n",
       "4 2016-01-10  ...  Approximately at 11:45 a.m. in circumstances t...\n",
       "\n",
       "[5 rows x 10 columns]"
      ]
     },
     "execution_count": 10,
     "metadata": {},
     "output_type": "execute_result"
    }
   ],
   "source": [
    "df.head()\n",
    "\n",
    "# We notice 10 columns in the dataset"
   ]
  },
  {
   "cell_type": "code",
   "execution_count": null,
   "id": "b92d92de",
   "metadata": {
    "colab": {
     "base_uri": "https://localhost:8080/"
    },
    "id": "b92d92de",
    "outputId": "caaa70ca-3542-4178-afc0-5b4598bbc8a3"
   },
   "outputs": [
    {
     "name": "stdout",
     "output_type": "stream",
     "text": [
      "<class 'pandas.core.frame.DataFrame'>\n",
      "Int64Index: 418 entries, 0 to 424\n",
      "Data columns (total 10 columns):\n",
      " #   Column                    Non-Null Count  Dtype         \n",
      "---  ------                    --------------  -----         \n",
      " 0   Date                      418 non-null    datetime64[ns]\n",
      " 1   Countries                 418 non-null    object        \n",
      " 2   Locality                  418 non-null    object        \n",
      " 3   Industry Sector           418 non-null    object        \n",
      " 4   Accident Level            418 non-null    object        \n",
      " 5   Potential Accident Level  418 non-null    object        \n",
      " 6   Gender                    418 non-null    object        \n",
      " 7   Employee or Third Party   418 non-null    object        \n",
      " 8   Critical Risk             418 non-null    object        \n",
      " 9   Description               418 non-null    object        \n",
      "dtypes: datetime64[ns](1), object(9)\n",
      "memory usage: 35.9+ KB\n"
     ]
    }
   ],
   "source": [
    "df.info()\n",
    "#All the columns are in correct data type, Date is also in Datetime datatype"
   ]
  },
  {
   "cell_type": "code",
   "execution_count": null,
   "id": "c356a4fc",
   "metadata": {
    "colab": {
     "base_uri": "https://localhost:8080/"
    },
    "id": "c356a4fc",
    "outputId": "d92ae012-254c-4532-9dac-68381b0a67de"
   },
   "outputs": [
    {
     "data": {
      "text/plain": [
       "I      0.739234\n",
       "II     0.095694\n",
       "III    0.074163\n",
       "IV     0.071770\n",
       "V      0.019139\n",
       "Name: Accident Level, dtype: float64"
      ]
     },
     "execution_count": 12,
     "metadata": {},
     "output_type": "execute_result"
    }
   ],
   "source": [
    "df['Accident Level'].value_counts(normalize=True)\n",
    "\n",
    "#5 different types of accidents - Completely Unbalanced"
   ]
  },
  {
   "cell_type": "markdown",
   "id": "e153693c",
   "metadata": {
    "id": "e153693c"
   },
   "source": [
    "# 1. Looking at country"
   ]
  },
  {
   "cell_type": "code",
   "execution_count": null,
   "id": "d199ea20",
   "metadata": {
    "colab": {
     "base_uri": "https://localhost:8080/"
    },
    "id": "d199ea20",
    "outputId": "acee5d93-be92-4b84-a511-0f3b3c52cc25"
   },
   "outputs": [
    {
     "data": {
      "text/plain": [
       "Country_01    0.593301\n",
       "Country_02    0.308612\n",
       "Country_03    0.098086\n",
       "Name: Countries, dtype: float64"
      ]
     },
     "execution_count": 13,
     "metadata": {},
     "output_type": "execute_result"
    }
   ],
   "source": [
    "df['Countries'].value_counts(normalize=True)\n",
    "\n",
    "#country 1 has the most number of records and also accidents followed by country 2 and country 3. This shows that country 1 is more\n",
    "#vulnerable to accidents and country 3 is less prone to accidents but we can also take it as country_01 has 59% of records which\n",
    "#is higher than country_02 and 03 so it is expected to have more accidents."
   ]
  },
  {
   "cell_type": "code",
   "execution_count": null,
   "id": "37b64d6c",
   "metadata": {
    "colab": {
     "base_uri": "https://localhost:8080/"
    },
    "id": "37b64d6c",
    "outputId": "0244f4e4-5a06-4e38-db33-7e3b011f5799"
   },
   "outputs": [
    {
     "data": {
      "text/plain": [
       "Countries   Accident Level\n",
       "Country_01  I                 177\n",
       "            II                 19\n",
       "            III                21\n",
       "            IV                 23\n",
       "            V                   8\n",
       "Country_02  I                  98\n",
       "            II                 19\n",
       "            III                 7\n",
       "            IV                  5\n",
       "Country_03  I                  34\n",
       "            II                  2\n",
       "            III                 3\n",
       "            IV                  2\n",
       "Name: Description, dtype: int64"
      ]
     },
     "execution_count": 14,
     "metadata": {},
     "output_type": "execute_result"
    }
   ],
   "source": [
    "df.groupby(['Countries','Accident Level'])['Description'].count()\n",
    "\n",
    "#If we look at the severity levels,country 1 has 8 high severity level (severity v) accidents and majority of \n",
    "#those are severity I accident which is less severe, this could also be due to less number of records on other \n",
    "#countries. But here all 8 Severity V accidents happen only in country_01\n"
   ]
  },
  {
   "cell_type": "code",
   "execution_count": null,
   "id": "429d0607",
   "metadata": {
    "colab": {
     "base_uri": "https://localhost:8080/",
     "height": 175
    },
    "id": "429d0607",
    "outputId": "57cbd564-6206-4be9-ea86-bd4095e236f0"
   },
   "outputs": [
    {
     "data": {
      "text/html": [
       "<div>\n",
       "<style scoped>\n",
       "    .dataframe tbody tr th:only-of-type {\n",
       "        vertical-align: middle;\n",
       "    }\n",
       "\n",
       "    .dataframe tbody tr th {\n",
       "        vertical-align: top;\n",
       "    }\n",
       "\n",
       "    .dataframe thead th {\n",
       "        text-align: right;\n",
       "    }\n",
       "</style>\n",
       "<table border=\"1\" class=\"dataframe\">\n",
       "  <thead>\n",
       "    <tr style=\"text-align: right;\">\n",
       "      <th>Accident Level</th>\n",
       "      <th>I</th>\n",
       "      <th>II</th>\n",
       "      <th>III</th>\n",
       "      <th>IV</th>\n",
       "      <th>V</th>\n",
       "    </tr>\n",
       "    <tr>\n",
       "      <th>Countries</th>\n",
       "      <th></th>\n",
       "      <th></th>\n",
       "      <th></th>\n",
       "      <th></th>\n",
       "      <th></th>\n",
       "    </tr>\n",
       "  </thead>\n",
       "  <tbody>\n",
       "    <tr>\n",
       "      <th>Country_01</th>\n",
       "      <td>0.423445</td>\n",
       "      <td>0.045455</td>\n",
       "      <td>0.050239</td>\n",
       "      <td>0.055024</td>\n",
       "      <td>0.019139</td>\n",
       "    </tr>\n",
       "    <tr>\n",
       "      <th>Country_02</th>\n",
       "      <td>0.234450</td>\n",
       "      <td>0.045455</td>\n",
       "      <td>0.016746</td>\n",
       "      <td>0.011962</td>\n",
       "      <td>0.000000</td>\n",
       "    </tr>\n",
       "    <tr>\n",
       "      <th>Country_03</th>\n",
       "      <td>0.081340</td>\n",
       "      <td>0.004785</td>\n",
       "      <td>0.007177</td>\n",
       "      <td>0.004785</td>\n",
       "      <td>0.000000</td>\n",
       "    </tr>\n",
       "  </tbody>\n",
       "</table>\n",
       "</div>"
      ],
      "text/plain": [
       "Accident Level         I        II       III        IV         V\n",
       "Countries                                                       \n",
       "Country_01      0.423445  0.045455  0.050239  0.055024  0.019139\n",
       "Country_02      0.234450  0.045455  0.016746  0.011962  0.000000\n",
       "Country_03      0.081340  0.004785  0.007177  0.004785  0.000000"
      ]
     },
     "execution_count": 15,
     "metadata": {},
     "output_type": "execute_result"
    }
   ],
   "source": [
    "pd.crosstab(index=df['Countries'],columns=df['Accident Level'],normalize=True)\n",
    "\n",
    "#Our focus will be the high severity accidents that is iv and v which is displayed below. It is mostly present\n",
    "#in country_01"
   ]
  },
  {
   "cell_type": "code",
   "execution_count": null,
   "id": "577afb14",
   "metadata": {
    "colab": {
     "base_uri": "https://localhost:8080/"
    },
    "id": "577afb14",
    "outputId": "54e85503-9d3d-4081-fac2-2b539b27bffc",
    "scrolled": false
   },
   "outputs": [
    {
     "data": {
      "text/plain": [
       "Countries   Industry Sector  Accident Level\n",
       "Country_01  Metals           I                  36\n",
       "                             II                  1\n",
       "                             III                 3\n",
       "                             IV                  5\n",
       "                             V                   1\n",
       "            Mining           I                 140\n",
       "                             II                 18\n",
       "                             III                17\n",
       "                             IV                 18\n",
       "                             V                   7\n",
       "            Others           I                   1\n",
       "                             III                 1\n",
       "Country_02  Metals           I                  71\n",
       "                             II                 11\n",
       "                             III                 4\n",
       "                             IV                  2\n",
       "            Mining           I                  23\n",
       "                             II                  8\n",
       "                             III                 3\n",
       "                             IV                  3\n",
       "            Others           I                   4\n",
       "Country_03  Others           I                  34\n",
       "                             II                  2\n",
       "                             III                 3\n",
       "                             IV                  2\n",
       "Name: Description, dtype: int64"
      ]
     },
     "execution_count": 16,
     "metadata": {},
     "output_type": "execute_result"
    }
   ],
   "source": [
    "df.groupby(['Countries','Industry Sector','Accident Level'])['Description'].count()\n",
    "\n",
    "#Country 1 has 203 mining work inputs which could be the reason for accidents. Generally we know that mining \n",
    "#has lot of accidents and deaths too. Country 3 does not have metals and mining which leads to an observation \n",
    "#that is Metals and Mining has most number of accidents."
   ]
  },
  {
   "cell_type": "code",
   "execution_count": null,
   "id": "31921d6b",
   "metadata": {
    "colab": {
     "base_uri": "https://localhost:8080/"
    },
    "id": "31921d6b",
    "outputId": "1f1c6f3e-b5cd-444f-c68b-ea37bf18f7e2"
   },
   "outputs": [
    {
     "data": {
      "text/plain": [
       "Countries   Industry Sector\n",
       "Country_01  Mining             0.478469\n",
       "Country_02  Metals             0.210526\n",
       "Country_01  Metals             0.110048\n",
       "Country_03  Others             0.098086\n",
       "Country_02  Mining             0.088517\n",
       "            Others             0.009569\n",
       "Country_01  Others             0.004785\n",
       "dtype: float64"
      ]
     },
     "execution_count": 17,
     "metadata": {},
     "output_type": "execute_result"
    }
   ],
   "source": [
    "df[['Countries','Industry Sector']].value_counts(normalize=True)\n",
    "\n",
    "#Country01 has 47% of mining,10% Metals and 0.4% of others\n",
    "#Country02 has 20% metals,8.9% mining and 0.9% others\n",
    "#Country03 has 10% of others"
   ]
  },
  {
   "cell_type": "markdown",
   "id": "6b999eaf",
   "metadata": {
    "id": "6b999eaf"
   },
   "source": [
    "# Hypothesis test to confirm on Accidents occurance on different days\n",
    "\n",
    "## Ha : The number of accidents on multiple number of days look the same\n",
    "## Ho : The number of accidents are different on different days"
   ]
  },
  {
   "cell_type": "code",
   "execution_count": null,
   "id": "42583e75",
   "metadata": {
    "colab": {
     "base_uri": "https://localhost:8080/"
    },
    "id": "42583e75",
    "outputId": "63daa815-0222-4d00-fa81-95df7ce87c13"
   },
   "outputs": [
    {
     "data": {
      "text/plain": [
       "Day  Accident Level\n",
       "0    I                 37\n",
       "     II                 7\n",
       "     III                9\n",
       "1    I                 54\n",
       "     II                 5\n",
       "     III                2\n",
       "     IV                 8\n",
       "2    I                 46\n",
       "     II                 9\n",
       "     III                2\n",
       "     IV                 1\n",
       "     V                  4\n",
       "3    I                 65\n",
       "     II                 3\n",
       "     III                2\n",
       "     IV                 6\n",
       "4    I                 44\n",
       "     II                 7\n",
       "     III                4\n",
       "     IV                 6\n",
       "5    I                 34\n",
       "     II                 7\n",
       "     III                7\n",
       "     IV                 4\n",
       "     V                  4\n",
       "6    I                 29\n",
       "     II                 2\n",
       "     III                5\n",
       "     IV                 5\n",
       "Name: Accident Level, dtype: int64"
      ]
     },
     "execution_count": 18,
     "metadata": {},
     "output_type": "execute_result"
    }
   ],
   "source": [
    "df['Day'] = df['Date'].dt.dayofweek\n",
    "df.groupby(['Day','Accident Level'])['Accident Level'].count()\n",
    "\n",
    "# The number of accidents looks almost the same in all days"
   ]
  },
  {
   "cell_type": "code",
   "execution_count": null,
   "id": "47333cae",
   "metadata": {
    "colab": {
     "base_uri": "https://localhost:8080/",
     "height": 512
    },
    "id": "47333cae",
    "outputId": "f0f2f0b7-d4fb-4457-df92-c72e3bd9040d"
   },
   "outputs": [
    {
     "data": {
      "text/plain": [
       "<matplotlib.axes._subplots.AxesSubplot at 0x7f4cb9d1d6d0>"
      ]
     },
     "execution_count": 29,
     "metadata": {},
     "output_type": "execute_result"
    },
    {
     "data": {
      "image/png": "[encoded data removed]",
      "text/plain": [
       "<Figure size 864x576 with 1 Axes>"
      ]
     },
     "metadata": {},
     "output_type": "display_data"
    }
   ],
   "source": [
    "plt.figure(figsize=(12,8))\n",
    "df.groupby(['Day'])['Accident Level'].count().plot(kind='bar')"
   ]
  },
  {
   "cell_type": "code",
   "execution_count": null,
   "id": "73cc6112",
   "metadata": {
    "id": "73cc6112"
   },
   "outputs": [],
   "source": [
    "dd = pd.DataFrame(df.groupby(['Countries','Day'])['Accident Level'].count())\n",
    "l=[i for i in dd['Accident Level']]"
   ]
  },
  {
   "cell_type": "code",
   "execution_count": null,
   "id": "9532de51",
   "metadata": {
    "id": "9532de51"
   },
   "outputs": [],
   "source": [
    "chi2 ,p,dof,a = chi2_contingency(np.array(l))"
   ]
  },
  {
   "cell_type": "code",
   "execution_count": null,
   "id": "f671dbdf",
   "metadata": {
    "colab": {
     "base_uri": "https://localhost:8080/"
    },
    "id": "f671dbdf",
    "outputId": "84b1f727-74f7-4b22-a438-40783f02242b"
   },
   "outputs": [
    {
     "name": "stdout",
     "output_type": "stream",
     "text": [
      "The number of accidents are different on different days\n"
     ]
    }
   ],
   "source": [
    "if p <0.5:\n",
    "    print(\"The number of accidents on multiple number of days look the same\")\n",
    "else:\n",
    "    print(\"The number of accidents are different on different days\")"
   ]
  },
  {
   "cell_type": "markdown",
   "id": "09486916",
   "metadata": {
    "id": "09486916"
   },
   "source": [
    "\n",
    "## Mostly its Tuesday or Thursday or Friday when accidents occur the most, we will inform the companies to be more cautious on these days and have more first aid kits to help on any accidents\n",
    "\n",
    "## On top of this we notice that severity v accidents occur on Tuesday and Friday and severity iv is widespread from Monday to Saturday"
   ]
  },
  {
   "cell_type": "markdown",
   "id": "526b4543",
   "metadata": {
    "id": "526b4543"
   },
   "source": [
    "# Lets look at monthly level of accidents\n",
    "\n",
    "* From this we can guess that someone joining in the start of the year as a fresher in any industry ends up committing lot of mistakes leading to injuries and sometimes even death. For eg: Someone joining mining industry for the very first time ends up having high severity injuries as they might not know how to operate. Once they get used to work they gradually end up working safer which leads to lesser accidents in the later part of the year.\n",
    "\n",
    "\n",
    "* On the other hand we can also look at it with seasons, the summer seasons lead to a lot of dry conditions which might lead to fire accidents easily and at the same time there is scarcity of water as well which might lead to workers having heat stroke."
   ]
  },
  {
   "cell_type": "code",
   "execution_count": null,
   "id": "44b386d2",
   "metadata": {
    "id": "44b386d2"
   },
   "outputs": [],
   "source": [
    "df['Month'] = df['Date'].dt.month"
   ]
  },
  {
   "cell_type": "code",
   "execution_count": null,
   "id": "6fcce5bd",
   "metadata": {
    "colab": {
     "base_uri": "https://localhost:8080/",
     "height": 516
    },
    "id": "6fcce5bd",
    "outputId": "03a39771-f062-4f8b-8432-a1dd391ec876"
   },
   "outputs": [
    {
     "data": {
      "text/plain": [
       "<matplotlib.axes._subplots.AxesSubplot at 0x7f4cb9c31b10>"
      ]
     },
     "execution_count": 34,
     "metadata": {},
     "output_type": "execute_result"
    },
    {
     "data": {
      "image/png": "[encoded data removed]",
      "text/plain": [
       "<Figure size 864x576 with 1 Axes>"
      ]
     },
     "metadata": {},
     "output_type": "display_data"
    }
   ],
   "source": [
    "plt.figure(figsize=(12,8))\n",
    "sns.countplot(df['Month'])\n",
    "\n",
    "#Feburary month seems to have a lot of accidents in general than end of the year. "
   ]
  },
  {
   "cell_type": "code",
   "execution_count": null,
   "id": "82ee4335",
   "metadata": {
    "colab": {
     "base_uri": "https://localhost:8080/",
     "height": 516
    },
    "id": "82ee4335",
    "outputId": "ba2b7bbb-7188-4d95-f48c-d63d9d023a84"
   },
   "outputs": [
    {
     "data": {
      "text/plain": [
       "<matplotlib.axes._subplots.AxesSubplot at 0x7f4cb9bba050>"
      ]
     },
     "execution_count": 35,
     "metadata": {},
     "output_type": "execute_result"
    },
    {
     "data": {
      "image/png": "[encoded data removed]",
      "text/plain": [
       "<Figure size 864x576 with 1 Axes>"
      ]
     },
     "metadata": {},
     "output_type": "display_data"
    }
   ],
   "source": [
    "plt.figure(figsize=(12,8))\n",
    "sns.distplot(df['Month'])"
   ]
  },
  {
   "cell_type": "markdown",
   "id": "3325934a",
   "metadata": {
    "id": "3325934a"
   },
   "source": [
    "# 2. Looking at Locality"
   ]
  },
  {
   "cell_type": "code",
   "execution_count": null,
   "id": "414c5b5c",
   "metadata": {
    "colab": {
     "base_uri": "https://localhost:8080/"
    },
    "id": "414c5b5c",
    "outputId": "85637a5c-e009-4345-ff66-8e13dbad6a7a"
   },
   "outputs": [
    {
     "data": {
      "text/plain": [
       "Locality  Industry Sector\n",
       "Local_09  Metals              2\n",
       "Local_11  Others              2\n",
       "Local_12  Others              4\n",
       "Local_07  Mining             14\n",
       "Local_02  Mining             23\n",
       "Local_08  Metals             27\n",
       "Local_10  Others             41\n",
       "Local_06  Metals             46\n",
       "Local_04  Mining             55\n",
       "Local_01  Mining             56\n",
       "Local_05  Metals             59\n",
       "Local_03  Mining             89\n",
       "Name: Description, dtype: int64"
      ]
     },
     "execution_count": 36,
     "metadata": {},
     "output_type": "execute_result"
    }
   ],
   "source": [
    "df.groupby(['Locality','Industry Sector'])['Description'].count().sort_values()\n",
    "\n",
    "#Locality 12,09,11 has the least number of accidents and 03,05 and 01 has most number of accidents and both\n",
    "#of these are present in country_01 and country_02. Country_03 has only one, locality_10"
   ]
  },
  {
   "cell_type": "code",
   "execution_count": null,
   "id": "05a88bcf",
   "metadata": {
    "colab": {
     "base_uri": "https://localhost:8080/",
     "height": 516
    },
    "id": "05a88bcf",
    "outputId": "67ae15be-e1ea-432d-e0f4-a42ab338d02f"
   },
   "outputs": [
    {
     "data": {
      "text/plain": [
       "<matplotlib.axes._subplots.AxesSubplot at 0x7f4cb9ade050>"
      ]
     },
     "execution_count": 37,
     "metadata": {},
     "output_type": "execute_result"
    },
    {
     "data": {
      "image/png": "[encoded data removed]",
      "text/plain": [
       "<Figure size 864x576 with 1 Axes>"
      ]
     },
     "metadata": {},
     "output_type": "display_data"
    }
   ],
   "source": [
    "plt.figure(figsize=(12,8))\n",
    "sns.countplot(df['Industry Sector'],hue=df['Locality'])\n",
    "\n",
    "#Mining ends up taking Local_03 and Local_01 with maximum number of accidents, Metals take up Local_05"
   ]
  },
  {
   "cell_type": "code",
   "execution_count": null,
   "id": "25f7bae6",
   "metadata": {
    "colab": {
     "base_uri": "https://localhost:8080/"
    },
    "id": "25f7bae6",
    "outputId": "e1e94f58-8883-4939-ebe3-6fce3eea6ab0"
   },
   "outputs": [
    {
     "data": {
      "text/plain": [
       "Industry Sector  Locality\n",
       "Metals           Local_05    59\n",
       "                 Local_06    46\n",
       "                 Local_08    27\n",
       "                 Local_09     2\n",
       "Mining           Local_01    56\n",
       "                 Local_02    23\n",
       "                 Local_03    89\n",
       "                 Local_04    55\n",
       "                 Local_07    14\n",
       "Others           Local_10    41\n",
       "                 Local_11     2\n",
       "                 Local_12     4\n",
       "Name: Accident Level, dtype: int64"
      ]
     },
     "execution_count": 38,
     "metadata": {},
     "output_type": "execute_result"
    }
   ],
   "source": [
    "df.groupby(['Industry Sector','Locality'])['Accident Level'].count()\n",
    "\n",
    "#We notice that Locality 01 and 03 is top contributor because they do mining and Locality 05 does metallurgical work"
   ]
  },
  {
   "cell_type": "code",
   "execution_count": null,
   "id": "b10f457d",
   "metadata": {
    "colab": {
     "base_uri": "https://localhost:8080/",
     "height": 517
    },
    "id": "b10f457d",
    "outputId": "3fdaa075-aa6a-43f2-9298-8cb0249426e6"
   },
   "outputs": [
    {
     "data": {
      "text/plain": [
       "<matplotlib.axes._subplots.AxesSubplot at 0x7f4cb99e0310>"
      ]
     },
     "execution_count": 39,
     "metadata": {},
     "output_type": "execute_result"
    },
    {
     "data": {
      "image/png": "[encoded data removed]",
      "text/plain": [
       "<Figure size 864x576 with 1 Axes>"
      ]
     },
     "metadata": {},
     "output_type": "display_data"
    }
   ],
   "source": [
    "plt.figure(figsize=(12,8))\n",
    "plt.grid()\n",
    "sns.countplot(df['Locality'].sort_values())"
   ]
  },
  {
   "cell_type": "markdown",
   "id": "57b41628",
   "metadata": {
    "id": "57b41628"
   },
   "source": [
    "# 3. Industry Sector"
   ]
  },
  {
   "cell_type": "code",
   "execution_count": null,
   "id": "4c234217",
   "metadata": {
    "colab": {
     "base_uri": "https://localhost:8080/"
    },
    "id": "4c234217",
    "outputId": "b439dc17-2788-4cc3-a53c-b7feabe2e523"
   },
   "outputs": [
    {
     "data": {
      "text/plain": [
       "Mining    0.566986\n",
       "Metals    0.320574\n",
       "Others    0.112440\n",
       "Name: Industry Sector, dtype: float64"
      ]
     },
     "execution_count": 40,
     "metadata": {},
     "output_type": "execute_result"
    }
   ],
   "source": [
    "df['Industry Sector'].value_counts(normalize=True)\n",
    "\n",
    "#This is well known that Mining happens under a man made cave with lot of dynamites etc which leads to \n",
    "#catastrophic failures leading to a lot of accidents and also most of the records are from Mining"
   ]
  },
  {
   "cell_type": "code",
   "execution_count": null,
   "id": "e5ae7873",
   "metadata": {
    "colab": {
     "base_uri": "https://localhost:8080/"
    },
    "id": "e5ae7873",
    "outputId": "98ebf48b-911e-4dd6-8df2-984bcb00beca"
   },
   "outputs": [
    {
     "data": {
      "text/plain": [
       "Industry Sector  Accident Level\n",
       "Metals           I                 107\n",
       "                 II                 12\n",
       "                 III                 7\n",
       "                 IV                  7\n",
       "                 V                   1\n",
       "Mining           I                 163\n",
       "                 II                 26\n",
       "                 III                20\n",
       "                 IV                 21\n",
       "                 V                   7\n",
       "Others           I                  39\n",
       "                 II                  2\n",
       "                 III                 4\n",
       "                 IV                  2\n",
       "Name: Description, dtype: int64"
      ]
     },
     "execution_count": 41,
     "metadata": {},
     "output_type": "execute_result"
    }
   ],
   "source": [
    "df.groupby(['Industry Sector','Accident Level'])['Description'].count()\n",
    "\n",
    "#Mining has the most number of high severity accidents, severity v = 7 accidents out of 8 and \n",
    "#severity iv 21 accidents out of 28"
   ]
  },
  {
   "cell_type": "code",
   "execution_count": null,
   "id": "31a58590",
   "metadata": {
    "colab": {
     "base_uri": "https://localhost:8080/"
    },
    "id": "31a58590",
    "outputId": "73290b7e-e028-4781-8366-8e17bab89d70"
   },
   "outputs": [
    {
     "data": {
      "text/plain": [
       "Accident Level\n",
       "I      309\n",
       "II      40\n",
       "III     31\n",
       "IV      30\n",
       "V        8\n",
       "Name: Description, dtype: int64"
      ]
     },
     "execution_count": 42,
     "metadata": {},
     "output_type": "execute_result"
    }
   ],
   "source": [
    "df.groupby('Accident Level')['Description'].count()\n",
    "\n",
    "#Out of total 8 severity v accidents 7 occur in Mining\n",
    "#out of total 30 severity iv accidents 21 occur in Mining\n",
    "#Out of total 31 Severity III accidents, 20 occur in Mining\n",
    "#Out of total 40 Severity II accidents, 26 occured in Mining\n",
    "#Out of total 316 Severity I accidents, 167 occured in Mining\n",
    "\n",
    "#On the whole more than 50% of all severity accidents occur in mining"
   ]
  },
  {
   "cell_type": "markdown",
   "id": "ad88f949",
   "metadata": {
    "id": "ad88f949"
   },
   "source": [
    "# 4. Accident Level"
   ]
  },
  {
   "cell_type": "code",
   "execution_count": null,
   "id": "2620b564",
   "metadata": {
    "colab": {
     "base_uri": "https://localhost:8080/"
    },
    "id": "2620b564",
    "outputId": "7abddc59-f272-415b-8117-e054c72c9520"
   },
   "outputs": [
    {
     "data": {
      "text/plain": [
       "I      0.739234\n",
       "II     0.095694\n",
       "III    0.074163\n",
       "IV     0.071770\n",
       "V      0.019139\n",
       "Name: Accident Level, dtype: float64"
      ]
     },
     "execution_count": 43,
     "metadata": {},
     "output_type": "execute_result"
    }
   ],
   "source": [
    "df['Accident Level'].value_counts(normalize=True)\n",
    "\n",
    "#Highly imbalanced, we will have to work on balancing these while building models"
   ]
  },
  {
   "cell_type": "markdown",
   "id": "46e7700b",
   "metadata": {
    "id": "46e7700b"
   },
   "source": [
    "# 6. Employee or Third Party \t"
   ]
  },
  {
   "cell_type": "code",
   "execution_count": null,
   "id": "03e61408",
   "metadata": {
    "colab": {
     "base_uri": "https://localhost:8080/"
    },
    "id": "03e61408",
    "outputId": "24208d9f-2b53-4e46-d61d-b38c45d96691"
   },
   "outputs": [
    {
     "data": {
      "text/plain": [
       "Third Party             0.442584\n",
       "Employee                0.425837\n",
       "Third Party (Remote)    0.131579\n",
       "Name: Employee or Third Party, dtype: float64"
      ]
     },
     "execution_count": 44,
     "metadata": {},
     "output_type": "execute_result"
    }
   ],
   "source": [
    "df['Employee or Third Party'].value_counts(normalize=True)\n",
    "\n",
    "#Third party is more prone to accidents, Employee also fall on the same bucket with just 2% less accidents"
   ]
  },
  {
   "cell_type": "code",
   "execution_count": null,
   "id": "25ea9780",
   "metadata": {
    "colab": {
     "base_uri": "https://localhost:8080/",
     "height": 516
    },
    "id": "25ea9780",
    "outputId": "fb2e2d90-a73d-4052-ac3a-86f2b7cd2cca"
   },
   "outputs": [
    {
     "data": {
      "text/plain": [
       "<matplotlib.axes._subplots.AxesSubplot at 0x7f4cb99e05d0>"
      ]
     },
     "execution_count": 45,
     "metadata": {},
     "output_type": "execute_result"
    },
    {
     "data": {
      "image/png": "[encoded data removed]",
      "text/plain": [
       "<Figure size 864x576 with 1 Axes>"
      ]
     },
     "metadata": {},
     "output_type": "display_data"
    }
   ],
   "source": [
    "plt.figure(figsize=(12,8))\n",
    "sns.countplot(df['Employee or Third Party'],hue=df['Accident Level'])\n",
    "\n",
    "#We have high severe accidents \"Accident V\" in Thirdparty and Third party remote\n",
    "#Employee have only severity i accident the most and less number of severity ii, iii, iv accidents which\n",
    "#means there are safety standarad protocols for Employees than contractual third party workers"
   ]
  },
  {
   "cell_type": "markdown",
   "id": "9ad34717",
   "metadata": {
    "id": "9ad34717"
   },
   "source": [
    "# 7. Critical Risk \t"
   ]
  },
  {
   "cell_type": "code",
   "execution_count": null,
   "id": "cbda648a",
   "metadata": {
    "colab": {
     "base_uri": "https://localhost:8080/"
    },
    "id": "cbda648a",
    "outputId": "289d99e2-1cd4-403e-8c30-a862ce539632"
   },
   "outputs": [
    {
     "data": {
      "text/plain": [
       "Critical Risk\n",
       "Others                                       229\n",
       "Pressed                                       24\n",
       "Manual Tools                                  20\n",
       "Chemical substances                           17\n",
       "Cut                                           14\n",
       "Venomous Animals                              13\n",
       "Projection                                    13\n",
       "Bees                                          10\n",
       "Fall                                           9\n",
       "Vehicles and Mobile Equipment                  8\n",
       "Pressurized Systems                            7\n",
       "remains of choco                               7\n",
       "Fall prevention (same level)                   7\n",
       "Fall prevention                                6\n",
       "Suspended Loads                                6\n",
       "Pressurized Systems / Chemical Substances      3\n",
       "Blocking and isolation of energies             3\n",
       "Power lock                                     3\n",
       "Liquid Metal                                   3\n",
       "Machine Protection                             2\n",
       "Electrical Shock                               2\n",
       "Projection/Choco                               1\n",
       "Burn                                           1\n",
       "Traffic                                        1\n",
       "Projection/Manual Tools                        1\n",
       "Individual protection equipment                1\n",
       "Projection/Burning                             1\n",
       "Projection of fragments                        1\n",
       "Confined space                                 1\n",
       "Electrical installation                        1\n",
       "Poll                                           1\n",
       "Plates                                         1\n",
       "\\nNot applicable                               1\n",
       "Name: Description, dtype: int64"
      ]
     },
     "execution_count": 46,
     "metadata": {},
     "output_type": "execute_result"
    }
   ],
   "source": [
    "df.groupby('Critical Risk')['Description'].count().sort_values(ascending=False)\n",
    "\n",
    "# we notice others has the most contribution to accidents"
   ]
  },
  {
   "cell_type": "code",
   "execution_count": null,
   "id": "197ca4c9",
   "metadata": {
    "colab": {
     "base_uri": "https://localhost:8080/"
    },
    "id": "197ca4c9",
    "outputId": "c039ec9b-e809-4b56-979a-755790a93ddd"
   },
   "outputs": [
    {
     "data": {
      "text/plain": [
       "Critical Risk                              Industry Sector\n",
       "Others                                     Mining             176\n",
       "                                           Metals              33\n",
       "                                           Others              20\n",
       "Pressed                                    Metals              17\n",
       "Chemical substances                        Metals              15\n",
       "Manual Tools                               Metals              14\n",
       "Venomous Animals                           Others              10\n",
       "Cut                                        Metals              10\n",
       "Bees                                       Others              10\n",
       "Projection                                 Mining               9\n",
       "Vehicles and Mobile Equipment              Mining               8\n",
       "Pressed                                    Mining               7\n",
       "remains of choco                           Mining               7\n",
       "Fall prevention (same level)               Metals               6\n",
       "Pressurized Systems                        Metals               6\n",
       "Suspended Loads                            Metals               5\n",
       "Fall                                       Mining               5\n",
       "Manual Tools                               Mining               5\n",
       "Cut                                        Mining               4\n",
       "Projection                                 Metals               4\n",
       "Blocking and isolation of energies         Metals               3\n",
       "Liquid Metal                               Metals               3\n",
       "Pressurized Systems / Chemical Substances  Metals               3\n",
       "Fall prevention                            Metals               3\n",
       "Power lock                                 Mining               2\n",
       "Venomous Animals                           Metals               2\n",
       "Chemical substances                        Mining               2\n",
       "Fall                                       Others               2\n",
       "Fall prevention                            Mining               2\n",
       "Electrical Shock                           Mining               2\n",
       "Fall                                       Metals               2\n",
       "Machine Protection                         Metals               2\n",
       "Plates                                     Metals               1\n",
       "Projection/Choco                           Others               1\n",
       "Venomous Animals                           Mining               1\n",
       "Fall prevention                            Others               1\n",
       "Burn                                       Metals               1\n",
       "Traffic                                    Others               1\n",
       "Suspended Loads                            Mining               1\n",
       "Fall prevention (same level)               Mining               1\n",
       "Projection/Manual Tools                    Mining               1\n",
       "Projection of fragments                    Mining               1\n",
       "Projection/Burning                         Metals               1\n",
       "Poll                                       Others               1\n",
       "Individual protection equipment            Mining               1\n",
       "Manual Tools                               Others               1\n",
       "Pressurized Systems                        Mining               1\n",
       "Confined space                             Metals               1\n",
       "Electrical installation                    Mining               1\n",
       "Power lock                                 Metals               1\n",
       "\\nNot applicable                           Metals               1\n",
       "Name: Accident Level, dtype: int64"
      ]
     },
     "execution_count": 47,
     "metadata": {},
     "output_type": "execute_result"
    }
   ],
   "source": [
    "df.groupby(['Critical Risk','Industry Sector'])['Accident Level'].count().sort_values(ascending=False)"
   ]
  },
  {
   "cell_type": "markdown",
   "id": "898606e6",
   "metadata": {
    "id": "898606e6"
   },
   "source": [
    "## Analyzing the Length of sentence "
   ]
  },
  {
   "cell_type": "code",
   "execution_count": null,
   "id": "e430022b",
   "metadata": {
    "colab": {
     "base_uri": "https://localhost:8080/"
    },
    "id": "e430022b",
    "outputId": "8868adc4-20bf-4988-b9da-1a03d099b522"
   },
   "outputs": [
    {
     "data": {
      "text/plain": [
       "Accident Level\n",
       "I      352.974110\n",
       "II     316.675000\n",
       "III    442.000000\n",
       "IV     436.166667\n",
       "V      527.500000\n",
       "Name: Length, dtype: float64"
      ]
     },
     "execution_count": 48,
     "metadata": {},
     "output_type": "execute_result"
    }
   ],
   "source": [
    "df['Length'] = df['Description'].apply(lambda x: len(x))\n",
    "df.groupby('Accident Level')['Length'].mean()\n",
    "\n",
    "#Anyone who enters more number of sentences has a lot to explain about the high severity of accident in detail,\n",
    "#this can be seen here"
   ]
  },
  {
   "cell_type": "markdown",
   "id": "2930b3ca",
   "metadata": {
    "id": "2930b3ca"
   },
   "source": [
    "* Accidents mostly occur on 1st (Mondays) and 3rd (Wednesdays) days\n",
    "\n",
    "* Feb - June has the most number of accidents and post june it reduces\n",
    "\n",
    "* Locality 03,05 & 01 has the most number of accidents\n",
    "\n",
    "* Mining has high severity iv and v accidents\n",
    "\n",
    "* Third party must have safety protocols"
   ]
  },
  {
   "cell_type": "markdown",
   "id": "544cc16c",
   "metadata": {
    "id": "544cc16c"
   },
   "source": [
    "# From EDA, the below are the inferences:\n",
    "\n",
    "* There are totally 425 rows of data, we are unsure if this is enough to train the model but the target column Accident level is completely imbalanced. We might have to balance the classes before training a model or apply Data augmentation technique\n",
    "\n",
    "\n",
    "* The country_01 has the most number of accidents and records followed by 02 and 03 \n",
    "\n",
    "\n",
    "* In terms of Locality the accidents are almost evenly spread but most of the issues are in Locality 03,05,01\n",
    "\n",
    "\n",
    "* The mining industry has the most number of accidents than the metals and other options.\n",
    "\n",
    "\n",
    "* The people working in Third Party and as a Employee face a lot of accidents than Third party remote, this is due to least number of people being a part of Thirdparty remote category\n",
    "\n",
    "\n",
    "* Some of the features such as Industry sector, Employee type and critical risk can be appended in the description to have the model ready for any kind of inputs \n",
    "\n",
    "\n",
    "* Any description that has length >500 leads to the highest severity accident V which leads one to explain on the accident from start to end in detail. The lowest or least severity accident can be explained in simple terms which takes only 352 words.\n",
    "\n",
    "## Strict rules and safety protocols needs to be implemented for the below mentioned pointers: \n",
    "\n",
    "### 1. 1st and 3rd day of the week as we notice a lot of accidents during this time.\n",
    "\n",
    "### 2. Summer season seems to have a lot of accidents, its not only due to industry accidents, it can also be due to drought conditions. We know that Coal mining or any other industry leads to reduction or contamination of ground water which is the major source for drinking water. It can lead to workers not having water to drink  or bad quality of water and ultimately leading to health issues or heat stroke. The industries should come up with better rules and regulations during these times.\n",
    "\n",
    "### 3. Mining and metallurgical industries should have strict rules and safety protocols , similarly Locality 03, 05 & 01 should also have a lot of focus as it is more prone to frequent accidents\n",
    "\n",
    "### 4. Third party workers must also be given importance to reduce accidents.\n",
    "\n",
    "# On the whole if a worker from Country 01, from locality 03 or 05 or 01, works in mining industry during the summer season and belongs to a third party employee group  then  their chances of getting into accident is more and if they come to work on Tuesday's and Thursdays there are chances of high severity accidents"
   ]
  },
  {
   "cell_type": "markdown",
   "id": "ba5d24e1",
   "metadata": {
    "id": "ba5d24e1"
   },
   "source": [
    "# Step 3: Data preprocessing\n",
    "\n",
    "* Before we proceed to data preprocessing we will work on adding or concatenating some of the terms into description, this can be industry sector, Employee type and Critical risk as some of the customers might also type these terms. \n",
    "\n",
    "\n",
    "* Eg: A person migh type \"An employee working in pressurized Systems in mining industry\", this sentence contains \"Mining\" and \"Presurrized systems\" which actually might not be present in the description but can be expected from a customer/end user.\n",
    "\n",
    "\n",
    "* We will try to use both the descriptions, without concatenation and with concatenation"
   ]
  },
  {
   "cell_type": "code",
   "execution_count": null,
   "id": "c550a858",
   "metadata": {
    "id": "c550a858"
   },
   "outputs": [],
   "source": [
    "def data(x,y,z,a):\n",
    "    return x+\" \"+y+\" \"+z+\" \"+a\n",
    "\n",
    "df['Description_1'] = df.apply(lambda x: data(x['Industry Sector'],x['Employee or Third Party'],x['Critical Risk'],x['Description']),axis=1)"
   ]
  },
  {
   "cell_type": "code",
   "execution_count": null,
   "id": "d032dca5",
   "metadata": {
    "colab": {
     "base_uri": "https://localhost:8080/",
     "height": 372
    },
    "id": "d032dca5",
    "outputId": "42437bc9-9fbc-4406-f071-47e1cc028645"
   },
   "outputs": [
    {
     "data": {
      "text/html": [
       "<div>\n",
       "<style scoped>\n",
       "    .dataframe tbody tr th:only-of-type {\n",
       "        vertical-align: middle;\n",
       "    }\n",
       "\n",
       "    .dataframe tbody tr th {\n",
       "        vertical-align: top;\n",
       "    }\n",
       "\n",
       "    .dataframe thead th {\n",
       "        text-align: right;\n",
       "    }\n",
       "</style>\n",
       "<table border=\"1\" class=\"dataframe\">\n",
       "  <thead>\n",
       "    <tr style=\"text-align: right;\">\n",
       "      <th></th>\n",
       "      <th>Date</th>\n",
       "      <th>Countries</th>\n",
       "      <th>Locality</th>\n",
       "      <th>Industry Sector</th>\n",
       "      <th>Accident Level</th>\n",
       "      <th>Potential Accident Level</th>\n",
       "      <th>Gender</th>\n",
       "      <th>Employee or Third Party</th>\n",
       "      <th>Critical Risk</th>\n",
       "      <th>Description</th>\n",
       "      <th>Day</th>\n",
       "      <th>Month</th>\n",
       "      <th>Length</th>\n",
       "      <th>Description_1</th>\n",
       "    </tr>\n",
       "  </thead>\n",
       "  <tbody>\n",
       "    <tr>\n",
       "      <th>332</th>\n",
       "      <td>2017-02-17</td>\n",
       "      <td>Country_01</td>\n",
       "      <td>Local_01</td>\n",
       "      <td>Mining</td>\n",
       "      <td>I</td>\n",
       "      <td>III</td>\n",
       "      <td>Male</td>\n",
       "      <td>Employee</td>\n",
       "      <td>Chemical substances</td>\n",
       "      <td>Once the painting of the pumping pipe has been...</td>\n",
       "      <td>4</td>\n",
       "      <td>2</td>\n",
       "      <td>391</td>\n",
       "      <td>Mining Employee Chemical substances Once the p...</td>\n",
       "    </tr>\n",
       "    <tr>\n",
       "      <th>267</th>\n",
       "      <td>2016-12-10</td>\n",
       "      <td>Country_01</td>\n",
       "      <td>Local_04</td>\n",
       "      <td>Mining</td>\n",
       "      <td>I</td>\n",
       "      <td>II</td>\n",
       "      <td>Male</td>\n",
       "      <td>Third Party</td>\n",
       "      <td>Others</td>\n",
       "      <td>At 18:40 hours, in moments when Mr. Claudio ti...</td>\n",
       "      <td>5</td>\n",
       "      <td>12</td>\n",
       "      <td>362</td>\n",
       "      <td>Mining Third Party Others At 18:40 hours, in m...</td>\n",
       "    </tr>\n",
       "    <tr>\n",
       "      <th>390</th>\n",
       "      <td>2017-05-16</td>\n",
       "      <td>Country_02</td>\n",
       "      <td>Local_05</td>\n",
       "      <td>Metals</td>\n",
       "      <td>I</td>\n",
       "      <td>III</td>\n",
       "      <td>Female</td>\n",
       "      <td>Third Party (Remote)</td>\n",
       "      <td>Cut</td>\n",
       "      <td>The maid was handling a pipette for sample pre...</td>\n",
       "      <td>1</td>\n",
       "      <td>5</td>\n",
       "      <td>196</td>\n",
       "      <td>Metals Third Party (Remote) Cut The maid was h...</td>\n",
       "    </tr>\n",
       "  </tbody>\n",
       "</table>\n",
       "</div>"
      ],
      "text/plain": [
       "          Date  ...                                      Description_1\n",
       "332 2017-02-17  ...  Mining Employee Chemical substances Once the p...\n",
       "267 2016-12-10  ...  Mining Third Party Others At 18:40 hours, in m...\n",
       "390 2017-05-16  ...  Metals Third Party (Remote) Cut The maid was h...\n",
       "\n",
       "[3 rows x 14 columns]"
      ]
     },
     "execution_count": 50,
     "metadata": {},
     "output_type": "execute_result"
    }
   ],
   "source": [
    "df.sample(3)\n",
    "\n",
    "#We will use Description_1 and Description too"
   ]
  },
  {
   "cell_type": "markdown",
   "id": "f1c2ca75",
   "metadata": {
    "id": "f1c2ca75"
   },
   "source": [
    "## Steps while preprocessing the text, steps 1 - 4 will be done in all cases\n",
    "\n",
    "1. Lower case the entire sentence\n",
    "2. Remove punctuations and HTML Symbols etc\n",
    "3. Remove Stopwords\n",
    "4. Apply Stemming or Lemmatization\n",
    "5. Convert words to vectors\n",
    "    * Use Count Vectorizer\n",
    "    * Use TF-IDF\n",
    "    * Use Word2Vec\n",
    "    * Use Glove"
   ]
  },
  {
   "cell_type": "code",
   "execution_count": null,
   "id": "25043a56",
   "metadata": {
    "id": "25043a56"
   },
   "outputs": [],
   "source": [
    "# Step1 - Lower casing the words and removing the unnecessary symbols & Punctuation as it does not add to prediction. \n",
    "# Step2 - Remove stopwords\n",
    "\n",
    "def remove_stopwords(x):\n",
    "    x = re.sub(r\"[\\u200bâ€°]+\",\"\",x.lower())\n",
    "    return \" \".join(i for i in nltk.word_tokenize(\"\".join([i for i in x if i not in punctuation ])) if i not in stopwords.words('english'))"
   ]
  },
  {
   "cell_type": "code",
   "execution_count": null,
   "id": "b04b0aa6",
   "metadata": {
    "id": "b04b0aa6"
   },
   "outputs": [],
   "source": [
    "df['Description'] = df['Description'].apply(remove_stopwords)\n",
    "df['Description_1'] = df['Description_1'].apply(remove_stopwords)\n",
    "# Applying it to the columns Description - without concatenation and Description_1 - with concatenation"
   ]
  },
  {
   "cell_type": "code",
   "execution_count": null,
   "id": "a0f0d02f",
   "metadata": {
    "id": "a0f0d02f"
   },
   "outputs": [],
   "source": [
    "# Step4 - Apply Stemming and Lemmatization\n",
    "ps=PorterStemmer()\n",
    "lm=WordNetLemmatizer()\n",
    "def stemming(x):\n",
    "    return ps.stem(x)\n",
    "\n",
    "def lemmatized(x):\n",
    "    return lm.lemmatize(x)"
   ]
  },
  {
   "cell_type": "code",
   "execution_count": null,
   "id": "3abc9afc",
   "metadata": {
    "id": "3abc9afc"
   },
   "outputs": [],
   "source": [
    "df['Description_1Stemmed'] = df['Description_1'].apply(stemming)\n",
    "df['Description_1lemmatized'] = df['Description_1'].apply(lemmatized)\n",
    "\n",
    "df['Description_Stemmed'] = df['Description'].apply(stemming)\n",
    "df['Description_lemmatized'] = df['Description'].apply(lemmatized)\n",
    "\n",
    "#Applying stemming and lemmatization on both the columns"
   ]
  },
  {
   "cell_type": "markdown",
   "id": "cf3f23e1",
   "metadata": {
    "id": "cf3f23e1"
   },
   "source": [
    "![Untitled Diagram(3).jpg](data:image/jpeg;base64,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)"
   ]
  },
  {
   "cell_type": "code",
   "execution_count": null,
   "id": "ec7de025",
   "metadata": {
    "colab": {
     "base_uri": "https://localhost:8080/",
     "height": 574
    },
    "id": "ec7de025",
    "outputId": "eb887f55-2261-43e8-a823-07fb1d91c97d"
   },
   "outputs": [
    {
     "data": {
      "text/html": [
       "<div>\n",
       "<style scoped>\n",
       "    .dataframe tbody tr th:only-of-type {\n",
       "        vertical-align: middle;\n",
       "    }\n",
       "\n",
       "    .dataframe tbody tr th {\n",
       "        vertical-align: top;\n",
       "    }\n",
       "\n",
       "    .dataframe thead th {\n",
       "        text-align: right;\n",
       "    }\n",
       "</style>\n",
       "<table border=\"1\" class=\"dataframe\">\n",
       "  <thead>\n",
       "    <tr style=\"text-align: right;\">\n",
       "      <th></th>\n",
       "      <th>Unnamed: 0</th>\n",
       "      <th>Date</th>\n",
       "      <th>Countries</th>\n",
       "      <th>Locality</th>\n",
       "      <th>Industry Sector</th>\n",
       "      <th>Accident Level</th>\n",
       "      <th>Potential Accident Level</th>\n",
       "      <th>Gender</th>\n",
       "      <th>Employee or Third Party</th>\n",
       "      <th>Critical Risk</th>\n",
       "      <th>Description</th>\n",
       "      <th>Day</th>\n",
       "      <th>Month</th>\n",
       "      <th>Length</th>\n",
       "      <th>Description_1</th>\n",
       "      <th>Description_1Stemmed</th>\n",
       "      <th>Description_1lemmatized</th>\n",
       "      <th>Description_Stemmed</th>\n",
       "      <th>Description_lemmatized</th>\n",
       "    </tr>\n",
       "  </thead>\n",
       "  <tbody>\n",
       "    <tr>\n",
       "      <th>0</th>\n",
       "      <td>0</td>\n",
       "      <td>2016-01-01</td>\n",
       "      <td>Country_01</td>\n",
       "      <td>Local_01</td>\n",
       "      <td>Mining</td>\n",
       "      <td>I</td>\n",
       "      <td>IV</td>\n",
       "      <td>Male</td>\n",
       "      <td>Third Party</td>\n",
       "      <td>Pressed</td>\n",
       "      <td>removing drill rod jumbo 08 maintenance superv...</td>\n",
       "      <td>4</td>\n",
       "      <td>1</td>\n",
       "      <td>457</td>\n",
       "      <td>mining third party pressed removing drill rod ...</td>\n",
       "      <td>mining third party pressed removing drill rod ...</td>\n",
       "      <td>mining third party pressed removing drill rod ...</td>\n",
       "      <td>removing drill rod jumbo 08 maintenance superv...</td>\n",
       "      <td>removing drill rod jumbo 08 maintenance superv...</td>\n",
       "    </tr>\n",
       "    <tr>\n",
       "      <th>1</th>\n",
       "      <td>1</td>\n",
       "      <td>2016-01-02</td>\n",
       "      <td>Country_02</td>\n",
       "      <td>Local_02</td>\n",
       "      <td>Mining</td>\n",
       "      <td>I</td>\n",
       "      <td>IV</td>\n",
       "      <td>Male</td>\n",
       "      <td>Employee</td>\n",
       "      <td>Pressurized Systems</td>\n",
       "      <td>activation sodium sulphide pump piping uncoupl...</td>\n",
       "      <td>5</td>\n",
       "      <td>1</td>\n",
       "      <td>307</td>\n",
       "      <td>mining employee pressurized systems activation...</td>\n",
       "      <td>mining employee pressurized systems activation...</td>\n",
       "      <td>mining employee pressurized systems activation...</td>\n",
       "      <td>activation sodium sulphide pump piping uncoupl...</td>\n",
       "      <td>activation sodium sulphide pump piping uncoupl...</td>\n",
       "    </tr>\n",
       "    <tr>\n",
       "      <th>2</th>\n",
       "      <td>2</td>\n",
       "      <td>2016-01-06</td>\n",
       "      <td>Country_01</td>\n",
       "      <td>Local_03</td>\n",
       "      <td>Mining</td>\n",
       "      <td>I</td>\n",
       "      <td>III</td>\n",
       "      <td>Male</td>\n",
       "      <td>Third Party (Remote)</td>\n",
       "      <td>Manual Tools</td>\n",
       "      <td>substation milpo located level 170 collaborato...</td>\n",
       "      <td>2</td>\n",
       "      <td>1</td>\n",
       "      <td>314</td>\n",
       "      <td>mining third party remote manual tools substat...</td>\n",
       "      <td>mining third party remote manual tools substat...</td>\n",
       "      <td>mining third party remote manual tools substat...</td>\n",
       "      <td>substation milpo located level 170 collaborato...</td>\n",
       "      <td>substation milpo located level 170 collaborato...</td>\n",
       "    </tr>\n",
       "    <tr>\n",
       "      <th>3</th>\n",
       "      <td>3</td>\n",
       "      <td>2016-01-08</td>\n",
       "      <td>Country_01</td>\n",
       "      <td>Local_04</td>\n",
       "      <td>Mining</td>\n",
       "      <td>I</td>\n",
       "      <td>I</td>\n",
       "      <td>Male</td>\n",
       "      <td>Third Party</td>\n",
       "      <td>Others</td>\n",
       "      <td>945 approximately nv 1880 cx695 ob7 personnel ...</td>\n",
       "      <td>4</td>\n",
       "      <td>1</td>\n",
       "      <td>562</td>\n",
       "      <td>mining third party others 945 approximately nv...</td>\n",
       "      <td>mining third party others 945 approximately nv...</td>\n",
       "      <td>mining third party others 945 approximately nv...</td>\n",
       "      <td>945 approximately nv 1880 cx695 ob7 personnel ...</td>\n",
       "      <td>945 approximately nv 1880 cx695 ob7 personnel ...</td>\n",
       "    </tr>\n",
       "    <tr>\n",
       "      <th>4</th>\n",
       "      <td>4</td>\n",
       "      <td>2016-01-10</td>\n",
       "      <td>Country_01</td>\n",
       "      <td>Local_04</td>\n",
       "      <td>Mining</td>\n",
       "      <td>IV</td>\n",
       "      <td>IV</td>\n",
       "      <td>Male</td>\n",
       "      <td>Third Party</td>\n",
       "      <td>Others</td>\n",
       "      <td>approximately 1145 circumstances mechanics ant...</td>\n",
       "      <td>6</td>\n",
       "      <td>1</td>\n",
       "      <td>487</td>\n",
       "      <td>mining third party others approximately 1145 c...</td>\n",
       "      <td>mining third party others approximately 1145 c...</td>\n",
       "      <td>mining third party others approximately 1145 c...</td>\n",
       "      <td>approximately 1145 circumstances mechanics ant...</td>\n",
       "      <td>approximately 1145 circumstances mechanics ant...</td>\n",
       "    </tr>\n",
       "  </tbody>\n",
       "</table>\n",
       "</div>"
      ],
      "text/plain": [
       "   Unnamed: 0  ...                             Description_lemmatized\n",
       "0           0  ...  removing drill rod jumbo 08 maintenance superv...\n",
       "1           1  ...  activation sodium sulphide pump piping uncoupl...\n",
       "2           2  ...  substation milpo located level 170 collaborato...\n",
       "3           3  ...  945 approximately nv 1880 cx695 ob7 personnel ...\n",
       "4           4  ...  approximately 1145 circumstances mechanics ant...\n",
       "\n",
       "[5 rows x 19 columns]"
      ]
     },
     "execution_count": 3,
     "metadata": {},
     "output_type": "execute_result"
    }
   ],
   "source": [
    "df.head()"
   ]
  },
  {
   "cell_type": "markdown",
   "id": "33a6a01c",
   "metadata": {
    "id": "33a6a01c"
   },
   "source": [
    "## Stemmed Data"
   ]
  },
  {
   "cell_type": "code",
   "execution_count": null,
   "id": "26c28918",
   "metadata": {
    "id": "26c28918"
   },
   "outputs": [],
   "source": [
    "# Data1 - Count vectorizer - Stemmed data - with concatenated data\n",
    "cv = CountVectorizer()\n",
    "cv_data = cv.fit(df['Description_1Stemmed'])\n",
    "data1 = cv_data.transform(df['Description_1Stemmed'])"
   ]
  },
  {
   "cell_type": "code",
   "execution_count": null,
   "id": "469025e7",
   "metadata": {
    "colab": {
     "base_uri": "https://localhost:8080/"
    },
    "id": "469025e7",
    "outputId": "c3f481c7-0dcb-41c0-bb7a-fab179e5c084"
   },
   "outputs": [
    {
     "data": {
      "text/plain": [
       "(418, 3487)"
      ]
     },
     "execution_count": 57,
     "metadata": {},
     "output_type": "execute_result"
    }
   ],
   "source": [
    "data1.toarray().shape"
   ]
  },
  {
   "cell_type": "code",
   "execution_count": null,
   "id": "005d1d99",
   "metadata": {
    "id": "005d1d99"
   },
   "outputs": [],
   "source": [
    "# Data2 - Count vectorizer - Stemmed data- without concatenated data\n",
    "cv1 = CountVectorizer()\n",
    "cv_data1 = cv1.fit(df['Description_Stemmed'])\n",
    "data2 = cv_data1.transform(df['Description_Stemmed'])"
   ]
  },
  {
   "cell_type": "code",
   "execution_count": null,
   "id": "1f4bb045",
   "metadata": {
    "colab": {
     "base_uri": "https://localhost:8080/"
    },
    "id": "1f4bb045",
    "outputId": "7d662afd-37ed-49ab-8338-0da510128740"
   },
   "outputs": [
    {
     "data": {
      "text/plain": [
       "(418, 3465)"
      ]
     },
     "execution_count": 59,
     "metadata": {},
     "output_type": "execute_result"
    }
   ],
   "source": [
    "data2.toarray().shape"
   ]
  },
  {
   "cell_type": "code",
   "execution_count": null,
   "id": "47214598",
   "metadata": {
    "colab": {
     "base_uri": "https://localhost:8080/"
    },
    "id": "47214598",
    "outputId": "405bbafa-eed3-4ec5-f7b0-86f1a4bd0d7e"
   },
   "outputs": [
    {
     "data": {
      "text/plain": [
       "(418, 3465)"
      ]
     },
     "execution_count": 60,
     "metadata": {},
     "output_type": "execute_result"
    }
   ],
   "source": [
    "# Data3 - TFIDF vectorizer - Stemmed data- without concatenated data\n",
    "tfidf = TfidfVectorizer()\n",
    "tfidf_1 = tfidf.fit_transform(df['Description_Stemmed'])\n",
    "tfidf_1.toarray().shape"
   ]
  },
  {
   "cell_type": "code",
   "execution_count": null,
   "id": "ed59dfd5",
   "metadata": {
    "colab": {
     "base_uri": "https://localhost:8080/"
    },
    "id": "ed59dfd5",
    "outputId": "16d1eeda-b59d-4466-a891-cd1459995832"
   },
   "outputs": [
    {
     "data": {
      "text/plain": [
       "(418, 3487)"
      ]
     },
     "execution_count": 61,
     "metadata": {},
     "output_type": "execute_result"
    }
   ],
   "source": [
    "# Data4 - TFIDF vectorizer - Stemmed data - with concatenated data\n",
    "tfidf1 = TfidfVectorizer()\n",
    "tfidf_2 = tfidf.fit_transform(df['Description_1Stemmed'])\n",
    "tfidf_2.toarray().shape"
   ]
  },
  {
   "cell_type": "code",
   "execution_count": null,
   "id": "207c5a68",
   "metadata": {
    "id": "207c5a68"
   },
   "outputs": [],
   "source": [
    "# Data5 - Word2vec - Stemmed data - with concatenated data\n",
    "data_list = []\n",
    "for i in df['Description_1Stemmed']:\n",
    "    data_list.append(nltk.word_tokenize(i))\n",
    "    \n",
    "w2v = Word2Vec(sentences=data_list,size=100)    "
   ]
  },
  {
   "cell_type": "code",
   "execution_count": null,
   "id": "1a73a030",
   "metadata": {
    "colab": {
     "base_uri": "https://localhost:8080/"
    },
    "id": "1a73a030",
    "outputId": "87b2cadb-80ad-4737-b0bd-d7efa2d9a62d"
   },
   "outputs": [
    {
     "data": {
      "text/plain": [
       "[('moment', 0.9998654127120972),\n",
       " ('right', 0.9998505711555481),\n",
       " ('activity', 0.9998483657836914),\n",
       " ('floor', 0.9998412728309631),\n",
       " ('area', 0.9998409748077393),\n",
       " ('operator', 0.9998395442962646),\n",
       " ('left', 0.9998393058776855),\n",
       " ('employee', 0.9998329877853394),\n",
       " ('side', 0.9998326301574707),\n",
       " ('time', 0.9998308420181274)]"
      ]
     },
     "execution_count": 4,
     "metadata": {},
     "output_type": "execute_result"
    }
   ],
   "source": [
    "w2v.wv.similar_by_word('hand')"
   ]
  },
  {
   "cell_type": "code",
   "execution_count": null,
   "id": "ae1be090",
   "metadata": {
    "colab": {
     "base_uri": "https://localhost:8080/"
    },
    "id": "ae1be090",
    "outputId": "95c5c921-b235-453e-f2cf-69e71b932c70"
   },
   "outputs": [
    {
     "data": {
      "text/plain": [
       "array([ 0.24763535,  0.05167529,  0.5600804 , -0.01794475, -0.006012  ,\n",
       "        0.17620245,  0.4550872 , -0.23795748, -0.2003352 , -0.06648196,\n",
       "       -0.14833973,  0.17933409, -0.10328832, -0.302284  ,  0.25391302,\n",
       "       -0.32473648, -0.25436527,  0.50338084,  0.10861481,  0.20882837,\n",
       "        0.13532779,  0.01958757, -0.26224676,  0.13888326, -0.26418158,\n",
       "       -0.27234423, -0.44015497,  0.2146204 , -0.50528455, -0.06157443,\n",
       "        0.18562081, -0.14408092, -0.07853026,  0.03556165, -0.22056371,\n",
       "       -0.15551922, -0.08560842,  0.12339707, -0.02255042, -0.17505093,\n",
       "       -0.17320983, -0.23031613, -0.19485465,  0.17456995,  0.21942809,\n",
       "       -0.00148694, -0.02433377,  0.1290885 , -0.00555174, -0.2442004 ,\n",
       "        0.25947148, -0.14074591, -0.13307302, -0.16364092, -0.13986155,\n",
       "        0.09827486,  0.20425938, -0.3461394 ,  0.20845197, -0.02555393,\n",
       "        0.14225107,  0.07698758,  0.27361286,  0.13989186, -0.07759729,\n",
       "       -0.10650221, -0.01684973, -0.29865006,  0.0773716 ,  0.10474325,\n",
       "        0.24977513,  0.13225164, -0.09439841, -0.10325801, -0.36318034,\n",
       "        0.09655657,  0.00279217, -0.15301582,  0.15349527, -0.36135957,\n",
       "       -0.11026115,  0.39695892, -0.02884917, -0.12032355,  0.32068774,\n",
       "       -0.07703412,  0.04815943,  0.21848355, -0.04874368, -0.11130577,\n",
       "       -0.20470056,  0.19238105, -0.27467504,  0.01588396,  0.17781287,\n",
       "       -0.329459  , -0.01434049, -0.4675824 ,  0.17645039, -0.53498214],\n",
       "      dtype=float32)"
      ]
     },
     "execution_count": 6,
     "metadata": {},
     "output_type": "execute_result"
    }
   ],
   "source": [
    "w2v.wv.get_vector('hand')"
   ]
  },
  {
   "cell_type": "code",
   "execution_count": null,
   "id": "7e25215e",
   "metadata": {
    "id": "7e25215e"
   },
   "outputs": [],
   "source": [
    "# Data6 - Word2vec - Stemmed data - without concatenated data\n",
    "data_list1 = []\n",
    "for i in df['Description_Stemmed']:\n",
    "    data_list1.append(nltk.word_tokenize(i))\n",
    "    \n",
    "w2v1 = Word2Vec(sentences=data_list1,size=100)    "
   ]
  },
  {
   "cell_type": "code",
   "execution_count": null,
   "id": "b230d494",
   "metadata": {
    "colab": {
     "base_uri": "https://localhost:8080/"
    },
    "id": "b230d494",
    "outputId": "84e5e302-ecf6-4cc4-de6a-1d2e1f28585f"
   },
   "outputs": [
    {
     "data": {
      "text/plain": [
       "[('point', 0.9927186965942383),\n",
       " ('moment', 0.9927084445953369),\n",
       " ('remove', 0.992415726184845),\n",
       " ('left', 0.9923863410949707),\n",
       " ('wearing', 0.9923449754714966),\n",
       " ('area', 0.9922834038734436),\n",
       " ('mechanic', 0.9922820329666138),\n",
       " ('hand', 0.9921807050704956),\n",
       " ('x', 0.992145299911499),\n",
       " ('position', 0.9920828342437744)]"
      ]
     },
     "execution_count": 8,
     "metadata": {},
     "output_type": "execute_result"
    }
   ],
   "source": [
    "w2v1.wv.similar_by_word('mining')"
   ]
  },
  {
   "cell_type": "code",
   "execution_count": null,
   "id": "fa0ad9d8",
   "metadata": {
    "colab": {
     "base_uri": "https://localhost:8080/"
    },
    "id": "fa0ad9d8",
    "outputId": "80de5ad8-0627-4c7a-eecb-a3905ff40c85"
   },
   "outputs": [
    {
     "data": {
      "text/plain": [
       "array([ 0.1256854 ,  0.02895494,  0.28910294, -0.00885563,  0.00269934,\n",
       "        0.08658714,  0.23210129, -0.11822601, -0.10656814, -0.03943001,\n",
       "       -0.07725916,  0.08819079, -0.05645268, -0.14952746,  0.13367108,\n",
       "       -0.17281376, -0.126442  ,  0.25778332,  0.06122325,  0.10280242,\n",
       "        0.06636681,  0.00843482, -0.13637051,  0.06555112, -0.1358367 ,\n",
       "       -0.13793777, -0.22761577,  0.11294816, -0.26306316, -0.02986552,\n",
       "        0.09524586, -0.07553504, -0.03964109,  0.0135164 , -0.11076288,\n",
       "       -0.07379829, -0.04754209,  0.0657704 , -0.01587848, -0.09215347,\n",
       "       -0.08876042, -0.12087113, -0.10098678,  0.08944126,  0.11378822,\n",
       "        0.00303156, -0.00643122,  0.07075852, -0.00910865, -0.11707565,\n",
       "        0.1311098 , -0.06603573, -0.06624923, -0.08224016, -0.06998163,\n",
       "        0.0474836 ,  0.09963258, -0.17836355,  0.1056962 , -0.01622112,\n",
       "        0.07162763,  0.03696309,  0.13670972,  0.07879491, -0.03466443,\n",
       "       -0.05333216, -0.01313687, -0.15569906,  0.03662973,  0.0480913 ,\n",
       "        0.12796414,  0.0612716 , -0.04411203, -0.05518476, -0.18236396,\n",
       "        0.05431471,  0.00135598, -0.07915793,  0.07436431, -0.18338081,\n",
       "       -0.05492016,  0.19973014, -0.01611986, -0.06446511,  0.16249956,\n",
       "       -0.04248549,  0.02820349,  0.10556862, -0.02535154, -0.05657632,\n",
       "       -0.10861406,  0.10206234, -0.14154851,  0.00666208,  0.08731909,\n",
       "       -0.16885148, -0.00773968, -0.23483253,  0.09366923, -0.2726681 ],\n",
       "      dtype=float32)"
      ]
     },
     "execution_count": 9,
     "metadata": {},
     "output_type": "execute_result"
    }
   ],
   "source": [
    "w2v.wv.get_vector('mining')"
   ]
  },
  {
   "cell_type": "markdown",
   "id": "b8c63ee2",
   "metadata": {
    "id": "b8c63ee2"
   },
   "source": [
    "## Lemmatized data "
   ]
  },
  {
   "cell_type": "code",
   "execution_count": null,
   "id": "8a948cd0",
   "metadata": {
    "colab": {
     "base_uri": "https://localhost:8080/",
     "height": 187
    },
    "id": "8a948cd0",
    "outputId": "cb3e982b-d724-49c8-9cb4-c92d255a49af"
   },
   "outputs": [
    {
     "data": {
      "text/html": [
       "<div>\n",
       "<style scoped>\n",
       "    .dataframe tbody tr th:only-of-type {\n",
       "        vertical-align: middle;\n",
       "    }\n",
       "\n",
       "    .dataframe tbody tr th {\n",
       "        vertical-align: top;\n",
       "    }\n",
       "\n",
       "    .dataframe thead th {\n",
       "        text-align: right;\n",
       "    }\n",
       "</style>\n",
       "<table border=\"1\" class=\"dataframe\">\n",
       "  <thead>\n",
       "    <tr style=\"text-align: right;\">\n",
       "      <th></th>\n",
       "      <th>Date</th>\n",
       "      <th>Countries</th>\n",
       "      <th>Locality</th>\n",
       "      <th>Industry Sector</th>\n",
       "      <th>Accident Level</th>\n",
       "      <th>Potential Accident Level</th>\n",
       "      <th>Gender</th>\n",
       "      <th>Employee or Third Party</th>\n",
       "      <th>Critical Risk</th>\n",
       "      <th>Description</th>\n",
       "      <th>Day</th>\n",
       "      <th>Month</th>\n",
       "      <th>Length</th>\n",
       "      <th>Description_1</th>\n",
       "      <th>Description_1Stemmed</th>\n",
       "      <th>Description_1lemmatized</th>\n",
       "      <th>Description_Stemmed</th>\n",
       "      <th>Description_lemmatized</th>\n",
       "    </tr>\n",
       "  </thead>\n",
       "  <tbody>\n",
       "    <tr>\n",
       "      <th>0</th>\n",
       "      <td>2016-01-01</td>\n",
       "      <td>Country_01</td>\n",
       "      <td>Local_01</td>\n",
       "      <td>Mining</td>\n",
       "      <td>I</td>\n",
       "      <td>IV</td>\n",
       "      <td>Male</td>\n",
       "      <td>Third Party</td>\n",
       "      <td>Pressed</td>\n",
       "      <td>removing drill rod jumbo 08 maintenance superv...</td>\n",
       "      <td>4</td>\n",
       "      <td>1</td>\n",
       "      <td>457</td>\n",
       "      <td>mining third party pressed removing drill rod ...</td>\n",
       "      <td>mining third party pressed removing drill rod ...</td>\n",
       "      <td>mining third party pressed removing drill rod ...</td>\n",
       "      <td>removing drill rod jumbo 08 maintenance superv...</td>\n",
       "      <td>removing drill rod jumbo 08 maintenance superv...</td>\n",
       "    </tr>\n",
       "  </tbody>\n",
       "</table>\n",
       "</div>"
      ],
      "text/plain": [
       "        Date  ...                             Description_lemmatized\n",
       "0 2016-01-01  ...  removing drill rod jumbo 08 maintenance superv...\n",
       "\n",
       "[1 rows x 18 columns]"
      ]
     },
     "execution_count": 68,
     "metadata": {},
     "output_type": "execute_result"
    }
   ],
   "source": [
    "df.head(1)"
   ]
  },
  {
   "cell_type": "code",
   "execution_count": null,
   "id": "b64ab42b",
   "metadata": {
    "id": "b64ab42b"
   },
   "outputs": [],
   "source": [
    "# Step5 - Count vectorizer - Lemmatized data - with concatenated data\n",
    "cv2 = CountVectorizer()\n",
    "cv_data2 = cv2.fit(df['Description_1lemmatized'])\n",
    "data3 = cv_data2.transform(df['Description_lemmatized'])"
   ]
  },
  {
   "cell_type": "code",
   "execution_count": null,
   "id": "5e915a4e",
   "metadata": {
    "colab": {
     "base_uri": "https://localhost:8080/"
    },
    "id": "5e915a4e",
    "outputId": "a4210440-88ff-4705-f489-c4b34d8d961b"
   },
   "outputs": [
    {
     "data": {
      "text/plain": [
       "(418, 3426)"
      ]
     },
     "execution_count": 70,
     "metadata": {},
     "output_type": "execute_result"
    }
   ],
   "source": [
    "data3.toarray().shape"
   ]
  },
  {
   "cell_type": "code",
   "execution_count": null,
   "id": "e3f47ee2",
   "metadata": {
    "colab": {
     "base_uri": "https://localhost:8080/"
    },
    "id": "e3f47ee2",
    "outputId": "58e08ef0-8e70-4b92-b06a-8e3056b7d37b"
   },
   "outputs": [
    {
     "data": {
      "text/plain": [
       "(418, 3426)"
      ]
     },
     "execution_count": 71,
     "metadata": {},
     "output_type": "execute_result"
    }
   ],
   "source": [
    "# Step5 - TFIDF vectorizer - Lemmatized data- with concatenated data\n",
    "tfidf3 = TfidfVectorizer()\n",
    "tfidf_3 = tfidf3.fit_transform(df['Description_1lemmatized'])\n",
    "tfidf_3.toarray().shape"
   ]
  },
  {
   "cell_type": "code",
   "execution_count": null,
   "id": "3980260d",
   "metadata": {
    "id": "3980260d"
   },
   "outputs": [],
   "source": [
    "# Step5 - Word2vec - Lemmatized data - with concatenated data\n",
    "data_list_lemmatized = []\n",
    "for i in df['Description_1lemmatized']:\n",
    "    data_list_lemmatized.append(nltk.word_tokenize(i))\n",
    "\n",
    "w2v_l1 = Word2Vec(sentences=data_list_lemmatized,size=100)    "
   ]
  },
  {
   "cell_type": "code",
   "execution_count": null,
   "id": "fdd1394d",
   "metadata": {
    "colab": {
     "base_uri": "https://localhost:8080/"
    },
    "id": "fdd1394d",
    "outputId": "fca6c033-934f-4792-806c-889847cf519f"
   },
   "outputs": [
    {
     "data": {
      "text/plain": [
       "[('moment', 0.9996823668479919),\n",
       " ('area', 0.9996577501296997),\n",
       " ('left', 0.9996550679206848),\n",
       " ('kg', 0.9996406435966492),\n",
       " ('employee', 0.9996376037597656),\n",
       " ('floor', 0.9996365308761597),\n",
       " ('hand', 0.9996274709701538),\n",
       " ('pipe', 0.9996260404586792),\n",
       " ('worker', 0.9996181130409241),\n",
       " ('operator', 0.9996142387390137)]"
      ]
     },
     "execution_count": 11,
     "metadata": {},
     "output_type": "execute_result"
    }
   ],
   "source": [
    "w2v_l1.wv.similar_by_word('mining')"
   ]
  },
  {
   "cell_type": "code",
   "execution_count": null,
   "id": "007da7ef",
   "metadata": {
    "colab": {
     "base_uri": "https://localhost:8080/"
    },
    "id": "007da7ef",
    "outputId": "59b014c0-7f4d-459c-91b5-0289152e3092"
   },
   "outputs": [
    {
     "data": {
      "text/plain": [
       "array([ 0.24253663,  0.03717405,  0.56142527,  0.01066119,  0.00710885,\n",
       "        0.14287269,  0.37832272, -0.29874802, -0.14145645, -0.11149401,\n",
       "       -0.1629601 ,  0.05111066, -0.15306999, -0.23366114,  0.2922512 ,\n",
       "       -0.34890014, -0.16507591,  0.42467502,  0.06627195,  0.2671539 ,\n",
       "        0.03985141, -0.01330697, -0.29842633,  0.15749787, -0.2800186 ,\n",
       "       -0.2633576 , -0.5067921 ,  0.15033083, -0.48666584,  0.03770605,\n",
       "        0.20582561, -0.17554092, -0.08171312, -0.00293148, -0.12696554,\n",
       "       -0.05730455, -0.16055644,  0.1735936 , -0.06611936, -0.21415175,\n",
       "       -0.1602892 , -0.2949304 , -0.19280146,  0.18634796,  0.22124639,\n",
       "        0.04883545,  0.04221507,  0.06157177, -0.09207173, -0.1704507 ,\n",
       "        0.20496541, -0.15127565, -0.12152471, -0.17424676, -0.09416472,\n",
       "        0.10224576,  0.20645532, -0.3727445 ,  0.2504667 ,  0.04334413,\n",
       "        0.18772995, -0.00881126,  0.24638177,  0.18848814, -0.06112811,\n",
       "       -0.1059602 , -0.06080328, -0.2624171 ,  0.05584949,  0.10849489,\n",
       "        0.24715616,  0.1416571 , -0.01364219, -0.14513005, -0.33748317,\n",
       "        0.08458962,  0.00527814, -0.173491  ,  0.11457668, -0.35302493,\n",
       "       -0.157792  ,  0.41149542,  0.01055387, -0.03928382,  0.3286923 ,\n",
       "        0.0870484 ,  0.04217101,  0.18727337,  0.00529958, -0.08934306,\n",
       "       -0.08140162,  0.18975353, -0.23184533,  0.01641881,  0.09799223,\n",
       "       -0.26809916, -0.04503227, -0.39756036,  0.22817066, -0.444     ],\n",
       "      dtype=float32)"
      ]
     },
     "execution_count": 12,
     "metadata": {},
     "output_type": "execute_result"
    }
   ],
   "source": [
    "w2v_l1.wv.get_vector('hand')"
   ]
  },
  {
   "cell_type": "code",
   "execution_count": null,
   "id": "ccc98c17",
   "metadata": {
    "id": "ccc98c17"
   },
   "outputs": [],
   "source": [
    "# Step5 - Count vectorizer - Lemmatized data - without concatenated data\n",
    "cv3 = CountVectorizer()\n",
    "cv_data3 = cv3.fit(df['Description_lemmatized'])\n",
    "data4 = cv_data3.transform(df['Description_lemmatized'])"
   ]
  },
  {
   "cell_type": "code",
   "execution_count": null,
   "id": "3d301805",
   "metadata": {
    "colab": {
     "base_uri": "https://localhost:8080/"
    },
    "id": "3d301805",
    "outputId": "78541e84-da8b-439a-b9a5-d8ae63a3db17"
   },
   "outputs": [
    {
     "data": {
      "text/plain": [
       "(418, 3404)"
      ]
     },
     "execution_count": 76,
     "metadata": {},
     "output_type": "execute_result"
    }
   ],
   "source": [
    "data4.toarray().shape"
   ]
  },
  {
   "cell_type": "code",
   "execution_count": null,
   "id": "666d555c",
   "metadata": {
    "colab": {
     "base_uri": "https://localhost:8080/"
    },
    "id": "666d555c",
    "outputId": "2d298432-ae51-440f-fad6-1f3d46d235e5"
   },
   "outputs": [
    {
     "data": {
      "text/plain": [
       "(418, 3404)"
      ]
     },
     "execution_count": 77,
     "metadata": {},
     "output_type": "execute_result"
    }
   ],
   "source": [
    "# Step5 - TFIDF vectorizer - Lemmatized data- without concatenated data\n",
    "tfidf4 = TfidfVectorizer()\n",
    "tfidf_4 = tfidf4.fit_transform(df['Description_lemmatized'])\n",
    "tfidf_4.toarray().shape"
   ]
  },
  {
   "cell_type": "code",
   "execution_count": null,
   "id": "2e755ac0",
   "metadata": {
    "id": "2e755ac0"
   },
   "outputs": [],
   "source": [
    "# Step5 - Word2vec - Lemmatized data - without concatenated data\n",
    "data_list_lemmatized_o = []\n",
    "for i in df['Description_lemmatized']:\n",
    "    data_list_lemmatized_o.append(nltk.word_tokenize(i))\n",
    "\n",
    "w2v_l2 = Word2Vec(sentences=data_list_lemmatized_o,size=100)    "
   ]
  },
  {
   "cell_type": "code",
   "execution_count": null,
   "id": "59d9731c",
   "metadata": {
    "colab": {
     "base_uri": "https://localhost:8080/"
    },
    "id": "59d9731c",
    "outputId": "4a5b850d-d1f8-4c6c-e4c6-7078ca4af646"
   },
   "outputs": [
    {
     "data": {
      "text/plain": [
       "[('left', 0.9988422393798828),\n",
       " ('moment', 0.998717188835144),\n",
       " ('right', 0.9985418319702148),\n",
       " ('support', 0.9983209371566772),\n",
       " ('employee', 0.9983154535293579),\n",
       " ('equipment', 0.9982981085777283),\n",
       " ('activity', 0.9982728958129883),\n",
       " ('metal', 0.9981943368911743),\n",
       " ('finger', 0.9981769323348999),\n",
       " ('time', 0.998173713684082)]"
      ]
     },
     "execution_count": 14,
     "metadata": {},
     "output_type": "execute_result"
    }
   ],
   "source": [
    "w2v_l2.wv.similar_by_word('hand')"
   ]
  },
  {
   "cell_type": "code",
   "execution_count": null,
   "id": "d5582b92",
   "metadata": {
    "colab": {
     "base_uri": "https://localhost:8080/"
    },
    "id": "d5582b92",
    "outputId": "8f601abe-f1ea-4f87-f6fc-1275106176cb"
   },
   "outputs": [
    {
     "data": {
      "text/plain": [
       "array([ 0.09054343,  0.02238632,  0.20839396, -0.01303572,  0.01105728,\n",
       "        0.06728581,  0.15405497, -0.06225726, -0.08208591, -0.01254359,\n",
       "       -0.07067201,  0.03677054, -0.04886557, -0.09481988,  0.10446944,\n",
       "       -0.1350575 , -0.10297305,  0.16866468,  0.03919573,  0.07966253,\n",
       "        0.03573598,  0.00564278, -0.04469653,  0.02954087, -0.10813766,\n",
       "       -0.05888908, -0.19287904,  0.02454115, -0.19170985, -0.00528325,\n",
       "        0.07700021, -0.11173127, -0.05855694, -0.00380121, -0.05847817,\n",
       "       -0.0114902 , -0.05839498,  0.063383  , -0.01469473, -0.08202422,\n",
       "       -0.02915044, -0.11823789, -0.05765933,  0.05733916,  0.10252771,\n",
       "        0.00768477, -0.02948826,  0.02296651,  0.0082624 , -0.0881032 ,\n",
       "        0.08332659, -0.06021521, -0.06168928, -0.08526067, -0.04426509,\n",
       "        0.05608201,  0.07772397, -0.13895798,  0.07150733,  0.03703929,\n",
       "        0.01317362,  0.01734302,  0.04310885,  0.08693542,  0.00586729,\n",
       "       -0.07344477, -0.0531633 , -0.10614282, -0.03077258,  0.03142059,\n",
       "        0.06671187,  0.06464082, -0.04284004, -0.03238085, -0.12165622,\n",
       "        0.00262731, -0.00578101, -0.0486799 ,  0.02094829, -0.1571898 ,\n",
       "       -0.005861  ,  0.171002  ,  0.01998432, -0.01197255,  0.10497748,\n",
       "       -0.01272484,  0.02458276,  0.07472977,  0.00038323,  0.00204045,\n",
       "       -0.09035625,  0.06647732, -0.06450954,  0.00719373,  0.07481758,\n",
       "       -0.11306146,  0.00488217, -0.14030564,  0.06594095, -0.1750853 ],\n",
       "      dtype=float32)"
      ]
     },
     "execution_count": 15,
     "metadata": {},
     "output_type": "execute_result"
    }
   ],
   "source": [
    "w2v_l2.wv.get_vector('hand')"
   ]
  },
  {
   "cell_type": "markdown",
   "id": "1739c4d5",
   "metadata": {
    "id": "1739c4d5"
   },
   "source": [
    "# Loading Glove model data - Applied on Lemmatized and Non-Stemmed data"
   ]
  },
  {
   "cell_type": "code",
   "execution_count": null,
   "id": "f87ee516",
   "metadata": {
    "colab": {
     "base_uri": "https://localhost:8080/"
    },
    "id": "f87ee516",
    "outputId": "b2df9344-833a-4e63-843d-a2326a67920f"
   },
   "outputs": [
    {
     "name": "stderr",
     "output_type": "stream",
     "text": [
      "Traceback (most recent call last):\n",
      "  File \"/usr/lib/python3.7/multiprocessing/queues.py\", line 232, in _feed\n",
      "    close()\n",
      "Traceback (most recent call last):\n",
      "  File \"/usr/lib/python3.7/multiprocessing/queues.py\", line 242, in _feed\n",
      "    send_bytes(obj)\n",
      "  File \"/usr/lib/python3.7/multiprocessing/connection.py\", line 200, in send_bytes\n",
      "    self._send_bytes(m[offset:offset + size])\n",
      "  File \"/usr/lib/python3.7/multiprocessing/connection.py\", line 404, in _send_bytes\n",
      "    self._send(header + buf)\n",
      "  File \"/usr/lib/python3.7/multiprocessing/connection.py\", line 368, in _send\n",
      "    n = write(self._handle, buf)\n",
      "BrokenPipeError: [Errno 32] Broken pipe\n",
      "  File \"/usr/lib/python3.7/multiprocessing/connection.py\", line 177, in close\n",
      "    self._close()\n",
      "  File \"/usr/lib/python3.7/multiprocessing/connection.py\", line 361, in _close\n",
      "    _close(self._handle)\n",
      "OSError: [Errno 9] Bad file descriptor\n",
      "Traceback (most recent call last):\n",
      "  File \"/usr/lib/python3.7/multiprocessing/queues.py\", line 232, in _feed\n",
      "    close()\n",
      "  File \"/usr/lib/python3.7/multiprocessing/connection.py\", line 177, in close\n",
      "    self._close()\n",
      "  File \"/usr/lib/python3.7/multiprocessing/connection.py\", line 361, in _close\n",
      "    _close(self._handle)\n",
      "OSError: [Errno 9] Bad file descriptor\n",
      "Exception in thread QueueFeederThread:\n",
      "Traceback (most recent call last):\n",
      "  File \"/usr/lib/python3.7/multiprocessing/queues.py\", line 232, in _feed\n",
      "    close()\n",
      "  File \"/usr/lib/python3.7/multiprocessing/connection.py\", line 177, in close\n",
      "    self._close()\n",
      "  File \"/usr/lib/python3.7/multiprocessing/connection.py\", line 361, in _close\n",
      "    _close(self._handle)\n",
      "OSError: [Errno 9] Bad file descriptor\n",
      "\n",
      "During handling of the above exception, another exception occurred:\n",
      "\n",
      "Traceback (most recent call last):\n",
      "  File \"/usr/lib/python3.7/threading.py\", line 926, in _bootstrap_inner\n",
      "    self.run()\n",
      "  File \"/usr/lib/python3.7/threading.py\", line 870, in run\n",
      "    self._target(*self._args, **self._kwargs)\n",
      "  File \"/usr/lib/python3.7/multiprocessing/queues.py\", line 263, in _feed\n",
      "    queue_sem.release()\n",
      "ValueError: semaphore or lock released too many times\n",
      "\n"
     ]
    }
   ],
   "source": [
    "embedding_vectors = {}\n",
    "for i in open(project_path+\"/glove_6B_100d.txt\", encoding=\"utf8\"):\n",
    "    word = i.split(\" \")[0]\n",
    "    embedding = i.split(\" \")[1:]\n",
    "    embedding_vectors[word] = embedding"
   ]
  },
  {
   "cell_type": "markdown",
   "id": "a689766d",
   "metadata": {
    "id": "a689766d"
   },
   "source": [
    "# Lemmatized data - with concatenation"
   ]
  },
  {
   "cell_type": "code",
   "execution_count": null,
   "id": "af2cb67e",
   "metadata": {
    "colab": {
     "base_uri": "https://localhost:8080/"
    },
    "id": "af2cb67e",
    "outputId": "1b959071-41a9-4d68-a870-01da177205e5"
   },
   "outputs": [
    {
     "data": {
      "text/plain": [
       "102"
      ]
     },
     "execution_count": 8,
     "metadata": {},
     "output_type": "execute_result"
    }
   ],
   "source": [
    "#pad sequences and then start with Glove\n",
    "a = [nltk.word_tokenize(i) for i in df['Description_1lemmatized']]\n",
    "m = [len(i) for i in a]\n",
    "max(m)"
   ]
  },
  {
   "cell_type": "code",
   "execution_count": null,
   "id": "614b6b51",
   "metadata": {
    "id": "614b6b51"
   },
   "outputs": [],
   "source": [
    "# len(cv_data2.vocabulary_)"
   ]
  },
  {
   "cell_type": "code",
   "execution_count": null,
   "id": "aeca2fcd",
   "metadata": {
    "id": "aeca2fcd"
   },
   "outputs": [],
   "source": [
    "tokenizer_l = Tokenizer(num_words = 3452)\n",
    "tokenizer_l.fit_on_texts(df.Description_1lemmatized)\n",
    "text_tokenized_l = tokenizer_l.texts_to_sequences(df.Description_1lemmatized)"
   ]
  },
  {
   "cell_type": "code",
   "execution_count": null,
   "id": "83683f6c",
   "metadata": {
    "colab": {
     "base_uri": "https://localhost:8080/"
    },
    "id": "83683f6c",
    "outputId": "ce1cec5a-624e-4fd7-f3b7-f032415f1d64"
   },
   "outputs": [
    {
     "data": {
      "text/plain": [
       "3445"
      ]
     },
     "execution_count": 11,
     "metadata": {},
     "output_type": "execute_result"
    }
   ],
   "source": [
    "max([i for i in tokenizer_l.index_word.keys()])"
   ]
  },
  {
   "cell_type": "code",
   "execution_count": null,
   "id": "dcdda330",
   "metadata": {
    "id": "dcdda330"
   },
   "outputs": [],
   "source": [
    "embedding_matrix_lemmatized = np.zeros((len(tokenizer_l.word_index)+1, 100))\n",
    "\n",
    "for word, i in tokenizer_l.word_index.items():\n",
    "    embedding_vector = embedding_vectors.get(word.replace(\"​​\",\"\"))\n",
    "    if embedding_vector is not None:\n",
    "        embedding_matrix_lemmatized[i] = embedding_vector"
   ]
  },
  {
   "cell_type": "code",
   "execution_count": null,
   "id": "2d5ebe80",
   "metadata": {
    "colab": {
     "base_uri": "https://localhost:8080/"
    },
    "id": "2d5ebe80",
    "outputId": "7761bbd4-0b73-4b15-c954-5a28d7cbe8ce"
   },
   "outputs": [
    {
     "data": {
      "text/plain": [
       "(3446, 100)"
      ]
     },
     "execution_count": 15,
     "metadata": {},
     "output_type": "execute_result"
    }
   ],
   "source": [
    "embedding_matrix_lemmatized.shape"
   ]
  },
  {
   "cell_type": "markdown",
   "id": "40a6d2de",
   "metadata": {
    "id": "40a6d2de"
   },
   "source": [
    "# Lemmatized data - without concatenation"
   ]
  },
  {
   "cell_type": "code",
   "execution_count": null,
   "id": "b24c3d49",
   "metadata": {
    "id": "b24c3d49"
   },
   "outputs": [],
   "source": [
    "len(cv_data3.vocabulary_)"
   ]
  },
  {
   "cell_type": "code",
   "execution_count": null,
   "id": "71d459d4",
   "metadata": {
    "id": "71d459d4"
   },
   "outputs": [],
   "source": [
    "tokenizer_l_c = Tokenizer(num_words = 3452)\n",
    "tokenizer_l_c.fit_on_texts(df.Description_lemmatized)\n",
    "text_tokenized_l_c = tokenizer_l_c.texts_to_sequences(df.Description_lemmatized)"
   ]
  },
  {
   "cell_type": "code",
   "execution_count": null,
   "id": "79c916b0",
   "metadata": {
    "colab": {
     "base_uri": "https://localhost:8080/"
    },
    "id": "79c916b0",
    "outputId": "7debf399-d17c-4d3c-c119-307035bfda3e"
   },
   "outputs": [
    {
     "data": {
      "text/plain": [
       "3423"
      ]
     },
     "execution_count": 14,
     "metadata": {},
     "output_type": "execute_result"
    }
   ],
   "source": [
    "max([i for i in tokenizer_l_c.index_word.keys()])"
   ]
  },
  {
   "cell_type": "code",
   "execution_count": null,
   "id": "6bbb7e84",
   "metadata": {
    "id": "6bbb7e84"
   },
   "outputs": [],
   "source": [
    "embedding_matrix_lemmatized_c = np.zeros((len(tokenizer_l_c.word_index)+1, 100))\n",
    "\n",
    "for word, i in tokenizer_l_c.word_index.items():\n",
    "    embedding_vector = embedding_vectors.get(word.replace(\"​​\",\"\"))\n",
    "    if embedding_vector is not None:\n",
    "        embedding_matrix_lemmatized_c[i] = embedding_vector"
   ]
  },
  {
   "cell_type": "code",
   "execution_count": null,
   "id": "7788a606",
   "metadata": {
    "colab": {
     "base_uri": "https://localhost:8080/"
    },
    "id": "7788a606",
    "outputId": "210d6241-2fb9-4b95-9c04-83f73ac307f9"
   },
   "outputs": [
    {
     "data": {
      "text/plain": [
       "(3424, 100)"
      ]
     },
     "execution_count": 16,
     "metadata": {},
     "output_type": "execute_result"
    }
   ],
   "source": [
    "embedding_matrix_lemmatized_c.shape"
   ]
  },
  {
   "cell_type": "markdown",
   "id": "67c26bf2",
   "metadata": {
    "id": "67c26bf2"
   },
   "source": [
    "\n",
    "\n",
    "\n",
    "\n",
    "# We have 14 source of data coming from different methods\n",
    "\n",
    "## Description with concatenation :\n",
    "\n",
    "### Stemmed data:\n",
    "\n",
    "* Count Vectorizer\n",
    "\n",
    "* TF-IDF\n",
    "\n",
    "* Word 2 Vec\n",
    "\n",
    "### Lemmatized data:\n",
    "\n",
    "* Count Vectorizer\n",
    "\n",
    "* TF-IDF\n",
    "\n",
    "* Word 2 Vec\n",
    "\n",
    "* Glove\n",
    "\n",
    "\n",
    "## Description without concatenation :\n",
    "\n",
    "### Stemmed data:\n",
    "\n",
    "* Count Vectorizer\n",
    "\n",
    "* TF-IDF\n",
    "\n",
    "* Word 2 Vec\n",
    "\n",
    "### Lemmatized data:\n",
    "\n",
    "* Count Vectorizer\n",
    "\n",
    "* TF-IDF\n",
    "\n",
    "* Word 2 Vec\n",
    "\n",
    "* Glove\n"
   ]
  },
  {
   "cell_type": "markdown",
   "id": "cb778b18",
   "metadata": {
    "id": "cb778b18"
   },
   "source": [
    "![Untitled Diagram(4).jpg](data:image/jpeg;base64,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)"
   ]
  },
  {
   "cell_type": "code",
   "execution_count": null,
   "id": "4884fbb7",
   "metadata": {
    "id": "4884fbb7"
   },
   "outputs": [],
   "source": [
    "# df.to_csv(project_path+\"/updated_df.csv\")\n",
    "\n",
    "df = pd.read_csv(project_path+\"/updated_df.csv\")\n",
    "# df = pd.read_csv(\"/content/updated_df.csv\")\n",
    "\n",
    "#Saving for later use"
   ]
  },
  {
   "cell_type": "markdown",
   "id": "HIX7PADfeKiz",
   "metadata": {
    "id": "HIX7PADfeKiz"
   },
   "source": [
    "# Trying out ML models on all the Datasets.\n",
    "\n",
    "## Algorithms:\n",
    "* Naive Bayes - On Count Vectorizer and TF-IDF vectors\n",
    "* Random Forest Classifier - - On Count Vectorizer and TF-IDF vectors\n",
    "\n",
    "## Total models tried = 16"
   ]
  },
  {
   "cell_type": "code",
   "execution_count": null,
   "id": "ujEu9PScewcw",
   "metadata": {
    "id": "ujEu9PScewcw"
   },
   "outputs": [],
   "source": [
    "param_grid = {'alpha':[0.5,1.0,1.5,2.0,2.5,3.0], 'fit_prior':[False,True]}\n",
    "estimator = MultinomialNB()\n",
    "Gscv = GridSearchCV(estimator, param_grid)"
   ]
  },
  {
   "cell_type": "code",
   "execution_count": null,
   "id": "a4c62c01",
   "metadata": {
    "id": "a4c62c01"
   },
   "outputs": [],
   "source": [
    "mnb1 = MultinomialNB()\n",
    "mnb2 = MultinomialNB()\n",
    "mnb3 = MultinomialNB()\n",
    "mnb4 = MultinomialNB()\n",
    "mnb5 = MultinomialNB()\n",
    "mnb6 = MultinomialNB()\n",
    "mnb7 = MultinomialNB()\n",
    "mnb8 = MultinomialNB()"
   ]
  },
  {
   "cell_type": "code",
   "execution_count": null,
   "id": "FZARR5LcgCry",
   "metadata": {
    "id": "FZARR5LcgCry"
   },
   "outputs": [],
   "source": [
    "datasets = [data1.toarray(), data2.toarray(), tfidf_1.toarray(),tfidf_2.toarray(),data3.toarray(),tfidf_3.toarray(),data4.toarray(),\n",
    "        tfidf_4.toarray()]\n",
    "\n",
    "mnb = [mnb1,mnb2,mnb3,mnb4,mnb5,mnb6,mnb7,mnb8]     \n",
    "\n",
    "dt = [\"Count vectorizer - Description concatenated - Stemmed\",\"Count vectorizer - Description without concatenated - Stemmed\",\"TFIDF vectorizer - Stemmed data- without concatenated data\"\n",
    ", \"TFIDF vectorizer - Stemmed data - with concatenated data\", \"Count vectorizer - Lemmatized data - with concatenated data\"\n",
    ", \"TFIDF vectorizer - Lemmatized data- with concatenated data\", \"Count vectorizer - Lemmatized data - without concatenated data\"\n",
    ", \"TFIDF vectorizer - Lemmatized data- without concatenated data\"]"
   ]
  },
  {
   "cell_type": "code",
   "execution_count": null,
   "id": "VujSkBI7jf_O",
   "metadata": {
    "colab": {
     "base_uri": "https://localhost:8080/"
    },
    "id": "VujSkBI7jf_O",
    "outputId": "419796f7-8684-4346-b1df-114242860fc0"
   },
   "outputs": [
    {
     "data": {
      "text/plain": [
       "0.7357142857142858"
      ]
     },
     "execution_count": 118,
     "metadata": {},
     "output_type": "execute_result"
    }
   ],
   "source": [
    "Gscv.score(X_train,y_train)"
   ]
  },
  {
   "cell_type": "code",
   "execution_count": null,
   "id": "cO0tmLKZeqa2",
   "metadata": {
    "colab": {
     "base_uri": "https://localhost:8080/"
    },
    "id": "cO0tmLKZeqa2",
    "outputId": "21e54f7e-f9c1-43da-f994-c9a3f618e116"
   },
   "outputs": [
    {
     "name": "stdout",
     "output_type": "stream",
     "text": [
      "Count vectorizer - Description concatenated - Stemmed\n",
      "\n",
      "              precision    recall  f1-score   support\n",
      "\n",
      "           I       0.74      0.98      0.85       103\n",
      "          II       0.00      0.00      0.00        11\n",
      "         III       0.00      0.00      0.00        10\n",
      "          IV       0.00      0.00      0.00        12\n",
      "           V       0.00      0.00      0.00         2\n",
      "\n",
      "    accuracy                           0.73       138\n",
      "   macro avg       0.15      0.20      0.17       138\n",
      "weighted avg       0.55      0.73      0.63       138\n",
      "\n",
      "Count vectorizer - Description without concatenated - Stemmed\n",
      "\n",
      "              precision    recall  f1-score   support\n",
      "\n",
      "           I       0.75      0.99      0.85       103\n",
      "          II       0.00      0.00      0.00        11\n",
      "         III       1.00      0.10      0.18        10\n",
      "          IV       0.00      0.00      0.00        12\n",
      "           V       0.00      0.00      0.00         2\n",
      "\n",
      "    accuracy                           0.75       138\n",
      "   macro avg       0.35      0.22      0.21       138\n",
      "weighted avg       0.63      0.75      0.65       138\n",
      "\n",
      "TFIDF vectorizer - Stemmed data- without concatenated data\n",
      "\n",
      "              precision    recall  f1-score   support\n",
      "\n",
      "           I       0.75      1.00      0.85       103\n",
      "          II       0.00      0.00      0.00        11\n",
      "         III       0.00      0.00      0.00        10\n",
      "          IV       0.00      0.00      0.00        12\n",
      "           V       0.00      0.00      0.00         2\n",
      "\n",
      "    accuracy                           0.75       138\n",
      "   macro avg       0.15      0.20      0.17       138\n",
      "weighted avg       0.56      0.75      0.64       138\n",
      "\n",
      "TFIDF vectorizer - Stemmed data - with concatenated data\n",
      "\n",
      "              precision    recall  f1-score   support\n",
      "\n",
      "           I       0.75      1.00      0.85       103\n",
      "          II       0.00      0.00      0.00        11\n",
      "         III       0.00      0.00      0.00        10\n",
      "          IV       0.00      0.00      0.00        12\n",
      "           V       0.00      0.00      0.00         2\n",
      "\n",
      "    accuracy                           0.75       138\n",
      "   macro avg       0.15      0.20      0.17       138\n",
      "weighted avg       0.56      0.75      0.64       138\n",
      "\n",
      "Count vectorizer - Lemmatized data - with concatenated data\n",
      "\n",
      "              precision    recall  f1-score   support\n",
      "\n",
      "           I       0.75      0.99      0.85       103\n",
      "          II       0.00      0.00      0.00        11\n",
      "         III       1.00      0.10      0.18        10\n",
      "          IV       0.00      0.00      0.00        12\n",
      "           V       0.00      0.00      0.00         2\n",
      "\n",
      "    accuracy                           0.75       138\n",
      "   macro avg       0.35      0.22      0.21       138\n",
      "weighted avg       0.63      0.75      0.65       138\n",
      "\n",
      "TFIDF vectorizer - Lemmatized data- with concatenated data\n",
      "\n",
      "              precision    recall  f1-score   support\n",
      "\n",
      "           I       0.75      1.00      0.85       103\n",
      "          II       0.00      0.00      0.00        11\n",
      "         III       0.00      0.00      0.00        10\n",
      "          IV       0.00      0.00      0.00        12\n",
      "           V       0.00      0.00      0.00         2\n",
      "\n",
      "    accuracy                           0.75       138\n",
      "   macro avg       0.15      0.20      0.17       138\n",
      "weighted avg       0.56      0.75      0.64       138\n",
      "\n",
      "Count vectorizer - Lemmatized data - without concatenated data\n",
      "\n",
      "              precision    recall  f1-score   support\n",
      "\n",
      "           I       0.75      0.99      0.85       103\n",
      "          II       0.00      0.00      0.00        11\n",
      "         III       1.00      0.10      0.18        10\n",
      "          IV       0.00      0.00      0.00        12\n",
      "           V       0.00      0.00      0.00         2\n",
      "\n",
      "    accuracy                           0.75       138\n",
      "   macro avg       0.35      0.22      0.21       138\n",
      "weighted avg       0.63      0.75      0.65       138\n",
      "\n",
      "TFIDF vectorizer - Lemmatized data- without concatenated data\n",
      "\n",
      "              precision    recall  f1-score   support\n",
      "\n",
      "           I       0.75      1.00      0.85       103\n",
      "          II       0.00      0.00      0.00        11\n",
      "         III       0.00      0.00      0.00        10\n",
      "          IV       0.00      0.00      0.00        12\n",
      "           V       0.00      0.00      0.00         2\n",
      "\n",
      "    accuracy                           0.75       138\n",
      "   macro avg       0.15      0.20      0.17       138\n",
      "weighted avg       0.56      0.75      0.64       138\n",
      "\n"
     ]
    }
   ],
   "source": [
    "Model_status = pd.DataFrame(columns=['Data','Training_score','Test_score'])\n",
    "for i,j,k in zip(datasets,mnb,dt):\n",
    "  print(k+\"\\n\")\n",
    "  X = i\n",
    "  y = df['Accident Level']\n",
    "  X_train, X_test, y_train, y_test = train_test_split(X, y, test_size=0.33, random_state=42)\n",
    "  param_grid = {'alpha':[0.5,1.0,1.5,2.0,2.5,3.0], 'fit_prior':[False,True]}\n",
    "  estimator = j\n",
    "  Gscv = GridSearchCV(estimator, param_grid)\n",
    "  Gscv.fit(X_train,y_train)\n",
    "  prediction = Gscv.predict(X_test)\n",
    "  Data = k\n",
    "  Train_score = Gscv.score(X_train,y_train)\n",
    "  Test_score = Gscv.score(X_test,y_test)\n",
    "  Model_status = Model_status.append({'Data':Data,'Training_score':Train_score,'Test_score':Test_score},ignore_index=True)\n",
    "  print(classification_report(y_test,prediction))\n",
    "  # confusion_matrix(y_test,prediction)\n",
    "  # print(\"\\n\")\n",
    "\n",
    "  "
   ]
  },
  {
   "cell_type": "markdown",
   "id": "2vE0tINTl5iZ",
   "metadata": {
    "id": "2vE0tINTl5iZ"
   },
   "source": [
    "## 1. Although the model's Training and Test Score looks fine with all of them being 70+ we notice the F1 score being completely biased towards Class 1. This is due to the huge influence of Class 1 data.\n",
    "\n",
    "## 2. This bias in prediction comes inspite of tuning hyperparameters in Naive bayes Algorithm."
   ]
  },
  {
   "cell_type": "code",
   "execution_count": null,
   "id": "5ToE5bOcjhG9",
   "metadata": {
    "colab": {
     "base_uri": "https://localhost:8080/",
     "height": 300
    },
    "id": "5ToE5bOcjhG9",
    "outputId": "4e7caa0b-7964-4cf8-ce8d-72972a4e84fb"
   },
   "outputs": [
    {
     "data": {
      "text/html": [
       "<div>\n",
       "<style scoped>\n",
       "    .dataframe tbody tr th:only-of-type {\n",
       "        vertical-align: middle;\n",
       "    }\n",
       "\n",
       "    .dataframe tbody tr th {\n",
       "        vertical-align: top;\n",
       "    }\n",
       "\n",
       "    .dataframe thead th {\n",
       "        text-align: right;\n",
       "    }\n",
       "</style>\n",
       "<table border=\"1\" class=\"dataframe\">\n",
       "  <thead>\n",
       "    <tr style=\"text-align: right;\">\n",
       "      <th></th>\n",
       "      <th>Data</th>\n",
       "      <th>Training_score</th>\n",
       "      <th>Test_score</th>\n",
       "    </tr>\n",
       "  </thead>\n",
       "  <tbody>\n",
       "    <tr>\n",
       "      <th>0</th>\n",
       "      <td>Count vectorizer - Description concatenated - ...</td>\n",
       "      <td>0.792857</td>\n",
       "      <td>0.731884</td>\n",
       "    </tr>\n",
       "    <tr>\n",
       "      <th>1</th>\n",
       "      <td>Count vectorizer - Description without concate...</td>\n",
       "      <td>0.796429</td>\n",
       "      <td>0.746377</td>\n",
       "    </tr>\n",
       "    <tr>\n",
       "      <th>2</th>\n",
       "      <td>TFIDF vectorizer - Stemmed data- without conca...</td>\n",
       "      <td>0.735714</td>\n",
       "      <td>0.746377</td>\n",
       "    </tr>\n",
       "    <tr>\n",
       "      <th>3</th>\n",
       "      <td>TFIDF vectorizer - Stemmed data - with concate...</td>\n",
       "      <td>0.735714</td>\n",
       "      <td>0.746377</td>\n",
       "    </tr>\n",
       "    <tr>\n",
       "      <th>4</th>\n",
       "      <td>Count vectorizer - Lemmatized data - with conc...</td>\n",
       "      <td>0.789286</td>\n",
       "      <td>0.746377</td>\n",
       "    </tr>\n",
       "    <tr>\n",
       "      <th>5</th>\n",
       "      <td>TFIDF vectorizer - Lemmatized data- with conca...</td>\n",
       "      <td>0.735714</td>\n",
       "      <td>0.746377</td>\n",
       "    </tr>\n",
       "    <tr>\n",
       "      <th>6</th>\n",
       "      <td>Count vectorizer - Lemmatized data - without c...</td>\n",
       "      <td>0.789286</td>\n",
       "      <td>0.746377</td>\n",
       "    </tr>\n",
       "    <tr>\n",
       "      <th>7</th>\n",
       "      <td>TFIDF vectorizer - Lemmatized data- without co...</td>\n",
       "      <td>0.735714</td>\n",
       "      <td>0.746377</td>\n",
       "    </tr>\n",
       "  </tbody>\n",
       "</table>\n",
       "</div>"
      ],
      "text/plain": [
       "                                                Data  ...  Test_score\n",
       "0  Count vectorizer - Description concatenated - ...  ...    0.731884\n",
       "1  Count vectorizer - Description without concate...  ...    0.746377\n",
       "2  TFIDF vectorizer - Stemmed data- without conca...  ...    0.746377\n",
       "3  TFIDF vectorizer - Stemmed data - with concate...  ...    0.746377\n",
       "4  Count vectorizer - Lemmatized data - with conc...  ...    0.746377\n",
       "5  TFIDF vectorizer - Lemmatized data- with conca...  ...    0.746377\n",
       "6  Count vectorizer - Lemmatized data - without c...  ...    0.746377\n",
       "7  TFIDF vectorizer - Lemmatized data- without co...  ...    0.746377\n",
       "\n",
       "[8 rows x 3 columns]"
      ]
     },
     "execution_count": 120,
     "metadata": {},
     "output_type": "execute_result"
    }
   ],
   "source": [
    "Model_status"
   ]
  },
  {
   "cell_type": "markdown",
   "id": "6nr5cqn9sYj_",
   "metadata": {
    "id": "6nr5cqn9sYj_"
   },
   "source": [
    "## Trying Random Forest Classifier with 8 different dataset\n",
    "* Count Vectorizer and TF-IDF vectorizer"
   ]
  },
  {
   "cell_type": "code",
   "execution_count": null,
   "id": "9U49c4gXeWRh",
   "metadata": {
    "id": "9U49c4gXeWRh"
   },
   "outputs": [],
   "source": [
    "rfc1 = RandomForestClassifier()\n",
    "rfc2 = RandomForestClassifier()\n",
    "rfc3 = RandomForestClassifier()\n",
    "rfc4 = RandomForestClassifier()\n",
    "rfc5 = RandomForestClassifier()\n",
    "rfc6 = RandomForestClassifier()\n",
    "rfc7 = RandomForestClassifier()\n",
    "rfc8 = RandomForestClassifier()\n",
    "\n",
    "RFC = [rfc1,rfc2,rfc3,rfc4,rfc5,rfc6,rfc7,rfc8]     "
   ]
  },
  {
   "cell_type": "code",
   "execution_count": null,
   "id": "r_IiJBZzflW-",
   "metadata": {
    "colab": {
     "base_uri": "https://localhost:8080/"
    },
    "id": "r_IiJBZzflW-",
    "outputId": "c96770dc-2fb1-4dd8-ea7d-7bc4e407e89e"
   },
   "outputs": [
    {
     "name": "stdout",
     "output_type": "stream",
     "text": [
      "Count vectorizer - Description concatenated - Stemmed\n",
      "\n",
      "              precision    recall  f1-score   support\n",
      "\n",
      "           I       0.75      1.00      0.85       103\n",
      "          II       0.00      0.00      0.00        11\n",
      "         III       0.00      0.00      0.00        10\n",
      "          IV       0.00      0.00      0.00        12\n",
      "           V       0.00      0.00      0.00         2\n",
      "\n",
      "    accuracy                           0.75       138\n",
      "   macro avg       0.15      0.20      0.17       138\n",
      "weighted avg       0.56      0.75      0.64       138\n",
      "\n",
      "\n",
      "\n",
      "Count vectorizer - Description without concatenated - Stemmed\n",
      "\n",
      "              precision    recall  f1-score   support\n",
      "\n",
      "           I       0.75      1.00      0.85       103\n",
      "          II       0.00      0.00      0.00        11\n",
      "         III       0.00      0.00      0.00        10\n",
      "          IV       0.00      0.00      0.00        12\n",
      "           V       0.00      0.00      0.00         2\n",
      "\n",
      "    accuracy                           0.75       138\n",
      "   macro avg       0.15      0.20      0.17       138\n",
      "weighted avg       0.56      0.75      0.64       138\n",
      "\n",
      "\n",
      "\n",
      "TFIDF vectorizer - Stemmed data- without concatenated data\n",
      "\n",
      "              precision    recall  f1-score   support\n",
      "\n",
      "           I       0.75      1.00      0.85       103\n",
      "          II       0.00      0.00      0.00        11\n",
      "         III       0.00      0.00      0.00        10\n",
      "          IV       0.00      0.00      0.00        12\n",
      "           V       0.00      0.00      0.00         2\n",
      "\n",
      "    accuracy                           0.75       138\n",
      "   macro avg       0.15      0.20      0.17       138\n",
      "weighted avg       0.56      0.75      0.64       138\n",
      "\n",
      "\n",
      "\n",
      "TFIDF vectorizer - Stemmed data - with concatenated data\n",
      "\n",
      "              precision    recall  f1-score   support\n",
      "\n",
      "           I       0.75      1.00      0.85       103\n",
      "          II       0.00      0.00      0.00        11\n",
      "         III       0.00      0.00      0.00        10\n",
      "          IV       0.00      0.00      0.00        12\n",
      "           V       0.00      0.00      0.00         2\n",
      "\n",
      "    accuracy                           0.75       138\n",
      "   macro avg       0.15      0.20      0.17       138\n",
      "weighted avg       0.56      0.75      0.64       138\n",
      "\n",
      "\n",
      "\n",
      "Count vectorizer - Lemmatized data - with concatenated data\n",
      "\n",
      "              precision    recall  f1-score   support\n",
      "\n",
      "           I       0.75      1.00      0.85       103\n",
      "          II       0.00      0.00      0.00        11\n",
      "         III       0.00      0.00      0.00        10\n",
      "          IV       0.00      0.00      0.00        12\n",
      "           V       0.00      0.00      0.00         2\n",
      "\n",
      "    accuracy                           0.75       138\n",
      "   macro avg       0.15      0.20      0.17       138\n",
      "weighted avg       0.56      0.75      0.64       138\n",
      "\n",
      "\n",
      "\n",
      "TFIDF vectorizer - Lemmatized data- with concatenated data\n",
      "\n",
      "              precision    recall  f1-score   support\n",
      "\n",
      "           I       0.75      1.00      0.85       103\n",
      "          II       0.00      0.00      0.00        11\n",
      "         III       0.00      0.00      0.00        10\n",
      "          IV       0.00      0.00      0.00        12\n",
      "           V       0.00      0.00      0.00         2\n",
      "\n",
      "    accuracy                           0.75       138\n",
      "   macro avg       0.15      0.20      0.17       138\n",
      "weighted avg       0.56      0.75      0.64       138\n",
      "\n",
      "\n",
      "\n",
      "Count vectorizer - Lemmatized data - without concatenated data\n",
      "\n",
      "              precision    recall  f1-score   support\n",
      "\n",
      "           I       0.75      1.00      0.85       103\n",
      "          II       0.00      0.00      0.00        11\n",
      "         III       0.00      0.00      0.00        10\n",
      "          IV       0.00      0.00      0.00        12\n",
      "           V       0.00      0.00      0.00         2\n",
      "\n",
      "    accuracy                           0.75       138\n",
      "   macro avg       0.15      0.20      0.17       138\n",
      "weighted avg       0.56      0.75      0.64       138\n",
      "\n",
      "\n",
      "\n",
      "TFIDF vectorizer - Lemmatized data- without concatenated data\n",
      "\n",
      "              precision    recall  f1-score   support\n",
      "\n",
      "           I       0.75      1.00      0.85       103\n",
      "          II       0.00      0.00      0.00        11\n",
      "         III       0.00      0.00      0.00        10\n",
      "          IV       0.00      0.00      0.00        12\n",
      "           V       0.00      0.00      0.00         2\n",
      "\n",
      "    accuracy                           0.75       138\n",
      "   macro avg       0.15      0.20      0.17       138\n",
      "weighted avg       0.56      0.75      0.64       138\n",
      "\n",
      "\n",
      "\n"
     ]
    }
   ],
   "source": [
    "for i,j,k in zip(datasets,RFC,dt):\n",
    "  print(k+\"\\n\")\n",
    "  X = i\n",
    "  y = df['Accident Level']\n",
    "  X_train, X_test, y_train, y_test = train_test_split(X, y, test_size=0.33, random_state=42)\n",
    "  param_grid = {'n_estimators':[100,150,200,250],'max_depth':[None,8,6]}\n",
    "  estimator = j\n",
    "  Gscv = GridSearchCV(estimator, param_grid)\n",
    "  Gscv.fit(X_train,y_train)\n",
    "  prediction = Gscv.predict(X_test)\n",
    "  Data = k\n",
    "  Train_score = Gscv.score(X_train,y_train)\n",
    "  Test_score = Gscv.score(X_test,y_test)\n",
    "  prediction = Gscv.predict(X_test)\n",
    "  Model_status = Model_status.append({'Data':Data,'Training_score':Train_score,'Test_score':Test_score},ignore_index=True)\n",
    "  print(classification_report(y_test,prediction))\n",
    "  # confusion_matrix(y_test,prediction)\n",
    "  print(\"\\n\")"
   ]
  },
  {
   "cell_type": "code",
   "execution_count": null,
   "id": "s49W3SoioLxS",
   "metadata": {
    "colab": {
     "base_uri": "https://localhost:8080/",
     "height": 551
    },
    "id": "s49W3SoioLxS",
    "outputId": "f4a07688-ab79-4288-8b15-f5e8c833edbc"
   },
   "outputs": [
    {
     "data": {
      "text/html": [
       "<div>\n",
       "<style scoped>\n",
       "    .dataframe tbody tr th:only-of-type {\n",
       "        vertical-align: middle;\n",
       "    }\n",
       "\n",
       "    .dataframe tbody tr th {\n",
       "        vertical-align: top;\n",
       "    }\n",
       "\n",
       "    .dataframe thead th {\n",
       "        text-align: right;\n",
       "    }\n",
       "</style>\n",
       "<table border=\"1\" class=\"dataframe\">\n",
       "  <thead>\n",
       "    <tr style=\"text-align: right;\">\n",
       "      <th></th>\n",
       "      <th>Data</th>\n",
       "      <th>Training_score</th>\n",
       "      <th>Test_score</th>\n",
       "    </tr>\n",
       "  </thead>\n",
       "  <tbody>\n",
       "    <tr>\n",
       "      <th>0</th>\n",
       "      <td>Count vectorizer - Description concatenated - ...</td>\n",
       "      <td>0.792857</td>\n",
       "      <td>0.731884</td>\n",
       "    </tr>\n",
       "    <tr>\n",
       "      <th>1</th>\n",
       "      <td>Count vectorizer - Description without concate...</td>\n",
       "      <td>0.796429</td>\n",
       "      <td>0.746377</td>\n",
       "    </tr>\n",
       "    <tr>\n",
       "      <th>2</th>\n",
       "      <td>TFIDF vectorizer - Stemmed data- without conca...</td>\n",
       "      <td>0.735714</td>\n",
       "      <td>0.746377</td>\n",
       "    </tr>\n",
       "    <tr>\n",
       "      <th>3</th>\n",
       "      <td>TFIDF vectorizer - Stemmed data - with concate...</td>\n",
       "      <td>0.735714</td>\n",
       "      <td>0.746377</td>\n",
       "    </tr>\n",
       "    <tr>\n",
       "      <th>4</th>\n",
       "      <td>Count vectorizer - Lemmatized data - with conc...</td>\n",
       "      <td>0.789286</td>\n",
       "      <td>0.746377</td>\n",
       "    </tr>\n",
       "    <tr>\n",
       "      <th>5</th>\n",
       "      <td>TFIDF vectorizer - Lemmatized data- with conca...</td>\n",
       "      <td>0.735714</td>\n",
       "      <td>0.746377</td>\n",
       "    </tr>\n",
       "    <tr>\n",
       "      <th>6</th>\n",
       "      <td>Count vectorizer - Lemmatized data - without c...</td>\n",
       "      <td>0.789286</td>\n",
       "      <td>0.746377</td>\n",
       "    </tr>\n",
       "    <tr>\n",
       "      <th>7</th>\n",
       "      <td>TFIDF vectorizer - Lemmatized data- without co...</td>\n",
       "      <td>0.735714</td>\n",
       "      <td>0.746377</td>\n",
       "    </tr>\n",
       "    <tr>\n",
       "      <th>8</th>\n",
       "      <td>Count vectorizer - Description concatenated - ...</td>\n",
       "      <td>0.739286</td>\n",
       "      <td>0.746377</td>\n",
       "    </tr>\n",
       "    <tr>\n",
       "      <th>9</th>\n",
       "      <td>Count vectorizer - Description without concate...</td>\n",
       "      <td>0.735714</td>\n",
       "      <td>0.746377</td>\n",
       "    </tr>\n",
       "    <tr>\n",
       "      <th>10</th>\n",
       "      <td>TFIDF vectorizer - Stemmed data- without conca...</td>\n",
       "      <td>0.735714</td>\n",
       "      <td>0.746377</td>\n",
       "    </tr>\n",
       "    <tr>\n",
       "      <th>11</th>\n",
       "      <td>TFIDF vectorizer - Stemmed data - with concate...</td>\n",
       "      <td>0.735714</td>\n",
       "      <td>0.746377</td>\n",
       "    </tr>\n",
       "    <tr>\n",
       "      <th>12</th>\n",
       "      <td>Count vectorizer - Lemmatized data - with conc...</td>\n",
       "      <td>0.735714</td>\n",
       "      <td>0.746377</td>\n",
       "    </tr>\n",
       "    <tr>\n",
       "      <th>13</th>\n",
       "      <td>TFIDF vectorizer - Lemmatized data- with conca...</td>\n",
       "      <td>0.735714</td>\n",
       "      <td>0.746377</td>\n",
       "    </tr>\n",
       "    <tr>\n",
       "      <th>14</th>\n",
       "      <td>Count vectorizer - Lemmatized data - without c...</td>\n",
       "      <td>0.735714</td>\n",
       "      <td>0.746377</td>\n",
       "    </tr>\n",
       "    <tr>\n",
       "      <th>15</th>\n",
       "      <td>TFIDF vectorizer - Lemmatized data- without co...</td>\n",
       "      <td>0.735714</td>\n",
       "      <td>0.746377</td>\n",
       "    </tr>\n",
       "  </tbody>\n",
       "</table>\n",
       "</div>"
      ],
      "text/plain": [
       "                                                 Data  ...  Test_score\n",
       "0   Count vectorizer - Description concatenated - ...  ...    0.731884\n",
       "1   Count vectorizer - Description without concate...  ...    0.746377\n",
       "2   TFIDF vectorizer - Stemmed data- without conca...  ...    0.746377\n",
       "3   TFIDF vectorizer - Stemmed data - with concate...  ...    0.746377\n",
       "4   Count vectorizer - Lemmatized data - with conc...  ...    0.746377\n",
       "5   TFIDF vectorizer - Lemmatized data- with conca...  ...    0.746377\n",
       "6   Count vectorizer - Lemmatized data - without c...  ...    0.746377\n",
       "7   TFIDF vectorizer - Lemmatized data- without co...  ...    0.746377\n",
       "8   Count vectorizer - Description concatenated - ...  ...    0.746377\n",
       "9   Count vectorizer - Description without concate...  ...    0.746377\n",
       "10  TFIDF vectorizer - Stemmed data- without conca...  ...    0.746377\n",
       "11  TFIDF vectorizer - Stemmed data - with concate...  ...    0.746377\n",
       "12  Count vectorizer - Lemmatized data - with conc...  ...    0.746377\n",
       "13  TFIDF vectorizer - Lemmatized data- with conca...  ...    0.746377\n",
       "14  Count vectorizer - Lemmatized data - without c...  ...    0.746377\n",
       "15  TFIDF vectorizer - Lemmatized data- without co...  ...    0.746377\n",
       "\n",
       "[16 rows x 3 columns]"
      ]
     },
     "execution_count": 124,
     "metadata": {},
     "output_type": "execute_result"
    }
   ],
   "source": [
    "Model_status"
   ]
  },
  {
   "cell_type": "markdown",
   "id": "j7oxE0MKuQGK",
   "metadata": {
    "id": "j7oxE0MKuQGK"
   },
   "source": [
    "![image.png](data:image/png;base64,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)\n",
    "\n",
    "\n",
    "## 1. We notice that none of the 16 ML models that was developed using Count vectorizer and TF-IDF vectorizer with hyperparameter tuning performs well. From this we get to know that Class imbalance plays an important role in models performance. \n",
    "\n",
    "\n",
    "\n",
    "\n",
    "## 2. We will now move on to using Word2Vec and Glove embeddings on ANN without any  Class balancing to know its performance as well. We have tried Naive Bayes & Random Forest Classifier theorem. This will be the same with other ML algorithms but we haven't tried ANN (Artificial Neural Network), it might perform well.\n",
    "\n",
    "* w2v - Word2vec - Stemmed data - with concatenated data\n",
    "* w2v1 - Word2vec - Stemmed data - without concatenated data\n",
    "* w2v_l1 - Word2vec - Lemmatized data - with concatenated data\n",
    "* w2v_l2 - Word2vec - Lemmatized data - without concatenated data\n",
    "* embedding_matrix_lemmatized - GloVe -  Lemmatized data - with concatenation\n",
    "* embedding_matrix_lemmatized_c - GloVe - Lemmatized data - without concatenation\n",
    "\n",
    "\n",
    "\n",
    "\n",
    "## 1. Applying Word2vec data in Simple Artificial neural network with few epochs, Dropout layers (Regularization) and Adam Optimizer\n",
    "\n",
    "## Data: Word2vec - Stemmed data - with concatenated data "
   ]
  },
  {
   "cell_type": "code",
   "execution_count": null,
   "id": "K4W_9cXSflq3",
   "metadata": {
    "id": "K4W_9cXSflq3"
   },
   "outputs": [],
   "source": [
    "# word Tokenized to a list \n",
    "data_list = []\n",
    "for i in df['Description_1Stemmed']:\n",
    "    data_list.append(nltk.word_tokenize(i))\n",
    "    \n",
    "# List applied in Word2vec \n",
    "w2v = Word2Vec(sentences=data_list,size=100,min_count=1)\n",
    "TK1 = Tokenizer()\n",
    "TK1.fit_on_texts(df['Description_1Stemmed'])\n",
    "# max([len(i) for i in TK1.texts_to_sequences(df['Description_1Stemmed'])])\n",
    "\n",
    "# w2v vectors generated\n",
    "w2v_vector_s_c = np.zeros((len(TK1.word_index)+1, 100))\n",
    "\n",
    "for word, i in TK1.word_index.items():\n",
    "  embedding_vector = w2v.wv.get_vector(word)\n",
    "  if embedding_vector is not None:\n",
    "      w2v_vector_s_c[i] = embedding_vector\n",
    "\n",
    "# Dataframe converted to a sequence\n",
    "data_1 = TK1.texts_to_sequences(df['Description_1Stemmed'])"
   ]
  },
  {
   "cell_type": "code",
   "execution_count": null,
   "id": "-8GC9W3E8a__",
   "metadata": {
    "id": "-8GC9W3E8a__"
   },
   "outputs": [],
   "source": [
    "#Applying Label Encoder to classes/target\n",
    "LE = LabelEncoder()\n",
    "classes_actual = LE.fit_transform(df['Accident Level'])\n",
    "\n",
    "#Padding sequences accordingly and creating target using dummies or to_categorical\n",
    "X = pad_sequences(data_1,maxlen=102)\n",
    "y = pd.get_dummies(classes_actual)\n",
    "\n",
    "#Applying Train test split\n",
    "X_train, X_test, y_train, y_test = train_test_split(X, y, test_size=0.33, random_state=42)"
   ]
  },
  {
   "cell_type": "code",
   "execution_count": null,
   "id": "AsVoYqae9DCN",
   "metadata": {
    "id": "AsVoYqae9DCN"
   },
   "outputs": [],
   "source": [
    "#Simple ANN architecture\n",
    "model_1 = Sequential()\n",
    "model_1.add(Embedding(input_dim = len(TK1.word_index)+1,output_dim = 100, weights=[w2v_vector_s_c],input_length = 102))\n",
    "model_1.add(Flatten())\n",
    "model_1.add(Dense(500,activation='relu'))\n",
    "model_1.add(Dropout(0.5))\n",
    "model_1.add(Dense(250,activation='relu'))\n",
    "model_1.add(Dropout(0.5))\n",
    "model_1.add(Dense(120,activation='relu'))\n",
    "model_1.add(Dropout(0.5))\n",
    "model_1.add(Dense(5,activation='softmax'))\n",
    "model_1.compile(optimizer='adam',loss='categorical_crossentropy', metrics=['accuracy'])"
   ]
  },
  {
   "cell_type": "code",
   "execution_count": null,
   "id": "xSzmCJM9NXGZ",
   "metadata": {
    "colab": {
     "base_uri": "https://localhost:8080/"
    },
    "id": "xSzmCJM9NXGZ",
    "outputId": "ccac531f-7451-4ac5-fd96-6a5a51ab2183"
   },
   "outputs": [
    {
     "name": "stdout",
     "output_type": "stream",
     "text": [
      "Epoch 1/10\n",
      "9/9 [==============================] - 2s 92ms/step - loss: 1.2781 - accuracy: 0.6786 - val_loss: 1.0332 - val_accuracy: 0.7464\n",
      "Epoch 2/10\n",
      "9/9 [==============================] - 1s 65ms/step - loss: 0.9963 - accuracy: 0.7357 - val_loss: 0.9727 - val_accuracy: 0.7464\n",
      "Epoch 3/10\n",
      "9/9 [==============================] - 1s 66ms/step - loss: 0.8515 - accuracy: 0.7357 - val_loss: 0.9196 - val_accuracy: 0.7464\n",
      "Epoch 4/10\n",
      "9/9 [==============================] - 1s 69ms/step - loss: 0.6919 - accuracy: 0.7357 - val_loss: 0.8969 - val_accuracy: 0.7464\n",
      "Epoch 5/10\n",
      "9/9 [==============================] - 1s 66ms/step - loss: 0.5625 - accuracy: 0.7357 - val_loss: 1.0010 - val_accuracy: 0.7464\n",
      "Epoch 6/10\n",
      "9/9 [==============================] - 1s 65ms/step - loss: 0.4756 - accuracy: 0.7357 - val_loss: 1.2627 - val_accuracy: 0.7464\n",
      "Epoch 7/10\n",
      "9/9 [==============================] - 1s 65ms/step - loss: 0.4378 - accuracy: 0.7393 - val_loss: 1.2373 - val_accuracy: 0.7464\n",
      "Epoch 8/10\n",
      "9/9 [==============================] - 1s 66ms/step - loss: 0.4140 - accuracy: 0.8143 - val_loss: 1.3518 - val_accuracy: 0.7391\n",
      "Epoch 9/10\n",
      "9/9 [==============================] - 1s 65ms/step - loss: 0.3780 - accuracy: 0.8571 - val_loss: 1.4842 - val_accuracy: 0.7391\n",
      "Epoch 10/10\n",
      "9/9 [==============================] - 1s 67ms/step - loss: 0.3398 - accuracy: 0.8821 - val_loss: 1.5129 - val_accuracy: 0.7319\n"
     ]
    },
    {
     "data": {
      "text/plain": [
       "<keras.callbacks.History at 0x7f4c09263510>"
      ]
     },
     "execution_count": 128,
     "metadata": {},
     "output_type": "execute_result"
    }
   ],
   "source": [
    "model_1.fit(X_train,y_train, epochs=10,validation_data=(X_test,y_test))"
   ]
  },
  {
   "cell_type": "code",
   "execution_count": null,
   "id": "J39_7dVUOZL2",
   "metadata": {
    "id": "J39_7dVUOZL2"
   },
   "outputs": [],
   "source": [
    "prediction = model_1.predict(X_test)\n",
    "value,classes_pred = tf.math.top_k(prediction, k=1, sorted=True, name=None)\n",
    "classes_actual = y_test.idxmax(axis=1)"
   ]
  },
  {
   "cell_type": "code",
   "execution_count": null,
   "id": "rX7cVJnKNXXu",
   "metadata": {
    "colab": {
     "base_uri": "https://localhost:8080/"
    },
    "id": "rX7cVJnKNXXu",
    "outputId": "3404855c-e9fe-4d5d-f155-ccfd76d31987"
   },
   "outputs": [
    {
     "name": "stdout",
     "output_type": "stream",
     "text": [
      "              precision    recall  f1-score   support\n",
      "\n",
      "           0       0.75      0.97      0.85       103\n",
      "           1       0.20      0.09      0.13        11\n",
      "           2       0.00      0.00      0.00        10\n",
      "           3       0.00      0.00      0.00        12\n",
      "           4       0.00      0.00      0.00         2\n",
      "\n",
      "    accuracy                           0.73       138\n",
      "   macro avg       0.19      0.21      0.19       138\n",
      "weighted avg       0.58      0.73      0.64       138\n",
      "\n"
     ]
    }
   ],
   "source": [
    "print(classification_report(classes_actual,classes_pred))\n",
    "#Here we notice that class II is getting predicted but still our priority is on Class IV & V"
   ]
  },
  {
   "cell_type": "code",
   "execution_count": null,
   "id": "iuGH8gJVqxDB",
   "metadata": {
    "colab": {
     "base_uri": "https://localhost:8080/"
    },
    "id": "iuGH8gJVqxDB",
    "outputId": "46c68ed7-6beb-4d18-a2f5-7e4630cba5e8"
   },
   "outputs": [
    {
     "data": {
      "text/plain": [
       "array([[100,   3,   0,   0,   0],\n",
       "       [ 10,   1,   0,   0,   0],\n",
       "       [  9,   1,   0,   0,   0],\n",
       "       [ 12,   0,   0,   0,   0],\n",
       "       [  2,   0,   0,   0,   0]])"
      ]
     },
     "execution_count": 131,
     "metadata": {},
     "output_type": "execute_result"
    }
   ],
   "source": [
    "confusion_matrix(classes_actual,classes_pred)"
   ]
  },
  {
   "cell_type": "code",
   "execution_count": null,
   "id": "h2TJevai1WDB",
   "metadata": {
    "colab": {
     "base_uri": "https://localhost:8080/"
    },
    "id": "h2TJevai1WDB",
    "outputId": "f9d60f71-1403-48cd-bcc9-b5c713b97e7c"
   },
   "outputs": [
    {
     "name": "stdout",
     "output_type": "stream",
     "text": [
      "9/9 [==============================] - 0s 12ms/step - loss: 0.2701 - accuracy: 0.9429\n",
      "5/5 [==============================] - 0s 11ms/step - loss: 1.5129 - accuracy: 0.7319\n"
     ]
    }
   ],
   "source": [
    "Train_score = model_1.evaluate(X_train,y_train)\n",
    "Test_score = model_1.evaluate(X_test,y_test)\n",
    "Model_status = Model_status.append({'Data':\"Word2vec - Stemmed data - with concatenated data\",\"Training_score\":Train_score,\n",
    "                     \"Test_score\":Test_score},ignore_index=True)"
   ]
  },
  {
   "cell_type": "markdown",
   "id": "4a-QKKpk3GwG",
   "metadata": {
    "id": "4a-QKKpk3GwG"
   },
   "source": [
    "## 2. Applying Word2vec data in Simple Artificial neural network with few epochs,Dropout layers (Regularization) and Adam Optimizer\n",
    "\n",
    "## Data: w2v1 - Word2vec - Stemmed data - without concatenated data\n"
   ]
  },
  {
   "cell_type": "code",
   "execution_count": null,
   "id": "gBr2asPIopOx",
   "metadata": {
    "id": "gBr2asPIopOx"
   },
   "outputs": [],
   "source": [
    "# word Tokenized to a list \n",
    "data_list1 = []\n",
    "for i in df['Description_Stemmed']:\n",
    "    data_list1.append(nltk.word_tokenize(i))\n",
    "    \n",
    "# List applied in Word2vec \n",
    "w2v1 = Word2Vec(sentences=data_list1,size=100,min_count=1)\n",
    "TK2 = Tokenizer()\n",
    "TK2.fit_on_texts(df['Description_Stemmed'])\n",
    "# max([len(i) for i in TK2.texts_to_sequences(df['Description_Stemmed'])])\n",
    "\n",
    "# w2v vectors generated\n",
    "w2v_vector_s = np.zeros((len(TK2.word_index)+1, 100))\n",
    "\n",
    "for word, i in TK2.word_index.items():\n",
    "  embedding_vector = w2v1.wv.get_vector(word)\n",
    "  if embedding_vector is not None:\n",
    "      w2v_vector_s[i] = embedding_vector\n",
    "\n",
    "# Dataframe converted to a sequence\n",
    "data_2 = TK2.texts_to_sequences(df['Description_Stemmed'])"
   ]
  },
  {
   "cell_type": "code",
   "execution_count": null,
   "id": "aOs9_4hK9Ebl",
   "metadata": {
    "id": "aOs9_4hK9Ebl"
   },
   "outputs": [],
   "source": [
    "#Applying Label Encoder to classes/target\n",
    "LE1 = LabelEncoder()\n",
    "classes_actual = LE1.fit_transform(df['Accident Level'])\n",
    "\n",
    "#Padding sequences accordingly and creating target using dummies or to_categorical\n",
    "X = pad_sequences(data_2,maxlen=98)\n",
    "y = pd.get_dummies(classes_actual)\n",
    "\n",
    "#Applying Train test split\n",
    "X_train, X_test, y_train, y_test = train_test_split(X, y, test_size=0.33, random_state=42)"
   ]
  },
  {
   "cell_type": "code",
   "execution_count": null,
   "id": "vrELGS202IpQ",
   "metadata": {
    "id": "vrELGS202IpQ"
   },
   "outputs": [],
   "source": [
    "#Simple ANN architecture\n",
    "model_2 = Sequential()\n",
    "model_2.add(Embedding(input_dim = len(TK2.word_index)+1,output_dim = 100, weights=[w2v_vector_s],input_length = 98))\n",
    "model_2.add(Flatten())\n",
    "model_2.add(Dense(500,activation='relu'))\n",
    "model_2.add(Dropout(0.5))\n",
    "model_2.add(Dense(250,activation='relu'))\n",
    "model_2.add(Dropout(0.5))\n",
    "model_2.add(Dense(120,activation='relu'))\n",
    "model_2.add(Dropout(0.5))\n",
    "model_2.add(Dense(5,activation='softmax'))\n",
    "model_2.compile(optimizer='adam',loss='categorical_crossentropy', metrics=['accuracy'])"
   ]
  },
  {
   "cell_type": "code",
   "execution_count": null,
   "id": "Zwt9e60H2Irv",
   "metadata": {
    "colab": {
     "base_uri": "https://localhost:8080/"
    },
    "id": "Zwt9e60H2Irv",
    "outputId": "cfffd99d-76dd-425c-9ac1-1893dff5b2c0"
   },
   "outputs": [
    {
     "name": "stdout",
     "output_type": "stream",
     "text": [
      "Epoch 1/10\n",
      "9/9 [==============================] - 1s 86ms/step - loss: 1.4065 - accuracy: 0.6357 - val_loss: 0.9127 - val_accuracy: 0.7464\n",
      "Epoch 2/10\n",
      "9/9 [==============================] - 1s 66ms/step - loss: 1.0280 - accuracy: 0.7321 - val_loss: 0.9353 - val_accuracy: 0.7464\n",
      "Epoch 3/10\n",
      "9/9 [==============================] - 1s 68ms/step - loss: 0.9140 - accuracy: 0.7357 - val_loss: 0.8766 - val_accuracy: 0.7464\n",
      "Epoch 4/10\n",
      "9/9 [==============================] - 1s 67ms/step - loss: 0.7199 - accuracy: 0.7357 - val_loss: 0.8798 - val_accuracy: 0.7464\n",
      "Epoch 5/10\n",
      "9/9 [==============================] - 1s 65ms/step - loss: 0.5449 - accuracy: 0.7357 - val_loss: 0.9652 - val_accuracy: 0.7464\n",
      "Epoch 6/10\n",
      "9/9 [==============================] - 1s 65ms/step - loss: 0.4578 - accuracy: 0.7357 - val_loss: 1.2265 - val_accuracy: 0.7464\n",
      "Epoch 7/10\n",
      "9/9 [==============================] - 1s 64ms/step - loss: 0.4339 - accuracy: 0.7357 - val_loss: 1.4977 - val_accuracy: 0.7464\n",
      "Epoch 8/10\n",
      "9/9 [==============================] - 1s 63ms/step - loss: 0.4188 - accuracy: 0.7714 - val_loss: 1.5562 - val_accuracy: 0.7464\n",
      "Epoch 9/10\n",
      "9/9 [==============================] - 1s 64ms/step - loss: 0.3886 - accuracy: 0.8286 - val_loss: 1.5952 - val_accuracy: 0.7319\n",
      "Epoch 10/10\n",
      "9/9 [==============================] - 1s 63ms/step - loss: 0.3520 - accuracy: 0.8714 - val_loss: 1.5927 - val_accuracy: 0.6884\n"
     ]
    },
    {
     "data": {
      "text/plain": [
       "<keras.callbacks.History at 0x7f4c090f0750>"
      ]
     },
     "execution_count": 147,
     "metadata": {},
     "output_type": "execute_result"
    }
   ],
   "source": [
    "model_2.fit(X_train,y_train, epochs=10,validation_data=(X_test,y_test))"
   ]
  },
  {
   "cell_type": "code",
   "execution_count": null,
   "id": "Q1z6sRVz2IuR",
   "metadata": {
    "colab": {
     "base_uri": "https://localhost:8080/"
    },
    "id": "Q1z6sRVz2IuR",
    "outputId": "2ac52a72-fc0d-4b35-e196-82088d65ec0f"
   },
   "outputs": [
    {
     "name": "stdout",
     "output_type": "stream",
     "text": [
      "              precision    recall  f1-score   support\n",
      "\n",
      "           0       0.75      0.91      0.82       103\n",
      "           1       0.08      0.09      0.08        11\n",
      "           2       0.00      0.00      0.00        10\n",
      "           3       0.00      0.00      0.00        12\n",
      "           4       0.00      0.00      0.00         2\n",
      "\n",
      "    accuracy                           0.69       138\n",
      "   macro avg       0.17      0.20      0.18       138\n",
      "weighted avg       0.57      0.69      0.62       138\n",
      "\n"
     ]
    }
   ],
   "source": [
    "prediction = model_2.predict(X_test)\n",
    "value,classes_pred = tf.math.top_k(prediction, k=1, sorted=True, name=None)\n",
    "classes_actual = y_test.idxmax(axis=1)\n",
    "print(classification_report(classes_actual,classes_pred))"
   ]
  },
  {
   "cell_type": "code",
   "execution_count": null,
   "id": "5iNT9uY5WvPR",
   "metadata": {
    "colab": {
     "base_uri": "https://localhost:8080/"
    },
    "id": "5iNT9uY5WvPR",
    "outputId": "a0ba5c25-507d-48bc-a486-ea5018f32478"
   },
   "outputs": [
    {
     "data": {
      "text/plain": [
       "0    103\n",
       "3     12\n",
       "1     11\n",
       "2     10\n",
       "4      2\n",
       "dtype: int64"
      ]
     },
     "execution_count": 149,
     "metadata": {},
     "output_type": "execute_result"
    }
   ],
   "source": [
    "classes_actual.value_counts()"
   ]
  },
  {
   "cell_type": "code",
   "execution_count": null,
   "id": "vHXu8vs_2Iwx",
   "metadata": {
    "colab": {
     "base_uri": "https://localhost:8080/"
    },
    "id": "vHXu8vs_2Iwx",
    "outputId": "2c8b39f2-c419-44a1-f937-81b50eac0acd"
   },
   "outputs": [
    {
     "data": {
      "text/plain": [
       "array([[103,   0,   0,   0,   0],\n",
       "       [ 11,   0,   0,   0,   0],\n",
       "       [ 10,   0,   0,   0,   0],\n",
       "       [ 12,   0,   0,   0,   0],\n",
       "       [  2,   0,   0,   0,   0]])"
      ]
     },
     "execution_count": 288,
     "metadata": {},
     "output_type": "execute_result"
    }
   ],
   "source": [
    "confusion_matrix(classes_actual,classes_pred)"
   ]
  },
  {
   "cell_type": "code",
   "execution_count": null,
   "id": "FaIDD4rvV4dT",
   "metadata": {
    "colab": {
     "base_uri": "https://localhost:8080/"
    },
    "id": "FaIDD4rvV4dT",
    "outputId": "00152cac-7abd-4165-c411-b0f9f8acbb6c"
   },
   "outputs": [
    {
     "name": "stdout",
     "output_type": "stream",
     "text": [
      "9/9 [==============================] - 0s 11ms/step - loss: 0.2647 - accuracy: 0.9071\n",
      "5/5 [==============================] - 0s 10ms/step - loss: 1.5927 - accuracy: 0.6884\n"
     ]
    }
   ],
   "source": [
    "Train_score = model_2.evaluate(X_train,y_train)\n",
    "Test_score = model_2.evaluate(X_test,y_test)\n",
    "Model_status = Model_status.append({'Data':\"w2v1 - Word2vec - Stemmed data - without concatenated data\",\"Training_score\":Train_score,\n",
    "                     \"Test_score\":Test_score},ignore_index=True)"
   ]
  },
  {
   "cell_type": "markdown",
   "id": "ZTcyuh-S3RCd",
   "metadata": {
    "id": "ZTcyuh-S3RCd"
   },
   "source": [
    "## 3. Applying Word2vec data in Simple Artificial neural network with few epochs\n",
    "## Data: Word2vec - Lemmatized data - with concatenated data"
   ]
  },
  {
   "cell_type": "code",
   "execution_count": null,
   "id": "2m8Ux7262I3y",
   "metadata": {
    "id": "2m8Ux7262I3y"
   },
   "outputs": [],
   "source": [
    "# word Tokenized to a list \n",
    "data_list2 = []\n",
    "for i in df['Description_1lemmatized']:\n",
    "    data_list2.append(nltk.word_tokenize(i))\n",
    "    \n",
    "# List applied in Word2vec \n",
    "w2v2 = Word2Vec(sentences=data_list2,size=100,min_count=1)\n",
    "TK3 = Tokenizer()\n",
    "TK3.fit_on_texts(df['Description_1lemmatized'])\n",
    "# max([len(i) for i in TK3.texts_to_sequences(df['Description_1lemmatized'])])\n",
    "\n",
    "# w2v vectors generated\n",
    "w2v_vector_l_c = np.zeros((len(TK3.word_index)+1, 100))\n",
    "\n",
    "for word, i in TK3.word_index.items():\n",
    "  embedding_vector = w2v2.wv.get_vector(word)\n",
    "  if embedding_vector is not None:\n",
    "      w2v_vector_l_c[i] = embedding_vector\n",
    "\n",
    "# Dataframe converted to a sequence\n",
    "data_3 = TK3.texts_to_sequences(df['Description_1lemmatized'])"
   ]
  },
  {
   "cell_type": "code",
   "execution_count": null,
   "id": "yfDN1JMv4OD7",
   "metadata": {
    "id": "yfDN1JMv4OD7"
   },
   "outputs": [],
   "source": [
    "#Applying Label Encoder to classes/target\n",
    "LE2 = LabelEncoder()\n",
    "classes_actual = LE2.fit_transform(df['Accident Level'])\n",
    "\n",
    "#Padding sequences accordingly and creating target using dummies or to_categorical\n",
    "X = pad_sequences(data_3,maxlen=102)\n",
    "y = pd.get_dummies(classes_actual)\n",
    "\n",
    "#Applying Train test split\n",
    "X_train, X_test, y_train, y_test = train_test_split(X, y, test_size=0.33, random_state=42)"
   ]
  },
  {
   "cell_type": "code",
   "execution_count": null,
   "id": "rtLmjtNc4tbg",
   "metadata": {
    "id": "rtLmjtNc4tbg"
   },
   "outputs": [],
   "source": [
    "#Simple ANN architecture\n",
    "model_3 = Sequential()\n",
    "model_3.add(Embedding(input_dim = len(TK3.word_index)+1,output_dim = 100, weights=[w2v_vector_l_c],input_length = 102))\n",
    "model_3.add(Flatten())\n",
    "model_3.add(Dense(500,activation='relu'))\n",
    "model_3.add(Dropout(0.5))\n",
    "model_3.add(Dense(250,activation='relu'))\n",
    "model_3.add(Dropout(0.5))\n",
    "model_3.add(Dense(120,activation='relu'))\n",
    "model_3.add(Dropout(0.5))\n",
    "model_3.add(Dense(5,activation='softmax'))\n",
    "model_3.compile(optimizer='adam',loss='categorical_crossentropy', metrics=['accuracy'])"
   ]
  },
  {
   "cell_type": "code",
   "execution_count": null,
   "id": "D9quLwnN5ZFV",
   "metadata": {
    "colab": {
     "base_uri": "https://localhost:8080/"
    },
    "id": "D9quLwnN5ZFV",
    "outputId": "c40ef977-5772-48e8-bfc1-f8fdf05b7cbd"
   },
   "outputs": [
    {
     "name": "stdout",
     "output_type": "stream",
     "text": [
      "Epoch 1/10\n",
      "9/9 [==============================] - 1s 93ms/step - loss: 1.2977 - accuracy: 0.6571 - val_loss: 1.0146 - val_accuracy: 0.7464\n",
      "Epoch 2/10\n",
      "9/9 [==============================] - 1s 67ms/step - loss: 0.9249 - accuracy: 0.7357 - val_loss: 0.9148 - val_accuracy: 0.7464\n",
      "Epoch 3/10\n",
      "9/9 [==============================] - 1s 68ms/step - loss: 0.8196 - accuracy: 0.7357 - val_loss: 0.8717 - val_accuracy: 0.7464\n",
      "Epoch 4/10\n",
      "9/9 [==============================] - 1s 67ms/step - loss: 0.6721 - accuracy: 0.7357 - val_loss: 0.8924 - val_accuracy: 0.7464\n",
      "Epoch 5/10\n",
      "9/9 [==============================] - 1s 68ms/step - loss: 0.5261 - accuracy: 0.7357 - val_loss: 1.0712 - val_accuracy: 0.7464\n",
      "Epoch 6/10\n",
      "9/9 [==============================] - 1s 67ms/step - loss: 0.4551 - accuracy: 0.7357 - val_loss: 1.2323 - val_accuracy: 0.7464\n",
      "Epoch 7/10\n",
      "9/9 [==============================] - 1s 68ms/step - loss: 0.4321 - accuracy: 0.7464 - val_loss: 1.2937 - val_accuracy: 0.7464\n",
      "Epoch 8/10\n",
      "9/9 [==============================] - 1s 67ms/step - loss: 0.4120 - accuracy: 0.7821 - val_loss: 1.5185 - val_accuracy: 0.7464\n",
      "Epoch 9/10\n",
      "9/9 [==============================] - 1s 66ms/step - loss: 0.3979 - accuracy: 0.8214 - val_loss: 1.5900 - val_accuracy: 0.7391\n",
      "Epoch 10/10\n",
      "9/9 [==============================] - 1s 67ms/step - loss: 0.3491 - accuracy: 0.8750 - val_loss: 1.5420 - val_accuracy: 0.7101\n"
     ]
    },
    {
     "data": {
      "text/plain": [
       "<keras.callbacks.History at 0x7f4c08537b90>"
      ]
     },
     "execution_count": 161,
     "metadata": {},
     "output_type": "execute_result"
    }
   ],
   "source": [
    "model_3.fit(X_train,y_train, epochs=10,validation_data=(X_test,y_test))"
   ]
  },
  {
   "cell_type": "code",
   "execution_count": null,
   "id": "nOrY1hho5DJv",
   "metadata": {
    "colab": {
     "base_uri": "https://localhost:8080/"
    },
    "id": "nOrY1hho5DJv",
    "outputId": "fe5f4440-0dd7-4164-c680-aa6735b718a2"
   },
   "outputs": [
    {
     "name": "stdout",
     "output_type": "stream",
     "text": [
      "              precision    recall  f1-score   support\n",
      "\n",
      "           0       0.75      0.94      0.83       103\n",
      "           1       0.12      0.09      0.11        11\n",
      "           2       0.00      0.00      0.00        10\n",
      "           3       0.00      0.00      0.00        12\n",
      "           4       0.00      0.00      0.00         2\n",
      "\n",
      "    accuracy                           0.71       138\n",
      "   macro avg       0.17      0.21      0.19       138\n",
      "weighted avg       0.57      0.71      0.63       138\n",
      "\n"
     ]
    }
   ],
   "source": [
    "prediction = model_3.predict(X_test)\n",
    "value,classes_pred = tf.math.top_k(prediction, k=1, sorted=True, name=None)\n",
    "classes_actual = y_test.idxmax(axis=1)\n",
    "print(classification_report(classes_actual,classes_pred))"
   ]
  },
  {
   "cell_type": "code",
   "execution_count": null,
   "id": "iJsju13w5c-w",
   "metadata": {
    "colab": {
     "base_uri": "https://localhost:8080/"
    },
    "id": "iJsju13w5c-w",
    "outputId": "d63d9da3-bc7a-41c5-cf0b-57fa73daa3f1"
   },
   "outputs": [
    {
     "data": {
      "text/plain": [
       "array([[97,  6,  0,  0,  0],\n",
       "       [10,  1,  0,  0,  0],\n",
       "       [ 9,  1,  0,  0,  0],\n",
       "       [12,  0,  0,  0,  0],\n",
       "       [ 2,  0,  0,  0,  0]])"
      ]
     },
     "execution_count": 163,
     "metadata": {},
     "output_type": "execute_result"
    }
   ],
   "source": [
    "confusion_matrix(classes_actual,classes_pred)"
   ]
  },
  {
   "cell_type": "code",
   "execution_count": null,
   "id": "q7LqBJmH5hHO",
   "metadata": {
    "colab": {
     "base_uri": "https://localhost:8080/"
    },
    "id": "q7LqBJmH5hHO",
    "outputId": "8c133f70-c0cc-41a7-8cc3-8645018f1641"
   },
   "outputs": [
    {
     "name": "stdout",
     "output_type": "stream",
     "text": [
      "9/9 [==============================] - 0s 12ms/step - loss: 0.2852 - accuracy: 0.8786\n",
      "5/5 [==============================] - 0s 11ms/step - loss: 1.5420 - accuracy: 0.7101\n"
     ]
    }
   ],
   "source": [
    "Train_score = model_3.evaluate(X_train,y_train)\n",
    "Test_score = model_3.evaluate(X_test,y_test)\n",
    "Model_status = Model_status.append({'Data':\"Word2vec - Lemmatized data - with concatenated data\",\"Training_score\":Train_score,\n",
    "                     \"Test_score\":Test_score},ignore_index=True)"
   ]
  },
  {
   "cell_type": "markdown",
   "id": "XowxyNcF51q8",
   "metadata": {
    "id": "XowxyNcF51q8"
   },
   "source": [
    "## 4. Applying Word2vec data in Simple Artificial neural network with few epochs\n",
    "\n",
    "## Data: Word2vec - Lemmatized data - without concatenated data"
   ]
  },
  {
   "cell_type": "code",
   "execution_count": null,
   "id": "1PsFlgiY59yL",
   "metadata": {
    "id": "1PsFlgiY59yL"
   },
   "outputs": [],
   "source": [
    "# word Tokenized to a list \n",
    "data_list3 = []\n",
    "for i in df['Description_lemmatized']:\n",
    "    data_list3.append(nltk.word_tokenize(i))\n",
    "    \n",
    "# List applied in Word2vec \n",
    "w2v3 = Word2Vec(sentences=data_list3,size=100,min_count=1)\n",
    "TK4 = Tokenizer()\n",
    "TK4.fit_on_texts(df['Description_lemmatized'])\n",
    "# max([len(i) for i in TK4.texts_to_sequences(df['Description_lemmatized'])])\n",
    "\n",
    "# w2v vectors generated\n",
    "w2v_vector_l = np.zeros((len(TK4.word_index)+1, 100))\n",
    "\n",
    "for word, i in TK4.word_index.items():\n",
    "  embedding_vector = w2v3.wv.get_vector(word)\n",
    "  if embedding_vector is not None:\n",
    "      w2v_vector_l[i] = embedding_vector\n",
    "\n",
    "# Dataframe converted to a sequence\n",
    "data_4 = TK4.texts_to_sequences(df['Description_lemmatized'])"
   ]
  },
  {
   "cell_type": "code",
   "execution_count": null,
   "id": "vX5h0pGP74KM",
   "metadata": {
    "id": "vX5h0pGP74KM"
   },
   "outputs": [],
   "source": [
    "#Applying Label Encoder to classes/target\n",
    "LE3 = LabelEncoder()\n",
    "classes_actual = LE3.fit_transform(df['Accident Level'])\n",
    "\n",
    "#Padding sequences accordingly and creating target using dummies or to_categorical\n",
    "X = pad_sequences(data_4,maxlen=98)\n",
    "y = pd.get_dummies(classes_actual)\n",
    "\n",
    "#Applying Train test split\n",
    "X_train, X_test, y_train, y_test = train_test_split(X, y, test_size=0.33, random_state=42)"
   ]
  },
  {
   "cell_type": "code",
   "execution_count": null,
   "id": "2HSsAXtL7_Bb",
   "metadata": {
    "id": "2HSsAXtL7_Bb"
   },
   "outputs": [],
   "source": [
    "#Simple ANN architecture\n",
    "model_4 = Sequential()\n",
    "model_4.add(Embedding(input_dim = len(TK4.word_index)+1,output_dim = 100, weights=[w2v_vector_l],input_length = 98))\n",
    "model_4.add(Flatten())\n",
    "model_4.add(Dense(500,activation='relu'))\n",
    "model_4.add(Dropout(0.5))\n",
    "model_4.add(Dense(250,activation='relu'))\n",
    "model_4.add(Dropout(0.5))\n",
    "model_4.add(Dense(120,activation='relu'))\n",
    "model_4.add(Dropout(0.5))\n",
    "model_4.add(Dense(5,activation='softmax'))\n",
    "model_4.compile(optimizer='adam',loss='categorical_crossentropy', metrics=['accuracy'])"
   ]
  },
  {
   "cell_type": "code",
   "execution_count": null,
   "id": "dbOsREJr7_UG",
   "metadata": {
    "colab": {
     "base_uri": "https://localhost:8080/"
    },
    "id": "dbOsREJr7_UG",
    "outputId": "d7c04b24-8553-44fe-d6a1-28a5b7fe00ac"
   },
   "outputs": [
    {
     "name": "stdout",
     "output_type": "stream",
     "text": [
      "Epoch 1/10\n",
      "9/9 [==============================] - 1s 89ms/step - loss: 1.3434 - accuracy: 0.6750 - val_loss: 1.0429 - val_accuracy: 0.7464\n",
      "Epoch 2/10\n",
      "9/9 [==============================] - 1s 65ms/step - loss: 1.0528 - accuracy: 0.7357 - val_loss: 0.9634 - val_accuracy: 0.7464\n",
      "Epoch 3/10\n",
      "9/9 [==============================] - 1s 65ms/step - loss: 0.8244 - accuracy: 0.7357 - val_loss: 0.8999 - val_accuracy: 0.7464\n",
      "Epoch 4/10\n",
      "9/9 [==============================] - 1s 69ms/step - loss: 0.6636 - accuracy: 0.7357 - val_loss: 0.8968 - val_accuracy: 0.7464\n",
      "Epoch 5/10\n",
      "9/9 [==============================] - 1s 68ms/step - loss: 0.4969 - accuracy: 0.7357 - val_loss: 1.1793 - val_accuracy: 0.7464\n",
      "Epoch 6/10\n",
      "9/9 [==============================] - 1s 64ms/step - loss: 0.4491 - accuracy: 0.7357 - val_loss: 1.2310 - val_accuracy: 0.7464\n",
      "Epoch 7/10\n",
      "9/9 [==============================] - 1s 65ms/step - loss: 0.4233 - accuracy: 0.7607 - val_loss: 1.3263 - val_accuracy: 0.7464\n",
      "Epoch 8/10\n",
      "9/9 [==============================] - 1s 67ms/step - loss: 0.4096 - accuracy: 0.8214 - val_loss: 1.4725 - val_accuracy: 0.7391\n",
      "Epoch 9/10\n",
      "9/9 [==============================] - 1s 65ms/step - loss: 0.3858 - accuracy: 0.8536 - val_loss: 1.5459 - val_accuracy: 0.7391\n",
      "Epoch 10/10\n",
      "9/9 [==============================] - 1s 63ms/step - loss: 0.3415 - accuracy: 0.8464 - val_loss: 1.5535 - val_accuracy: 0.7246\n"
     ]
    },
    {
     "data": {
      "text/plain": [
       "<keras.callbacks.History at 0x7f4c03eb4fd0>"
      ]
     },
     "execution_count": 169,
     "metadata": {},
     "output_type": "execute_result"
    }
   ],
   "source": [
    "model_4.fit(X_train,y_train, epochs=10,validation_data=(X_test,y_test))"
   ]
  },
  {
   "cell_type": "code",
   "execution_count": null,
   "id": "iaEm0_O48RL1",
   "metadata": {
    "colab": {
     "base_uri": "https://localhost:8080/"
    },
    "id": "iaEm0_O48RL1",
    "outputId": "2e23b78b-0770-464e-98a5-e722a2d7b7ef"
   },
   "outputs": [
    {
     "name": "stdout",
     "output_type": "stream",
     "text": [
      "              precision    recall  f1-score   support\n",
      "\n",
      "           0       0.76      0.96      0.85       103\n",
      "           1       0.14      0.09      0.11        11\n",
      "           2       0.00      0.00      0.00        10\n",
      "           3       0.00      0.00      0.00        12\n",
      "           4       0.00      0.00      0.00         2\n",
      "\n",
      "    accuracy                           0.72       138\n",
      "   macro avg       0.18      0.21      0.19       138\n",
      "weighted avg       0.58      0.72      0.64       138\n",
      "\n"
     ]
    }
   ],
   "source": [
    "prediction = model_4.predict(X_test)\n",
    "value,classes_pred = tf.math.top_k(prediction, k=1, sorted=True, name=None)\n",
    "classes_actual = y_test.idxmax(axis=1)\n",
    "print(classification_report(classes_actual,classes_pred))"
   ]
  },
  {
   "cell_type": "code",
   "execution_count": null,
   "id": "2mcxKXYD8Ygk",
   "metadata": {
    "colab": {
     "base_uri": "https://localhost:8080/"
    },
    "id": "2mcxKXYD8Ygk",
    "outputId": "ffbf68e3-4a81-4e99-deb8-9ac743bf6648"
   },
   "outputs": [
    {
     "data": {
      "text/plain": [
       "array([[99,  4,  0,  0,  0],\n",
       "       [10,  1,  0,  0,  0],\n",
       "       [ 8,  2,  0,  0,  0],\n",
       "       [12,  0,  0,  0,  0],\n",
       "       [ 2,  0,  0,  0,  0]])"
      ]
     },
     "execution_count": 171,
     "metadata": {},
     "output_type": "execute_result"
    }
   ],
   "source": [
    "confusion_matrix(classes_actual,classes_pred)"
   ]
  },
  {
   "cell_type": "code",
   "execution_count": null,
   "id": "ZxVO4f6c8cC8",
   "metadata": {
    "colab": {
     "base_uri": "https://localhost:8080/"
    },
    "id": "ZxVO4f6c8cC8",
    "outputId": "a58e748e-5ce3-4f25-e065-33044a82e7a5"
   },
   "outputs": [
    {
     "name": "stdout",
     "output_type": "stream",
     "text": [
      "9/9 [==============================] - 0s 11ms/step - loss: 0.2578 - accuracy: 0.9536\n",
      "5/5 [==============================] - 0s 11ms/step - loss: 1.5535 - accuracy: 0.7246\n"
     ]
    }
   ],
   "source": [
    "Train_score = model_4.evaluate(X_train,y_train)\n",
    "Test_score = model_4.evaluate(X_test,y_test)\n",
    "Model_status = Model_status.append({'Data':\"Word2vec - Lemmatized data - without concatenated data\",\"Training_score\":Train_score,\n",
    "                     \"Test_score\":Test_score},ignore_index=True)"
   ]
  },
  {
   "cell_type": "markdown",
   "id": "jzgVGw4nAI3W",
   "metadata": {
    "id": "jzgVGw4nAI3W"
   },
   "source": [
    "## 5. Applying GloVe data in Simple Artificial neural network with few epochs\n",
    "\n",
    "## embedding_matrix_lemmatized - GloVe - Lemmatized data - with concatenation\n",
    "\n",
    "### Preloaded GloVe data in embedding_vectors"
   ]
  },
  {
   "cell_type": "code",
   "execution_count": null,
   "id": "lCws5xgFARBY",
   "metadata": {
    "id": "lCws5xgFARBY"
   },
   "outputs": [],
   "source": [
    "embedding_vectors = {}\n",
    "for i in open(project_path+\"/glove_6B_100d.txt\", encoding=\"utf8\"):\n",
    "    word = i.split(\" \")[0]\n",
    "    embedding = i.split(\" \")[1:]\n",
    "    embedding_vectors[word] = embedding"
   ]
  },
  {
   "cell_type": "code",
   "execution_count": null,
   "id": "_Peu3rcoAhug",
   "metadata": {
    "id": "_Peu3rcoAhug"
   },
   "outputs": [],
   "source": [
    "# word Tokenized to a list \n",
    "data_list4 = []\n",
    "for i in df['Description_1lemmatized']:\n",
    "    data_list4.append(nltk.word_tokenize(i))\n",
    "    \n",
    "# List applied in Word2vec \n",
    "TK5 = Tokenizer()\n",
    "TK5.fit_on_texts(df['Description_1lemmatized'])\n",
    "# max([len(i) for i in TK5.texts_to_sequences(df['Description_1lemmatized'])])\n",
    "\n",
    "# w2v vectors generated\n",
    "GloVe_vector_l_c = np.zeros((len(TK5.word_index)+1, 100))\n",
    "missed_words = []\n",
    "for word, i in TK5.word_index.items():\n",
    "  try:\n",
    "    embedding_vector = embedding_vectors[word]\n",
    "    if embedding_vector is not None:\n",
    "        GloVe_vector_l_c[i] = embedding_vector\n",
    "  except:\n",
    "    missed_words.append(word)\n",
    "\n",
    "# Dataframe converted to a sequence\n",
    "data_5 = TK5.texts_to_sequences(df['Description_1lemmatized'])"
   ]
  },
  {
   "cell_type": "code",
   "execution_count": null,
   "id": "rowWHNHAAhxG",
   "metadata": {
    "colab": {
     "base_uri": "https://localhost:8080/"
    },
    "id": "rowWHNHAAhxG",
    "outputId": "40f20a10-d1ef-4d00-e108-9b6576725512"
   },
   "outputs": [
    {
     "data": {
      "text/plain": [
       "383"
      ]
     },
     "execution_count": 175,
     "metadata": {},
     "output_type": "execute_result"
    }
   ],
   "source": [
    "len(missed_words)\n",
    "\n",
    "#Data/word loss"
   ]
  },
  {
   "cell_type": "code",
   "execution_count": null,
   "id": "5xl6ZYdOAh1B",
   "metadata": {
    "id": "5xl6ZYdOAh1B"
   },
   "outputs": [],
   "source": [
    "#Applying Label Encoder to classes/target\n",
    "LE4 = LabelEncoder()\n",
    "classes_actual = LE4.fit_transform(df['Accident Level'])\n",
    "\n",
    "#Padding sequences accordingly and creating target using dummies or to_categorical\n",
    "X = pad_sequences(data_5,maxlen=102)\n",
    "y = pd.get_dummies(classes_actual)\n",
    "\n",
    "#Applying Train test split\n",
    "X_train, X_test, y_train, y_test = train_test_split(X, y, test_size=0.33, random_state=42)"
   ]
  },
  {
   "cell_type": "code",
   "execution_count": null,
   "id": "smZkRzS4Ah4D",
   "metadata": {
    "id": "smZkRzS4Ah4D"
   },
   "outputs": [],
   "source": [
    "#Simple ANN architecture\n",
    "model_5 = Sequential()\n",
    "model_5.add(Embedding(input_dim = len(TK5.word_index)+1,output_dim = 100, weights=[GloVe_vector_l_c],input_length = 102))\n",
    "model_5.add(Flatten())\n",
    "model_5.add(Dense(500,activation='relu'))\n",
    "model_5.add(Dropout(0.5))\n",
    "model_5.add(Dense(250,activation='relu'))\n",
    "model_5.add(Dropout(0.5))\n",
    "model_5.add(Dense(120,activation='relu'))\n",
    "model_5.add(Dropout(0.5))\n",
    "model_5.add(Dense(5,activation='softmax'))\n",
    "model_5.compile(optimizer='adam',loss='categorical_crossentropy', metrics=['accuracy'])"
   ]
  },
  {
   "cell_type": "code",
   "execution_count": null,
   "id": "jCLqgOGNCisI",
   "metadata": {
    "colab": {
     "base_uri": "https://localhost:8080/"
    },
    "id": "jCLqgOGNCisI",
    "outputId": "b0c126d6-4296-490a-ceee-fca4b046ec29"
   },
   "outputs": [
    {
     "name": "stdout",
     "output_type": "stream",
     "text": [
      "Epoch 1/10\n",
      "9/9 [==============================] - 1s 95ms/step - loss: 1.2525 - accuracy: 0.6857 - val_loss: 0.9446 - val_accuracy: 0.7464\n",
      "Epoch 2/10\n",
      "9/9 [==============================] - 1s 69ms/step - loss: 1.3478 - accuracy: 0.6286 - val_loss: 0.9613 - val_accuracy: 0.7391\n",
      "Epoch 3/10\n",
      "9/9 [==============================] - 1s 66ms/step - loss: 1.1171 - accuracy: 0.6964 - val_loss: 0.9118 - val_accuracy: 0.7464\n",
      "Epoch 4/10\n",
      "9/9 [==============================] - 1s 69ms/step - loss: 1.1604 - accuracy: 0.7071 - val_loss: 0.9584 - val_accuracy: 0.7391\n",
      "Epoch 5/10\n",
      "9/9 [==============================] - 1s 68ms/step - loss: 0.9593 - accuracy: 0.7143 - val_loss: 1.0231 - val_accuracy: 0.7391\n",
      "Epoch 6/10\n",
      "9/9 [==============================] - 1s 68ms/step - loss: 0.9347 - accuracy: 0.7500 - val_loss: 1.0004 - val_accuracy: 0.7319\n",
      "Epoch 7/10\n",
      "9/9 [==============================] - 1s 69ms/step - loss: 0.7815 - accuracy: 0.7393 - val_loss: 1.1951 - val_accuracy: 0.7319\n",
      "Epoch 8/10\n",
      "9/9 [==============================] - 1s 66ms/step - loss: 0.6039 - accuracy: 0.7857 - val_loss: 1.1785 - val_accuracy: 0.7319\n",
      "Epoch 9/10\n",
      "9/9 [==============================] - 1s 69ms/step - loss: 0.5607 - accuracy: 0.8429 - val_loss: 1.3322 - val_accuracy: 0.7319\n",
      "Epoch 10/10\n",
      "9/9 [==============================] - 1s 66ms/step - loss: 0.5270 - accuracy: 0.8571 - val_loss: 1.2088 - val_accuracy: 0.7319\n"
     ]
    },
    {
     "data": {
      "text/plain": [
       "<keras.callbacks.History at 0x7f4c0c141910>"
      ]
     },
     "execution_count": 179,
     "metadata": {},
     "output_type": "execute_result"
    }
   ],
   "source": [
    "model_5.fit(X_train,y_train, epochs=10,validation_data=(X_test,y_test))"
   ]
  },
  {
   "cell_type": "code",
   "execution_count": null,
   "id": "M1JEBO-0DfmT",
   "metadata": {
    "colab": {
     "base_uri": "https://localhost:8080/"
    },
    "id": "M1JEBO-0DfmT",
    "outputId": "d1003642-245c-4486-97d8-da5bd686888a"
   },
   "outputs": [
    {
     "name": "stdout",
     "output_type": "stream",
     "text": [
      "              precision    recall  f1-score   support\n",
      "\n",
      "           0       0.75      0.97      0.84       103\n",
      "           1       0.33      0.09      0.14        11\n",
      "           2       0.00      0.00      0.00        10\n",
      "           3       0.00      0.00      0.00        12\n",
      "           4       0.00      0.00      0.00         2\n",
      "\n",
      "    accuracy                           0.73       138\n",
      "   macro avg       0.22      0.21      0.20       138\n",
      "weighted avg       0.58      0.73      0.64       138\n",
      "\n"
     ]
    }
   ],
   "source": [
    "prediction = model_5.predict(X_test)\n",
    "value,classes_pred = tf.math.top_k(prediction, k=1, sorted=True, name=None)\n",
    "classes_actual = y_test.idxmax(axis=1)\n",
    "print(classification_report(classes_actual,classes_pred))"
   ]
  },
  {
   "cell_type": "code",
   "execution_count": null,
   "id": "6TCddaErDv2Z",
   "metadata": {
    "colab": {
     "base_uri": "https://localhost:8080/"
    },
    "id": "6TCddaErDv2Z",
    "outputId": "bb0df6aa-86da-4e2b-d5cc-6acd783d20c2"
   },
   "outputs": [
    {
     "name": "stdout",
     "output_type": "stream",
     "text": [
      "9/9 [==============================] - 0s 12ms/step - loss: 0.1438 - accuracy: 0.9679\n",
      "5/5 [==============================] - 0s 12ms/step - loss: 1.2088 - accuracy: 0.7319\n"
     ]
    }
   ],
   "source": [
    "Train_score = model_5.evaluate(X_train,y_train)\n",
    "Test_score = model_5.evaluate(X_test,y_test)\n",
    "Model_status = Model_status.append({'Data':\"GloVe - Lemmatized data - with concatenation\",\"Training_score\":Train_score,\n",
    "                     \"Test_score\":Test_score},ignore_index=True)"
   ]
  },
  {
   "cell_type": "markdown",
   "id": "4wz2cyYCD4LQ",
   "metadata": {
    "id": "4wz2cyYCD4LQ"
   },
   "source": [
    "## 6. Applying GloVe data in Simple Artificial neural network with few epochs\n",
    "\n",
    "## embedding_matrix_lemmatized_c - GloVe - Lemmatized data - without concatenation\n",
    "\n",
    "### Preloaded GloVe data in embedding_vectors"
   ]
  },
  {
   "cell_type": "code",
   "execution_count": null,
   "id": "L1QparSJESxE",
   "metadata": {
    "id": "L1QparSJESxE"
   },
   "outputs": [],
   "source": [
    "# word Tokenized to a list \n",
    "data_list5 = []\n",
    "for i in df['Description_lemmatized']:\n",
    "    data_list5.append(nltk.word_tokenize(i))\n",
    "    \n",
    "# List applied in Word2vec \n",
    "TK6 = Tokenizer()\n",
    "TK6.fit_on_texts(df['Description_lemmatized'])\n",
    "# max([len(i) for i in TK6.texts_to_sequences(df['Description_lemmatized'])])\n",
    "\n",
    "# w2v vectors generated\n",
    "GloVe_vector_l = np.zeros((len(TK6.word_index)+1, 100))\n",
    "missed_words = []\n",
    "for word, i in TK6.word_index.items():\n",
    "  try:\n",
    "    embedding_vector = embedding_vectors[word]\n",
    "    if embedding_vector is not None:\n",
    "        GloVe_vector_l[i] = embedding_vector\n",
    "  except:\n",
    "    missed_words.append(word)\n",
    "\n",
    "# Dataframe converted to a sequence\n",
    "data_6 = TK6.texts_to_sequences(df['Description_lemmatized'])"
   ]
  },
  {
   "cell_type": "code",
   "execution_count": null,
   "id": "DSoehzrkEo2F",
   "metadata": {
    "colab": {
     "base_uri": "https://localhost:8080/"
    },
    "id": "DSoehzrkEo2F",
    "outputId": "619f17f4-2782-4c9b-def2-9e651dd0b646"
   },
   "outputs": [
    {
     "data": {
      "text/plain": [
       "380"
      ]
     },
     "execution_count": 183,
     "metadata": {},
     "output_type": "execute_result"
    }
   ],
   "source": [
    "len(missed_words)\n",
    "\n",
    "#Data/word loss"
   ]
  },
  {
   "cell_type": "code",
   "execution_count": null,
   "id": "hgehnmWyEsmv",
   "metadata": {
    "id": "hgehnmWyEsmv"
   },
   "outputs": [],
   "source": [
    "#Applying Label Encoder to classes/target\n",
    "LE5 = LabelEncoder()\n",
    "classes_actual = LE5.fit_transform(df['Accident Level'])\n",
    "\n",
    "#Padding sequences accordingly and creating target using dummies or to_categorical\n",
    "X = pad_sequences(data_6,maxlen=102)\n",
    "y = pd.get_dummies(classes_actual)\n",
    "\n",
    "#Applying Train test split\n",
    "X_train, X_test, y_train, y_test = train_test_split(X, y, test_size=0.33, random_state=42)"
   ]
  },
  {
   "cell_type": "code",
   "execution_count": null,
   "id": "Uwn5Fp8VE234",
   "metadata": {
    "id": "Uwn5Fp8VE234"
   },
   "outputs": [],
   "source": [
    "#Simple ANN architecture\n",
    "model_6 = Sequential()\n",
    "model_6.add(Embedding(input_dim = len(TK6.word_index)+1,output_dim = 100, weights=[GloVe_vector_l],input_length = 102))\n",
    "model_6.add(Flatten())\n",
    "model_6.add(Dense(500,activation='relu'))\n",
    "model_6.add(Dropout(0.5))\n",
    "model_6.add(Dense(250,activation='relu'))\n",
    "model_6.add(Dropout(0.5))\n",
    "model_6.add(Dense(120,activation='relu'))\n",
    "model_6.add(Dropout(0.5))\n",
    "model_6.add(Dense(5,activation='softmax'))\n",
    "model_6.compile(optimizer='adam',loss='categorical_crossentropy', metrics=['accuracy'])\n",
    "\n",
    "#Use weight initializer - batch normalization - 2 hidden layer - Try RNN, LSTM, BERT, Bidirectional LSTM, XLnet"
   ]
  },
  {
   "cell_type": "code",
   "execution_count": null,
   "id": "bxK6c3RZE3QC",
   "metadata": {
    "colab": {
     "base_uri": "https://localhost:8080/"
    },
    "id": "bxK6c3RZE3QC",
    "outputId": "a9cbe9be-af03-40e4-cbc1-a428f8c73cfd"
   },
   "outputs": [
    {
     "name": "stdout",
     "output_type": "stream",
     "text": [
      "Epoch 1/10\n",
      "9/9 [==============================] - 1s 89ms/step - loss: 1.3302 - accuracy: 0.6250 - val_loss: 0.9478 - val_accuracy: 0.7464\n",
      "Epoch 2/10\n",
      "9/9 [==============================] - 1s 67ms/step - loss: 1.3213 - accuracy: 0.6571 - val_loss: 0.9919 - val_accuracy: 0.7464\n",
      "Epoch 3/10\n",
      "9/9 [==============================] - 1s 68ms/step - loss: 1.2492 - accuracy: 0.7143 - val_loss: 0.9581 - val_accuracy: 0.7464\n",
      "Epoch 4/10\n",
      "9/9 [==============================] - 1s 66ms/step - loss: 1.1290 - accuracy: 0.6857 - val_loss: 0.9582 - val_accuracy: 0.7464\n",
      "Epoch 5/10\n",
      "9/9 [==============================] - 1s 67ms/step - loss: 1.0194 - accuracy: 0.7250 - val_loss: 0.9047 - val_accuracy: 0.7464\n",
      "Epoch 6/10\n",
      "9/9 [==============================] - 1s 67ms/step - loss: 0.8773 - accuracy: 0.7321 - val_loss: 0.9165 - val_accuracy: 0.7391\n",
      "Epoch 7/10\n",
      "9/9 [==============================] - 1s 69ms/step - loss: 0.7347 - accuracy: 0.7393 - val_loss: 0.9235 - val_accuracy: 0.7391\n",
      "Epoch 8/10\n",
      "9/9 [==============================] - 1s 66ms/step - loss: 0.7760 - accuracy: 0.7750 - val_loss: 0.9671 - val_accuracy: 0.7319\n",
      "Epoch 9/10\n",
      "9/9 [==============================] - 1s 66ms/step - loss: 0.5178 - accuracy: 0.8000 - val_loss: 1.0023 - val_accuracy: 0.7319\n",
      "Epoch 10/10\n",
      "9/9 [==============================] - 1s 65ms/step - loss: 0.5350 - accuracy: 0.8214 - val_loss: 1.0964 - val_accuracy: 0.7391\n"
     ]
    },
    {
     "data": {
      "text/plain": [
       "<keras.callbacks.History at 0x7f4c089c7a10>"
      ]
     },
     "execution_count": 188,
     "metadata": {},
     "output_type": "execute_result"
    }
   ],
   "source": [
    "model_6.fit(X_train,y_train, epochs=10,validation_data=(X_test,y_test))"
   ]
  },
  {
   "cell_type": "code",
   "execution_count": null,
   "id": "J1HmaeXCFIEu",
   "metadata": {
    "colab": {
     "base_uri": "https://localhost:8080/"
    },
    "id": "J1HmaeXCFIEu",
    "outputId": "1a370ca4-6148-48b9-8410-794b31a2ffea"
   },
   "outputs": [
    {
     "name": "stdout",
     "output_type": "stream",
     "text": [
      "              precision    recall  f1-score   support\n",
      "\n",
      "           0       0.76      0.97      0.85       103\n",
      "           1       0.00      0.00      0.00        11\n",
      "           2       0.40      0.20      0.27        10\n",
      "           3       0.00      0.00      0.00        12\n",
      "           4       0.00      0.00      0.00         2\n",
      "\n",
      "    accuracy                           0.74       138\n",
      "   macro avg       0.23      0.23      0.22       138\n",
      "weighted avg       0.59      0.74      0.65       138\n",
      "\n"
     ]
    }
   ],
   "source": [
    "prediction = model_6.predict(X_test)\n",
    "value,classes_pred = tf.math.top_k(prediction, k=1, sorted=True, name=None)\n",
    "classes_actual = y_test.idxmax(axis=1)\n",
    "print(classification_report(classes_actual,classes_pred))"
   ]
  },
  {
   "cell_type": "code",
   "execution_count": null,
   "id": "p0F7S7k8FVFa",
   "metadata": {
    "colab": {
     "base_uri": "https://localhost:8080/"
    },
    "id": "p0F7S7k8FVFa",
    "outputId": "1570a5c6-f148-4a75-9248-a7fe3888d64e"
   },
   "outputs": [
    {
     "name": "stdout",
     "output_type": "stream",
     "text": [
      "9/9 [==============================] - 0s 12ms/step - loss: 0.1941 - accuracy: 0.9464\n",
      "5/5 [==============================] - 0s 11ms/step - loss: 1.0964 - accuracy: 0.7391\n"
     ]
    }
   ],
   "source": [
    "Train_score = model_6.evaluate(X_train,y_train)\n",
    "Test_score = model_6.evaluate(X_test,y_test)\n",
    "Model_status = Model_status.append({'Data':\"GloVe - Lemmatized data - without concatenation\",\"Training_score\":Train_score,\n",
    "                     \"Test_score\":Test_score},ignore_index=True)"
   ]
  },
  {
   "cell_type": "code",
   "execution_count": null,
   "id": "idkSxUjzDy7K",
   "metadata": {
    "colab": {
     "base_uri": "https://localhost:8080/"
    },
    "id": "idkSxUjzDy7K",
    "outputId": "30cdbc90-e4e5-423d-bbaf-d2f0c39bd0c2"
   },
   "outputs": [
    {
     "data": {
      "text/plain": [
       "['Naive BayesNaive BayesNaive BayesNaive BayesNaive BayesNaive Bayes',\n",
       " 'Random Forest ClassifierRandom Forest ClassifierRandom Forest ClassifierRandom Forest ClassifierRandom Forest ClassifierRandom Forest Classifier']"
      ]
     },
     "execution_count": 192,
     "metadata": {},
     "output_type": "execute_result"
    }
   ],
   "source": [
    "['Naive Bayes'*6,\"Random Forest Classifier\"*6]"
   ]
  },
  {
   "cell_type": "code",
   "execution_count": null,
   "id": "yAH2SbSu-wt6",
   "metadata": {
    "id": "yAH2SbSu-wt6"
   },
   "outputs": [],
   "source": [
    "# Model_status['Algorithm'] = ['Naive Bayes','Naive Bayes','Naive Bayes','Naive Bayes','Naive Bayes','Naive Bayes','Naive Bayes','Naive Bayes',\n",
    "#                              \"Random Forest Classifier\",\"Random Forest Classifier\",\"Random Forest Classifier\",\"Random Forest Classifier\"\n",
    "#                              ,\"Random Forest Classifier\",\"Random Forest Classifier\",\"Random Forest Classifier\",\"Random Forest Classifier\",\"Artificial Neural Network\",\"Artificial Neural Network\"\n",
    "#                              ,\"Artificial Neural Network\",\"Artificial Neural Network\",\"Artificial Neural Network\",\"Artificial Neural Network\"]"
   ]
  },
  {
   "cell_type": "code",
   "execution_count": null,
   "id": "TCKGVxs_EQAR",
   "metadata": {
    "colab": {
     "base_uri": "https://localhost:8080/",
     "height": 1000
    },
    "id": "TCKGVxs_EQAR",
    "outputId": "ea050504-d30a-45c4-d4a5-a0801ad734ae"
   },
   "outputs": [
    {
     "data": {
      "text/html": [
       "<div>\n",
       "<style scoped>\n",
       "    .dataframe tbody tr th:only-of-type {\n",
       "        vertical-align: middle;\n",
       "    }\n",
       "\n",
       "    .dataframe tbody tr th {\n",
       "        vertical-align: top;\n",
       "    }\n",
       "\n",
       "    .dataframe thead th {\n",
       "        text-align: right;\n",
       "    }\n",
       "</style>\n",
       "<table border=\"1\" class=\"dataframe\">\n",
       "  <thead>\n",
       "    <tr style=\"text-align: right;\">\n",
       "      <th></th>\n",
       "      <th>Data</th>\n",
       "      <th>Training_score</th>\n",
       "      <th>Test_score</th>\n",
       "      <th>Algorithm</th>\n",
       "    </tr>\n",
       "  </thead>\n",
       "  <tbody>\n",
       "    <tr>\n",
       "      <th>0</th>\n",
       "      <td>Count vectorizer - Description concatenated - ...</td>\n",
       "      <td>0.792857</td>\n",
       "      <td>0.731884</td>\n",
       "      <td>Naive Bayes</td>\n",
       "    </tr>\n",
       "    <tr>\n",
       "      <th>1</th>\n",
       "      <td>Count vectorizer - Description without concate...</td>\n",
       "      <td>0.796429</td>\n",
       "      <td>0.746377</td>\n",
       "      <td>Naive Bayes</td>\n",
       "    </tr>\n",
       "    <tr>\n",
       "      <th>2</th>\n",
       "      <td>TFIDF vectorizer - Stemmed data- without conca...</td>\n",
       "      <td>0.735714</td>\n",
       "      <td>0.746377</td>\n",
       "      <td>Naive Bayes</td>\n",
       "    </tr>\n",
       "    <tr>\n",
       "      <th>3</th>\n",
       "      <td>TFIDF vectorizer - Stemmed data - with concate...</td>\n",
       "      <td>0.735714</td>\n",
       "      <td>0.746377</td>\n",
       "      <td>Naive Bayes</td>\n",
       "    </tr>\n",
       "    <tr>\n",
       "      <th>4</th>\n",
       "      <td>Count vectorizer - Lemmatized data - with conc...</td>\n",
       "      <td>0.789286</td>\n",
       "      <td>0.746377</td>\n",
       "      <td>Naive Bayes</td>\n",
       "    </tr>\n",
       "    <tr>\n",
       "      <th>5</th>\n",
       "      <td>TFIDF vectorizer - Lemmatized data- with conca...</td>\n",
       "      <td>0.735714</td>\n",
       "      <td>0.746377</td>\n",
       "      <td>Naive Bayes</td>\n",
       "    </tr>\n",
       "    <tr>\n",
       "      <th>6</th>\n",
       "      <td>Count vectorizer - Lemmatized data - without c...</td>\n",
       "      <td>0.789286</td>\n",
       "      <td>0.746377</td>\n",
       "      <td>Naive Bayes</td>\n",
       "    </tr>\n",
       "    <tr>\n",
       "      <th>7</th>\n",
       "      <td>TFIDF vectorizer - Lemmatized data- without co...</td>\n",
       "      <td>0.735714</td>\n",
       "      <td>0.746377</td>\n",
       "      <td>Naive Bayes</td>\n",
       "    </tr>\n",
       "    <tr>\n",
       "      <th>8</th>\n",
       "      <td>Count vectorizer - Description concatenated - ...</td>\n",
       "      <td>0.739286</td>\n",
       "      <td>0.746377</td>\n",
       "      <td>Random Forest Classifier</td>\n",
       "    </tr>\n",
       "    <tr>\n",
       "      <th>9</th>\n",
       "      <td>Count vectorizer - Description without concate...</td>\n",
       "      <td>0.735714</td>\n",
       "      <td>0.746377</td>\n",
       "      <td>Random Forest Classifier</td>\n",
       "    </tr>\n",
       "    <tr>\n",
       "      <th>10</th>\n",
       "      <td>TFIDF vectorizer - Stemmed data- without conca...</td>\n",
       "      <td>0.735714</td>\n",
       "      <td>0.746377</td>\n",
       "      <td>Random Forest Classifier</td>\n",
       "    </tr>\n",
       "    <tr>\n",
       "      <th>11</th>\n",
       "      <td>TFIDF vectorizer - Stemmed data - with concate...</td>\n",
       "      <td>0.735714</td>\n",
       "      <td>0.746377</td>\n",
       "      <td>Random Forest Classifier</td>\n",
       "    </tr>\n",
       "    <tr>\n",
       "      <th>12</th>\n",
       "      <td>Count vectorizer - Lemmatized data - with conc...</td>\n",
       "      <td>0.735714</td>\n",
       "      <td>0.746377</td>\n",
       "      <td>Random Forest Classifier</td>\n",
       "    </tr>\n",
       "    <tr>\n",
       "      <th>13</th>\n",
       "      <td>TFIDF vectorizer - Lemmatized data- with conca...</td>\n",
       "      <td>0.735714</td>\n",
       "      <td>0.746377</td>\n",
       "      <td>Random Forest Classifier</td>\n",
       "    </tr>\n",
       "    <tr>\n",
       "      <th>14</th>\n",
       "      <td>Count vectorizer - Lemmatized data - without c...</td>\n",
       "      <td>0.735714</td>\n",
       "      <td>0.746377</td>\n",
       "      <td>Random Forest Classifier</td>\n",
       "    </tr>\n",
       "    <tr>\n",
       "      <th>15</th>\n",
       "      <td>TFIDF vectorizer - Lemmatized data- without co...</td>\n",
       "      <td>0.735714</td>\n",
       "      <td>0.746377</td>\n",
       "      <td>Random Forest Classifier</td>\n",
       "    </tr>\n",
       "    <tr>\n",
       "      <th>16</th>\n",
       "      <td>Word2vec - Stemmed data - with concatenated data</td>\n",
       "      <td>[0.27013424038887024, 0.9428571462631226]</td>\n",
       "      <td>[1.5128676891326904, 0.7318840622901917]</td>\n",
       "      <td>Artificial Neural Network</td>\n",
       "    </tr>\n",
       "    <tr>\n",
       "      <th>17</th>\n",
       "      <td>w2v1 - Word2vec - Stemmed data - without conca...</td>\n",
       "      <td>[0.26470065116882324, 0.9071428775787354]</td>\n",
       "      <td>[1.592650294303894, 0.6884058117866516]</td>\n",
       "      <td>Artificial Neural Network</td>\n",
       "    </tr>\n",
       "    <tr>\n",
       "      <th>18</th>\n",
       "      <td>Word2vec - Lemmatized data - with concatenated...</td>\n",
       "      <td>[0.28519952297210693, 0.8785714507102966]</td>\n",
       "      <td>[1.5419646501541138, 0.7101449370384216]</td>\n",
       "      <td>Artificial Neural Network</td>\n",
       "    </tr>\n",
       "    <tr>\n",
       "      <th>19</th>\n",
       "      <td>Word2vec - Lemmatized data - without concatena...</td>\n",
       "      <td>[0.25777921080589294, 0.9535714387893677]</td>\n",
       "      <td>[1.553534746170044, 0.7246376872062683]</td>\n",
       "      <td>Artificial Neural Network</td>\n",
       "    </tr>\n",
       "    <tr>\n",
       "      <th>20</th>\n",
       "      <td>GloVe - Lemmatized data - with concatenation</td>\n",
       "      <td>[0.1438177227973938, 0.9678571224212646]</td>\n",
       "      <td>[1.2088185548782349, 0.7318840622901917]</td>\n",
       "      <td>Artificial Neural Network</td>\n",
       "    </tr>\n",
       "    <tr>\n",
       "      <th>21</th>\n",
       "      <td>GloVe - Lemmatized data - without concatenation</td>\n",
       "      <td>[0.19408515095710754, 0.9464285969734192]</td>\n",
       "      <td>[1.0964033603668213, 0.739130437374115]</td>\n",
       "      <td>Artificial Neural Network</td>\n",
       "    </tr>\n",
       "  </tbody>\n",
       "</table>\n",
       "</div>"
      ],
      "text/plain": [
       "                                                 Data  ...                  Algorithm\n",
       "0   Count vectorizer - Description concatenated - ...  ...                Naive Bayes\n",
       "1   Count vectorizer - Description without concate...  ...                Naive Bayes\n",
       "2   TFIDF vectorizer - Stemmed data- without conca...  ...                Naive Bayes\n",
       "3   TFIDF vectorizer - Stemmed data - with concate...  ...                Naive Bayes\n",
       "4   Count vectorizer - Lemmatized data - with conc...  ...                Naive Bayes\n",
       "5   TFIDF vectorizer - Lemmatized data- with conca...  ...                Naive Bayes\n",
       "6   Count vectorizer - Lemmatized data - without c...  ...                Naive Bayes\n",
       "7   TFIDF vectorizer - Lemmatized data- without co...  ...                Naive Bayes\n",
       "8   Count vectorizer - Description concatenated - ...  ...   Random Forest Classifier\n",
       "9   Count vectorizer - Description without concate...  ...   Random Forest Classifier\n",
       "10  TFIDF vectorizer - Stemmed data- without conca...  ...   Random Forest Classifier\n",
       "11  TFIDF vectorizer - Stemmed data - with concate...  ...   Random Forest Classifier\n",
       "12  Count vectorizer - Lemmatized data - with conc...  ...   Random Forest Classifier\n",
       "13  TFIDF vectorizer - Lemmatized data- with conca...  ...   Random Forest Classifier\n",
       "14  Count vectorizer - Lemmatized data - without c...  ...   Random Forest Classifier\n",
       "15  TFIDF vectorizer - Lemmatized data- without co...  ...   Random Forest Classifier\n",
       "16   Word2vec - Stemmed data - with concatenated data  ...  Artificial Neural Network\n",
       "17  w2v1 - Word2vec - Stemmed data - without conca...  ...  Artificial Neural Network\n",
       "18  Word2vec - Lemmatized data - with concatenated...  ...  Artificial Neural Network\n",
       "19  Word2vec - Lemmatized data - without concatena...  ...  Artificial Neural Network\n",
       "20       GloVe - Lemmatized data - with concatenation  ...  Artificial Neural Network\n",
       "21    GloVe - Lemmatized data - without concatenation  ...  Artificial Neural Network\n",
       "\n",
       "[22 rows x 4 columns]"
      ]
     },
     "execution_count": 196,
     "metadata": {},
     "output_type": "execute_result"
    }
   ],
   "source": [
    "Model_status"
   ]
  },
  {
   "cell_type": "markdown",
   "id": "nd0w2lXPGn3P",
   "metadata": {
    "id": "nd0w2lXPGn3P"
   },
   "source": [
    "# **Inference** :\n",
    "\n",
    "### 1. We have applied the ANN model for all the data that we derived from Lemmatization and Stemming using Word2vec and GloVe.\n",
    "\n",
    "### 2. We totally have 6 datasets so we have 6 ANN models with 3 hidden layers and Dropout, all the models support only in prediction of Accident level I as it contains 309 data out of 425 rows ie 73.92% of data.\n",
    "\n",
    "### 3. The class/target imbalance is affecting the model's performance. The Accident level I contains 59% of data so that model fits only to Accident level I and not the others with less data\n",
    "\n",
    "### 4. There were totally 22 models using Count vectorizer, TF-IDF, Word2Vec, GloVe. We notice that all these models performed bad despite having their hyperparameters tuned."
   ]
  },
  {
   "cell_type": "markdown",
   "id": "IssMFZ-UIRbZ",
   "metadata": {
    "id": "IssMFZ-UIRbZ"
   },
   "source": [
    "![image.png](data:image/png;base64,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)"
   ]
  },
  {
   "cell_type": "markdown",
   "id": "hlrTqwn6Jy-x",
   "metadata": {
    "id": "hlrTqwn6Jy-x"
   },
   "source": [
    "\n",
    "## The solution to get a better model is:\n",
    "\n",
    "* Apply Data Augmentation techiniques to balance the classes 2,3,4 & 5. This will help the model to learn better and reduces bias towards class I.\n",
    "\n",
    "* Instead of Artificial Neural Networks or other ML algorithms we will try RNN, LSTM, Bidirectional LSTM, BERT, XLNet & GRU as these support Sequential data, the input we have here will be a description that has sequential data.\n",
    "\n",
    "* We have 6 different Sequential Neural Network algorithms. We will work on all the 6 models using Word2Vec and GloVe data to come up with best model using hyperparameter tuning in another 3 weeks time.\n",
    "\n",
    "\n",
    "# End of Milestone1"
   ]
  },
  {
   "cell_type": "markdown",
   "id": "PdPveoa6tlaS",
   "metadata": {
    "id": "PdPveoa6tlaS"
   },
   "source": [
    "# Milestone 2: [Duration: 2 weeks, Score: 20 points]\n",
    "# Milestone 3: [Duration: 2 weeks, Score: 60 points]\n",
    "\n",
    "## 1. Now that we were unable to get a good result on CV, TF-IDF, Word2Vec and GloVe on ML models & ANN, we will take another approach to get a good result. In the next approach we will not use CV & TF-IDF as they do not maintain the semantics. The datasets that we will use are \n",
    "  * GloVe_lemmatized_With_concatenation\n",
    "  * GloVe_lemmatized_Without_concatenation\n",
    "  * Word2Vec_Lemmatized_With_concatenation\n",
    "  * Word2Vec_Lemmatized_Without_concatenation\n",
    "  * Word2Vec_Stemmed_With_concatenation\n",
    "  * Word2Vec_Stemmed_Without_concatenation\n",
    "\n",
    "\n",
    "## 2. We will focus on using only **Sequential models** going forward for our problem. Sequential models maintains internal memory and hold them till the context changes, due to this they are very efficient for machine learning problems that involve sequential data. All the sentences that is written or created always contain sequence to it.\n",
    "  * RNN\n",
    "  * LSTM (Bi-Directional)\n",
    "  * BERT\n",
    "  * GRU (Bi-Directional)\n",
    "  * XLNet\n",
    "\n",
    "## 3. Next up will be Target balancing, even with a sequence model we will not be able to achieve a good result on all the accident levels. In order to balance the classes we will use few NLP Augmentation techniques as show below:\n",
    "  * NLPAug Swap character randomly\n",
    "  * NLPAug Random Word Swap Augmentation\n",
    "  * NLPAug Back translation Augmentation\n",
    "\n",
    "\n",
    "## Word2Vec objects: \n",
    "* w2v - Description_withconcat_stemmed_word2vec\n",
    "* w2v1 - Description_withoutconcat_stemmed_word2vec\n",
    "* w2v_l1 - Description_withconcat_lemmatized_word2vec\n",
    "* w2v_l2 - Description_withoutconcat_lemmatized_word2vec\n",
    "\n",
    "## GloVe Dictionary : \n",
    "* embedding_matrix_lemmatized - Description_withconcat_lemmatized_GloVe\n",
    "* embedding_matrix_lemmatized_c - Description_withoutconcat_lemmatized_GloVe  \n"
   ]
  },
  {
   "cell_type": "code",
   "execution_count": null,
   "id": "bYF08uNxZyFl",
   "metadata": {
    "id": "bYF08uNxZyFl"
   },
   "outputs": [],
   "source": [
    "df = pd.read_csv(project_path+\"/updated_df.csv\")\n",
    "#Loading the saved dataset"
   ]
  },
  {
   "cell_type": "code",
   "execution_count": null,
   "id": "5x8-X_BhSLjR",
   "metadata": {
    "colab": {
     "base_uri": "https://localhost:8080/"
    },
    "id": "5x8-X_BhSLjR",
    "outputId": "761c4b22-7295-4eb3-f2d5-da4728ec11d9"
   },
   "outputs": [
    {
     "data": {
      "text/plain": [
       "I      309\n",
       "II      40\n",
       "III     31\n",
       "IV      30\n",
       "V        8\n",
       "Name: Accident Level, dtype: int64"
      ]
     },
     "execution_count": 5,
     "metadata": {},
     "output_type": "execute_result"
    }
   ],
   "source": [
    "df['Accident Level'].value_counts()\n",
    "\n",
    "#Augmentation is required for Class 2,3,4 & 5\n",
    "#Class II,III,IV &V  - atleast 200 documents"
   ]
  },
  {
   "cell_type": "markdown",
   "id": "dkd3wyqHKEGw",
   "metadata": {
    "id": "dkd3wyqHKEGw"
   },
   "source": [
    "# **NLP Augmentation Techniques:**\n",
    "\n",
    "1. The dataset is heavily imbalanced which requires one to balance out the class V,IV,III,II to have a better and unbiased prediction. In order balance the minority classes we will need a technique that can synthetically generate additional data using existing data.\n",
    "\n",
    "2. This is achieved using NLP Augmentation techniques. We have many options here but we will have to work on choosing the right one to get the better result.\n",
    "\n",
    "3. Some of the techniques are :\n",
    "  * NLP Character Augmenter - OCR, Keyboard, Random\n",
    "  * NLP Word Augmenter - Spelling, Word Embeddings,  TF-IDF,  Contextual Word Embeddings, Synonym, Antonym, Random Word, Split, Back Translation,   Reserved Word\n",
    "  * NLP Sentence Augmenter : Contextual Word Embeddings for Sentence,     Abstractive Summarization\n",
    "\n",
    "4. The best techniques are back translation and Contextual Word Embedding but unfortunately running these 2 techniques require a lot of Memory to create Augmentation. It is not possible to create a **bert-base-uncased** or **xlnet-base-uncased** contextual embedding. These models make use of a pretrained models data to producec the augmented data which cannot be achieved without any hardware accelarators. Hence, we drop these 2 techniques\n",
    "\n",
    "5. The next best techniques are Random Word swap or Synonm Augmenters. We will make use of these methods to generate augmented text and balance the dataset as it does not require special Hardware accelarators.\n",
    "\n",
    "6. FYI : Google Colab comes with GPU options and very limited memory which gets overloaded while trying out Contextual word embedding and Back translation techniques and the kernel gets killed and restarted.\n",
    "\n",
    "\n",
    "\n"
   ]
  },
  {
   "cell_type": "markdown",
   "id": "GJoz1HTxbSDk",
   "metadata": {
    "id": "GJoz1HTxbSDk"
   },
   "source": [
    "## Example of Random Word Swap Augmenter"
   ]
  },
  {
   "cell_type": "code",
   "execution_count": null,
   "id": "kUAVedrmGske",
   "metadata": {
    "colab": {
     "base_uri": "https://localhost:8080/"
    },
    "id": "kUAVedrmGske",
    "outputId": "8f171a6b-b379-48d1-8a4b-b928ed421184"
   },
   "outputs": [
    {
     "name": "stdout",
     "output_type": "stream",
     "text": [
      "['The quick brown fox jumps the over lazy dog.', 'The brown quick jumps fox over the dog lazy.', 'The brown quick fox jumps over dog the lazy.', 'Quick brown the fox jumps over the dog lazy.', 'Quick the brown fox over jumps lazy the dog.', 'Quick the fox brown over jumps the lazy dog.', 'Quick brown the jumps fox over the lazy dog.']\n"
     ]
    }
   ],
   "source": [
    "texts = 'The quick brown fox jumps over the lazy dog .'\n",
    "aug = naf.Sequential([\n",
    "    naw.RandomWordAug(action='swap')\n",
    "])\n",
    "\n",
    "augmented_text = aug.augment(texts, n=7)\n",
    "print(augmented_text)\n",
    "#Example of Random word augmentation"
   ]
  },
  {
   "cell_type": "markdown",
   "id": "CHvaLyjbbav3",
   "metadata": {
    "id": "CHvaLyjbbav3"
   },
   "source": [
    "## Example of Synonm Augmenter"
   ]
  },
  {
   "cell_type": "code",
   "execution_count": null,
   "id": "zyEoN0FJbnQI",
   "metadata": {
    "colab": {
     "base_uri": "https://localhost:8080/"
    },
    "id": "zyEoN0FJbnQI",
    "outputId": "e68ad797-893a-486d-eb72-8acae9becd3c"
   },
   "outputs": [
    {
     "name": "stdout",
     "output_type": "stream",
     "text": [
      "['The ready brownness fox jump over the lazy dog.', 'The quick john brown fox jumps over the slothful hotdog.', 'The straightaway brown fox jumps over the slothful blackguard.']\n"
     ]
    }
   ],
   "source": [
    "texts = 'The quick brown fox jumps over the lazy dog .'\n",
    "aug = naf.Sequential([\n",
    "    naw.SynonymAug(aug_src='wordnet')\n",
    "])\n",
    "\n",
    "augmented_text = aug.augment(texts, n=3)\n",
    "print(augmented_text)"
   ]
  },
  {
   "cell_type": "markdown",
   "id": "hR77xQ-7iUS6",
   "metadata": {
    "id": "hR77xQ-7iUS6"
   },
   "source": [
    "## Example of Contextual Word Embeddings for Sentence Augmenter - XLnet model - Time consuming"
   ]
  },
  {
   "cell_type": "code",
   "execution_count": null,
   "id": "sTCUSYMleFhH",
   "metadata": {
    "id": "sTCUSYMleFhH"
   },
   "outputs": [],
   "source": [
    "texts = 'The quick brown fox jumps over the lazy dog .'\n",
    "aug = nas.ContextualWordEmbsForSentenceAug(model_path='xlnet-base-cased')\n",
    "augmented_texts = aug.augment(texts, n=3)\n",
    "print(\"Original:\")\n",
    "print(texts)\n",
    "print(\"Augmented Texts:\")\n",
    "print(augmented_texts)"
   ]
  },
  {
   "cell_type": "markdown",
   "id": "n2q_eUVZDxt7",
   "metadata": {
    "id": "n2q_eUVZDxt7"
   },
   "source": [
    "## Example of Contextual Word Embeddings for Sentence Augmenter - BERT model - Time consuming"
   ]
  },
  {
   "cell_type": "code",
   "execution_count": null,
   "id": "w20beiN7DksL",
   "metadata": {
    "colab": {
     "base_uri": "https://localhost:8080/",
     "height": 250,
     "referenced_widgets": [
      "bc22663963b5443487cf631d373c7bf6",
      "f969e24f9f3e4b98953ac67d80972f39",
      "1bdc3cc8ac03489e8ab292c8aff427e7",
      "23a1dff97ec74f83b22dd5d6a057664c",
      "af8c4b4b24354ff181d58b685e059927",
      "014d99f675b4462190ceec354f09e38b",
      "3f3c0f26ee604408b2b5c45659a90ec8",
      "2830a2d9ba3d4aaeaba8b626a063f4d2",
      "ac32f36a875642668d5b28211df2a854",
      "88b1febfb0d24bd59f1a0242686126bc",
      "4cdd4d46ed01424cbf137edfba4c5748",
      "f13aa12fbb5e4dd69364e6f5c174e665",
      "1b349260cc0346f98a525b1e7eae2350",
      "30489b8f130443d195795904a95b8bf4",
      "88b38251d3a24f9c959fcbaa866bb205",
      "c216fcbfb6ec4b2aae867f5fce1e5384",
      "0f36f1a06cc2496b8aaea2aa6aed4b6f",
      "54d959ddd43d415482dc10717e1102ea",
      "a000b6d2f3a847afa40dbe496556be79",
      "4be82e459d2441069a057b0d222495a1",
      "3f4d23eadf704659af44bd6102ab68b1",
      "d15100da693b4269b195048fcd190b2c",
      "ae07bedbfdee4f5f899f315b6bab9785",
      "6f681ddb8eb84fde8e2bdbee3ccc2483",
      "0cc3cc28b9f64bb19bc50891283dd820",
      "c072137e87c84a25a263b12a579a64f5",
      "9ef15dd59ae34bb9bd3c6c8f550b3dbe",
      "bc2bb5006eb648f5a39b81f48a64bc5a",
      "e63d1dd528f94656a17674cca7be76b0",
      "3173a28e578d4c878f3d1d16ee86e21c",
      "8ed5de280b364432ada3538dc4ee2d9c",
      "9b80103e4d254f918febfecb087a91fd",
      "f5c5a43def514cbc854d322f1004e11a",
      "263d48feb369475ea1f3e2eb2adae5f2",
      "06ce67a253f340c9a82ebc60087a69f3",
      "29fc5053765348c89f4c575d82013f3b",
      "bd9b9d576a504fee915f6192c1ebd5dd",
      "157cef0ab7cb4e5bb1335bead3304e96",
      "98c550303e6b4141932b6186e0237870",
      "3964a5dadde449ab8c44ec62a4339991",
      "f3edd89ce46b45149d887bf55efb6304",
      "baa629b662a941ec9be4faebc5850b30",
      "0c6baa969f884b16a33b2dd2d46ff191",
      "a34678b3a198491b8d8ea84877a7c336",
      "b50fb6d5fa2d44d0acb749914ed4d9dd",
      "e5133e1df0ba4780a8ea477fa998d75e",
      "ed1c4bff44a14efd95886da1893887db",
      "c510cb1931a7401bb6862c25b7e39890",
      "95affe54d87c4d489b1e779bb7116684",
      "866330e251354933a702df58fe382fad",
      "3edf448bd27742e59ec59e24594ecc0f",
      "3cbe7f7723ac494f9d3163d7e814b186",
      "a6e94a30484c4843957d89c699ffb8f9",
      "a72c75d73f13479fa7d24326cbb96bbb",
      "238359a3915f4a3b8988e8f6f2e9eec4"
     ]
    },
    "id": "w20beiN7DksL",
    "outputId": "90838e31-af91-4144-d6f0-638ab590e2e6"
   },
   "outputs": [
    {
     "data": {
      "application/vnd.jupyter.widget-view+json": {
       "model_id": "bc22663963b5443487cf631d373c7bf6",
       "version_major": 2,
       "version_minor": 0
      },
      "text/plain": [
       "Downloading:   0%|          | 0.00/570 [00:00<?, ?B/s]"
      ]
     },
     "metadata": {},
     "output_type": "display_data"
    },
    {
     "data": {
      "application/vnd.jupyter.widget-view+json": {
       "model_id": "f13aa12fbb5e4dd69364e6f5c174e665",
       "version_major": 2,
       "version_minor": 0
      },
      "text/plain": [
       "Downloading:   0%|          | 0.00/420M [00:00<?, ?B/s]"
      ]
     },
     "metadata": {},
     "output_type": "display_data"
    },
    {
     "data": {
      "application/vnd.jupyter.widget-view+json": {
       "model_id": "ae07bedbfdee4f5f899f315b6bab9785",
       "version_major": 2,
       "version_minor": 0
      },
      "text/plain": [
       "Downloading:   0%|          | 0.00/28.0 [00:00<?, ?B/s]"
      ]
     },
     "metadata": {},
     "output_type": "display_data"
    },
    {
     "data": {
      "application/vnd.jupyter.widget-view+json": {
       "model_id": "263d48feb369475ea1f3e2eb2adae5f2",
       "version_major": 2,
       "version_minor": 0
      },
      "text/plain": [
       "Downloading:   0%|          | 0.00/226k [00:00<?, ?B/s]"
      ]
     },
     "metadata": {},
     "output_type": "display_data"
    },
    {
     "data": {
      "application/vnd.jupyter.widget-view+json": {
       "model_id": "b50fb6d5fa2d44d0acb749914ed4d9dd",
       "version_major": 2,
       "version_minor": 0
      },
      "text/plain": [
       "Downloading:   0%|          | 0.00/455k [00:00<?, ?B/s]"
      ]
     },
     "metadata": {},
     "output_type": "display_data"
    },
    {
     "name": "stdout",
     "output_type": "stream",
     "text": [
      "Original:\n",
      "The quick brown fox jumps over the lazy dog .\n",
      "Augmented Text:\n",
      "['the quick working brown fox eagerly jumps carefully over the lazy dog.', 'besides the quick brown fox never jumps over one the lazy dog.']\n"
     ]
    }
   ],
   "source": [
    "text = 'The quick brown fox jumps over the lazy dog .'\n",
    "aug = naw.ContextualWordEmbsAug(model_path='bert-base-uncased', action=\"insert\")\n",
    "augmented_text = aug.augment(text,n=2)\n",
    "print(\"Original:\")\n",
    "print(text)\n",
    "print(\"Augmented Text:\")\n",
    "print(augmented_text)"
   ]
  },
  {
   "cell_type": "markdown",
   "id": "kbjGBH2DTEgZ",
   "metadata": {
    "id": "kbjGBH2DTEgZ"
   },
   "source": [
    "## NLP Augmentation using nlpaug library:\n",
    "  * Random Word Swap Augmentation on GloVe_lemmatized_With_concatenation\n",
    "  * Random Word Swap Augmentation on GloVe_lemmatized_Without_concatenation\n",
    "  * Random Word Swap Augmentation on Word2Vec_Lemmatized_With_concatenation\n",
    "  * Random Word Swap Augmentation on Word2Vec_Lemmatized_Without_concatenation\n",
    "  * Random Word Swap Augmentation on Word2Vec_Stemmed_With_concatenation\n",
    "  * Random Word Swap Augmentation on Word2Vec_Stemmed_Without_concatenation\n",
    "\n",
    "\n"
   ]
  },
  {
   "cell_type": "markdown",
   "id": "hf_iJ0SEQqiP",
   "metadata": {
    "id": "hf_iJ0SEQqiP"
   },
   "source": [
    "# Random Word Swap Augmentation on Word2Vec_Lemmatized_With_concatenation"
   ]
  },
  {
   "cell_type": "code",
   "execution_count": null,
   "id": "AhqfxPCBZSVH",
   "metadata": {
    "id": "AhqfxPCBZSVH"
   },
   "outputs": [],
   "source": [
    "df = pd.read_csv(project_path+\"/updated_df.csv\")\n",
    "#Loading the saved dataset"
   ]
  },
  {
   "cell_type": "code",
   "execution_count": null,
   "id": "A3sn1M_LqHVg",
   "metadata": {
    "id": "A3sn1M_LqHVg"
   },
   "outputs": [],
   "source": [
    "\n",
    "\n",
    "X = df['Description_lemmatized']\n",
    "y = df['Accident Level']\n",
    "\n",
    "#Applying Train test split\n",
    "X_train, X_test, y_train, y_test = train_test_split(X, y, test_size=0.2, random_state=42)\n",
    "\n",
    "new = pd.Series()\n",
    "new1 = pd.Series()\n",
    "# aug = naw.ContextualWordEmbsAug(model_path='xlnet-base-uncased', action=\"insert\")\n",
    "aug = naf.Sequential([\n",
    "    naw.RandomWordAug(action='swap')\n",
    "])\n",
    "for i,j in zip(X_train,y_train):\n",
    "  if j == \"II\":\n",
    "    text = aug.augment(i, n=7)\n",
    "    new = new.append(pd.Series(text),ignore_index=True)\n",
    "    # y.append(i)\n",
    "    # X = X.append(pd.Series(text),ignore_index=True)\n",
    "    k=0\n",
    "    while(k < 7):\n",
    "      new1 = new1.append(pd.Series(j))\n",
    "      k+=1\n",
    "\n",
    "  elif j == \"III\" :\n",
    "    text = aug.augment(i, n=8)\n",
    "    new = new.append(pd.Series(text),ignore_index=True)\n",
    "    # X = X.append(pd.Series(text),ignore_index=True)\n",
    "    k=0\n",
    "    while(k < 8):\n",
    "      new1 = new1.append(pd.Series(j))\n",
    "      k+=1\n",
    "\n",
    "  elif j == \"IV\":\n",
    "    text = aug.augment(i, n=12)\n",
    "    new = new.append(pd.Series(text),ignore_index=True)\n",
    "    # X = X.append(pd.Series(text),ignore_index=True)\n",
    "    k=0\n",
    "    while(k < 12):\n",
    "      new1 = new1.append(pd.Series(j))\n",
    "      k+=1      \n",
    "    \n",
    "  elif j == \"V\":\n",
    "    text = aug.augment(i, n=35)\n",
    "    new = new.append(pd.Series(text),ignore_index=True)\n",
    "    k=0\n",
    "    # X = X.append(pd.Series(text),ignore_index=True)\n",
    "    while(k < 35):\n",
    "      new1 = new1.append(pd.Series(j))\n",
    "      # y = y.append(pd.Series(j))\n",
    "      k+=1\n",
    "  \n",
    "  else:\n",
    "    pass\n",
    "X_train = X_train.append(new)\n",
    "y_train = y_train.append(new1)"
   ]
  },
  {
   "cell_type": "code",
   "execution_count": null,
   "id": "X_qIdQmGqTk1",
   "metadata": {
    "colab": {
     "base_uri": "https://localhost:8080/"
    },
    "id": "X_qIdQmGqTk1",
    "outputId": "f3bd803f-05b6-4f22-ab29-13dfcb118f45"
   },
   "outputs": [
    {
     "data": {
      "text/plain": [
       "IV     299\n",
       "II     256\n",
       "I      246\n",
       "III    243\n",
       "V      216\n",
       "dtype: int64"
      ]
     },
     "execution_count": 57,
     "metadata": {},
     "output_type": "execute_result"
    }
   ],
   "source": [
    "y_train.value_counts()"
   ]
  },
  {
   "cell_type": "code",
   "execution_count": null,
   "id": "qkUv7prgSwtI",
   "metadata": {
    "id": "qkUv7prgSwtI"
   },
   "outputs": [],
   "source": [
    "#Loading Glove Vectors\n",
    "embedding_vectors = {}\n",
    "for i in open(project_path+\"/glove_6B_100d.txt\", encoding=\"utf8\"):\n",
    "  word = i.split(\" \")[0]\n",
    "  embedding = i.split(\" \")[1:]\n",
    "  embedding_vectors[word] = embedding\n",
    "\n",
    "TK77 = Tokenizer()\n",
    "TK77.fit_on_texts(X)\n",
    "\n",
    "# GloVe vectors generated\n",
    "GloVe_vector_l1 = np.zeros((len(TK77.word_index)+1, 100))\n",
    "missed_words = []\n",
    "for word, i in TK77.word_index.items():\n",
    "  try:\n",
    "    embedding_vector = embedding_vectors[word]\n",
    "    if embedding_vector is not None:\n",
    "        GloVe_vector_l1[i] = embedding_vector\n",
    "  except:\n",
    "    missed_words.append(word)\n",
    "\n",
    "\n",
    "# word Tokenized to a list \n",
    "data_list6 = []\n",
    "for i in X_train:\n",
    "    data_list6.append(nltk.word_tokenize(i))\n",
    "    \n",
    "# List applied in Word2vec \n",
    "TK7 = Tokenizer()\n",
    "TK7.fit_on_texts(X_train)\n",
    "\n",
    "data_7_train = TK7.texts_to_sequences(X_train)\n",
    "\n",
    "\n",
    "#Applying Label Encoder to classes/target\n",
    "LE6 = LabelEncoder()\n",
    "classes_actual_train = LE6.fit_transform(y_train)\n",
    "\n",
    "#Padding sequences accordingly and creating target using dummies or to_categorical\n",
    "X_train = pad_sequences(data_7_train,maxlen=100)\n",
    "y_train = pd.get_dummies(classes_actual_train)    "
   ]
  },
  {
   "cell_type": "code",
   "execution_count": null,
   "id": "SlXn7D1ZjwZR",
   "metadata": {
    "id": "SlXn7D1ZjwZR"
   },
   "outputs": [],
   "source": [
    "# word Tokenized to a list \n",
    "data_list7 = []\n",
    "for i in X_test:\n",
    "    data_list7.append(nltk.word_tokenize(i))\n",
    "    \n",
    "# List applied in Word2vec \n",
    "TK8 = Tokenizer()\n",
    "TK8.fit_on_texts(X_test)\n",
    "\n",
    "# Dataframe converted to a sequence\n",
    "data_7_test = TK8.texts_to_sequences(X_test)\n",
    "\n",
    "#Applying Label Encoder to classes/target\n",
    "LE7 = LabelEncoder()\n",
    "classes_actual_test = LE7.fit_transform(y_test)\n",
    "\n",
    "#Padding sequences accordingly and creating target using dummies or to_categorical\n",
    "X_test = pad_sequences(data_7_test,maxlen=100)\n",
    "y_test = pd.get_dummies(classes_actual_test)"
   ]
  },
  {
   "cell_type": "markdown",
   "id": "F5tBJ_JFRGek",
   "metadata": {
    "id": "F5tBJ_JFRGek"
   },
   "source": [
    "## We will try out some of the Sequential models and finally try out BERT based models:\n",
    "\n",
    "  \n",
    "  * Recurrent Neural Networks (RNN)\n",
    "  * Gated Recurrent Units (GRU)\n",
    "  * Long Short Term Memory (LSTM)\n",
    "  * Bi-Directional RNN\n",
    "  * Bi-Directional LSTM\n",
    "  * Bi-Directional GRU\n",
    "\n",
    "  "
   ]
  },
  {
   "cell_type": "code",
   "execution_count": null,
   "id": "7-u6LoAcSp-N",
   "metadata": {
    "id": "7-u6LoAcSp-N"
   },
   "outputs": [],
   "source": [
    "# #Dataframe to collect all the Sequential model's metrics\n",
    "\n",
    "# Sequential_model_metrics = pd.DataFrame(columns=['Model_name','Dataset','Training_Accuracy','Test_Accuracy',\"Classes_identified\"])"
   ]
  },
  {
   "cell_type": "code",
   "execution_count": null,
   "id": "WTovLN7JS9kw",
   "metadata": {
    "id": "WTovLN7JS9kw"
   },
   "outputs": [],
   "source": [
    "# Sequential_model_metrics\n",
    "\n",
    "\n",
    "\n",
    "\n",
    "# Random Word Swap Augmentation on GloVe_lemmatized_With_concatenation - done\n",
    "# Random Word Swap Augmentation on GloVe_lemmatized_Without_concatenation - done\n",
    "# Random Word Swap Augmentation on Word2Vec_Lemmatized_With_concatenation\n",
    "# Random Word Swap Augmentation on Word2Vec_Lemmatized_Without_concatenation\n",
    "# Random Word Swap Augmentation on Word2Vec_Stemmed_With_concatenation\n",
    "# Random Word Swap Augmentation on Word2Vec_Stemmed_Without_concatenation\n"
   ]
  },
  {
   "cell_type": "code",
   "execution_count": null,
   "id": "ubMymCWDuXzD",
   "metadata": {
    "id": "ubMymCWDuXzD"
   },
   "outputs": [],
   "source": [
    "def Train_test_Data(x):\n",
    "  print(\"---------------------------------------------------------------------------------------------------------------------------------------------------------\")\n",
    "  print(\"The datatypes available are 'Description','Description_1','Description_1Stemmed','Description_1lemmatized','Description_Stemmed','Description_lemmatized'\")\n",
    "  print(\"---------------------------------------------------------------------------------------------------------------------------------------------------------\")\n",
    "  datatype = str(input(\"Enter datatype that you would like to use \"))\n",
    "  print(\"----------------------------------------------------------\")\n",
    "  testsize = float(input(\"Enter test size options 0.1,0.2,0.3,0.4 \"))\n",
    "  X_train,X_test,y_train,y_test = train_test_split(x[datatype], x['Accident Level'], test_size=testsize, random_state=42)\n",
    "  print(\"------------------------\")\n",
    "  print(\"Train Test split created\")\n",
    "  print(\"------------------------\")\n",
    "  print(\"Data Augmentation type: 'RandomWordAug','synonymaugmenter'\")\n",
    "  print(\"---------------------------------------\")\n",
    "  dataAugtype = str(input(\"Enter datatype that you would like to use \")).lower()\n",
    "  if dataAugtype=='randomwordaug':\n",
    "    aug = naf.Sequential([\n",
    "    naw.RandomWordAug(action='swap')\n",
    "    ])\n",
    "  elif dataAugtype=='synonymaugmenter':\n",
    "    aug = naf.Sequential([\n",
    "    naw.SynonymAug(aug_src='wordnet')\n",
    "    ])\n",
    "  print(\"Data Augmentation object created\")\n",
    "  print(\"--------------------------------\")\n",
    "  print(\"Current Target value counts for Training data\")\n",
    "  print(\"---------------------------------------------\")\n",
    "  print(y_train.value_counts())\n",
    "  print(\"--------------------------------\")\n",
    "  print(f\"We have {y_train.nunique()} classes out of which our focus is on classes II,III,IV,V\")\n",
    "  print(\"------------------------------------------------------------------------------------\")\n",
    "  print(\"Enter count of times you want a class to be replicated\")\n",
    "  print(\"------------------------------------------------------\")\n",
    "  II = int(input(\"Enter the count of times you want class II replicated(Only integer allowed) \"))\n",
    "  print(\"------------------------------------------------------------------\")\n",
    "  III = int(input(\"Enter the count of times you want class III replicated(Only integer allowed) \"))\n",
    "  print(\"------------------------------------------------------------------\")\n",
    "  IV = int(input(\"Enter the count of times you want class IV replicated(Only integer allowed) \"))\n",
    "  print(\"------------------------------------------------------------------\")\n",
    "  V = int(input(\"Enter the count of times you want class V replicated(Only integer allowed) \"))\n",
    "  print(\"------------------------------------------------------------------\")\n",
    "  print(\"Replication numbers saved\")\n",
    "  print(\"---------------------------\")\n",
    "  new = pd.Series()\n",
    "  new1 = pd.Series()\n",
    "  for i,j in zip(X_train,y_train):\n",
    "    if j == \"II\":\n",
    "      text = aug.augment(i, n=II)\n",
    "      new = new.append(pd.Series(text),ignore_index=True)\n",
    "      k=0\n",
    "      while(k < II):\n",
    "        new1 = new1.append(pd.Series(j))\n",
    "        k+=1\n",
    "    elif j == \"III\" :\n",
    "      text = aug.augment(i, n=III)\n",
    "      new = new.append(pd.Series(text),ignore_index=True)\n",
    "      k=0\n",
    "      while(k < III):\n",
    "        new1 = new1.append(pd.Series(j))\n",
    "        k+=1\n",
    "\n",
    "    elif j == \"IV\":\n",
    "      text = aug.augment(i, n=IV)\n",
    "      new = new.append(pd.Series(text),ignore_index=True)\n",
    "      k=0\n",
    "      while(k < IV):\n",
    "        new1 = new1.append(pd.Series(j))\n",
    "        k+=1\n",
    "    elif j == \"V\":\n",
    "      text = aug.augment(i, n=V)\n",
    "      new = new.append(pd.Series(text),ignore_index=True)\n",
    "      k=0\n",
    "      while(k < V):\n",
    "        new1 = new1.append(pd.Series(j))\n",
    "        k+=1\n",
    "    else:\n",
    "      pass\n",
    "  X_train = X_train.append(new)\n",
    "  y_train = y_train.append(new1)\n",
    "  print(\"Augmentation completed, check the class value counts\")\n",
    "  print(\"----------------------------------------------------\")\n",
    "  print(f\"Target value counts for Training data post applying {dataAugtype} technique\")\n",
    "  print(y_train.value_counts())\n",
    "  print(\"--------------------\")\n",
    "  print(\"Choice of vectors, GloVe ? or Word2Vec?\")\n",
    "  print(\"---------------------------------------\")\n",
    "  Vector_type = str(input(\"Please enter your input: 1. GloVe 2. Word2Vec\")).lower()\n",
    "  print(\"---------------------------------------------\")\n",
    "  if Vector_type == \"glove\":\n",
    "    embedding_vectors = {}\n",
    "    for i in open(project_path+\"/glove_6B_100d.txt\", encoding=\"utf8\"):\n",
    "        word = i.split(\" \")[0]\n",
    "        embedding = i.split(\" \")[1:]\n",
    "        embedding_vectors[word] = embedding\n",
    "    print(\"Loaded GloVe vectors\")\n",
    "    print(\"--------------------\")\n",
    "    tokenizer_l = Tokenizer(num_words = 3452)\n",
    "    tokenizer_l.fit_on_texts(x[datatype])\n",
    "    text_tokenized_l = tokenizer_l.texts_to_sequences(x[datatype])\n",
    "    embedding_matrix_lemmatized = np.zeros((len(tokenizer_l.word_index)+1, 100))\n",
    "    missed_words = []\n",
    "    for word, i in tokenizer_l.word_index.items():\n",
    "        embedding_vector = embedding_vectors.get(word.replace(\"​​\",\"\"))\n",
    "        if embedding_vector is not None:\n",
    "            embedding_matrix_lemmatized[i] = embedding_vector\n",
    "        else:\n",
    "          missed_words.append(word)\n",
    "    print(\"GloVe vectors generated\")\n",
    "    print(\"-----------------------\")\n",
    "\n",
    "\n",
    "    TK7 = Tokenizer()\n",
    "    TK7.fit_on_texts(x[datatype])\n",
    "    data_7_train = TK7.texts_to_sequences(X_train)\n",
    "    print(y_train.value_counts())\n",
    "    print(\"----------------------------------\")\n",
    "    LE6 = LabelEncoder()\n",
    "    classes_actual_train = LE6.fit_transform(y_train)\n",
    "    print(\"Label Encoding Target - Train data\")\n",
    "    print(\"----------------------------------\")\n",
    "    X_train = pad_sequences(data_7_train,maxlen=100)\n",
    "    print(\"Padding X_train words as sequences\")\n",
    "    print(\"----------------------------------\")\n",
    "    y_train = pd.get_dummies(classes_actual_train)\n",
    "    print(\"Target Train classes one hot encoded\")\n",
    "    print(\"------------------------------------\")\n",
    "\n",
    "    data_list7 = [nltk.word_tokenize(i) for i in X_test]\n",
    "    TK8 = Tokenizer()\n",
    "    TK8.fit_on_texts(X_test)      \n",
    "    data_7_test = TK8.texts_to_sequences(X_test)\n",
    "    LE7 = LabelEncoder()\n",
    "    classes_actual_test = LE7.fit_transform(y_test)\n",
    "    X_test = pad_sequences(data_7_test,maxlen=100)\n",
    "    y_test = pd.get_dummies(classes_actual_test)\n",
    "    data_list7 = [nltk.word_tokenize(i) for i in X_test]\n",
    "\n",
    "\n",
    "    # TK9 = Tokenizer()\n",
    "    # TK9.fit_on_texts(X_val)\n",
    "    # WTS = str(input(\"Do you wish to see missed words? Yes or No\")).lower()\n",
    "    # print(\"------------------------------------------\")\n",
    "    # if WTS=='yes':\n",
    "    #   print(missed_words)\n",
    "    # else:\n",
    "    #   pass\n",
    "    # data_7_val = TK9.texts_to_sequences(X_val)\n",
    "    # LE8 = LabelEncoder()\n",
    "    # classes_actual_val = LE8.fit_transform(y_val)\n",
    "    # X_val = pad_sequences(data_7_val,maxlen=100)\n",
    "    # y_val = pd.get_dummies(classes_actual_val)\n",
    "\n",
    "\n",
    "  elif Vector_type == \"word2vec\":\n",
    "\n",
    "    data_list = [nltk.word_tokenize(i) for i in x[datatype]]  \n",
    "    w2v = Word2Vec(sentences=data_list,size=100,min_count=1)        \n",
    "    TK7 = Tokenizer()\n",
    "    TK7.fit_on_texts(x[datatype])\n",
    "    # data_7_train = TK7.texts_to_sequences(X_train)\n",
    "    embedding_matrix_lemmatized = np.zeros((len(TK7.word_index)+1, 100))\n",
    "    for word, i in TK7.word_index.items():\n",
    "      embedding_vector = w2v.wv.get_vector(word)\n",
    "      if embedding_vector is not None:\n",
    "          embedding_matrix_lemmatized[i] = embedding_vector\n",
    "\n",
    "    data_7_train = TK7.texts_to_sequences(X_train)\n",
    "    LE6 = LabelEncoder()\n",
    "    classes_actual_train = LE6.fit_transform(y_train)\n",
    "    print(\"Label Encoding Target - Train data\")\n",
    "    print(\"----------------------------------\")\n",
    "    X_train = pad_sequences(data_7_train,maxlen=100)\n",
    "    print(\"Padding X_train words as sequences\")\n",
    "    print(\"----------------------------------\")\n",
    "    y_train = pd.get_dummies(classes_actual_train)\n",
    "    print(\"Target Train classes one hot encoded\")\n",
    "    print(\"------------------------------------\")\n",
    "\n",
    "    TK8 = Tokenizer()\n",
    "    TK8.fit_on_texts(X_test)\n",
    "    data_7_test = TK8.texts_to_sequences(X_test)\n",
    "    LE7 = LabelEncoder()\n",
    "    classes_actual_test = LE7.fit_transform(y_test)\n",
    "    X_test = pad_sequences(data_7_test,maxlen=100)\n",
    "    y_test = pd.get_dummies(classes_actual_test)\n",
    "\n",
    "    # data_7_val = TK7.texts_to_sequences(X_val)\n",
    "    # LE6 = LabelEncoder()\n",
    "    # classes_actual_val = LE6.fit_transform(y_val)\n",
    "    # print(\"Label Encoding Target - val data\")\n",
    "    # print(\"----------------------------------\")\n",
    "    # X_val = pad_sequences(data_7_val,maxlen=100)\n",
    "    # print(\"Padding X_val words as sequences\")\n",
    "    # print(\"----------------------------------\")\n",
    "    # y_val = pd.get_dummies(classes_actual_val)\n",
    "    # print(\"Target val classes one hot encoded\")\n",
    "    # print(\"------------------------------------\")\n",
    "\n",
    "  return X_train,X_test,y_train,y_test,TK7.word_index,embedding_matrix_lemmatized"
   ]
  },
  {
   "cell_type": "code",
   "execution_count": null,
   "id": "Kn0uU31CtzXN",
   "metadata": {
    "colab": {
     "base_uri": "https://localhost:8080/"
    },
    "id": "Kn0uU31CtzXN",
    "outputId": "0c320fdb-ddf0-4480-a74d-877e9f29f893"
   },
   "outputs": [
    {
     "name": "stdout",
     "output_type": "stream",
     "text": [
      "---------------------------------------------------------------------------------------------------------------------------------------------------------\n",
      "The datatypes available are 'Description','Description_1','Description_1Stemmed','Description_1lemmatized','Description_Stemmed','Description_lemmatized'\n",
      "---------------------------------------------------------------------------------------------------------------------------------------------------------\n",
      "Enter datatype that you would like to use Description_1lemmatized\n",
      "----------------------------------------------------------\n",
      "Enter test size options 0.1,0.2,0.3,0.4 0.2\n",
      "------------------------\n",
      "Train Test split created\n",
      "------------------------\n",
      "Data Augmentation type: 'RandomWordAug','synonymaugmenter'\n",
      "---------------------------------------\n",
      "Enter datatype that you would like to use RandomWordAug\n",
      "Data Augmentation object created\n",
      "--------------------------------\n",
      "Current Target value counts for Training data\n",
      "---------------------------------------------\n",
      "I      246\n",
      "II      32\n",
      "III     27\n",
      "IV      23\n",
      "V        6\n",
      "Name: Accident Level, dtype: int64\n",
      "--------------------------------\n",
      "We have 5 classes out of which our focus is on classes II,III,IV,V\n",
      "------------------------------------------------------------------------------------\n",
      "Enter count of times you want a class to be replicated\n",
      "------------------------------------------------------\n",
      "Enter the count of times you want class II replicated(Only integer allowed) 7\n",
      "------------------------------------------------------------------\n",
      "Enter the count of times you want class III replicated(Only integer allowed) 7\n",
      "------------------------------------------------------------------\n",
      "Enter the count of times you want class IV replicated(Only integer allowed) 7\n",
      "------------------------------------------------------------------\n",
      "Enter the count of times you want class V replicated(Only integer allowed) 35\n",
      "------------------------------------------------------------------\n",
      "Replication numbers saved\n",
      "---------------------------\n",
      "Augmentation completed, check the class value counts\n",
      "----------------------------------------------------\n",
      "Target value counts for Training data post applying randomwordaug technique\n",
      "II     256\n",
      "I      246\n",
      "III    216\n",
      "V      216\n",
      "IV     184\n",
      "dtype: int64\n",
      "--------------------\n",
      "Choice of vectors, GloVe ? or Word2Vec?\n",
      "---------------------------------------\n",
      "Please enter your input: 1. GloVe 2. Word2VecWord2Vec\n",
      "---------------------------------------------\n",
      "Label Encoding Target - Train data\n",
      "----------------------------------\n",
      "Padding X_train words as sequences\n",
      "----------------------------------\n",
      "Target Train classes one hot encoded\n",
      "------------------------------------\n"
     ]
    }
   ],
   "source": [
    "X_train,X_test,y_train,y_test,word_index,weights = Train_test_Data(df)"
   ]
  },
  {
   "cell_type": "markdown",
   "id": "YRpBU57lA68J",
   "metadata": {
    "id": "YRpBU57lA68J"
   },
   "source": [
    "## RNN model"
   ]
  },
  {
   "cell_type": "code",
   "execution_count": null,
   "id": "k7qe86eUvLHL",
   "metadata": {
    "id": "k7qe86eUvLHL"
   },
   "outputs": [],
   "source": [
    "# X_train,X_test,y_train,y_test,word_index,weights"
   ]
  },
  {
   "cell_type": "code",
   "execution_count": null,
   "id": "Z8V_T-tg-rRr",
   "metadata": {
    "colab": {
     "base_uri": "https://localhost:8080/"
    },
    "id": "Z8V_T-tg-rRr",
    "outputId": "22490a38-2d15-42d8-aa99-2d07d819f1d8"
   },
   "outputs": [
    {
     "name": "stdout",
     "output_type": "stream",
     "text": [
      "Model: \"sequential_13\"\n",
      "_________________________________________________________________\n",
      " Layer (type)                Output Shape              Param #   \n",
      "=================================================================\n",
      " embedding_13 (Embedding)    (None, 100, 100)          344600    \n",
      "                                                                 \n",
      " simple_rnn_5 (SimpleRNN)    (None, 300)               120300    \n",
      "                                                                 \n",
      " flatten_13 (Flatten)        (None, 300)               0         \n",
      "                                                                 \n",
      " dense_39 (Dense)            (None, 100)               30100     \n",
      "                                                                 \n",
      " dropout_26 (Dropout)        (None, 100)               0         \n",
      "                                                                 \n",
      " dense_40 (Dense)            (None, 50)                5050      \n",
      "                                                                 \n",
      " dropout_27 (Dropout)        (None, 50)                0         \n",
      "                                                                 \n",
      " dense_41 (Dense)            (None, 5)                 255       \n",
      "                                                                 \n",
      "=================================================================\n",
      "Total params: 500,305\n",
      "Trainable params: 500,305\n",
      "Non-trainable params: 0\n",
      "_________________________________________________________________\n"
     ]
    }
   ],
   "source": [
    "model_7 = Sequential()\n",
    "model_7.add(Embedding(input_dim = len(word_index)+1,output_dim = 100, weights=[weights],input_length = 100))\n",
    "model_7.add(SimpleRNN(300, recurrent_dropout=0.2))\n",
    "model_7.add(Flatten())\n",
    "model_7.add(Dense(100, activation = 'relu'))\n",
    "model_7.add(Dropout(0.2))\n",
    "model_7.add(Dense(50, activation = 'relu'))\n",
    "model_7.add(Dropout(0.2))\n",
    "model_7.add(Dense(5, activation = 'softmax'))\n",
    "adam = Adam(learning_rate=0.01, beta_1=0.8, beta_2=0.9, epsilon=1e-04, amsgrad=False, name='Adam')\n",
    "model_7.compile(loss = 'categorical_crossentropy', optimizer = 'adam', metrics = ['accuracy'])\n",
    "model_7.summary()"
   ]
  },
  {
   "cell_type": "code",
   "execution_count": null,
   "id": "Uo8KrFu1pwJ1",
   "metadata": {
    "colab": {
     "base_uri": "https://localhost:8080/"
    },
    "id": "Uo8KrFu1pwJ1",
    "outputId": "b9d83052-931c-4a79-eb02-6135d722be19"
   },
   "outputs": [
    {
     "name": "stdout",
     "output_type": "stream",
     "text": [
      "Epoch 1/50\n",
      "35/35 [==============================] - 7s 165ms/step - loss: 1.6641 - accuracy: 0.1959 - val_loss: 1.5188 - val_accuracy: 0.0476\n",
      "Epoch 2/50\n",
      "35/35 [==============================] - 5s 154ms/step - loss: 1.6334 - accuracy: 0.2093 - val_loss: 1.5635 - val_accuracy: 0.0952\n",
      "Epoch 3/50\n",
      "35/35 [==============================] - 5s 155ms/step - loss: 1.6154 - accuracy: 0.2057 - val_loss: 1.5294 - val_accuracy: 0.7500\n",
      "Epoch 4/50\n",
      "35/35 [==============================] - 5s 156ms/step - loss: 1.6017 - accuracy: 0.2343 - val_loss: 1.5206 - val_accuracy: 0.0952\n",
      "Epoch 5/50\n",
      "35/35 [==============================] - 5s 154ms/step - loss: 1.5936 - accuracy: 0.2460 - val_loss: 1.5540 - val_accuracy: 0.0476\n",
      "Epoch 6/50\n",
      "35/35 [==============================] - 5s 156ms/step - loss: 1.3925 - accuracy: 0.3739 - val_loss: 1.5320 - val_accuracy: 0.0952\n",
      "Epoch 7/50\n",
      "35/35 [==============================] - 5s 155ms/step - loss: 1.3176 - accuracy: 0.4114 - val_loss: 1.5801 - val_accuracy: 0.1071\n",
      "Epoch 8/50\n",
      "35/35 [==============================] - 5s 157ms/step - loss: 1.2094 - accuracy: 0.4123 - val_loss: 1.7346 - val_accuracy: 0.1071\n",
      "Epoch 9/50\n",
      "35/35 [==============================] - 5s 156ms/step - loss: 1.1481 - accuracy: 0.4472 - val_loss: 1.5194 - val_accuracy: 0.2738\n",
      "Epoch 10/50\n",
      "35/35 [==============================] - 5s 154ms/step - loss: 1.0292 - accuracy: 0.5367 - val_loss: 1.5017 - val_accuracy: 0.5238\n",
      "Epoch 11/50\n",
      "35/35 [==============================] - 5s 155ms/step - loss: 0.9382 - accuracy: 0.5769 - val_loss: 1.5766 - val_accuracy: 0.3571\n",
      "Epoch 12/50\n",
      "35/35 [==============================] - 5s 156ms/step - loss: 0.8813 - accuracy: 0.5993 - val_loss: 1.7166 - val_accuracy: 0.1548\n",
      "Epoch 13/50\n",
      "35/35 [==============================] - 5s 156ms/step - loss: 0.8190 - accuracy: 0.6047 - val_loss: 1.4958 - val_accuracy: 0.6310\n"
     ]
    },
    {
     "data": {
      "text/plain": [
       "<keras.callbacks.History at 0x7f3632b8bf50>"
      ]
     },
     "execution_count": 103,
     "metadata": {},
     "output_type": "execute_result"
    }
   ],
   "source": [
    "ES = EarlyStopping(monitor='val_loss', min_delta=0.01,patience=10,mode='min')\n",
    "model_7.fit(X_train, y_train, epochs = 50,validation_data=(X_test,y_test),callbacks=[ES])"
   ]
  },
  {
   "cell_type": "code",
   "execution_count": null,
   "id": "6UJzalGr-raB",
   "metadata": {
    "colab": {
     "base_uri": "https://localhost:8080/"
    },
    "id": "6UJzalGr-raB",
    "outputId": "e9e725ec-71a6-41bb-e36d-defd7ff051c0"
   },
   "outputs": [
    {
     "name": "stdout",
     "output_type": "stream",
     "text": [
      "              precision    recall  f1-score   support\n",
      "\n",
      "           0       0.76      0.83      0.79        63\n",
      "           1       0.00      0.00      0.00         8\n",
      "           2       0.17      0.25      0.20         4\n",
      "           3       0.00      0.00      0.00         7\n",
      "           4       0.00      0.00      0.00         2\n",
      "\n",
      "    accuracy                           0.63        84\n",
      "   macro avg       0.19      0.22      0.20        84\n",
      "weighted avg       0.58      0.63      0.60        84\n",
      "\n"
     ]
    }
   ],
   "source": [
    "prediction = model_7.predict(X_test)\n",
    "value,classes_pred = tf.math.top_k(prediction, k=1, sorted=True, name=None)\n",
    "classes_actual = y_test.idxmax(axis=1)\n",
    "print(classification_report(classes_actual,classes_pred))"
   ]
  },
  {
   "cell_type": "code",
   "execution_count": null,
   "id": "nl8HjWQ0pKix",
   "metadata": {
    "colab": {
     "base_uri": "https://localhost:8080/"
    },
    "id": "nl8HjWQ0pKix",
    "outputId": "22cfa405-d3c5-4c82-8277-7c80eacd6daf"
   },
   "outputs": [
    {
     "name": "stdout",
     "output_type": "stream",
     "text": [
      "35/35 [==============================] - 1s 34ms/step - loss: 0.5871 - accuracy: 0.6494\n",
      "3/3 [==============================] - 0s 41ms/step - loss: 1.4958 - accuracy: 0.6310\n"
     ]
    }
   ],
   "source": [
    "Train_score = model_7.evaluate(X_train,y_train)\n",
    "Test_score = model_7.evaluate(X_test,y_test)"
   ]
  },
  {
   "cell_type": "code",
   "execution_count": null,
   "id": "6xHKrgSHUPkb",
   "metadata": {
    "id": "6xHKrgSHUPkb"
   },
   "outputs": [],
   "source": [
    "Sequential_model_metrics = Sequential_model_metrics.append({'Model_name':'Simple RNN','Dataset':'Lemmatized_withoutconcatenation_W2V','Training_Accuracy':Train_score,'Test_Accuracy':Test_score,'Classes_identified':2},ignore_index=True)"
   ]
  },
  {
   "cell_type": "code",
   "execution_count": null,
   "id": "G9pv7Xu_SGGB",
   "metadata": {
    "id": "G9pv7Xu_SGGB"
   },
   "outputs": [],
   "source": [
    "Sequential_model_metrics.to_csv(project_path+\"CapstoneSequence_model_performance.csv\")"
   ]
  },
  {
   "cell_type": "code",
   "execution_count": null,
   "id": "Ys_ImR52tVX2",
   "metadata": {
    "colab": {
     "base_uri": "https://localhost:8080/",
     "height": 544
    },
    "id": "Ys_ImR52tVX2",
    "outputId": "ab3140fa-0807-42ec-95a4-329b60f90f41"
   },
   "outputs": [
    {
     "data": {
      "text/html": [
       "<div>\n",
       "<style scoped>\n",
       "    .dataframe tbody tr th:only-of-type {\n",
       "        vertical-align: middle;\n",
       "    }\n",
       "\n",
       "    .dataframe tbody tr th {\n",
       "        vertical-align: top;\n",
       "    }\n",
       "\n",
       "    .dataframe thead th {\n",
       "        text-align: right;\n",
       "    }\n",
       "</style>\n",
       "<table border=\"1\" class=\"dataframe\">\n",
       "  <thead>\n",
       "    <tr style=\"text-align: right;\">\n",
       "      <th></th>\n",
       "      <th>Model_name</th>\n",
       "      <th>Dataset</th>\n",
       "      <th>Training_Accuracy</th>\n",
       "      <th>Test_Accuracy</th>\n",
       "      <th>Classes_identified</th>\n",
       "    </tr>\n",
       "  </thead>\n",
       "  <tbody>\n",
       "    <tr>\n",
       "      <th>0</th>\n",
       "      <td>Simple RNN</td>\n",
       "      <td>Lemmatized_concatenated_GloVe</td>\n",
       "      <td>[0.0036917212419211864, 0.9984126687049866]</td>\n",
       "      <td>[3.2730259895324707, 0.4166666567325592]</td>\n",
       "      <td>4</td>\n",
       "    </tr>\n",
       "    <tr>\n",
       "      <th>1</th>\n",
       "      <td>GRU</td>\n",
       "      <td>Lemmatized_concatenated_GloVe</td>\n",
       "      <td>[0.0055404771119356155, 0.9968253970146179]</td>\n",
       "      <td>[7.728967666625977, 0.3452380895614624]</td>\n",
       "      <td>5</td>\n",
       "    </tr>\n",
       "    <tr>\n",
       "      <th>2</th>\n",
       "      <td>LSTM</td>\n",
       "      <td>Lemmatized_concatenated_GloVe</td>\n",
       "      <td>[0.006871403660625219, 0.9968253970146179]</td>\n",
       "      <td>[4.108074188232422, 0.5952380895614624]</td>\n",
       "      <td>2</td>\n",
       "    </tr>\n",
       "    <tr>\n",
       "      <th>3</th>\n",
       "      <td>Bi-Directional RNN</td>\n",
       "      <td>Lemmatized_concatenated_GloVe</td>\n",
       "      <td>[0.019844254478812218, 0.9936507940292358]</td>\n",
       "      <td>[4.39696741104126, 0.3571428656578064]</td>\n",
       "      <td>3</td>\n",
       "    </tr>\n",
       "    <tr>\n",
       "      <th>4</th>\n",
       "      <td>Bi-Directional GRU</td>\n",
       "      <td>Lemmatized_concatenated_GloVe</td>\n",
       "      <td>[0.013464070856571198, 0.9968253970146179]</td>\n",
       "      <td>[4.739116668701172, 0.5476190447807312]</td>\n",
       "      <td>3</td>\n",
       "    </tr>\n",
       "    <tr>\n",
       "      <th>5</th>\n",
       "      <td>Bi-Directional LSTM</td>\n",
       "      <td>Lemmatized_concatenated_GloVe</td>\n",
       "      <td>[0.006571796257048845, 0.9968253970146179]</td>\n",
       "      <td>[5.051074981689453, 0.6071428656578064]</td>\n",
       "      <td>3</td>\n",
       "    </tr>\n",
       "    <tr>\n",
       "      <th>6</th>\n",
       "      <td>Simple RNN</td>\n",
       "      <td>Lemmatized_withoutconcatenation_GloVe</td>\n",
       "      <td>[0.006571796257048845, 0.9968253970146179]</td>\n",
       "      <td>[5.051074981689453, 0.6071428656578064]</td>\n",
       "      <td>3</td>\n",
       "    </tr>\n",
       "    <tr>\n",
       "      <th>7</th>\n",
       "      <td>GRU</td>\n",
       "      <td>Lemmatized_withoutconcatenation_GloVe</td>\n",
       "      <td>[0.006952998694032431, 0.9952380657196045]</td>\n",
       "      <td>[20.249876022338867, 0.190476194024086]</td>\n",
       "      <td>3</td>\n",
       "    </tr>\n",
       "    <tr>\n",
       "      <th>8</th>\n",
       "      <td>LSTM</td>\n",
       "      <td>Lemmatized_withoutconcatenation_GloVe</td>\n",
       "      <td>[0.01058152411133051, 0.9944444298744202]</td>\n",
       "      <td>[4.0623698234558105, 0.5595238208770752]</td>\n",
       "      <td>2</td>\n",
       "    </tr>\n",
       "    <tr>\n",
       "      <th>9</th>\n",
       "      <td>Bi-Directional RNN</td>\n",
       "      <td>Lemmatized_withoutconcatenation_GloVe</td>\n",
       "      <td>[0.027981502935290337, 0.988095223903656]</td>\n",
       "      <td>[3.4791150093078613, 0.369047611951828]</td>\n",
       "      <td>1</td>\n",
       "    </tr>\n",
       "    <tr>\n",
       "      <th>10</th>\n",
       "      <td>Bi-Directional GRU</td>\n",
       "      <td>Lemmatized_withoutconcatenation_GloVe</td>\n",
       "      <td>[0.011998853646218777, 0.9928571581840515]</td>\n",
       "      <td>[11.594881057739258, 0.488095223903656]</td>\n",
       "      <td>3</td>\n",
       "    </tr>\n",
       "    <tr>\n",
       "      <th>11</th>\n",
       "      <td>Bi-Directional LSTM</td>\n",
       "      <td>Lemmatized_withoutconcatenation_GloVe</td>\n",
       "      <td>[0.01050073653459549, 0.9944444298744202]</td>\n",
       "      <td>[3.422482490539551, 0.5595238208770752]</td>\n",
       "      <td>2</td>\n",
       "    </tr>\n",
       "    <tr>\n",
       "      <th>12</th>\n",
       "      <td>Simple RNN</td>\n",
       "      <td>Lemmatized_withoutconcatenation_W2V</td>\n",
       "      <td>[0.5870584845542908, 0.6493738889694214]</td>\n",
       "      <td>[1.495787262916565, 0.6309523582458496]</td>\n",
       "      <td>2</td>\n",
       "    </tr>\n",
       "  </tbody>\n",
       "</table>\n",
       "</div>"
      ],
      "text/plain": [
       "             Model_name  ... Classes_identified\n",
       "0            Simple RNN  ...                  4\n",
       "1                   GRU  ...                  5\n",
       "2                  LSTM  ...                  2\n",
       "3    Bi-Directional RNN  ...                  3\n",
       "4    Bi-Directional GRU  ...                  3\n",
       "5   Bi-Directional LSTM  ...                  3\n",
       "6            Simple RNN  ...                  3\n",
       "7                   GRU  ...                  3\n",
       "8                  LSTM  ...                  2\n",
       "9    Bi-Directional RNN  ...                  1\n",
       "10   Bi-Directional GRU  ...                  3\n",
       "11  Bi-Directional LSTM  ...                  2\n",
       "12           Simple RNN  ...                  2\n",
       "\n",
       "[13 rows x 5 columns]"
      ]
     },
     "execution_count": 107,
     "metadata": {},
     "output_type": "execute_result"
    }
   ],
   "source": [
    "Sequential_model_metrics"
   ]
  },
  {
   "cell_type": "markdown",
   "id": "iXOpGyqTA-Fc",
   "metadata": {
    "id": "iXOpGyqTA-Fc"
   },
   "source": [
    "## GRU model"
   ]
  },
  {
   "cell_type": "code",
   "execution_count": null,
   "id": "TVSGvz7gBAKz",
   "metadata": {
    "colab": {
     "base_uri": "https://localhost:8080/"
    },
    "id": "TVSGvz7gBAKz",
    "outputId": "7f1f09b0-3c7f-4aa3-b2d2-d7993f01a24a"
   },
   "outputs": [
    {
     "name": "stdout",
     "output_type": "stream",
     "text": [
      "Model: \"sequential_14\"\n",
      "_________________________________________________________________\n",
      " Layer (type)                Output Shape              Param #   \n",
      "=================================================================\n",
      " embedding_14 (Embedding)    (None, 100, 100)          344600    \n",
      "                                                                 \n",
      " gru_4 (GRU)                 (None, 300)               361800    \n",
      "                                                                 \n",
      " flatten_14 (Flatten)        (None, 300)               0         \n",
      "                                                                 \n",
      " dense_42 (Dense)            (None, 100)               30100     \n",
      "                                                                 \n",
      " dropout_28 (Dropout)        (None, 100)               0         \n",
      "                                                                 \n",
      " dense_43 (Dense)            (None, 50)                5050      \n",
      "                                                                 \n",
      " dropout_29 (Dropout)        (None, 50)                0         \n",
      "                                                                 \n",
      " dense_44 (Dense)            (None, 5)                 255       \n",
      "                                                                 \n",
      "=================================================================\n",
      "Total params: 741,805\n",
      "Trainable params: 741,805\n",
      "Non-trainable params: 0\n",
      "_________________________________________________________________\n"
     ]
    }
   ],
   "source": [
    "model_8 = Sequential()\n",
    "model_8.add(Embedding(input_dim = len(word_index)+1,output_dim = 100, weights=[weights],input_length = 100))\n",
    "model_8.add(GRU(300, recurrent_dropout=0.2))\n",
    "model_8.add(Flatten())\n",
    "model_8.add(Dense(100, activation = 'relu'))\n",
    "model_8.add(Dropout(0.2))\n",
    "model_8.add(Dense(50, activation = 'relu'))\n",
    "model_8.add(Dropout(0.2))\n",
    "model_8.add(Dense(5, activation = 'softmax'))\n",
    "adam = Adam(learning_rate=0.01, beta_1=0.8, beta_2=0.9, epsilon=1e-04, amsgrad=False, name='Adam')\n",
    "model_8.compile(loss = 'categorical_crossentropy', optimizer = adam, metrics = ['accuracy'])\n",
    "model_8.summary()"
   ]
  },
  {
   "cell_type": "code",
   "execution_count": null,
   "id": "IkMOca86BARh",
   "metadata": {
    "colab": {
     "base_uri": "https://localhost:8080/"
    },
    "id": "IkMOca86BARh",
    "outputId": "c5b28f92-24e0-4d4c-af8e-8cbeb17502fb"
   },
   "outputs": [
    {
     "name": "stdout",
     "output_type": "stream",
     "text": [
      "Epoch 1/50\n",
      "35/35 [==============================] - 31s 816ms/step - loss: 1.2858 - accuracy: 0.4222 - val_loss: 1.7562 - val_accuracy: 0.1429\n",
      "Epoch 2/50\n",
      "35/35 [==============================] - 28s 801ms/step - loss: 0.5285 - accuracy: 0.8256 - val_loss: 1.9498 - val_accuracy: 0.3571\n",
      "Epoch 3/50\n",
      "35/35 [==============================] - 28s 799ms/step - loss: 0.3604 - accuracy: 0.9070 - val_loss: 1.9341 - val_accuracy: 0.5476\n",
      "Epoch 4/50\n",
      "35/35 [==============================] - 28s 799ms/step - loss: 0.1100 - accuracy: 0.9687 - val_loss: 1.9934 - val_accuracy: 0.4405\n",
      "Epoch 5/50\n",
      "35/35 [==============================] - 28s 797ms/step - loss: 0.1010 - accuracy: 0.9741 - val_loss: 2.3249 - val_accuracy: 0.5238\n",
      "Epoch 6/50\n",
      "35/35 [==============================] - 28s 802ms/step - loss: 0.0491 - accuracy: 0.9848 - val_loss: 4.7549 - val_accuracy: 0.5952\n",
      "Epoch 7/50\n",
      "35/35 [==============================] - 28s 799ms/step - loss: 0.0922 - accuracy: 0.9794 - val_loss: 4.6006 - val_accuracy: 0.5476\n",
      "Epoch 8/50\n",
      "35/35 [==============================] - 28s 804ms/step - loss: 0.0388 - accuracy: 0.9893 - val_loss: 3.7886 - val_accuracy: 0.6548\n",
      "Epoch 9/50\n",
      "35/35 [==============================] - 28s 801ms/step - loss: 0.1006 - accuracy: 0.9741 - val_loss: 4.1417 - val_accuracy: 0.6905\n",
      "Epoch 10/50\n",
      "35/35 [==============================] - 28s 806ms/step - loss: 0.0411 - accuracy: 0.9839 - val_loss: 3.5741 - val_accuracy: 0.5952\n",
      "Epoch 11/50\n",
      "35/35 [==============================] - 28s 797ms/step - loss: 0.0653 - accuracy: 0.9875 - val_loss: 4.4263 - val_accuracy: 0.6548\n",
      "Epoch 12/50\n",
      "35/35 [==============================] - 28s 799ms/step - loss: 0.0817 - accuracy: 0.9750 - val_loss: 4.0940 - val_accuracy: 0.6071\n",
      "Epoch 13/50\n",
      "35/35 [==============================] - 28s 803ms/step - loss: 0.0286 - accuracy: 0.9875 - val_loss: 4.4059 - val_accuracy: 0.6667\n",
      "Epoch 14/50\n",
      "35/35 [==============================] - 28s 800ms/step - loss: 0.0820 - accuracy: 0.9857 - val_loss: 3.7550 - val_accuracy: 0.6786\n",
      "Epoch 15/50\n",
      "35/35 [==============================] - 28s 802ms/step - loss: 0.0483 - accuracy: 0.9839 - val_loss: 4.6329 - val_accuracy: 0.6190\n",
      "Epoch 16/50\n",
      "35/35 [==============================] - 28s 800ms/step - loss: 0.0264 - accuracy: 0.9893 - val_loss: 5.8847 - val_accuracy: 0.7024\n",
      "Epoch 17/50\n",
      "35/35 [==============================] - 28s 797ms/step - loss: 0.0561 - accuracy: 0.9866 - val_loss: 5.9702 - val_accuracy: 0.6190\n",
      "Epoch 18/50\n",
      "35/35 [==============================] - 28s 798ms/step - loss: 0.0500 - accuracy: 0.9821 - val_loss: 3.3244 - val_accuracy: 0.5595\n",
      "Epoch 19/50\n",
      "35/35 [==============================] - 28s 803ms/step - loss: 0.0222 - accuracy: 0.9893 - val_loss: 5.8653 - val_accuracy: 0.6310\n",
      "Epoch 20/50\n",
      "35/35 [==============================] - 28s 799ms/step - loss: 0.0371 - accuracy: 0.9875 - val_loss: 6.1982 - val_accuracy: 0.5952\n",
      "Epoch 21/50\n",
      "35/35 [==============================] - 28s 802ms/step - loss: 0.0149 - accuracy: 0.9937 - val_loss: 6.1288 - val_accuracy: 0.5595\n",
      "Epoch 22/50\n",
      "35/35 [==============================] - 28s 800ms/step - loss: 0.0342 - accuracy: 0.9893 - val_loss: 6.2764 - val_accuracy: 0.5357\n",
      "Epoch 23/50\n",
      "35/35 [==============================] - 28s 802ms/step - loss: 0.1180 - accuracy: 0.9866 - val_loss: 9.5447 - val_accuracy: 0.3095\n",
      "Epoch 24/50\n",
      "35/35 [==============================] - 28s 797ms/step - loss: 0.0457 - accuracy: 0.9893 - val_loss: 11.1642 - val_accuracy: 0.4167\n",
      "Epoch 25/50\n",
      "35/35 [==============================] - 28s 801ms/step - loss: 0.0170 - accuracy: 0.9893 - val_loss: 7.8107 - val_accuracy: 0.5714\n",
      "Epoch 26/50\n",
      "35/35 [==============================] - 28s 801ms/step - loss: 0.0383 - accuracy: 0.9902 - val_loss: 10.1716 - val_accuracy: 0.5714\n"
     ]
    },
    {
     "data": {
      "text/plain": [
       "<keras.callbacks.History at 0x7f36300dfa90>"
      ]
     },
     "execution_count": 109,
     "metadata": {},
     "output_type": "execute_result"
    }
   ],
   "source": [
    "ES = EarlyStopping(monitor='val_loss', min_delta=0.01,patience=10,mode='min')\n",
    "model_8.fit(X_train, y_train, epochs = 50,validation_data=(X_test,y_test),callbacks=[ES])"
   ]
  },
  {
   "cell_type": "code",
   "execution_count": null,
   "id": "jEVpe54YBAXp",
   "metadata": {
    "colab": {
     "base_uri": "https://localhost:8080/"
    },
    "id": "jEVpe54YBAXp",
    "outputId": "763ba142-53aa-4730-fb52-079685dd9076"
   },
   "outputs": [
    {
     "name": "stdout",
     "output_type": "stream",
     "text": [
      "              precision    recall  f1-score   support\n",
      "\n",
      "           0       0.73      0.75      0.74        63\n",
      "           1       0.00      0.00      0.00         8\n",
      "           2       0.07      0.25      0.11         4\n",
      "           3       0.00      0.00      0.00         7\n",
      "           4       0.00      0.00      0.00         2\n",
      "\n",
      "    accuracy                           0.57        84\n",
      "   macro avg       0.16      0.20      0.17        84\n",
      "weighted avg       0.55      0.57      0.56        84\n",
      "\n"
     ]
    }
   ],
   "source": [
    "prediction = model_8.predict(X_test)\n",
    "value,classes_pred = tf.math.top_k(prediction, k=1, sorted=True, name=None)\n",
    "classes_actual = y_test.idxmax(axis=1)\n",
    "print(classification_report(classes_actual,classes_pred))"
   ]
  },
  {
   "cell_type": "code",
   "execution_count": null,
   "id": "05k_6G8kHuyh",
   "metadata": {
    "colab": {
     "base_uri": "https://localhost:8080/"
    },
    "id": "05k_6G8kHuyh",
    "outputId": "be7c600b-8e16-4ba5-ee99-10efa7e0c436"
   },
   "outputs": [
    {
     "name": "stdout",
     "output_type": "stream",
     "text": [
      "35/35 [==============================] - 4s 114ms/step - loss: 0.0350 - accuracy: 0.9902\n",
      "3/3 [==============================] - 0s 124ms/step - loss: 10.1716 - accuracy: 0.5714\n"
     ]
    }
   ],
   "source": [
    "Train_score = model_8.evaluate(X_train,y_train)\n",
    "Test_score = model_8.evaluate(X_test,y_test)\n",
    "Sequential_model_metrics = Sequential_model_metrics.append({'Model_name':'GRU','Dataset':'Lemmatized_withoutconcatenation_W2V','Training_Accuracy':Train_score,'Test_Accuracy':Test_score,'Classes_identified':2},ignore_index=True)"
   ]
  },
  {
   "cell_type": "code",
   "execution_count": null,
   "id": "zLFkqxoLH1Jy",
   "metadata": {
    "colab": {
     "base_uri": "https://localhost:8080/",
     "height": 593
    },
    "id": "zLFkqxoLH1Jy",
    "outputId": "725a7c7e-3bed-4aa3-db00-9be91ebe0836"
   },
   "outputs": [
    {
     "data": {
      "text/html": [
       "<div>\n",
       "<style scoped>\n",
       "    .dataframe tbody tr th:only-of-type {\n",
       "        vertical-align: middle;\n",
       "    }\n",
       "\n",
       "    .dataframe tbody tr th {\n",
       "        vertical-align: top;\n",
       "    }\n",
       "\n",
       "    .dataframe thead th {\n",
       "        text-align: right;\n",
       "    }\n",
       "</style>\n",
       "<table border=\"1\" class=\"dataframe\">\n",
       "  <thead>\n",
       "    <tr style=\"text-align: right;\">\n",
       "      <th></th>\n",
       "      <th>Model_name</th>\n",
       "      <th>Dataset</th>\n",
       "      <th>Training_Accuracy</th>\n",
       "      <th>Test_Accuracy</th>\n",
       "      <th>Classes_identified</th>\n",
       "    </tr>\n",
       "  </thead>\n",
       "  <tbody>\n",
       "    <tr>\n",
       "      <th>0</th>\n",
       "      <td>Simple RNN</td>\n",
       "      <td>Lemmatized_concatenated_GloVe</td>\n",
       "      <td>[0.0036917212419211864, 0.9984126687049866]</td>\n",
       "      <td>[3.2730259895324707, 0.4166666567325592]</td>\n",
       "      <td>4</td>\n",
       "    </tr>\n",
       "    <tr>\n",
       "      <th>1</th>\n",
       "      <td>GRU</td>\n",
       "      <td>Lemmatized_concatenated_GloVe</td>\n",
       "      <td>[0.0055404771119356155, 0.9968253970146179]</td>\n",
       "      <td>[7.728967666625977, 0.3452380895614624]</td>\n",
       "      <td>5</td>\n",
       "    </tr>\n",
       "    <tr>\n",
       "      <th>2</th>\n",
       "      <td>LSTM</td>\n",
       "      <td>Lemmatized_concatenated_GloVe</td>\n",
       "      <td>[0.006871403660625219, 0.9968253970146179]</td>\n",
       "      <td>[4.108074188232422, 0.5952380895614624]</td>\n",
       "      <td>2</td>\n",
       "    </tr>\n",
       "    <tr>\n",
       "      <th>3</th>\n",
       "      <td>Bi-Directional RNN</td>\n",
       "      <td>Lemmatized_concatenated_GloVe</td>\n",
       "      <td>[0.019844254478812218, 0.9936507940292358]</td>\n",
       "      <td>[4.39696741104126, 0.3571428656578064]</td>\n",
       "      <td>3</td>\n",
       "    </tr>\n",
       "    <tr>\n",
       "      <th>4</th>\n",
       "      <td>Bi-Directional GRU</td>\n",
       "      <td>Lemmatized_concatenated_GloVe</td>\n",
       "      <td>[0.013464070856571198, 0.9968253970146179]</td>\n",
       "      <td>[4.739116668701172, 0.5476190447807312]</td>\n",
       "      <td>3</td>\n",
       "    </tr>\n",
       "    <tr>\n",
       "      <th>5</th>\n",
       "      <td>Bi-Directional LSTM</td>\n",
       "      <td>Lemmatized_concatenated_GloVe</td>\n",
       "      <td>[0.006571796257048845, 0.9968253970146179]</td>\n",
       "      <td>[5.051074981689453, 0.6071428656578064]</td>\n",
       "      <td>3</td>\n",
       "    </tr>\n",
       "    <tr>\n",
       "      <th>6</th>\n",
       "      <td>Simple RNN</td>\n",
       "      <td>Lemmatized_withoutconcatenation_GloVe</td>\n",
       "      <td>[0.006571796257048845, 0.9968253970146179]</td>\n",
       "      <td>[5.051074981689453, 0.6071428656578064]</td>\n",
       "      <td>3</td>\n",
       "    </tr>\n",
       "    <tr>\n",
       "      <th>7</th>\n",
       "      <td>GRU</td>\n",
       "      <td>Lemmatized_withoutconcatenation_GloVe</td>\n",
       "      <td>[0.006952998694032431, 0.9952380657196045]</td>\n",
       "      <td>[20.249876022338867, 0.190476194024086]</td>\n",
       "      <td>3</td>\n",
       "    </tr>\n",
       "    <tr>\n",
       "      <th>8</th>\n",
       "      <td>LSTM</td>\n",
       "      <td>Lemmatized_withoutconcatenation_GloVe</td>\n",
       "      <td>[0.01058152411133051, 0.9944444298744202]</td>\n",
       "      <td>[4.0623698234558105, 0.5595238208770752]</td>\n",
       "      <td>2</td>\n",
       "    </tr>\n",
       "    <tr>\n",
       "      <th>9</th>\n",
       "      <td>Bi-Directional RNN</td>\n",
       "      <td>Lemmatized_withoutconcatenation_GloVe</td>\n",
       "      <td>[0.027981502935290337, 0.988095223903656]</td>\n",
       "      <td>[3.4791150093078613, 0.369047611951828]</td>\n",
       "      <td>1</td>\n",
       "    </tr>\n",
       "    <tr>\n",
       "      <th>10</th>\n",
       "      <td>Bi-Directional GRU</td>\n",
       "      <td>Lemmatized_withoutconcatenation_GloVe</td>\n",
       "      <td>[0.011998853646218777, 0.9928571581840515]</td>\n",
       "      <td>[11.594881057739258, 0.488095223903656]</td>\n",
       "      <td>3</td>\n",
       "    </tr>\n",
       "    <tr>\n",
       "      <th>11</th>\n",
       "      <td>Bi-Directional LSTM</td>\n",
       "      <td>Lemmatized_withoutconcatenation_GloVe</td>\n",
       "      <td>[0.01050073653459549, 0.9944444298744202]</td>\n",
       "      <td>[3.422482490539551, 0.5595238208770752]</td>\n",
       "      <td>2</td>\n",
       "    </tr>\n",
       "    <tr>\n",
       "      <th>12</th>\n",
       "      <td>Simple RNN</td>\n",
       "      <td>Lemmatized_withoutconcatenation_W2V</td>\n",
       "      <td>[0.5870584845542908, 0.6493738889694214]</td>\n",
       "      <td>[1.495787262916565, 0.6309523582458496]</td>\n",
       "      <td>2</td>\n",
       "    </tr>\n",
       "    <tr>\n",
       "      <th>13</th>\n",
       "      <td>GRU</td>\n",
       "      <td>Lemmatized_withoutconcatenation_W2V</td>\n",
       "      <td>[0.0349888950586319, 0.9901610016822815]</td>\n",
       "      <td>[10.171610832214355, 0.5714285969734192]</td>\n",
       "      <td>2</td>\n",
       "    </tr>\n",
       "  </tbody>\n",
       "</table>\n",
       "</div>"
      ],
      "text/plain": [
       "             Model_name  ... Classes_identified\n",
       "0            Simple RNN  ...                  4\n",
       "1                   GRU  ...                  5\n",
       "2                  LSTM  ...                  2\n",
       "3    Bi-Directional RNN  ...                  3\n",
       "4    Bi-Directional GRU  ...                  3\n",
       "5   Bi-Directional LSTM  ...                  3\n",
       "6            Simple RNN  ...                  3\n",
       "7                   GRU  ...                  3\n",
       "8                  LSTM  ...                  2\n",
       "9    Bi-Directional RNN  ...                  1\n",
       "10   Bi-Directional GRU  ...                  3\n",
       "11  Bi-Directional LSTM  ...                  2\n",
       "12           Simple RNN  ...                  2\n",
       "13                  GRU  ...                  2\n",
       "\n",
       "[14 rows x 5 columns]"
      ]
     },
     "execution_count": 112,
     "metadata": {},
     "output_type": "execute_result"
    }
   ],
   "source": [
    "Sequential_model_metrics"
   ]
  },
  {
   "cell_type": "markdown",
   "id": "-wNOJfg4HkoY",
   "metadata": {
    "id": "-wNOJfg4HkoY"
   },
   "source": [
    "## LSTM"
   ]
  },
  {
   "cell_type": "code",
   "execution_count": null,
   "id": "A2V7hPS1C-vW",
   "metadata": {
    "colab": {
     "base_uri": "https://localhost:8080/"
    },
    "id": "A2V7hPS1C-vW",
    "outputId": "f1f63384-b4a5-48b4-e060-e1e5e0f7b939"
   },
   "outputs": [
    {
     "name": "stdout",
     "output_type": "stream",
     "text": [
      "Model: \"sequential_15\"\n",
      "_________________________________________________________________\n",
      " Layer (type)                Output Shape              Param #   \n",
      "=================================================================\n",
      " embedding_15 (Embedding)    (None, 100, 100)          344600    \n",
      "                                                                 \n",
      " lstm_4 (LSTM)               (None, 300)               481200    \n",
      "                                                                 \n",
      " flatten_15 (Flatten)        (None, 300)               0         \n",
      "                                                                 \n",
      " dense_45 (Dense)            (None, 100)               30100     \n",
      "                                                                 \n",
      " dropout_30 (Dropout)        (None, 100)               0         \n",
      "                                                                 \n",
      " dense_46 (Dense)            (None, 50)                5050      \n",
      "                                                                 \n",
      " dropout_31 (Dropout)        (None, 50)                0         \n",
      "                                                                 \n",
      " dense_47 (Dense)            (None, 5)                 255       \n",
      "                                                                 \n",
      "=================================================================\n",
      "Total params: 861,205\n",
      "Trainable params: 861,205\n",
      "Non-trainable params: 0\n",
      "_________________________________________________________________\n"
     ]
    }
   ],
   "source": [
    "model_9 = Sequential()\n",
    "model_9.add(Embedding(input_dim = len(word_index)+1,output_dim = 100, weights=[weights],input_length = 100))\n",
    "model_9.add(LSTM(300, recurrent_dropout=0.4))\n",
    "model_9.add(Flatten())\n",
    "model_9.add(Dense(100, activation = 'relu'))\n",
    "model_9.add(Dropout(0.2))\n",
    "model_9.add(Dense(50, activation = 'relu'))\n",
    "model_9.add(Dropout(0.2))\n",
    "model_9.add(Dense(5, activation = 'softmax'))\n",
    "adam = Adam(learning_rate=0.01, beta_1=0.8, beta_2=0.9, epsilon=1e-04, amsgrad=False, name='Adam')\n",
    "model_9.compile(loss = 'categorical_crossentropy', optimizer = adam, metrics = ['accuracy'])\n",
    "model_9.summary()"
   ]
  },
  {
   "cell_type": "code",
   "execution_count": null,
   "id": "j1M_igozC-3H",
   "metadata": {
    "colab": {
     "base_uri": "https://localhost:8080/"
    },
    "id": "j1M_igozC-3H",
    "outputId": "e6e4f8ec-ec6b-420f-8c18-1d49d394fcd3"
   },
   "outputs": [
    {
     "name": "stdout",
     "output_type": "stream",
     "text": [
      "Epoch 1/50\n",
      "35/35 [==============================] - 35s 931ms/step - loss: 1.4754 - accuracy: 0.3274 - val_loss: 1.4516 - val_accuracy: 0.3929\n",
      "Epoch 2/50\n",
      "35/35 [==============================] - 32s 923ms/step - loss: 1.0512 - accuracy: 0.5286 - val_loss: 1.5408 - val_accuracy: 0.2381\n",
      "Epoch 3/50\n",
      "35/35 [==============================] - 32s 923ms/step - loss: 0.8513 - accuracy: 0.6127 - val_loss: 1.4976 - val_accuracy: 0.7381\n",
      "Epoch 4/50\n",
      "35/35 [==============================] - 32s 918ms/step - loss: 0.4623 - accuracy: 0.7844 - val_loss: 2.1431 - val_accuracy: 0.5119\n",
      "Epoch 5/50\n",
      "35/35 [==============================] - 32s 922ms/step - loss: 0.5904 - accuracy: 0.8354 - val_loss: 2.5152 - val_accuracy: 0.6548\n",
      "Epoch 6/50\n",
      "35/35 [==============================] - 32s 918ms/step - loss: 0.1995 - accuracy: 0.9356 - val_loss: 2.6311 - val_accuracy: 0.5952\n",
      "Epoch 7/50\n",
      "35/35 [==============================] - 32s 917ms/step - loss: 0.1597 - accuracy: 0.9633 - val_loss: 3.1182 - val_accuracy: 0.6548\n",
      "Epoch 8/50\n",
      "35/35 [==============================] - 32s 921ms/step - loss: 0.0740 - accuracy: 0.9750 - val_loss: 3.5085 - val_accuracy: 0.6548\n",
      "Epoch 9/50\n",
      "35/35 [==============================] - 32s 922ms/step - loss: 0.0612 - accuracy: 0.9794 - val_loss: 5.0563 - val_accuracy: 0.4762\n",
      "Epoch 10/50\n",
      "35/35 [==============================] - 32s 918ms/step - loss: 0.0623 - accuracy: 0.9857 - val_loss: 4.1259 - val_accuracy: 0.6310\n",
      "Epoch 11/50\n",
      "35/35 [==============================] - 32s 923ms/step - loss: 0.0415 - accuracy: 0.9866 - val_loss: 4.6633 - val_accuracy: 0.6905\n",
      "Epoch 12/50\n",
      "35/35 [==============================] - 32s 922ms/step - loss: 0.0367 - accuracy: 0.9857 - val_loss: 6.3323 - val_accuracy: 0.5833\n",
      "Epoch 13/50\n",
      "35/35 [==============================] - 32s 920ms/step - loss: 0.0230 - accuracy: 0.9893 - val_loss: 7.0671 - val_accuracy: 0.6310\n"
     ]
    },
    {
     "data": {
      "text/plain": [
       "<keras.callbacks.History at 0x7f362c8622d0>"
      ]
     },
     "execution_count": 115,
     "metadata": {},
     "output_type": "execute_result"
    }
   ],
   "source": [
    "ES = EarlyStopping(monitor='val_loss', min_delta=0.01,patience=10,mode='min')\n",
    "model_9.fit(X_train, y_train, epochs = 50,validation_data=(X_test,y_test),callbacks=[ES])"
   ]
  },
  {
   "cell_type": "code",
   "execution_count": null,
   "id": "wGACI6XbC-9-",
   "metadata": {
    "colab": {
     "base_uri": "https://localhost:8080/"
    },
    "id": "wGACI6XbC-9-",
    "outputId": "9c8a86a0-d190-46b1-9328-91353639feb2"
   },
   "outputs": [
    {
     "name": "stdout",
     "output_type": "stream",
     "text": [
      "              precision    recall  f1-score   support\n",
      "\n",
      "           0       0.73      0.84      0.78        63\n",
      "           1       0.00      0.00      0.00         8\n",
      "           2       0.00      0.00      0.00         4\n",
      "           3       0.00      0.00      0.00         7\n",
      "           4       0.00      0.00      0.00         2\n",
      "\n",
      "    accuracy                           0.63        84\n",
      "   macro avg       0.15      0.17      0.16        84\n",
      "weighted avg       0.54      0.63      0.58        84\n",
      "\n"
     ]
    }
   ],
   "source": [
    "prediction = model_9.predict(X_test)\n",
    "value,classes_pred = tf.math.top_k(prediction, k=1, sorted=True, name=None)\n",
    "classes_actual = y_test.idxmax(axis=1)\n",
    "print(classification_report(classes_actual,classes_pred))"
   ]
  },
  {
   "cell_type": "code",
   "execution_count": null,
   "id": "EHudfbo_LbgO",
   "metadata": {
    "colab": {
     "base_uri": "https://localhost:8080/"
    },
    "id": "EHudfbo_LbgO",
    "outputId": "3f18bd92-61fc-4416-82c4-b008e5a581a2"
   },
   "outputs": [
    {
     "name": "stdout",
     "output_type": "stream",
     "text": [
      "35/35 [==============================] - 5s 132ms/step - loss: 0.0181 - accuracy: 0.9919\n",
      "3/3 [==============================] - 0s 146ms/step - loss: 7.0671 - accuracy: 0.6310\n"
     ]
    }
   ],
   "source": [
    "Train_score = model_9.evaluate(X_train,y_train)\n",
    "Test_score = model_9.evaluate(X_test,y_test)\n",
    "Sequential_model_metrics = Sequential_model_metrics.append({'Model_name':'LSTM','Dataset':'Lemmatized_withoutconcatenation_W2V','Training_Accuracy':Train_score,'Test_Accuracy':Test_score,'Classes_identified':1},ignore_index=True)"
   ]
  },
  {
   "cell_type": "code",
   "execution_count": null,
   "id": "W_7VRQdCNqTj",
   "metadata": {
    "colab": {
     "base_uri": "https://localhost:8080/",
     "height": 655
    },
    "id": "W_7VRQdCNqTj",
    "outputId": "72e09c7a-b2d4-48ad-b530-d7eb33eb6945"
   },
   "outputs": [
    {
     "data": {
      "text/html": [
       "<div>\n",
       "<style scoped>\n",
       "    .dataframe tbody tr th:only-of-type {\n",
       "        vertical-align: middle;\n",
       "    }\n",
       "\n",
       "    .dataframe tbody tr th {\n",
       "        vertical-align: top;\n",
       "    }\n",
       "\n",
       "    .dataframe thead th {\n",
       "        text-align: right;\n",
       "    }\n",
       "</style>\n",
       "<table border=\"1\" class=\"dataframe\">\n",
       "  <thead>\n",
       "    <tr style=\"text-align: right;\">\n",
       "      <th></th>\n",
       "      <th>Model_name</th>\n",
       "      <th>Dataset</th>\n",
       "      <th>Training_Accuracy</th>\n",
       "      <th>Test_Accuracy</th>\n",
       "      <th>Classes_identified</th>\n",
       "    </tr>\n",
       "  </thead>\n",
       "  <tbody>\n",
       "    <tr>\n",
       "      <th>0</th>\n",
       "      <td>Simple RNN</td>\n",
       "      <td>Lemmatized_concatenated_GloVe</td>\n",
       "      <td>[0.0036917212419211864, 0.9984126687049866]</td>\n",
       "      <td>[3.2730259895324707, 0.4166666567325592]</td>\n",
       "      <td>4</td>\n",
       "    </tr>\n",
       "    <tr>\n",
       "      <th>1</th>\n",
       "      <td>GRU</td>\n",
       "      <td>Lemmatized_concatenated_GloVe</td>\n",
       "      <td>[0.0055404771119356155, 0.9968253970146179]</td>\n",
       "      <td>[7.728967666625977, 0.3452380895614624]</td>\n",
       "      <td>5</td>\n",
       "    </tr>\n",
       "    <tr>\n",
       "      <th>2</th>\n",
       "      <td>LSTM</td>\n",
       "      <td>Lemmatized_concatenated_GloVe</td>\n",
       "      <td>[0.006871403660625219, 0.9968253970146179]</td>\n",
       "      <td>[4.108074188232422, 0.5952380895614624]</td>\n",
       "      <td>2</td>\n",
       "    </tr>\n",
       "    <tr>\n",
       "      <th>3</th>\n",
       "      <td>Bi-Directional RNN</td>\n",
       "      <td>Lemmatized_concatenated_GloVe</td>\n",
       "      <td>[0.019844254478812218, 0.9936507940292358]</td>\n",
       "      <td>[4.39696741104126, 0.3571428656578064]</td>\n",
       "      <td>3</td>\n",
       "    </tr>\n",
       "    <tr>\n",
       "      <th>4</th>\n",
       "      <td>Bi-Directional GRU</td>\n",
       "      <td>Lemmatized_concatenated_GloVe</td>\n",
       "      <td>[0.013464070856571198, 0.9968253970146179]</td>\n",
       "      <td>[4.739116668701172, 0.5476190447807312]</td>\n",
       "      <td>3</td>\n",
       "    </tr>\n",
       "    <tr>\n",
       "      <th>5</th>\n",
       "      <td>Bi-Directional LSTM</td>\n",
       "      <td>Lemmatized_concatenated_GloVe</td>\n",
       "      <td>[0.006571796257048845, 0.9968253970146179]</td>\n",
       "      <td>[5.051074981689453, 0.6071428656578064]</td>\n",
       "      <td>3</td>\n",
       "    </tr>\n",
       "    <tr>\n",
       "      <th>6</th>\n",
       "      <td>Simple RNN</td>\n",
       "      <td>Lemmatized_withoutconcatenation_GloVe</td>\n",
       "      <td>[0.006571796257048845, 0.9968253970146179]</td>\n",
       "      <td>[5.051074981689453, 0.6071428656578064]</td>\n",
       "      <td>3</td>\n",
       "    </tr>\n",
       "    <tr>\n",
       "      <th>7</th>\n",
       "      <td>GRU</td>\n",
       "      <td>Lemmatized_withoutconcatenation_GloVe</td>\n",
       "      <td>[0.006952998694032431, 0.9952380657196045]</td>\n",
       "      <td>[20.249876022338867, 0.190476194024086]</td>\n",
       "      <td>3</td>\n",
       "    </tr>\n",
       "    <tr>\n",
       "      <th>8</th>\n",
       "      <td>LSTM</td>\n",
       "      <td>Lemmatized_withoutconcatenation_GloVe</td>\n",
       "      <td>[0.01058152411133051, 0.9944444298744202]</td>\n",
       "      <td>[4.0623698234558105, 0.5595238208770752]</td>\n",
       "      <td>2</td>\n",
       "    </tr>\n",
       "    <tr>\n",
       "      <th>9</th>\n",
       "      <td>Bi-Directional RNN</td>\n",
       "      <td>Lemmatized_withoutconcatenation_GloVe</td>\n",
       "      <td>[0.027981502935290337, 0.988095223903656]</td>\n",
       "      <td>[3.4791150093078613, 0.369047611951828]</td>\n",
       "      <td>1</td>\n",
       "    </tr>\n",
       "    <tr>\n",
       "      <th>10</th>\n",
       "      <td>Bi-Directional GRU</td>\n",
       "      <td>Lemmatized_withoutconcatenation_GloVe</td>\n",
       "      <td>[0.011998853646218777, 0.9928571581840515]</td>\n",
       "      <td>[11.594881057739258, 0.488095223903656]</td>\n",
       "      <td>3</td>\n",
       "    </tr>\n",
       "    <tr>\n",
       "      <th>11</th>\n",
       "      <td>Bi-Directional LSTM</td>\n",
       "      <td>Lemmatized_withoutconcatenation_GloVe</td>\n",
       "      <td>[0.01050073653459549, 0.9944444298744202]</td>\n",
       "      <td>[3.422482490539551, 0.5595238208770752]</td>\n",
       "      <td>2</td>\n",
       "    </tr>\n",
       "    <tr>\n",
       "      <th>12</th>\n",
       "      <td>Simple RNN</td>\n",
       "      <td>Lemmatized_withoutconcatenation_W2V</td>\n",
       "      <td>[0.5870584845542908, 0.6493738889694214]</td>\n",
       "      <td>[1.495787262916565, 0.6309523582458496]</td>\n",
       "      <td>2</td>\n",
       "    </tr>\n",
       "    <tr>\n",
       "      <th>13</th>\n",
       "      <td>GRU</td>\n",
       "      <td>Lemmatized_withoutconcatenation_W2V</td>\n",
       "      <td>[0.0349888950586319, 0.9901610016822815]</td>\n",
       "      <td>[10.171610832214355, 0.5714285969734192]</td>\n",
       "      <td>2</td>\n",
       "    </tr>\n",
       "    <tr>\n",
       "      <th>14</th>\n",
       "      <td>LSTM</td>\n",
       "      <td>Lemmatized_withoutconcatenation_W2V</td>\n",
       "      <td>[0.018095092847943306, 0.9919499158859253]</td>\n",
       "      <td>[7.067124366760254, 0.6309523582458496]</td>\n",
       "      <td>1</td>\n",
       "    </tr>\n",
       "    <tr>\n",
       "      <th>15</th>\n",
       "      <td>Bi-Directional RNN</td>\n",
       "      <td>Lemmatized_withconcatenation_GloVe</td>\n",
       "      <td>[1.6033499240875244, 0.22898031771183014]</td>\n",
       "      <td>[1.5673328638076782, 0.095238097012043]</td>\n",
       "      <td>1</td>\n",
       "    </tr>\n",
       "  </tbody>\n",
       "</table>\n",
       "</div>"
      ],
      "text/plain": [
       "             Model_name  ... Classes_identified\n",
       "0            Simple RNN  ...                  4\n",
       "1                   GRU  ...                  5\n",
       "2                  LSTM  ...                  2\n",
       "3    Bi-Directional RNN  ...                  3\n",
       "4    Bi-Directional GRU  ...                  3\n",
       "5   Bi-Directional LSTM  ...                  3\n",
       "6            Simple RNN  ...                  3\n",
       "7                   GRU  ...                  3\n",
       "8                  LSTM  ...                  2\n",
       "9    Bi-Directional RNN  ...                  1\n",
       "10   Bi-Directional GRU  ...                  3\n",
       "11  Bi-Directional LSTM  ...                  2\n",
       "12           Simple RNN  ...                  2\n",
       "13                  GRU  ...                  2\n",
       "14                 LSTM  ...                  1\n",
       "15   Bi-Directional RNN  ...                  1\n",
       "\n",
       "[16 rows x 5 columns]"
      ]
     },
     "execution_count": 126,
     "metadata": {},
     "output_type": "execute_result"
    }
   ],
   "source": [
    "Sequential_model_metrics"
   ]
  },
  {
   "cell_type": "markdown",
   "id": "TGYXYbopOkXM",
   "metadata": {
    "id": "TGYXYbopOkXM"
   },
   "source": [
    "## Bi-Directional RNN"
   ]
  },
  {
   "cell_type": "code",
   "execution_count": null,
   "id": "FTS53_PmNqV7",
   "metadata": {
    "colab": {
     "base_uri": "https://localhost:8080/"
    },
    "id": "FTS53_PmNqV7",
    "outputId": "2e96045d-a154-4bb5-cf6b-37f900ecc987"
   },
   "outputs": [
    {
     "name": "stdout",
     "output_type": "stream",
     "text": [
      "Model: \"sequential_16\"\n",
      "_________________________________________________________________\n",
      " Layer (type)                Output Shape              Param #   \n",
      "=================================================================\n",
      " embedding_16 (Embedding)    (None, 100, 100)          344600    \n",
      "                                                                 \n",
      " bidirectional_6 (Bidirectio  (None, 600)              240600    \n",
      " nal)                                                            \n",
      "                                                                 \n",
      " flatten_16 (Flatten)        (None, 600)               0         \n",
      "                                                                 \n",
      " dense_48 (Dense)            (None, 100)               60100     \n",
      "                                                                 \n",
      " dropout_32 (Dropout)        (None, 100)               0         \n",
      "                                                                 \n",
      " dense_49 (Dense)            (None, 50)                5050      \n",
      "                                                                 \n",
      " dropout_33 (Dropout)        (None, 50)                0         \n",
      "                                                                 \n",
      " dense_50 (Dense)            (None, 5)                 255       \n",
      "                                                                 \n",
      "=================================================================\n",
      "Total params: 650,605\n",
      "Trainable params: 650,605\n",
      "Non-trainable params: 0\n",
      "_________________________________________________________________\n",
      "Epoch 1/50\n",
      "35/35 [==============================] - 11s 259ms/step - loss: 1.6634 - accuracy: 0.1986 - val_loss: 1.4756 - val_accuracy: 0.7500\n",
      "Epoch 2/50\n",
      "35/35 [==============================] - 9s 247ms/step - loss: 1.6668 - accuracy: 0.1655 - val_loss: 1.6166 - val_accuracy: 0.0476\n",
      "Epoch 3/50\n",
      "35/35 [==============================] - 9s 245ms/step - loss: 1.6249 - accuracy: 0.1959 - val_loss: 1.5408 - val_accuracy: 0.0952\n",
      "Epoch 4/50\n",
      "35/35 [==============================] - 9s 248ms/step - loss: 1.6184 - accuracy: 0.2066 - val_loss: 1.5911 - val_accuracy: 0.7262\n",
      "Epoch 5/50\n",
      "35/35 [==============================] - 9s 246ms/step - loss: 1.6171 - accuracy: 0.2093 - val_loss: 1.5715 - val_accuracy: 0.0952\n",
      "Epoch 6/50\n",
      "35/35 [==============================] - 9s 247ms/step - loss: 1.6139 - accuracy: 0.2066 - val_loss: 1.5928 - val_accuracy: 0.0952\n",
      "Epoch 7/50\n",
      "35/35 [==============================] - 9s 247ms/step - loss: 1.6152 - accuracy: 0.2004 - val_loss: 1.5724 - val_accuracy: 0.1310\n",
      "Epoch 8/50\n",
      "35/35 [==============================] - 9s 245ms/step - loss: 1.6108 - accuracy: 0.2021 - val_loss: 1.5415 - val_accuracy: 0.0952\n",
      "Epoch 9/50\n",
      "35/35 [==============================] - 9s 248ms/step - loss: 1.6107 - accuracy: 0.2254 - val_loss: 1.5186 - val_accuracy: 0.7500\n",
      "Epoch 10/50\n",
      "35/35 [==============================] - 9s 247ms/step - loss: 1.6076 - accuracy: 0.2209 - val_loss: 1.5757 - val_accuracy: 0.0476\n",
      "Epoch 11/50\n",
      "35/35 [==============================] - 9s 247ms/step - loss: 1.6105 - accuracy: 0.2182 - val_loss: 1.5673 - val_accuracy: 0.0952\n"
     ]
    },
    {
     "data": {
      "text/plain": [
       "<keras.callbacks.History at 0x7f362c819f90>"
      ]
     },
     "execution_count": 120,
     "metadata": {},
     "output_type": "execute_result"
    }
   ],
   "source": [
    "model_10 = Sequential()\n",
    "model_10.add(Embedding(input_dim = len(word_index)+1,output_dim = 100, weights=[weights],input_length = 100))\n",
    "model_10.add(Bidirectional(SimpleRNN(300, recurrent_dropout=0.2)))\n",
    "model_10.add(Flatten())\n",
    "model_10.add(Dense(100, activation = 'relu'))\n",
    "model_10.add(Dropout(0.2))\n",
    "model_10.add(Dense(50, activation = 'relu'))\n",
    "model_10.add(Dropout(0.2))\n",
    "model_10.add(Dense(5, activation = 'softmax'))\n",
    "adam = Adam(learning_rate=0.01, beta_1=0.8, beta_2=0.9, epsilon=1e-04, amsgrad=False, name='Adam')\n",
    "model_10.compile(loss = 'categorical_crossentropy', optimizer = 'adam', metrics = ['accuracy'])\n",
    "model_10.summary()\n",
    "ES = EarlyStopping(monitor='val_loss', min_delta=0.01,patience=10,mode='min')\n",
    "model_10.fit(X_train, y_train, epochs = 50,validation_data=(X_test,y_test),callbacks=[ES])"
   ]
  },
  {
   "cell_type": "code",
   "execution_count": null,
   "id": "W6NhInlGNqYm",
   "metadata": {
    "colab": {
     "base_uri": "https://localhost:8080/"
    },
    "id": "W6NhInlGNqYm",
    "outputId": "10defb14-51e0-4638-c21b-da8eac60c7ca"
   },
   "outputs": [
    {
     "name": "stdout",
     "output_type": "stream",
     "text": [
      "              precision    recall  f1-score   support\n",
      "\n",
      "           0       0.00      0.00      0.00        63\n",
      "           1       0.10      1.00      0.17         8\n",
      "           2       0.00      0.00      0.00         4\n",
      "           3       0.00      0.00      0.00         7\n",
      "           4       0.00      0.00      0.00         2\n",
      "\n",
      "    accuracy                           0.10        84\n",
      "   macro avg       0.02      0.20      0.03        84\n",
      "weighted avg       0.01      0.10      0.02        84\n",
      "\n"
     ]
    }
   ],
   "source": [
    "prediction = model_10.predict(X_test)\n",
    "value,classes_pred = tf.math.top_k(prediction, k=1, sorted=True, name=None)\n",
    "classes_actual = y_test.idxmax(axis=1)\n",
    "print(classification_report(classes_actual,classes_pred))"
   ]
  },
  {
   "cell_type": "code",
   "execution_count": null,
   "id": "FeidBatfNqa1",
   "metadata": {
    "colab": {
     "base_uri": "https://localhost:8080/"
    },
    "id": "FeidBatfNqa1",
    "outputId": "445a2f98-791d-4981-c136-bde58e7071a1"
   },
   "outputs": [
    {
     "name": "stdout",
     "output_type": "stream",
     "text": [
      "35/35 [==============================] - 2s 47ms/step - loss: 1.6033 - accuracy: 0.2290\n",
      "3/3 [==============================] - 0s 49ms/step - loss: 1.5673 - accuracy: 0.0952\n"
     ]
    }
   ],
   "source": [
    "Train_score = model_10.evaluate(X_train,y_train)\n",
    "Test_score = model_10.evaluate(X_test,y_test)\n",
    "Sequential_model_metrics = Sequential_model_metrics.append({'Model_name':'Bi-Directional RNN','Dataset':'Lemmatized_withconcatenation_GloVe','Training_Accuracy':Train_score,'Test_Accuracy':Test_score,'Classes_identified':1},ignore_index=True)"
   ]
  },
  {
   "cell_type": "markdown",
   "id": "uWDyQCsiQMIZ",
   "metadata": {
    "id": "uWDyQCsiQMIZ"
   },
   "source": [
    "## BI-Directional  GRU"
   ]
  },
  {
   "cell_type": "code",
   "execution_count": null,
   "id": "COLnjjOuNqdr",
   "metadata": {
    "colab": {
     "base_uri": "https://localhost:8080/"
    },
    "id": "COLnjjOuNqdr",
    "outputId": "09cced17-d383-41ad-a90a-4951b5fdf529"
   },
   "outputs": [
    {
     "name": "stdout",
     "output_type": "stream",
     "text": [
      "Model: \"sequential_18\"\n",
      "_________________________________________________________________\n",
      " Layer (type)                Output Shape              Param #   \n",
      "=================================================================\n",
      " embedding_18 (Embedding)    (None, 100, 100)          344600    \n",
      "                                                                 \n",
      " bidirectional_8 (Bidirectio  (None, 600)              723600    \n",
      " nal)                                                            \n",
      "                                                                 \n",
      " flatten_18 (Flatten)        (None, 600)               0         \n",
      "                                                                 \n",
      " dense_54 (Dense)            (None, 100)               60100     \n",
      "                                                                 \n",
      " dropout_36 (Dropout)        (None, 100)               0         \n",
      "                                                                 \n",
      " dense_55 (Dense)            (None, 50)                5050      \n",
      "                                                                 \n",
      " dropout_37 (Dropout)        (None, 50)                0         \n",
      "                                                                 \n",
      " dense_56 (Dense)            (None, 5)                 255       \n",
      "                                                                 \n",
      "=================================================================\n",
      "Total params: 1,133,605\n",
      "Trainable params: 1,133,605\n",
      "Non-trainable params: 0\n",
      "_________________________________________________________________\n",
      "Epoch 1/50\n",
      "35/35 [==============================] - 60s 2s/step - loss: 1.2776 - accuracy: 0.3980 - val_loss: 1.8412 - val_accuracy: 0.3333\n",
      "Epoch 2/50\n",
      "35/35 [==============================] - 55s 2s/step - loss: 0.6897 - accuracy: 0.7737 - val_loss: 1.6892 - val_accuracy: 0.4405\n",
      "Epoch 3/50\n",
      "35/35 [==============================] - 55s 2s/step - loss: 1.1299 - accuracy: 0.7862 - val_loss: 1.4228 - val_accuracy: 0.6548\n",
      "Epoch 4/50\n",
      "35/35 [==============================] - 55s 2s/step - loss: 0.2409 - accuracy: 0.9204 - val_loss: 2.2361 - val_accuracy: 0.4524\n",
      "Epoch 5/50\n",
      "35/35 [==============================] - 55s 2s/step - loss: 0.1875 - accuracy: 0.9383 - val_loss: 2.2666 - val_accuracy: 0.6429\n",
      "Epoch 6/50\n",
      "35/35 [==============================] - 55s 2s/step - loss: 0.1420 - accuracy: 0.9651 - val_loss: 3.3571 - val_accuracy: 0.3333\n",
      "Epoch 7/50\n",
      "35/35 [==============================] - 55s 2s/step - loss: 0.2218 - accuracy: 0.9571 - val_loss: 2.7906 - val_accuracy: 0.5476\n",
      "Epoch 8/50\n",
      "35/35 [==============================] - 55s 2s/step - loss: 0.0714 - accuracy: 0.9803 - val_loss: 3.1965 - val_accuracy: 0.5952\n",
      "Epoch 9/50\n",
      "35/35 [==============================] - 55s 2s/step - loss: 0.1204 - accuracy: 0.9803 - val_loss: 2.8814 - val_accuracy: 0.6548\n",
      "Epoch 10/50\n",
      "35/35 [==============================] - 55s 2s/step - loss: 0.0799 - accuracy: 0.9812 - val_loss: 4.6122 - val_accuracy: 0.6310\n",
      "Epoch 11/50\n",
      "35/35 [==============================] - 55s 2s/step - loss: 0.0623 - accuracy: 0.9794 - val_loss: 7.4409 - val_accuracy: 0.5714\n",
      "Epoch 12/50\n",
      "35/35 [==============================] - 55s 2s/step - loss: 0.0641 - accuracy: 0.9830 - val_loss: 6.3235 - val_accuracy: 0.7381\n",
      "Epoch 13/50\n",
      "35/35 [==============================] - 55s 2s/step - loss: 0.0710 - accuracy: 0.9839 - val_loss: 6.4446 - val_accuracy: 0.7500\n"
     ]
    },
    {
     "data": {
      "text/plain": [
       "<keras.callbacks.History at 0x7f36253a2590>"
      ]
     },
     "execution_count": 125,
     "metadata": {},
     "output_type": "execute_result"
    }
   ],
   "source": [
    "model_11 = Sequential()\n",
    "model_11.add(Embedding(input_dim = len(word_index)+1,output_dim = 100, weights=[weights],input_length = 100))\n",
    "model_11.add(Bidirectional(GRU(300, recurrent_dropout=0.2)))\n",
    "model_11.add(Flatten())\n",
    "model_11.add(Dense(100, activation = 'relu'))\n",
    "model_11.add(Dropout(0.2))\n",
    "model_11.add(Dense(50, activation = 'relu'))\n",
    "model_11.add(Dropout(0.2))\n",
    "model_11.add(Dense(5, activation = 'softmax'))\n",
    "adam = Adam(learning_rate=0.01, beta_1=0.8, beta_2=0.9, epsilon=1e-04, amsgrad=False, name='Adam')\n",
    "model_11.compile(loss = 'categorical_crossentropy', optimizer = adam, metrics = ['accuracy'])\n",
    "model_11.summary()\n",
    "\n",
    "ES = EarlyStopping(monitor='val_loss', min_delta=0.01,patience=10,mode='min')\n",
    "model_11.fit(X_train, y_train, epochs = 50,validation_data=(X_test,y_test),callbacks=[ES])"
   ]
  },
  {
   "cell_type": "code",
   "execution_count": null,
   "id": "Lzcktx72NqgT",
   "metadata": {
    "colab": {
     "base_uri": "https://localhost:8080/"
    },
    "id": "Lzcktx72NqgT",
    "outputId": "4dcb64fc-48ad-4504-a6b0-7c1af4c79a37"
   },
   "outputs": [
    {
     "name": "stdout",
     "output_type": "stream",
     "text": [
      "              precision    recall  f1-score   support\n",
      "\n",
      "           0       0.75      1.00      0.86        63\n",
      "           1       0.00      0.00      0.00         8\n",
      "           2       0.00      0.00      0.00         4\n",
      "           3       0.00      0.00      0.00         7\n",
      "           4       0.00      0.00      0.00         2\n",
      "\n",
      "    accuracy                           0.75        84\n",
      "   macro avg       0.15      0.20      0.17        84\n",
      "weighted avg       0.56      0.75      0.64        84\n",
      "\n"
     ]
    }
   ],
   "source": [
    "prediction = model_11.predict(X_test)\n",
    "value,classes_pred = tf.math.top_k(prediction, k=1, sorted=True, name=None)\n",
    "classes_actual = y_test.idxmax(axis=1)\n",
    "print(classification_report(classes_actual,classes_pred))"
   ]
  },
  {
   "cell_type": "code",
   "execution_count": null,
   "id": "YBPierb-Nqi4",
   "metadata": {
    "colab": {
     "base_uri": "https://localhost:8080/"
    },
    "id": "YBPierb-Nqi4",
    "outputId": "fa6f56ec-d031-436d-a8be-23ff61c49a7b"
   },
   "outputs": [
    {
     "name": "stdout",
     "output_type": "stream",
     "text": [
      "35/35 [==============================] - 7s 201ms/step - loss: 0.2076 - accuracy: 0.9642\n",
      "3/3 [==============================] - 1s 220ms/step - loss: 6.4446 - accuracy: 0.7500\n"
     ]
    }
   ],
   "source": [
    "Train_score = model_11.evaluate(X_train,y_train)\n",
    "Test_score = model_11.evaluate(X_test,y_test)\n",
    "Sequential_model_metrics = Sequential_model_metrics.append({'Model_name':'Bi-Directional GRU','Dataset':'Lemmatized_withconcatenation_W2V','Training_Accuracy':Train_score,'Test_Accuracy':Test_score,'Classes_identified':1},ignore_index=True)"
   ]
  },
  {
   "cell_type": "code",
   "execution_count": null,
   "id": "pDhgEDA3mjP3",
   "metadata": {
    "colab": {
     "base_uri": "https://localhost:8080/",
     "height": 687
    },
    "id": "pDhgEDA3mjP3",
    "outputId": "e424a443-1945-4d00-e0ae-0c41519e0e87"
   },
   "outputs": [
    {
     "data": {
      "text/html": [
       "<div>\n",
       "<style scoped>\n",
       "    .dataframe tbody tr th:only-of-type {\n",
       "        vertical-align: middle;\n",
       "    }\n",
       "\n",
       "    .dataframe tbody tr th {\n",
       "        vertical-align: top;\n",
       "    }\n",
       "\n",
       "    .dataframe thead th {\n",
       "        text-align: right;\n",
       "    }\n",
       "</style>\n",
       "<table border=\"1\" class=\"dataframe\">\n",
       "  <thead>\n",
       "    <tr style=\"text-align: right;\">\n",
       "      <th></th>\n",
       "      <th>Model_name</th>\n",
       "      <th>Dataset</th>\n",
       "      <th>Training_Accuracy</th>\n",
       "      <th>Test_Accuracy</th>\n",
       "      <th>Classes_identified</th>\n",
       "    </tr>\n",
       "  </thead>\n",
       "  <tbody>\n",
       "    <tr>\n",
       "      <th>0</th>\n",
       "      <td>Simple RNN</td>\n",
       "      <td>Lemmatized_concatenated_GloVe</td>\n",
       "      <td>[0.0036917212419211864, 0.9984126687049866]</td>\n",
       "      <td>[3.2730259895324707, 0.4166666567325592]</td>\n",
       "      <td>4</td>\n",
       "    </tr>\n",
       "    <tr>\n",
       "      <th>1</th>\n",
       "      <td>GRU</td>\n",
       "      <td>Lemmatized_concatenated_GloVe</td>\n",
       "      <td>[0.0055404771119356155, 0.9968253970146179]</td>\n",
       "      <td>[7.728967666625977, 0.3452380895614624]</td>\n",
       "      <td>5</td>\n",
       "    </tr>\n",
       "    <tr>\n",
       "      <th>2</th>\n",
       "      <td>LSTM</td>\n",
       "      <td>Lemmatized_concatenated_GloVe</td>\n",
       "      <td>[0.006871403660625219, 0.9968253970146179]</td>\n",
       "      <td>[4.108074188232422, 0.5952380895614624]</td>\n",
       "      <td>2</td>\n",
       "    </tr>\n",
       "    <tr>\n",
       "      <th>3</th>\n",
       "      <td>Bi-Directional RNN</td>\n",
       "      <td>Lemmatized_concatenated_GloVe</td>\n",
       "      <td>[0.019844254478812218, 0.9936507940292358]</td>\n",
       "      <td>[4.39696741104126, 0.3571428656578064]</td>\n",
       "      <td>3</td>\n",
       "    </tr>\n",
       "    <tr>\n",
       "      <th>4</th>\n",
       "      <td>Bi-Directional GRU</td>\n",
       "      <td>Lemmatized_concatenated_GloVe</td>\n",
       "      <td>[0.013464070856571198, 0.9968253970146179]</td>\n",
       "      <td>[4.739116668701172, 0.5476190447807312]</td>\n",
       "      <td>3</td>\n",
       "    </tr>\n",
       "    <tr>\n",
       "      <th>5</th>\n",
       "      <td>Bi-Directional LSTM</td>\n",
       "      <td>Lemmatized_concatenated_GloVe</td>\n",
       "      <td>[0.006571796257048845, 0.9968253970146179]</td>\n",
       "      <td>[5.051074981689453, 0.6071428656578064]</td>\n",
       "      <td>3</td>\n",
       "    </tr>\n",
       "    <tr>\n",
       "      <th>6</th>\n",
       "      <td>Simple RNN</td>\n",
       "      <td>Lemmatized_withoutconcatenation_GloVe</td>\n",
       "      <td>[0.006571796257048845, 0.9968253970146179]</td>\n",
       "      <td>[5.051074981689453, 0.6071428656578064]</td>\n",
       "      <td>3</td>\n",
       "    </tr>\n",
       "    <tr>\n",
       "      <th>7</th>\n",
       "      <td>GRU</td>\n",
       "      <td>Lemmatized_withoutconcatenation_GloVe</td>\n",
       "      <td>[0.006952998694032431, 0.9952380657196045]</td>\n",
       "      <td>[20.249876022338867, 0.190476194024086]</td>\n",
       "      <td>3</td>\n",
       "    </tr>\n",
       "    <tr>\n",
       "      <th>8</th>\n",
       "      <td>LSTM</td>\n",
       "      <td>Lemmatized_withoutconcatenation_GloVe</td>\n",
       "      <td>[0.01058152411133051, 0.9944444298744202]</td>\n",
       "      <td>[4.0623698234558105, 0.5595238208770752]</td>\n",
       "      <td>2</td>\n",
       "    </tr>\n",
       "    <tr>\n",
       "      <th>9</th>\n",
       "      <td>Bi-Directional RNN</td>\n",
       "      <td>Lemmatized_withoutconcatenation_GloVe</td>\n",
       "      <td>[0.027981502935290337, 0.988095223903656]</td>\n",
       "      <td>[3.4791150093078613, 0.369047611951828]</td>\n",
       "      <td>1</td>\n",
       "    </tr>\n",
       "    <tr>\n",
       "      <th>10</th>\n",
       "      <td>Bi-Directional GRU</td>\n",
       "      <td>Lemmatized_withoutconcatenation_GloVe</td>\n",
       "      <td>[0.011998853646218777, 0.9928571581840515]</td>\n",
       "      <td>[11.594881057739258, 0.488095223903656]</td>\n",
       "      <td>3</td>\n",
       "    </tr>\n",
       "    <tr>\n",
       "      <th>11</th>\n",
       "      <td>Bi-Directional LSTM</td>\n",
       "      <td>Lemmatized_withoutconcatenation_GloVe</td>\n",
       "      <td>[0.01050073653459549, 0.9944444298744202]</td>\n",
       "      <td>[3.422482490539551, 0.5595238208770752]</td>\n",
       "      <td>2</td>\n",
       "    </tr>\n",
       "    <tr>\n",
       "      <th>12</th>\n",
       "      <td>Simple RNN</td>\n",
       "      <td>Lemmatized_withoutconcatenation_W2V</td>\n",
       "      <td>[0.5870584845542908, 0.6493738889694214]</td>\n",
       "      <td>[1.495787262916565, 0.6309523582458496]</td>\n",
       "      <td>2</td>\n",
       "    </tr>\n",
       "    <tr>\n",
       "      <th>13</th>\n",
       "      <td>GRU</td>\n",
       "      <td>Lemmatized_withoutconcatenation_W2V</td>\n",
       "      <td>[0.0349888950586319, 0.9901610016822815]</td>\n",
       "      <td>[10.171610832214355, 0.5714285969734192]</td>\n",
       "      <td>2</td>\n",
       "    </tr>\n",
       "    <tr>\n",
       "      <th>14</th>\n",
       "      <td>LSTM</td>\n",
       "      <td>Lemmatized_withoutconcatenation_W2V</td>\n",
       "      <td>[0.018095092847943306, 0.9919499158859253]</td>\n",
       "      <td>[7.067124366760254, 0.6309523582458496]</td>\n",
       "      <td>1</td>\n",
       "    </tr>\n",
       "    <tr>\n",
       "      <th>15</th>\n",
       "      <td>Bi-Directional RNN</td>\n",
       "      <td>Lemmatized_withconcatenation_GloVe</td>\n",
       "      <td>[1.6033499240875244, 0.22898031771183014]</td>\n",
       "      <td>[1.5673328638076782, 0.095238097012043]</td>\n",
       "      <td>1</td>\n",
       "    </tr>\n",
       "    <tr>\n",
       "      <th>16</th>\n",
       "      <td>Bi-Directional GRU</td>\n",
       "      <td>Lemmatized_withconcatenation_W2V</td>\n",
       "      <td>[0.20763765275478363, 0.9642218351364136]</td>\n",
       "      <td>[6.444609642028809, 0.75]</td>\n",
       "      <td>1</td>\n",
       "    </tr>\n",
       "  </tbody>\n",
       "</table>\n",
       "</div>"
      ],
      "text/plain": [
       "             Model_name  ... Classes_identified\n",
       "0            Simple RNN  ...                  4\n",
       "1                   GRU  ...                  5\n",
       "2                  LSTM  ...                  2\n",
       "3    Bi-Directional RNN  ...                  3\n",
       "4    Bi-Directional GRU  ...                  3\n",
       "5   Bi-Directional LSTM  ...                  3\n",
       "6            Simple RNN  ...                  3\n",
       "7                   GRU  ...                  3\n",
       "8                  LSTM  ...                  2\n",
       "9    Bi-Directional RNN  ...                  1\n",
       "10   Bi-Directional GRU  ...                  3\n",
       "11  Bi-Directional LSTM  ...                  2\n",
       "12           Simple RNN  ...                  2\n",
       "13                  GRU  ...                  2\n",
       "14                 LSTM  ...                  1\n",
       "15   Bi-Directional RNN  ...                  1\n",
       "16   Bi-Directional GRU  ...                  1\n",
       "\n",
       "[17 rows x 5 columns]"
      ]
     },
     "execution_count": 130,
     "metadata": {},
     "output_type": "execute_result"
    }
   ],
   "source": [
    "Sequential_model_metrics"
   ]
  },
  {
   "cell_type": "markdown",
   "id": "tquOEn0FR2J0",
   "metadata": {
    "id": "tquOEn0FR2J0"
   },
   "source": [
    "## Bi-Directional LSTM"
   ]
  },
  {
   "cell_type": "code",
   "execution_count": null,
   "id": "kMTEVUBJNqli",
   "metadata": {
    "colab": {
     "base_uri": "https://localhost:8080/"
    },
    "id": "kMTEVUBJNqli",
    "outputId": "134fff25-4a8f-4116-8dff-582b5a5df51c"
   },
   "outputs": [
    {
     "name": "stdout",
     "output_type": "stream",
     "text": [
      "Model: \"sequential_19\"\n",
      "_________________________________________________________________\n",
      " Layer (type)                Output Shape              Param #   \n",
      "=================================================================\n",
      " embedding_19 (Embedding)    (None, 100, 100)          344600    \n",
      "                                                                 \n",
      " bidirectional_9 (Bidirectio  (None, 600)              962400    \n",
      " nal)                                                            \n",
      "                                                                 \n",
      " flatten_19 (Flatten)        (None, 600)               0         \n",
      "                                                                 \n",
      " dense_57 (Dense)            (None, 100)               60100     \n",
      "                                                                 \n",
      " dropout_38 (Dropout)        (None, 100)               0         \n",
      "                                                                 \n",
      " dense_58 (Dense)            (None, 50)                5050      \n",
      "                                                                 \n",
      " dropout_39 (Dropout)        (None, 50)                0         \n",
      "                                                                 \n",
      " dense_59 (Dense)            (None, 5)                 255       \n",
      "                                                                 \n",
      "=================================================================\n",
      "Total params: 1,372,405\n",
      "Trainable params: 1,372,405\n",
      "Non-trainable params: 0\n",
      "_________________________________________________________________\n",
      "Epoch 1/50\n",
      "35/35 [==============================] - 77s 2s/step - loss: 1.4353 - accuracy: 0.3792 - val_loss: 1.9194 - val_accuracy: 0.0952\n",
      "Epoch 2/50\n",
      "35/35 [==============================] - 66s 2s/step - loss: 1.1222 - accuracy: 0.4911 - val_loss: 1.5281 - val_accuracy: 0.3095\n",
      "Epoch 3/50\n",
      "35/35 [==============================] - 66s 2s/step - loss: 0.8188 - accuracy: 0.6225 - val_loss: 1.1564 - val_accuracy: 0.6667\n",
      "Epoch 4/50\n",
      "35/35 [==============================] - 66s 2s/step - loss: 0.6325 - accuracy: 0.7191 - val_loss: 1.8724 - val_accuracy: 0.5000\n",
      "Epoch 5/50\n",
      "35/35 [==============================] - 66s 2s/step - loss: 0.4340 - accuracy: 0.8193 - val_loss: 1.7473 - val_accuracy: 0.5238\n",
      "Epoch 6/50\n",
      "35/35 [==============================] - 66s 2s/step - loss: 0.2276 - accuracy: 0.9231 - val_loss: 2.6412 - val_accuracy: 0.6071\n",
      "Epoch 7/50\n",
      "35/35 [==============================] - 66s 2s/step - loss: 0.2206 - accuracy: 0.9356 - val_loss: 2.3939 - val_accuracy: 0.4643\n",
      "Epoch 8/50\n",
      "35/35 [==============================] - 66s 2s/step - loss: 0.0953 - accuracy: 0.9696 - val_loss: 3.3125 - val_accuracy: 0.5714\n",
      "Epoch 9/50\n",
      "35/35 [==============================] - 66s 2s/step - loss: 0.0915 - accuracy: 0.9750 - val_loss: 2.9314 - val_accuracy: 0.6190\n",
      "Epoch 10/50\n",
      "35/35 [==============================] - 66s 2s/step - loss: 0.0418 - accuracy: 0.9884 - val_loss: 3.8178 - val_accuracy: 0.6190\n",
      "Epoch 11/50\n",
      "35/35 [==============================] - 66s 2s/step - loss: 0.1177 - accuracy: 0.9741 - val_loss: 2.9940 - val_accuracy: 0.5000\n",
      "Epoch 12/50\n",
      "35/35 [==============================] - 66s 2s/step - loss: 0.0764 - accuracy: 0.9785 - val_loss: 4.1908 - val_accuracy: 0.6905\n",
      "Epoch 13/50\n",
      "35/35 [==============================] - 66s 2s/step - loss: 0.0641 - accuracy: 0.9875 - val_loss: 4.3170 - val_accuracy: 0.7143\n",
      "Epoch 14/50\n",
      "35/35 [==============================] - 66s 2s/step - loss: 0.0838 - accuracy: 0.9776 - val_loss: 4.1263 - val_accuracy: 0.5119\n",
      "Epoch 15/50\n",
      "35/35 [==============================] - 66s 2s/step - loss: 0.0395 - accuracy: 0.9875 - val_loss: 4.3584 - val_accuracy: 0.6786\n",
      "Epoch 16/50\n",
      "35/35 [==============================] - 66s 2s/step - loss: 0.0411 - accuracy: 0.9848 - val_loss: 4.0219 - val_accuracy: 0.7262\n",
      "Epoch 17/50\n",
      "35/35 [==============================] - 66s 2s/step - loss: 0.0145 - accuracy: 0.9928 - val_loss: 5.8631 - val_accuracy: 0.7143\n",
      "Epoch 18/50\n",
      "35/35 [==============================] - 66s 2s/step - loss: 0.0242 - accuracy: 0.9902 - val_loss: 6.3721 - val_accuracy: 0.6190\n",
      "Epoch 19/50\n",
      "35/35 [==============================] - 66s 2s/step - loss: 0.0129 - accuracy: 0.9911 - val_loss: 9.2638 - val_accuracy: 0.6667\n",
      "Epoch 20/50\n",
      "35/35 [==============================] - 66s 2s/step - loss: 0.2653 - accuracy: 0.9732 - val_loss: 8.4368 - val_accuracy: 0.5357\n",
      "Epoch 21/50\n",
      "35/35 [==============================] - 66s 2s/step - loss: 0.0556 - accuracy: 0.9857 - val_loss: 6.0363 - val_accuracy: 0.6548\n",
      "Epoch 22/50\n",
      "35/35 [==============================] - 66s 2s/step - loss: 0.0348 - accuracy: 0.9919 - val_loss: 7.1094 - val_accuracy: 0.6786\n",
      "Epoch 23/50\n",
      "35/35 [==============================] - 66s 2s/step - loss: 0.0246 - accuracy: 0.9893 - val_loss: 8.5911 - val_accuracy: 0.6905\n",
      "Epoch 24/50\n",
      "35/35 [==============================] - 66s 2s/step - loss: 0.1100 - accuracy: 0.9794 - val_loss: 4.0688 - val_accuracy: 0.6071\n",
      "Epoch 25/50\n",
      "35/35 [==============================] - 66s 2s/step - loss: 0.0378 - accuracy: 0.9884 - val_loss: 4.3180 - val_accuracy: 0.6786\n",
      "Epoch 26/50\n",
      "35/35 [==============================] - 66s 2s/step - loss: 0.0189 - accuracy: 0.9902 - val_loss: 7.3878 - val_accuracy: 0.6786\n"
     ]
    },
    {
     "data": {
      "text/plain": [
       "<keras.callbacks.History at 0x7f36232f4990>"
      ]
     },
     "execution_count": 131,
     "metadata": {},
     "output_type": "execute_result"
    }
   ],
   "source": [
    "model_12 = Sequential()\n",
    "model_12.add(Embedding(input_dim = len(word_index)+1,output_dim = 100, weights=[weights],input_length = 100))\n",
    "model_12.add(Bidirectional(LSTM(300, recurrent_dropout=0.4)))\n",
    "model_12.add(Flatten())\n",
    "model_12.add(Dense(100, activation = 'relu'))\n",
    "model_12.add(Dropout(0.2))\n",
    "model_12.add(Dense(50, activation = 'relu'))\n",
    "model_12.add(Dropout(0.2))\n",
    "model_12.add(Dense(5, activation = 'softmax'))\n",
    "adam = Adam(learning_rate=0.01, beta_1=0.8, beta_2=0.9, epsilon=1e-04, amsgrad=False, name='Adam')\n",
    "model_12.compile(loss = 'categorical_crossentropy', optimizer = adam, metrics = ['accuracy'])\n",
    "model_12.summary()\n",
    "ES = EarlyStopping(monitor='val_accuracy', min_delta=0.01,patience=10,mode='max')\n",
    "model_12.fit(X_train, y_train, epochs = 50,validation_data=(X_test,y_test),callbacks=[ES])"
   ]
  },
  {
   "cell_type": "code",
   "execution_count": null,
   "id": "Nh87a1P6pD3t",
   "metadata": {
    "colab": {
     "base_uri": "https://localhost:8080/"
    },
    "id": "Nh87a1P6pD3t",
    "outputId": "88a8e361-7bf1-4c93-a2ad-668df541bfdc"
   },
   "outputs": [
    {
     "data": {
      "text/plain": [
       "<keras.engine.sequential.Sequential at 0x7f36233a68d0>"
      ]
     },
     "execution_count": 169,
     "metadata": {},
     "output_type": "execute_result"
    }
   ],
   "source": [
    "model_12"
   ]
  },
  {
   "cell_type": "code",
   "execution_count": null,
   "id": "QXJMGjQ_SAoq",
   "metadata": {
    "id": "QXJMGjQ_SAoq"
   },
   "outputs": [],
   "source": [
    "prediction = model_12.predict(X_test)\n",
    "value,classes_pred = tf.math.top_k(prediction, k=1, sorted=True, name=None)\n",
    "classes_actual = y_test.idxmax(axis=1)\n",
    "print(classification_report(classes_actual,classes_pred))"
   ]
  },
  {
   "cell_type": "code",
   "execution_count": null,
   "id": "zemVdifTSAri",
   "metadata": {
    "colab": {
     "base_uri": "https://localhost:8080/"
    },
    "id": "zemVdifTSAri",
    "outputId": "8bec6b03-ad7e-474c-f9ff-89cc8cf2099a"
   },
   "outputs": [
    {
     "name": "stdout",
     "output_type": "stream",
     "text": [
      "35/35 [==============================] - 9s 252ms/step - loss: 0.0145 - accuracy: 0.9928\n",
      "3/3 [==============================] - 1s 277ms/step - loss: 7.3878 - accuracy: 0.6786\n"
     ]
    }
   ],
   "source": [
    "Train_score = model_12.evaluate(X_train,y_train)\n",
    "Test_score = model_12.evaluate(X_test,y_test)\n",
    "Sequential_model_metrics = Sequential_model_metrics.append({'Model_name':'Bi-Directional LSTM','Dataset':'Lemmatized_withconcatenation_W2V','Training_Accuracy':Train_score,'Test_Accuracy':Test_score,'Classes_identified':2},ignore_index=True)"
   ]
  },
  {
   "cell_type": "code",
   "execution_count": null,
   "id": "gH9UntGXSAu8",
   "metadata": {
    "colab": {
     "base_uri": "https://localhost:8080/",
     "height": 736
    },
    "id": "gH9UntGXSAu8",
    "outputId": "257ade02-a04b-4165-8d10-59e271658526"
   },
   "outputs": [
    {
     "data": {
      "text/html": [
       "<div>\n",
       "<style scoped>\n",
       "    .dataframe tbody tr th:only-of-type {\n",
       "        vertical-align: middle;\n",
       "    }\n",
       "\n",
       "    .dataframe tbody tr th {\n",
       "        vertical-align: top;\n",
       "    }\n",
       "\n",
       "    .dataframe thead th {\n",
       "        text-align: right;\n",
       "    }\n",
       "</style>\n",
       "<table border=\"1\" class=\"dataframe\">\n",
       "  <thead>\n",
       "    <tr style=\"text-align: right;\">\n",
       "      <th></th>\n",
       "      <th>Model_name</th>\n",
       "      <th>Dataset</th>\n",
       "      <th>Training_Accuracy</th>\n",
       "      <th>Test_Accuracy</th>\n",
       "      <th>Classes_identified</th>\n",
       "    </tr>\n",
       "  </thead>\n",
       "  <tbody>\n",
       "    <tr>\n",
       "      <th>0</th>\n",
       "      <td>Simple RNN</td>\n",
       "      <td>Lemmatized_concatenated_GloVe</td>\n",
       "      <td>[0.0036917212419211864, 0.9984126687049866]</td>\n",
       "      <td>[3.2730259895324707, 0.4166666567325592]</td>\n",
       "      <td>4</td>\n",
       "    </tr>\n",
       "    <tr>\n",
       "      <th>1</th>\n",
       "      <td>GRU</td>\n",
       "      <td>Lemmatized_concatenated_GloVe</td>\n",
       "      <td>[0.0055404771119356155, 0.9968253970146179]</td>\n",
       "      <td>[7.728967666625977, 0.3452380895614624]</td>\n",
       "      <td>5</td>\n",
       "    </tr>\n",
       "    <tr>\n",
       "      <th>2</th>\n",
       "      <td>LSTM</td>\n",
       "      <td>Lemmatized_concatenated_GloVe</td>\n",
       "      <td>[0.006871403660625219, 0.9968253970146179]</td>\n",
       "      <td>[4.108074188232422, 0.5952380895614624]</td>\n",
       "      <td>2</td>\n",
       "    </tr>\n",
       "    <tr>\n",
       "      <th>3</th>\n",
       "      <td>Bi-Directional RNN</td>\n",
       "      <td>Lemmatized_concatenated_GloVe</td>\n",
       "      <td>[0.019844254478812218, 0.9936507940292358]</td>\n",
       "      <td>[4.39696741104126, 0.3571428656578064]</td>\n",
       "      <td>3</td>\n",
       "    </tr>\n",
       "    <tr>\n",
       "      <th>4</th>\n",
       "      <td>Bi-Directional GRU</td>\n",
       "      <td>Lemmatized_concatenated_GloVe</td>\n",
       "      <td>[0.013464070856571198, 0.9968253970146179]</td>\n",
       "      <td>[4.739116668701172, 0.5476190447807312]</td>\n",
       "      <td>3</td>\n",
       "    </tr>\n",
       "    <tr>\n",
       "      <th>5</th>\n",
       "      <td>Bi-Directional LSTM</td>\n",
       "      <td>Lemmatized_concatenated_GloVe</td>\n",
       "      <td>[0.006571796257048845, 0.9968253970146179]</td>\n",
       "      <td>[5.051074981689453, 0.6071428656578064]</td>\n",
       "      <td>3</td>\n",
       "    </tr>\n",
       "    <tr>\n",
       "      <th>6</th>\n",
       "      <td>Simple RNN</td>\n",
       "      <td>Lemmatized_withoutconcatenation_GloVe</td>\n",
       "      <td>[0.006571796257048845, 0.9968253970146179]</td>\n",
       "      <td>[5.051074981689453, 0.6071428656578064]</td>\n",
       "      <td>3</td>\n",
       "    </tr>\n",
       "    <tr>\n",
       "      <th>7</th>\n",
       "      <td>GRU</td>\n",
       "      <td>Lemmatized_withoutconcatenation_GloVe</td>\n",
       "      <td>[0.006952998694032431, 0.9952380657196045]</td>\n",
       "      <td>[20.249876022338867, 0.190476194024086]</td>\n",
       "      <td>3</td>\n",
       "    </tr>\n",
       "    <tr>\n",
       "      <th>8</th>\n",
       "      <td>LSTM</td>\n",
       "      <td>Lemmatized_withoutconcatenation_GloVe</td>\n",
       "      <td>[0.01058152411133051, 0.9944444298744202]</td>\n",
       "      <td>[4.0623698234558105, 0.5595238208770752]</td>\n",
       "      <td>2</td>\n",
       "    </tr>\n",
       "    <tr>\n",
       "      <th>9</th>\n",
       "      <td>Bi-Directional RNN</td>\n",
       "      <td>Lemmatized_withoutconcatenation_GloVe</td>\n",
       "      <td>[0.027981502935290337, 0.988095223903656]</td>\n",
       "      <td>[3.4791150093078613, 0.369047611951828]</td>\n",
       "      <td>1</td>\n",
       "    </tr>\n",
       "    <tr>\n",
       "      <th>10</th>\n",
       "      <td>Bi-Directional GRU</td>\n",
       "      <td>Lemmatized_withoutconcatenation_GloVe</td>\n",
       "      <td>[0.011998853646218777, 0.9928571581840515]</td>\n",
       "      <td>[11.594881057739258, 0.488095223903656]</td>\n",
       "      <td>3</td>\n",
       "    </tr>\n",
       "    <tr>\n",
       "      <th>11</th>\n",
       "      <td>Bi-Directional LSTM</td>\n",
       "      <td>Lemmatized_withoutconcatenation_GloVe</td>\n",
       "      <td>[0.01050073653459549, 0.9944444298744202]</td>\n",
       "      <td>[3.422482490539551, 0.5595238208770752]</td>\n",
       "      <td>2</td>\n",
       "    </tr>\n",
       "    <tr>\n",
       "      <th>12</th>\n",
       "      <td>Simple RNN</td>\n",
       "      <td>Lemmatized_withoutconcatenation_W2V</td>\n",
       "      <td>[0.5870584845542908, 0.6493738889694214]</td>\n",
       "      <td>[1.495787262916565, 0.6309523582458496]</td>\n",
       "      <td>2</td>\n",
       "    </tr>\n",
       "    <tr>\n",
       "      <th>13</th>\n",
       "      <td>GRU</td>\n",
       "      <td>Lemmatized_withoutconcatenation_W2V</td>\n",
       "      <td>[0.0349888950586319, 0.9901610016822815]</td>\n",
       "      <td>[10.171610832214355, 0.5714285969734192]</td>\n",
       "      <td>2</td>\n",
       "    </tr>\n",
       "    <tr>\n",
       "      <th>14</th>\n",
       "      <td>LSTM</td>\n",
       "      <td>Lemmatized_withoutconcatenation_W2V</td>\n",
       "      <td>[0.018095092847943306, 0.9919499158859253]</td>\n",
       "      <td>[7.067124366760254, 0.6309523582458496]</td>\n",
       "      <td>1</td>\n",
       "    </tr>\n",
       "    <tr>\n",
       "      <th>15</th>\n",
       "      <td>Bi-Directional RNN</td>\n",
       "      <td>Lemmatized_withconcatenation_GloVe</td>\n",
       "      <td>[1.6033499240875244, 0.22898031771183014]</td>\n",
       "      <td>[1.5673328638076782, 0.095238097012043]</td>\n",
       "      <td>1</td>\n",
       "    </tr>\n",
       "    <tr>\n",
       "      <th>16</th>\n",
       "      <td>Bi-Directional GRU</td>\n",
       "      <td>Lemmatized_withconcatenation_W2V</td>\n",
       "      <td>[0.20763765275478363, 0.9642218351364136]</td>\n",
       "      <td>[6.444609642028809, 0.75]</td>\n",
       "      <td>1</td>\n",
       "    </tr>\n",
       "    <tr>\n",
       "      <th>17</th>\n",
       "      <td>Bi-Directional LSTM</td>\n",
       "      <td>Lemmatized_withconcatenation_W2V</td>\n",
       "      <td>[0.014494211412966251, 0.9928443431854248]</td>\n",
       "      <td>[7.387774467468262, 0.6785714030265808]</td>\n",
       "      <td>2</td>\n",
       "    </tr>\n",
       "  </tbody>\n",
       "</table>\n",
       "</div>"
      ],
      "text/plain": [
       "             Model_name  ... Classes_identified\n",
       "0            Simple RNN  ...                  4\n",
       "1                   GRU  ...                  5\n",
       "2                  LSTM  ...                  2\n",
       "3    Bi-Directional RNN  ...                  3\n",
       "4    Bi-Directional GRU  ...                  3\n",
       "5   Bi-Directional LSTM  ...                  3\n",
       "6            Simple RNN  ...                  3\n",
       "7                   GRU  ...                  3\n",
       "8                  LSTM  ...                  2\n",
       "9    Bi-Directional RNN  ...                  1\n",
       "10   Bi-Directional GRU  ...                  3\n",
       "11  Bi-Directional LSTM  ...                  2\n",
       "12           Simple RNN  ...                  2\n",
       "13                  GRU  ...                  2\n",
       "14                 LSTM  ...                  1\n",
       "15   Bi-Directional RNN  ...                  1\n",
       "16   Bi-Directional GRU  ...                  1\n",
       "17  Bi-Directional LSTM  ...                  2\n",
       "\n",
       "[18 rows x 5 columns]"
      ]
     },
     "execution_count": 135,
     "metadata": {},
     "output_type": "execute_result"
    }
   ],
   "source": [
    "Sequential_model_metrics"
   ]
  },
  {
   "cell_type": "markdown",
   "id": "XokNawwW42ma",
   "metadata": {
    "id": "XokNawwW42ma"
   },
   "source": [
    "## NLP Augmentation"
   ]
  },
  {
   "cell_type": "code",
   "execution_count": null,
   "id": "nS01HZTCWTzp",
   "metadata": {
    "id": "nS01HZTCWTzp"
   },
   "outputs": [],
   "source": [
    "new = pd.Series()\n",
    "new1 = pd.Series()\n",
    "aug = naf.Sequential([\n",
    "    naw.RandomWordAug(action='swap')\n",
    "])\n",
    "# aug = naw.ContextualWordEmbsAug(model_path='bert-base-uncased', action=\"insert\")\n",
    "# augmented_text = aug.augment(text,n=2)\n",
    "\n",
    "for i,j in zip(X,y):\n",
    "  if j == \"II\":\n",
    "    text = aug.augment(i, n=7)\n",
    "    new = new.append(pd.Series(text),ignore_index=True)\n",
    "    # y.append(i)\n",
    "    # X = X.append(pd.Series(text),ignore_index=True)\n",
    "    k=0\n",
    "    while(k < 7):\n",
    "      new1 = new1.append(pd.Series(j))\n",
    "      k+=1\n",
    "\n",
    "  elif j == \"III\" or j == \"IV\":\n",
    "    text = aug.augment(i, n=8)\n",
    "    new = new.append(pd.Series(text),ignore_index=True)\n",
    "    # X = X.append(pd.Series(text),ignore_index=True)\n",
    "    k=0\n",
    "    while(k < 8):\n",
    "      new1 = new1.append(pd.Series(j))\n",
    "      k+=1\n",
    "    \n",
    "  elif j == \"V\":\n",
    "    text = aug.augment(i, n=35)\n",
    "    new = new.append(pd.Series(text),ignore_index=True)\n",
    "    k=0\n",
    "    # X = X.append(pd.Series(text),ignore_index=True)\n",
    "    while(k < 35):\n",
    "      new1 = new1.append(pd.Series(j))\n",
    "      # y = y.append(pd.Series(j))\n",
    "      k+=1\n",
    "  \n",
    "  else:\n",
    "    pass\n",
    "X_train = X_train.append(new)\n",
    "y_train = y_train.append(new1)"
   ]
  },
  {
   "cell_type": "code",
   "execution_count": null,
   "id": "dMlyge-J-vwQ",
   "metadata": {
    "id": "dMlyge-J-vwQ"
   },
   "outputs": [],
   "source": []
  },
  {
   "cell_type": "markdown",
   "id": "SoJZz0J045RP",
   "metadata": {
    "id": "SoJZz0J045RP"
   },
   "source": [
    "Test data"
   ]
  },
  {
   "cell_type": "code",
   "execution_count": null,
   "id": "PfpzdDVmNOqf",
   "metadata": {
    "id": "PfpzdDVmNOqf"
   },
   "outputs": [],
   "source": [
    "def Train_test_Data(x):\n",
    "  print(\"---------------------------------------------------------------------------------------------------------------------------------------------------------\")\n",
    "  print(\"The datatypes available are 'Description','Description_1','Description_1Stemmed','Description_1lemmatized','Description_Stemmed','Description_lemmatized'\")\n",
    "  print(\"---------------------------------------------------------------------------------------------------------------------------------------------------------\")\n",
    "  datatype = str(input(\"Enter datatype that you would like to use \"))\n",
    "  print(\"----------------------------------------------------------\")\n",
    "  testsize = float(input(\"Enter test size options 0.1,0.2,0.3,0.4 \"))\n",
    "  X_train,X_test,y_train,y_test = train_test_split(x[datatype], x['Accident Level'], test_size=testsize, random_state=42)\n",
    "  X_train, X_val, y_train, y_val = train_test_split(X_train, y_train, test_size=0.2, random_state=42)\n",
    "  print(\"------------------------\")\n",
    "  print(\"Train Test Validation split created\")\n",
    "  print(\"------------------------\")\n",
    "  print(\"Data Augmentation type: 'RandomWordAug','synonymaugmenter'\")\n",
    "  print(\"---------------------------------------\")\n",
    "  dataAugtype = str(input(\"Enter datatype that you would like to use \")).lower()\n",
    "  if dataAugtype=='randomwordaug':\n",
    "    aug = naf.Sequential([\n",
    "    naw.RandomWordAug(action='swap')\n",
    "    ])\n",
    "  elif dataAugtype=='synonymaugmenter':\n",
    "    aug = naf.Sequential([\n",
    "    naw.SynonymAug(aug_src='wordnet')\n",
    "    ])\n",
    "  print(\"Data Augmentation object created\")\n",
    "  print(\"--------------------------------\")\n",
    "  print(\"Current Target value counts for Training data\")\n",
    "  print(\"---------------------------------------------\")\n",
    "  print(y_train.value_counts())\n",
    "  print(\"--------------------------------\")\n",
    "  print(f\"We have {y_train.nunique()} classes out of which our focus is on classes II,III,IV,V\")\n",
    "  print(\"------------------------------------------------------------------------------------\")\n",
    "  print(\"Enter count of times you want a class to be replicated\")\n",
    "  print(\"------------------------------------------------------\")\n",
    "  II = int(input(\"Enter the count of times you want class II replicated(Only integer allowed) \"))\n",
    "  print(\"------------------------------------------------------------------\")\n",
    "  III = int(input(\"Enter the count of times you want class III replicated(Only integer allowed) \"))\n",
    "  print(\"------------------------------------------------------------------\")\n",
    "  IV = int(input(\"Enter the count of times you want class IV replicated(Only integer allowed) \"))\n",
    "  print(\"------------------------------------------------------------------\")\n",
    "  V = int(input(\"Enter the count of times you want class V replicated(Only integer allowed) \"))\n",
    "  print(\"------------------------------------------------------------------\")\n",
    "  print(\"Replication numbers saved\")\n",
    "  print(\"---------------------------\")\n",
    "  new = pd.Series()\n",
    "  new1 = pd.Series()\n",
    "  for i,j in zip(X_train,y_train):\n",
    "    if j == \"II\":\n",
    "      text = aug.augment(i, n=II)\n",
    "      new = new.append(pd.Series(text),ignore_index=True)\n",
    "      k=0\n",
    "      while(k < II):\n",
    "        new1 = new1.append(pd.Series(j))\n",
    "        k+=1\n",
    "    elif j == \"III\" :\n",
    "      text = aug.augment(i, n=III)\n",
    "      new = new.append(pd.Series(text),ignore_index=True)\n",
    "      k=0\n",
    "      while(k < III):\n",
    "        new1 = new1.append(pd.Series(j))\n",
    "        k+=1\n",
    "\n",
    "    elif j == \"IV\":\n",
    "      text = aug.augment(i, n=IV)\n",
    "      new = new.append(pd.Series(text),ignore_index=True)\n",
    "      k=0\n",
    "      while(k < IV):\n",
    "        new1 = new1.append(pd.Series(j))\n",
    "        k+=1\n",
    "    elif j == \"V\":\n",
    "      text = aug.augment(i, n=V)\n",
    "      new = new.append(pd.Series(text),ignore_index=True)\n",
    "      k=0\n",
    "      while(k < V):\n",
    "        new1 = new1.append(pd.Series(j))\n",
    "        k+=1\n",
    "    else:\n",
    "      pass\n",
    "  X_train = X_train.append(new)\n",
    "  y_train = y_train.append(new1)\n",
    "  print(\"Augmentation completed, check the class value counts\")\n",
    "  print(\"----------------------------------------------------\")\n",
    "  print(f\"Target value counts for Training data post applying {dataAugtype} technique\")\n",
    "  print(y_train.value_counts())\n",
    "  print(\"--------------------\")\n",
    "  print(\"Choice of vectors, GloVe ? or Word2Vec?\")\n",
    "  print(\"---------------------------------------\")\n",
    "  Vector_type = str(input(\"Please enter your input: 1. GloVe 2. Word2Vec\")).lower()\n",
    "  print(\"---------------------------------------------\")\n",
    "  if Vector_type == \"glove\":\n",
    "    embedding_vectors = {}\n",
    "    for i in open(project_path+\"/glove_6B_100d.txt\", encoding=\"utf8\"):\n",
    "        word = i.split(\" \")[0]\n",
    "        embedding = i.split(\" \")[1:]\n",
    "        embedding_vectors[word] = embedding\n",
    "    print(\"Loaded GloVe vectors\")\n",
    "    print(\"--------------------\")\n",
    "    tokenizer_l = Tokenizer(num_words = 3452)\n",
    "    tokenizer_l.fit_on_texts(x[datatype])\n",
    "    text_tokenized_l = tokenizer_l.texts_to_sequences(x[datatype])\n",
    "    embedding_matrix_lemmatized = np.zeros((len(tokenizer_l.word_index)+1, 100))\n",
    "    missed_words = []\n",
    "    for word, i in tokenizer_l.word_index.items():\n",
    "        embedding_vector = embedding_vectors.get(word.replace(\"​​\",\"\"))\n",
    "        if embedding_vector is not None:\n",
    "            embedding_matrix_lemmatized[i] = embedding_vector\n",
    "        else:\n",
    "          missed_words.append(word)\n",
    "    print(\"GloVe vectors generated\")\n",
    "    print(\"-----------------------\")\n",
    "\n",
    "\n",
    "    TK7 = Tokenizer()\n",
    "    TK7.fit_on_texts(x[datatype])\n",
    "    data_7_train = TK7.texts_to_sequences(X_train)\n",
    "    print(y_train.value_counts())\n",
    "    print(\"----------------------------------\")\n",
    "    LE6 = LabelEncoder()\n",
    "    classes_actual_train = LE6.fit_transform(y_train)\n",
    "    print(\"Label Encoding Target - Train data\")\n",
    "    print(\"----------------------------------\")\n",
    "    X_train = pad_sequences(data_7_train,maxlen=100)\n",
    "    print(\"Padding X_train words as sequences\")\n",
    "    print(\"----------------------------------\")\n",
    "    y_train = pd.get_dummies(classes_actual_train)\n",
    "    print(\"Target Train classes one hot encoded\")\n",
    "    print(\"------------------------------------\")\n",
    "\n",
    "    data_list7 = [nltk.word_tokenize(i) for i in X_test]\n",
    "    TK8 = Tokenizer()\n",
    "    TK8.fit_on_texts(X_test)      \n",
    "    data_7_test = TK8.texts_to_sequences(X_test)\n",
    "    LE7 = LabelEncoder()\n",
    "    classes_actual_test = LE7.fit_transform(y_test)\n",
    "    X_test = pad_sequences(data_7_test,maxlen=100)\n",
    "    y_test = pd.get_dummies(classes_actual_test)\n",
    "    data_list7 = [nltk.word_tokenize(i) for i in X_test]\n",
    "\n",
    "\n",
    "    TK9 = Tokenizer()\n",
    "    TK9.fit_on_texts(X_val)\n",
    "    WTS = str(input(\"Do you wish to see missed words? Yes or No\")).lower()\n",
    "    print(\"------------------------------------------\")\n",
    "    if WTS=='yes':\n",
    "      print(missed_words)\n",
    "    else:\n",
    "      pass\n",
    "    data_7_val = TK9.texts_to_sequences(X_val)\n",
    "    LE8 = LabelEncoder()\n",
    "    classes_actual_val = LE8.fit_transform(y_val)\n",
    "    X_val = pad_sequences(data_7_val,maxlen=100)\n",
    "    y_val = pd.get_dummies(classes_actual_val)\n",
    "\n",
    "\n",
    "  elif Vector_type == \"word2vec\":\n",
    "\n",
    "    data_list = [nltk.word_tokenize(i) for i in x[datatype]]  \n",
    "    w2v = Word2Vec(sentences=data_list,size=100,min_count=1)        \n",
    "    TK7 = Tokenizer()\n",
    "    TK7.fit_on_texts(x[datatype])\n",
    "    # data_7_train = TK7.texts_to_sequences(X_train)\n",
    "    embedding_matrix_lemmatized = np.zeros((len(TK7.word_index)+1, 100))\n",
    "    for word, i in TK7.word_index.items():\n",
    "      embedding_vector = w2v.wv.get_vector(word)\n",
    "      if embedding_vector is not None:\n",
    "          embedding_matrix_lemmatized[i] = embedding_vector\n",
    "\n",
    "    data_7_train = TK7.texts_to_sequences(X_train)\n",
    "    LE6 = LabelEncoder()\n",
    "    classes_actual_train = LE6.fit_transform(y_train)\n",
    "    print(\"Label Encoding Target - Train data\")\n",
    "    print(\"----------------------------------\")\n",
    "    X_train = pad_sequences(data_7_train,maxlen=100)\n",
    "    print(\"Padding X_train words as sequences\")\n",
    "    print(\"----------------------------------\")\n",
    "    y_train = pd.get_dummies(classes_actual_train)\n",
    "    print(\"Target Train classes one hot encoded\")\n",
    "    print(\"------------------------------------\")\n",
    "\n",
    "    TK8 = Tokenizer()\n",
    "    TK8.fit_on_texts(X_test)\n",
    "    data_7_test = TK8.texts_to_sequences(X_test)\n",
    "    LE7 = LabelEncoder()\n",
    "    classes_actual_test = LE7.fit_transform(y_test)\n",
    "    X_test = pad_sequences(data_7_test,maxlen=100)\n",
    "    y_test = pd.get_dummies(classes_actual_test)\n",
    "\n",
    "    data_7_val = TK7.texts_to_sequences(X_val)\n",
    "    LE6 = LabelEncoder()\n",
    "    classes_actual_val = LE6.fit_transform(y_val)\n",
    "    print(\"Label Encoding Target - val data\")\n",
    "    print(\"----------------------------------\")\n",
    "    X_val = pad_sequences(data_7_val,maxlen=100)\n",
    "    print(\"Padding X_val words as sequences\")\n",
    "    print(\"----------------------------------\")\n",
    "    y_val = pd.get_dummies(classes_actual_val)\n",
    "    print(\"Target val classes one hot encoded\")\n",
    "    print(\"------------------------------------\")\n",
    "\n",
    "  return X_train,X_test,y_train,y_test,X_val,y_val,TK7.word_index,embedding_matrix_lemmatized"
   ]
  },
  {
   "cell_type": "code",
   "execution_count": null,
   "id": "tdyT03jNayoc",
   "metadata": {
    "colab": {
     "base_uri": "https://localhost:8080/"
    },
    "id": "tdyT03jNayoc",
    "outputId": "047f827c-2a43-45b1-837f-04df833e9d4f"
   },
   "outputs": [
    {
     "name": "stdout",
     "output_type": "stream",
     "text": [
      "---------------------------------------------------------------------------------------------------------------------------------------------------------\n",
      "The datatypes available are 'Description','Description_1','Description_1Stemmed','Description_1lemmatized','Description_Stemmed','Description_lemmatized'\n",
      "---------------------------------------------------------------------------------------------------------------------------------------------------------\n",
      "Enter datatype that you would like to use Description_1lemmatized\n",
      "----------------------------------------------------------\n",
      "Enter test size options 0.1,0.2,0.3,0.4 0.2\n",
      "------------------------\n",
      "Train Test Validation split created\n",
      "------------------------\n",
      "Data Augmentation type: 'RandomWordAug','synonymaugmenter'\n",
      "---------------------------------------\n",
      "Enter datatype that you would like to use RandomWordAug\n",
      "Data Augmentation object created\n",
      "--------------------------------\n",
      "Current Target value counts for Training data\n",
      "---------------------------------------------\n",
      "I      192\n",
      "II      27\n",
      "III     25\n",
      "IV      20\n",
      "V        3\n",
      "Name: Accident Level, dtype: int64\n",
      "--------------------------------\n",
      "We have 5 classes out of which our focus is on classes II,III,IV,V\n",
      "------------------------------------------------------------------------------------\n",
      "Enter count of times you want a class to be replicated\n",
      "------------------------------------------------------\n",
      "Enter the count of times you want class II replicated(Only integer allowed) 6\n",
      "------------------------------------------------------------------\n",
      "Enter the count of times you want class III replicated(Only integer allowed) 6\n",
      "------------------------------------------------------------------\n",
      "Enter the count of times you want class IV replicated(Only integer allowed) 6\n",
      "------------------------------------------------------------------\n",
      "Enter the count of times you want class V replicated(Only integer allowed) 50\n",
      "------------------------------------------------------------------\n",
      "Replication numbers saved\n",
      "---------------------------\n",
      "Augmentation completed, check the class value counts\n",
      "----------------------------------------------------\n",
      "Target value counts for Training data post applying randomwordaug technique\n",
      "I      192\n",
      "II     189\n",
      "III    175\n",
      "V      153\n",
      "IV     140\n",
      "dtype: int64\n",
      "--------------------\n",
      "Choice of vectors, GloVe ? or Word2Vec?\n",
      "---------------------------------------\n",
      "Please enter your input: 1. GloVe 2. Word2VecWord2Vec\n",
      "---------------------------------------------\n",
      "Label Encoding Target - Train data\n",
      "----------------------------------\n",
      "Padding X_train words as sequences\n",
      "----------------------------------\n",
      "Target Train classes one hot encoded\n",
      "------------------------------------\n",
      "Label Encoding Target - val data\n",
      "----------------------------------\n",
      "Padding X_val words as sequences\n",
      "----------------------------------\n",
      "Target val classes one hot encoded\n",
      "------------------------------------\n"
     ]
    }
   ],
   "source": [
    "X_train,X_test,y_train,y_test,X_val,y_val,word_index,weights = Train_test_Data(df)"
   ]
  },
  {
   "cell_type": "code",
   "execution_count": null,
   "id": "1F_fBv0Kfg4-",
   "metadata": {
    "colab": {
     "base_uri": "https://localhost:8080/"
    },
    "id": "1F_fBv0Kfg4-",
    "outputId": "d1b9fb19-e74f-4163-9274-b899f901f100"
   },
   "outputs": [
    {
     "name": "stdout",
     "output_type": "stream",
     "text": [
      "(1319, 100)\n",
      "(42, 100)\n",
      "(1319, 5)\n",
      "(42, 5)\n"
     ]
    }
   ],
   "source": [
    "print(X_train.shape)\n",
    "print(X_test.shape)\n",
    "print(y_train.shape)\n",
    "print(y_test.shape)\n",
    "\n",
    "# print(len(TK7.word_index)+1)\n",
    "# print(GloVe_vector_l1.shape)\n",
    "# print(len(data_7_train))"
   ]
  },
  {
   "cell_type": "code",
   "execution_count": null,
   "id": "oEjpD2P0cbOV",
   "metadata": {
    "id": "oEjpD2P0cbOV"
   },
   "outputs": [],
   "source": [
    "print(X_train.shape)\n",
    "print(X_test.shape)\n",
    "print(X_val.shape)\n",
    "\n",
    "print(y_train.shape)\n",
    "print(y_test.shape)\n",
    "print(y_val.shape)\n",
    "\n",
    "# print(len(TK7.word_index)+1)\n",
    "# print(GloVe_vector_l1.shape)\n",
    "# print(len(data_7_train))"
   ]
  },
  {
   "cell_type": "code",
   "execution_count": null,
   "id": "EPDFyrDWbijH",
   "metadata": {
    "colab": {
     "base_uri": "https://localhost:8080/"
    },
    "id": "EPDFyrDWbijH",
    "outputId": "a3c5e087-472a-4426-9205-31aea34535a5"
   },
   "outputs": [
    {
     "data": {
      "text/plain": [
       "3446"
      ]
     },
     "execution_count": 37,
     "metadata": {},
     "output_type": "execute_result"
    }
   ],
   "source": [
    "len(TK77.word_index)+1"
   ]
  },
  {
   "cell_type": "markdown",
   "id": "SKYkwcFjZ5Ds",
   "metadata": {
    "id": "SKYkwcFjZ5Ds"
   },
   "source": [
    "## Splitting Train data to Train and Validation split\n"
   ]
  },
  {
   "cell_type": "code",
   "execution_count": null,
   "id": "heTnNAJTsLtc",
   "metadata": {
    "colab": {
     "base_uri": "https://localhost:8080/"
    },
    "id": "heTnNAJTsLtc",
    "outputId": "d92b1dc7-e8b8-48cc-ccc8-3a321d70b51b"
   },
   "outputs": [
    {
     "data": {
      "text/plain": [
       "(3446, 100)"
      ]
     },
     "execution_count": 39,
     "metadata": {},
     "output_type": "execute_result"
    }
   ],
   "source": [
    "# X_train, X_val, y_train, y_val = train_test_split(X_train, y_train, test_size=0.33, random_state=42)\n",
    "GloVe_vector_l1.shape"
   ]
  },
  {
   "cell_type": "code",
   "execution_count": null,
   "id": "xGxaLaMvHdrr",
   "metadata": {
    "colab": {
     "base_uri": "https://localhost:8080/"
    },
    "id": "xGxaLaMvHdrr",
    "outputId": "da668186-7cfe-47db-a6cd-bd797154a1fe"
   },
   "outputs": [
    {
     "name": "stdout",
     "output_type": "stream",
     "text": [
      "Model: \"sequential_5\"\n",
      "_________________________________________________________________\n",
      " Layer (type)                Output Shape              Param #   \n",
      "=================================================================\n",
      " embedding_5 (Embedding)     (None, 100, 100)          344600    \n",
      "                                                                 \n",
      " lstm_5 (LSTM)               (None, 100, 300)          481200    \n",
      "                                                                 \n",
      " bidirectional (Bidirectiona  (None, 100, 600)         1442400   \n",
      " l)                                                              \n",
      "                                                                 \n",
      " flatten_5 (Flatten)         (None, 60000)             0         \n",
      "                                                                 \n",
      " dense_15 (Dense)            (None, 100)               6000100   \n",
      "                                                                 \n",
      " dropout_10 (Dropout)        (None, 100)               0         \n",
      "                                                                 \n",
      " dense_16 (Dense)            (None, 50)                5050      \n",
      "                                                                 \n",
      " dropout_11 (Dropout)        (None, 50)                0         \n",
      "                                                                 \n",
      " dense_17 (Dense)            (None, 5)                 255       \n",
      "                                                                 \n",
      "=================================================================\n",
      "Total params: 8,273,605\n",
      "Trainable params: 8,273,605\n",
      "Non-trainable params: 0\n",
      "_________________________________________________________________\n"
     ]
    }
   ],
   "source": [
    "model_7 = Sequential()\n",
    "model_7.add(Embedding(input_dim = len(word_index)+1,output_dim = 100, weights=[weights],input_length = 100))\n",
    "model_7.add(LSTM(300, return_sequences = True))\n",
    "model_7.add(Bidirectional(LSTM(300, return_sequences = True)))\n",
    "model_7.add(Flatten())\n",
    "model_7.add(Dense(100, activation = 'relu'))\n",
    "model_7.add(Dropout(0.2))\n",
    "model_7.add(Dense(50, activation = 'relu'))\n",
    "model_7.add(Dropout(0.2))\n",
    "model_7.add(Dense(5, activation = 'softmax'))\n",
    "adam = Adam(learning_rate=0.01, beta_1=0.8, beta_2=0.9, epsilon=1e-04, amsgrad=False, name='Adam')\n",
    "model_7.compile(loss = 'categorical_crossentropy', optimizer = adam, metrics = ['accuracy'])\n",
    "model_7.summary()"
   ]
  },
  {
   "cell_type": "code",
   "execution_count": null,
   "id": "_I7QDWlINEIQ",
   "metadata": {
    "colab": {
     "base_uri": "https://localhost:8080/"
    },
    "id": "_I7QDWlINEIQ",
    "outputId": "974690c3-a04b-4047-bde4-abdd69b3cd99"
   },
   "outputs": [
    {
     "name": "stdout",
     "output_type": "stream",
     "text": [
      "Epoch 1/30\n",
      "27/27 [==============================] - 10s 173ms/step - loss: 2.5701 - accuracy: 0.2980 - val_loss: 5.5038 - val_accuracy: 0.0448\n",
      "Epoch 2/30\n",
      "27/27 [==============================] - 3s 110ms/step - loss: 3.4660 - accuracy: 0.3369 - val_loss: 1.5775 - val_accuracy: 0.0448\n",
      "Epoch 3/30\n",
      "27/27 [==============================] - 3s 109ms/step - loss: 2.1032 - accuracy: 0.2485 - val_loss: 1.5686 - val_accuracy: 0.0299\n",
      "Epoch 4/30\n",
      "27/27 [==============================] - 3s 110ms/step - loss: 1.6049 - accuracy: 0.2097 - val_loss: 1.5459 - val_accuracy: 0.8060\n",
      "Epoch 5/30\n",
      "27/27 [==============================] - 3s 109ms/step - loss: 1.6040 - accuracy: 0.2320 - val_loss: 1.5213 - val_accuracy: 0.8060\n",
      "Epoch 6/30\n",
      "27/27 [==============================] - 3s 110ms/step - loss: 1.6041 - accuracy: 0.2226 - val_loss: 1.5228 - val_accuracy: 0.8060\n",
      "Epoch 7/30\n",
      "27/27 [==============================] - 3s 110ms/step - loss: 1.6041 - accuracy: 0.2250 - val_loss: 1.5198 - val_accuracy: 0.8060\n",
      "Epoch 8/30\n",
      "27/27 [==============================] - 3s 110ms/step - loss: 1.6033 - accuracy: 0.2214 - val_loss: 1.5189 - val_accuracy: 0.8060\n",
      "Epoch 9/30\n",
      "27/27 [==============================] - 3s 111ms/step - loss: 1.6032 - accuracy: 0.2191 - val_loss: 1.5096 - val_accuracy: 0.8060\n",
      "Epoch 10/30\n",
      "27/27 [==============================] - 3s 110ms/step - loss: 1.6036 - accuracy: 0.2108 - val_loss: 1.5147 - val_accuracy: 0.8060\n",
      "Epoch 11/30\n",
      "27/27 [==============================] - 3s 110ms/step - loss: 1.6038 - accuracy: 0.2132 - val_loss: 1.5207 - val_accuracy: 0.8060\n",
      "Epoch 12/30\n",
      "27/27 [==============================] - 3s 110ms/step - loss: 1.6033 - accuracy: 0.2167 - val_loss: 1.5089 - val_accuracy: 0.8060\n",
      "Epoch 13/30\n",
      "27/27 [==============================] - 3s 110ms/step - loss: 1.6034 - accuracy: 0.2179 - val_loss: 1.5174 - val_accuracy: 0.8060\n",
      "Epoch 14/30\n",
      "27/27 [==============================] - 3s 109ms/step - loss: 1.6036 - accuracy: 0.2261 - val_loss: 1.5161 - val_accuracy: 0.8060\n"
     ]
    },
    {
     "data": {
      "text/plain": [
       "<keras.callbacks.History at 0x7f51f4fa57d0>"
      ]
     },
     "execution_count": 51,
     "metadata": {},
     "output_type": "execute_result"
    }
   ],
   "source": [
    "ES = EarlyStopping(monitor='val_accuracy', min_delta=0.01,patience=10,mode='max')\n",
    "# EarlyStopping(monitor='val_loss', min_delta=0, patience=0, verbose=0, mode='auto', baseline=None, restore_best_weights=False)\n",
    "model_7.fit(X_train, y_train, epochs = 30,validation_data=(X_val,y_val),callbacks=[ES])\n",
    "# GloVe_vector_l1.shape"
   ]
  },
  {
   "cell_type": "code",
   "execution_count": null,
   "id": "8kq8qXpmezyB",
   "metadata": {
    "colab": {
     "base_uri": "https://localhost:8080/"
    },
    "id": "8kq8qXpmezyB",
    "outputId": "73875ced-dba7-45c3-a095-8a6c7d2fa6ec"
   },
   "outputs": [
    {
     "name": "stdout",
     "output_type": "stream",
     "text": [
      "              precision    recall  f1-score   support\n",
      "\n",
      "           0       0.81      1.00      0.89        54\n",
      "           1       0.00      0.00      0.00         5\n",
      "           2       0.00      0.00      0.00         2\n",
      "           3       0.00      0.00      0.00         3\n",
      "           4       0.00      0.00      0.00         3\n",
      "\n",
      "    accuracy                           0.81        67\n",
      "   macro avg       0.16      0.20      0.18        67\n",
      "weighted avg       0.65      0.81      0.72        67\n",
      "\n"
     ]
    }
   ],
   "source": [
    "prediction = model_7.predict(X_val)\n",
    "value,classes_pred = tf.math.top_k(prediction, k=1, sorted=True, name=None)\n",
    "classes_actual = y_val.idxmax(axis=1)\n",
    "print(classification_report(classes_actual,classes_pred))"
   ]
  },
  {
   "cell_type": "code",
   "execution_count": null,
   "id": "locw-G3P94Yf",
   "metadata": {
    "colab": {
     "base_uri": "https://localhost:8080/"
    },
    "id": "locw-G3P94Yf",
    "outputId": "c282c6da-2878-4531-cb62-7793e21961c5"
   },
   "outputs": [
    {
     "name": "stdout",
     "output_type": "stream",
     "text": [
      "              precision    recall  f1-score   support\n",
      "\n",
      "           0       0.75      1.00      0.86        63\n",
      "           1       0.00      0.00      0.00         8\n",
      "           2       0.00      0.00      0.00         4\n",
      "           3       0.00      0.00      0.00         7\n",
      "           4       0.00      0.00      0.00         2\n",
      "\n",
      "    accuracy                           0.75        84\n",
      "   macro avg       0.15      0.20      0.17        84\n",
      "weighted avg       0.56      0.75      0.64        84\n",
      "\n"
     ]
    }
   ],
   "source": [
    "prediction = model_7.predict(X_test)\n",
    "value,classes_pred = tf.math.top_k(prediction, k=1, sorted=True, name=None)\n",
    "classes_actual = y_test.idxmax(axis=1)\n",
    "print(classification_report(classes_actual,classes_pred))"
   ]
  },
  {
   "cell_type": "markdown",
   "id": "Y_5TF2MqW1XQ",
   "metadata": {
    "id": "Y_5TF2MqW1XQ"
   },
   "source": [
    "## Transformer based Models"
   ]
  },
  {
   "cell_type": "code",
   "execution_count": null,
   "id": "OGyxy0yNWb1F",
   "metadata": {
    "id": "OGyxy0yNWb1F"
   },
   "outputs": [],
   "source": [
    "df = pd.read_csv(project_path+\"/updated_df.csv\")\n",
    "X = df['Description_1lemmatized']\n",
    "y = df['Accident Level']\n",
    "\n",
    "#Applying Train test split\n",
    "X_train, X_test, y_train, y_test = train_test_split(X, y, test_size=0.3, random_state=42)"
   ]
  },
  {
   "cell_type": "code",
   "execution_count": null,
   "id": "qnxVroZVoxbF",
   "metadata": {
    "colab": {
     "base_uri": "https://localhost:8080/"
    },
    "id": "qnxVroZVoxbF",
    "outputId": "dacc6992-1e08-40c8-9b78-578f0aa18227"
   },
   "outputs": [
    {
     "data": {
      "text/plain": [
       "I      215\n",
       "II      29\n",
       "III     24\n",
       "IV      18\n",
       "V        6\n",
       "Name: Accident Level, dtype: int64"
      ]
     },
     "execution_count": 157,
     "metadata": {},
     "output_type": "execute_result"
    }
   ],
   "source": [
    "y_train.value_counts()"
   ]
  },
  {
   "cell_type": "code",
   "execution_count": null,
   "id": "KxGmh8NJoz5A",
   "metadata": {
    "colab": {
     "base_uri": "https://localhost:8080/"
    },
    "id": "KxGmh8NJoz5A",
    "outputId": "5a6b27ba-f981-4b2a-b701-a50d73ecb7df"
   },
   "outputs": [
    {
     "data": {
      "text/plain": [
       "I      94\n",
       "IV     12\n",
       "II     11\n",
       "III     7\n",
       "V       2\n",
       "Name: Accident Level, dtype: int64"
      ]
     },
     "execution_count": 158,
     "metadata": {},
     "output_type": "execute_result"
    }
   ],
   "source": [
    "y_test.value_counts()"
   ]
  },
  {
   "cell_type": "code",
   "execution_count": null,
   "id": "k9oUP9ZYbIyw",
   "metadata": {
    "id": "k9oUP9ZYbIyw"
   },
   "outputs": [],
   "source": [
    "new = pd.Series()\n",
    "new1 = pd.Series()\n",
    "# aug = naw.ContextualWordEmbsAug(model_path='xlnet-base-uncased', action=\"insert\")\n",
    "aug = naf.Sequential([\n",
    "    naw.SynonymAug()\n",
    "])\n",
    "for i,j in zip(X_train,y_train):\n",
    "  if j == \"II\":\n",
    "    text = aug.augment(i, n=8)\n",
    "    new = new.append(pd.Series(text),ignore_index=True)\n",
    "    # y.append(i)\n",
    "    # X = X.append(pd.Series(text),ignore_index=True)\n",
    "    k=0\n",
    "    while(k < 8):\n",
    "      new1 = new1.append(pd.Series(j))\n",
    "      k+=1\n",
    "\n",
    "  elif j == \"III\" :\n",
    "    text = aug.augment(i, n=8)\n",
    "    new = new.append(pd.Series(text),ignore_index=True)\n",
    "    # X = X.append(pd.Series(text),ignore_index=True)\n",
    "    k=0\n",
    "    while(k < 8):\n",
    "      new1 = new1.append(pd.Series(j))\n",
    "      k+=1\n",
    "\n",
    "  elif j == \"IV\":\n",
    "    text = aug.augment(i, n=14)\n",
    "    new = new.append(pd.Series(text),ignore_index=True)\n",
    "    # X = X.append(pd.Series(text),ignore_index=True)\n",
    "    k=0\n",
    "    while(k < 14):\n",
    "      new1 = new1.append(pd.Series(j))\n",
    "      k+=1      \n",
    "    \n",
    "  elif j == \"V\":\n",
    "    text = aug.augment(i, n=35)\n",
    "    new = new.append(pd.Series(text),ignore_index=True)\n",
    "    k=0\n",
    "    # X = X.append(pd.Series(text),ignore_index=True)\n",
    "    while(k < 35):\n",
    "      new1 = new1.append(pd.Series(j))\n",
    "      # y = y.append(pd.Series(j))\n",
    "      k+=1\n",
    "  \n",
    "  else:\n",
    "    pass\n",
    "X_train = X_train.append(new)\n",
    "y_train = y_train.append(new1)"
   ]
  },
  {
   "cell_type": "code",
   "execution_count": null,
   "id": "R7gC8nF6W7V2",
   "metadata": {
    "colab": {
     "base_uri": "https://localhost:8080/"
    },
    "id": "R7gC8nF6W7V2",
    "outputId": "e9cf5c29-c87e-433f-fc14-28e8757aa6f9"
   },
   "outputs": [
    {
     "data": {
      "text/plain": [
       "IV     270\n",
       "II     261\n",
       "III    216\n",
       "V      216\n",
       "I      215\n",
       "dtype: int64"
      ]
     },
     "execution_count": 162,
     "metadata": {},
     "output_type": "execute_result"
    }
   ],
   "source": [
    "y_train.value_counts()"
   ]
  },
  {
   "cell_type": "code",
   "execution_count": null,
   "id": "aOLrow-7Wb3l",
   "metadata": {
    "id": "aOLrow-7Wb3l"
   },
   "outputs": [],
   "source": [
    "LE7 = LabelEncoder()\n",
    "classes_actual_test = LE7.fit_transform(y_test)\n",
    "y_test = pd.get_dummies(classes_actual_test)\n",
    "\n",
    "LE6 = LabelEncoder()\n",
    "classes_actual_train = LE6.fit_transform(y_train)\n",
    "y_train = pd.get_dummies(classes_actual_train)"
   ]
  },
  {
   "cell_type": "markdown",
   "id": "MtIG64mam3RZ",
   "metadata": {
    "id": "MtIG64mam3RZ"
   },
   "source": [
    "## BERT based models - **bert_en_uncased Text embedding and Pre-processing**"
   ]
  },
  {
   "cell_type": "code",
   "execution_count": null,
   "id": "bk0c9YTpVEn5",
   "metadata": {
    "colab": {
     "base_uri": "https://localhost:8080/"
    },
    "id": "bk0c9YTpVEn5",
    "outputId": "e8a25655-95c4-4511-c3d1-b91dbcb2f7aa"
   },
   "outputs": [
    {
     "name": "stderr",
     "output_type": "stream",
     "text": [
      "INFO:absl:Using /tmp/tfhub_modules to cache modules.\n",
      "INFO:absl:Downloading TF-Hub Module 'https://tfhub.dev/tensorflow/bert_en_uncased_preprocess/3'.\n",
      "INFO:absl:Downloaded https://tfhub.dev/tensorflow/bert_en_uncased_preprocess/3, Total size: 1.96MB\n",
      "INFO:absl:Downloaded TF-Hub Module 'https://tfhub.dev/tensorflow/bert_en_uncased_preprocess/3'.\n",
      "INFO:absl:Downloading TF-Hub Module 'https://tfhub.dev/tensorflow/bert_en_uncased_L-12_H-768_A-12/4'.\n",
      "INFO:absl:Downloaded https://tfhub.dev/tensorflow/bert_en_uncased_L-12_H-768_A-12/4, Total size: 429.66MB\n",
      "INFO:absl:Downloaded TF-Hub Module 'https://tfhub.dev/tensorflow/bert_en_uncased_L-12_H-768_A-12/4'.\n"
     ]
    }
   ],
   "source": [
    "bert_preprocess = hub.KerasLayer(\"https://tfhub.dev/tensorflow/bert_en_uncased_preprocess/3\")\n",
    "bert_encoder = hub.KerasLayer(\"https://tfhub.dev/tensorflow/bert_en_uncased_L-12_H-768_A-12/4\")"
   ]
  },
  {
   "cell_type": "markdown",
   "id": "GPLtm6FqvVK5",
   "metadata": {
    "id": "GPLtm6FqvVK5"
   },
   "source": [
    "## Neural Network with only BERT output, 30% dropout and softmax layer\n"
   ]
  },
  {
   "cell_type": "code",
   "execution_count": null,
   "id": "mlukl0idWD7q",
   "metadata": {
    "id": "mlukl0idWD7q"
   },
   "outputs": [],
   "source": [
    "text_input = tf.keras.layers.Input(shape=(), dtype=tf.string, name='text')\n",
    "preprocessed_text = bert_preprocess(text_input)\n",
    "outputs = bert_encoder(preprocessed_text)\n",
    "\n",
    "# Neural network layers\n",
    "l = tf.keras.layers.Dropout(0.3, name=\"dropout1\")(outputs['pooled_output'])\n",
    "l = tf.keras.layers.Flatten()(l)\n",
    "l = tf.keras.layers.Dense(5, activation='softmax', name=\"output\")(l)\n",
    "\n",
    "# Use inputs and outputs to construct a final model\n",
    "model = tf.keras.Model(inputs=[text_input], outputs = [l])"
   ]
  },
  {
   "cell_type": "code",
   "execution_count": null,
   "id": "54nUr2aQWoEY",
   "metadata": {
    "id": "54nUr2aQWoEY"
   },
   "outputs": [],
   "source": [
    "METRICS = [tf.keras.metrics.BinaryAccuracy(name='accuracy'),\n",
    "      tf.keras.metrics.Recall(name='recall')\n",
    "]\n",
    "ADAM = Adam(learning_rate=0.08,epsilon=1e-02,name='Adam')\n",
    "sgd = SGD(learning_rate=0.01, momentum=0.2, nesterov=True, name='SGD')\n",
    "model.compile(optimizer=ADAM,\n",
    "              loss='categorical_crossentropy',\n",
    "              metrics=METRICS)"
   ]
  },
  {
   "cell_type": "code",
   "execution_count": null,
   "id": "pYLkyDQQWuNX",
   "metadata": {
    "colab": {
     "base_uri": "https://localhost:8080/"
    },
    "id": "pYLkyDQQWuNX",
    "outputId": "5ecf0969-f5b6-4155-cca8-e1891c4881e0"
   },
   "outputs": [
    {
     "name": "stdout",
     "output_type": "stream",
     "text": [
      "Epoch 1/105\n",
      "37/37 [==============================] - 26s 713ms/step - loss: 3.1868 - accuracy: 0.7922 - recall: 0.4716 - val_loss: 2.5968 - val_accuracy: 0.8524 - val_recall: 0.6270 - lr: 8.0000e-05\n",
      "Epoch 2/105\n",
      "37/37 [==============================] - 26s 694ms/step - loss: 2.8147 - accuracy: 0.8114 - recall: 0.5172 - val_loss: 2.5107 - val_accuracy: 0.8270 - val_recall: 0.5635 - lr: 8.0000e-05\n",
      "Epoch 3/105\n",
      "37/37 [==============================] - ETA: 0s - loss: 2.4985 - accuracy: 0.8179 - recall: 0.5319\n",
      "Epoch 00003: ReduceLROnPlateau reducing learning rate to 7.999999797903001e-08.\n",
      "37/37 [==============================] - 26s 697ms/step - loss: 2.4985 - accuracy: 0.8179 - recall: 0.5319 - val_loss: 2.5125 - val_accuracy: 0.8175 - val_recall: 0.5317 - lr: 8.0000e-05\n",
      "Epoch 4/105\n",
      "37/37 [==============================] - 26s 696ms/step - loss: 2.5254 - accuracy: 0.8238 - recall: 0.5457 - val_loss: 2.5125 - val_accuracy: 0.8175 - val_recall: 0.5317 - lr: 8.0000e-08\n",
      "Epoch 5/105\n",
      "37/37 [==============================] - ETA: 0s - loss: 2.4473 - accuracy: 0.8248 - recall: 0.5509\n",
      "Epoch 00005: ReduceLROnPlateau reducing learning rate to 7.999999951380232e-11.\n",
      "37/37 [==============================] - 26s 691ms/step - loss: 2.4473 - accuracy: 0.8248 - recall: 0.5509 - val_loss: 2.5125 - val_accuracy: 0.8175 - val_recall: 0.5317 - lr: 8.0000e-08\n",
      "Epoch 6/105\n",
      "37/37 [==============================] - 26s 694ms/step - loss: 2.5484 - accuracy: 0.8205 - recall: 0.5371 - val_loss: 2.5125 - val_accuracy: 0.8175 - val_recall: 0.5317 - lr: 8.0000e-11\n",
      "Epoch 7/105\n",
      "37/37 [==============================] - ETA: 0s - loss: 2.4768 - accuracy: 0.8269 - recall: 0.5552\n",
      "Epoch 00007: ReduceLROnPlateau reducing learning rate to 7.999999968033578e-14.\n",
      "37/37 [==============================] - 26s 695ms/step - loss: 2.4768 - accuracy: 0.8269 - recall: 0.5552 - val_loss: 2.5125 - val_accuracy: 0.8175 - val_recall: 0.5317 - lr: 8.0000e-11\n",
      "Epoch 8/105\n",
      "37/37 [==============================] - 26s 693ms/step - loss: 2.4390 - accuracy: 0.8240 - recall: 0.5457 - val_loss: 2.5125 - val_accuracy: 0.8175 - val_recall: 0.5317 - lr: 8.0000e-14\n",
      "Epoch 9/105\n",
      "37/37 [==============================] - ETA: 0s - loss: 2.3555 - accuracy: 0.8290 - recall: 0.5586\n",
      "Epoch 00009: ReduceLROnPlateau reducing learning rate to 7.999999859613361e-17.\n",
      "37/37 [==============================] - 26s 695ms/step - loss: 2.3555 - accuracy: 0.8290 - recall: 0.5586 - val_loss: 2.5125 - val_accuracy: 0.8175 - val_recall: 0.5317 - lr: 8.0000e-14\n",
      "Epoch 10/105\n",
      "37/37 [==============================] - 26s 696ms/step - loss: 2.5138 - accuracy: 0.8103 - recall: 0.5147 - val_loss: 2.5125 - val_accuracy: 0.8175 - val_recall: 0.5317 - lr: 8.0000e-17\n",
      "Epoch 11/105\n",
      "37/37 [==============================] - ETA: 0s - loss: 2.6121 - accuracy: 0.8193 - recall: 0.5345\n",
      "Epoch 00011: ReduceLROnPlateau reducing learning rate to 7.999999870201272e-20.\n",
      "37/37 [==============================] - 26s 699ms/step - loss: 2.6121 - accuracy: 0.8193 - recall: 0.5345 - val_loss: 2.5125 - val_accuracy: 0.8175 - val_recall: 0.5317 - lr: 8.0000e-17\n"
     ]
    },
    {
     "data": {
      "text/plain": [
       "<keras.callbacks.History at 0x7f9b243bc4d0>"
      ]
     },
     "execution_count": 25,
     "metadata": {},
     "output_type": "execute_result"
    }
   ],
   "source": [
    "ES = EarlyStopping(monitor='val_accuracy', min_delta=0.1,patience=10,mode='max',restore_best_weights=True,baseline=0.65)\n",
    "RLRP = ReduceLROnPlateau(monitor='val_accuracy', factor=0.001, patience=2, verbose=1, mode='auto', min_delta=0.001)\n",
    "model.fit(X_train, y_train, epochs=105,validation_data=(X_test,y_test),callbacks=[ES,RLRP])"
   ]
  },
  {
   "cell_type": "code",
   "execution_count": null,
   "id": "KK5ymSCEvmJe",
   "metadata": {
    "colab": {
     "base_uri": "https://localhost:8080/"
    },
    "id": "KK5ymSCEvmJe",
    "outputId": "bfc62111-4747-431e-98fd-9da046981203"
   },
   "outputs": [
    {
     "name": "stdout",
     "output_type": "stream",
     "text": [
      "              precision    recall  f1-score   support\n",
      "\n",
      "           0       0.77      0.82      0.79        94\n",
      "           1       0.00      0.00      0.00        11\n",
      "           2       0.11      0.29      0.16         7\n",
      "           3       0.00      0.00      0.00        12\n",
      "           4       0.00      0.00      0.00         2\n",
      "\n",
      "    accuracy                           0.63       126\n",
      "   macro avg       0.18      0.22      0.19       126\n",
      "weighted avg       0.58      0.63      0.60       126\n",
      "\n"
     ]
    }
   ],
   "source": [
    "prediction = model.predict(X_test)\n",
    "value,classes_pred = tf.math.top_k(prediction, k=1, sorted=True, name=None)\n",
    "classes_actual = y_test.idxmax(axis=1)\n",
    "print(classification_report(classes_actual,classes_pred))"
   ]
  },
  {
   "cell_type": "markdown",
   "id": "M0Xp399Ic1Y5",
   "metadata": {
    "id": "M0Xp399Ic1Y5"
   },
   "source": [
    "## Universal Sentence Encoder - Google - Architecture1"
   ]
  },
  {
   "cell_type": "code",
   "execution_count": null,
   "id": "KWMlRg1GnzIY",
   "metadata": {
    "colab": {
     "base_uri": "https://localhost:8080/"
    },
    "id": "KWMlRg1GnzIY",
    "outputId": "8d6b7f9c-2760-471f-d55e-44c8a1237f89"
   },
   "outputs": [
    {
     "name": "stderr",
     "output_type": "stream",
     "text": [
      "INFO:absl:Downloading TF-Hub Module 'https://tfhub.dev/google/universal-sentence-encoder-large/5'.\n",
      "INFO:absl:Downloaded https://tfhub.dev/google/universal-sentence-encoder-large/5, Total size: 577.10MB\n",
      "INFO:absl:Downloaded TF-Hub Module 'https://tfhub.dev/google/universal-sentence-encoder-large/5'.\n"
     ]
    }
   ],
   "source": [
    "# bert_preprocess = hub.KerasLayer(\"https://tfhub.dev/jeongukjae/roberta_en_cased_preprocess/1\")\n",
    "bert_encoder = hub.KerasLayer(\"https://tfhub.dev/google/universal-sentence-encoder-large/5\")"
   ]
  },
  {
   "cell_type": "code",
   "execution_count": null,
   "id": "UlW1bXjkVqeT",
   "metadata": {
    "id": "UlW1bXjkVqeT"
   },
   "outputs": [],
   "source": [
    "text_input = tf.keras.layers.Input(shape=(), dtype=tf.string, name='text')\n",
    "outputs = bert_encoder(text_input)\n",
    "\n",
    "# Neural network layers\n",
    "l = tf.keras.layers.Dropout(0.3, name=\"dropout1\")(outputs)\n",
    "l = tf.keras.layers.Dense(5, activation='softmax', name=\"output\")(l)\n",
    "\n",
    "# Use inputs and outputs to construct a final model\n",
    "model1 = tf.keras.Model(inputs=[text_input], outputs = [l])"
   ]
  },
  {
   "cell_type": "code",
   "execution_count": null,
   "id": "A4zbHCpmV2q0",
   "metadata": {
    "id": "A4zbHCpmV2q0"
   },
   "outputs": [],
   "source": [
    "METRICS = [\n",
    "      tf.keras.metrics.BinaryAccuracy(name='accuracy'),\n",
    "      tf.keras.metrics.Recall(name='recall')\n",
    "]\n",
    "ADAM = Adam(learning_rate=0.08,epsilon=1e-02,name='Adam')\n",
    "sgd = SGD(learning_rate=0.01, momentum=0.2, nesterov=True, name='SGD')\n",
    "model1.compile(optimizer=ADAM,\n",
    "              loss='categorical_crossentropy',\n",
    "              metrics=METRICS)"
   ]
  },
  {
   "cell_type": "code",
   "execution_count": null,
   "id": "Leh7yY-1V5_j",
   "metadata": {
    "colab": {
     "base_uri": "https://localhost:8080/"
    },
    "id": "Leh7yY-1V5_j",
    "outputId": "f83ed610-273a-4f24-8675-dfc754ddc937"
   },
   "outputs": [
    {
     "name": "stdout",
     "output_type": "stream",
     "text": [
      "Epoch 1/105\n",
      "37/37 [==============================] - 23s 369ms/step - loss: 1.5327 - accuracy: 0.8000 - recall: 0.0000e+00 - val_loss: 1.6143 - val_accuracy: 0.8000 - val_recall: 0.0000e+00\n",
      "Epoch 2/105\n",
      "37/37 [==============================] - 4s 120ms/step - loss: 1.2956 - accuracy: 0.8007 - recall: 0.0034 - val_loss: 1.5158 - val_accuracy: 0.8000 - val_recall: 0.0000e+00\n",
      "Epoch 3/105\n",
      "37/37 [==============================] - 4s 115ms/step - loss: 1.0831 - accuracy: 0.8238 - recall: 0.1207 - val_loss: 1.4276 - val_accuracy: 0.8079 - val_recall: 0.0397\n",
      "Epoch 4/105\n",
      "37/37 [==============================] - 5s 123ms/step - loss: 0.9126 - accuracy: 0.8657 - recall: 0.3388 - val_loss: 1.4169 - val_accuracy: 0.8016 - val_recall: 0.0556\n",
      "Epoch 5/105\n",
      "37/37 [==============================] - 5s 122ms/step - loss: 0.7972 - accuracy: 0.8960 - recall: 0.5000 - val_loss: 1.4323 - val_accuracy: 0.7984 - val_recall: 0.0794\n",
      "Epoch 6/105\n",
      "37/37 [==============================] - 4s 116ms/step - loss: 0.7132 - accuracy: 0.9145 - recall: 0.5966 - val_loss: 1.4633 - val_accuracy: 0.7905 - val_recall: 0.0873\n",
      "Epoch 7/105\n",
      "37/37 [==============================] - 4s 114ms/step - loss: 0.6311 - accuracy: 0.9271 - recall: 0.6681 - val_loss: 1.4481 - val_accuracy: 0.7873 - val_recall: 0.1349\n",
      "Epoch 8/105\n",
      "37/37 [==============================] - 4s 112ms/step - loss: 0.5785 - accuracy: 0.9312 - recall: 0.6931 - val_loss: 1.3856 - val_accuracy: 0.8048 - val_recall: 0.1984\n",
      "Epoch 9/105\n",
      "37/37 [==============================] - 4s 112ms/step - loss: 0.5277 - accuracy: 0.9422 - recall: 0.7552 - val_loss: 1.2847 - val_accuracy: 0.8111 - val_recall: 0.2460\n",
      "Epoch 10/105\n",
      "37/37 [==============================] - 4s 110ms/step - loss: 0.5009 - accuracy: 0.9452 - recall: 0.7638 - val_loss: 1.3382 - val_accuracy: 0.8016 - val_recall: 0.2381\n",
      "Epoch 11/105\n",
      "37/37 [==============================] - 5s 149ms/step - loss: 0.4586 - accuracy: 0.9531 - recall: 0.8060 - val_loss: 1.2012 - val_accuracy: 0.8222 - val_recall: 0.3254\n"
     ]
    },
    {
     "data": {
      "text/plain": [
       "<keras.callbacks.History at 0x7f9aa21f3690>"
      ]
     },
     "execution_count": 37,
     "metadata": {},
     "output_type": "execute_result"
    }
   ],
   "source": [
    "ES = EarlyStopping(monitor='val_accuracy', min_delta=0.1,patience=10,mode='max',restore_best_weights=True)\n",
    "RLRP = ReduceLROnPlateau(monitor='val_accuracy', factor=0.001, patience=2, verbose=1, mode='auto', min_delta=0.001)\n",
    "model1.fit(X_train, y_train, epochs=105,validation_data=(X_test,y_test),callbacks=[ES])"
   ]
  },
  {
   "cell_type": "code",
   "execution_count": null,
   "id": "N0ADdOhRWNcm",
   "metadata": {
    "colab": {
     "base_uri": "https://localhost:8080/"
    },
    "id": "N0ADdOhRWNcm",
    "outputId": "b69b65e3-db3a-4702-a21c-b49a01220cb8"
   },
   "outputs": [
    {
     "name": "stdout",
     "output_type": "stream",
     "text": [
      "              precision    recall  f1-score   support\n",
      "\n",
      "           0       0.87      0.14      0.24        94\n",
      "           1       0.15      0.36      0.21        11\n",
      "           2       0.06      0.29      0.10         7\n",
      "           3       0.03      0.08      0.05        12\n",
      "           4       0.05      0.50      0.08         2\n",
      "\n",
      "    accuracy                           0.17       126\n",
      "   macro avg       0.23      0.27      0.14       126\n",
      "weighted avg       0.67      0.17      0.21       126\n",
      "\n"
     ]
    }
   ],
   "source": [
    "prediction = model1.predict(X_test)\n",
    "value,classes_pred = tf.math.top_k(prediction, k=1, sorted=True, name=None)\n",
    "classes_actual = y_test.idxmax(axis=1)\n",
    "print(classification_report(classes_actual,classes_pred))"
   ]
  },
  {
   "cell_type": "code",
   "execution_count": null,
   "id": "pkK_UzpAiS__",
   "metadata": {
    "id": "pkK_UzpAiS__"
   },
   "outputs": [],
   "source": [
    "# text_input = tf.keras.layers.Input(shape=(), dtype=tf.string, name='text')\n",
    "# preprocessed_text = bert_preprocess(text_input)\n",
    "# outputs = bert_encoder(preprocessed_text)\n",
    "\n",
    "# # Neural network layers\n",
    "# l = tf.keras.layers.Dropout(0.1, name=\"dropout1\")(outputs['pooled_output'])\n",
    "# # l = tf.keras.layers.Bidirectional(LS(300))(l)\n",
    "# # l = tf.keras.layers.Dense(100, activation='relu')(l)\n",
    "# # l = tf.keras.layers.Dropout(0.2, name=\"dropout2\")(l)\n",
    "# l = tf.keras.layers.Dense(5, activation='softmax', name=\"output\")(l)\n",
    "\n",
    "# # Use inputs and outputs to construct a final model\n",
    "# model = tf.keras.Model(inputs=[text_input], outputs = [l])"
   ]
  },
  {
   "cell_type": "markdown",
   "id": "nyjGoS0b6Edi",
   "metadata": {
    "id": "nyjGoS0b6Edi"
   },
   "source": [
    "## Universal Sentence Encoder - Google - Architecture2"
   ]
  },
  {
   "cell_type": "code",
   "execution_count": null,
   "id": "i80XYs9oc1Z7",
   "metadata": {
    "id": "i80XYs9oc1Z7"
   },
   "outputs": [],
   "source": [
    "# bert_preprocess = hub.KerasLayer(\"https://tfhub.dev/jeongukjae/roberta_en_cased_preprocess/1\")\n",
    "bert_encoder = hub.KerasLayer(\"https://tfhub.dev/google/universal-sentence-encoder-large/5\")"
   ]
  },
  {
   "cell_type": "code",
   "execution_count": null,
   "id": "ejAnSg0P0B31",
   "metadata": {
    "id": "ejAnSg0P0B31"
   },
   "outputs": [],
   "source": [
    "text_input = tf.keras.layers.Input(shape=(), dtype=tf.string, name='Universal_Sentence_Encoder-Google')\n",
    "outputs = bert_encoder(text_input)\n",
    "\n",
    "# Neural network layers\n",
    "l = tf.keras.layers.Dropout(0.4, name=\"dropout1\")(outputs)\n",
    "l = tf.keras.layers.Dense(350, activation='relu')(l)\n",
    "l = tf.keras.layers.Dropout(0.3, name=\"dropout5\")(l)\n",
    "l = tf.keras.layers.Dense(5, activation='softmax', name=\"output\")(l)\n",
    "\n",
    "# Use inputs and outputs to construct a final model\n",
    "model2 = tf.keras.Model(inputs=[text_input], outputs = [l])"
   ]
  },
  {
   "cell_type": "code",
   "execution_count": null,
   "id": "_w3pYTPRZZgb",
   "metadata": {
    "colab": {
     "base_uri": "https://localhost:8080/"
    },
    "id": "_w3pYTPRZZgb",
    "outputId": "be871755-8e39-4352-f982-ddc256861e67"
   },
   "outputs": [
    {
     "name": "stdout",
     "output_type": "stream",
     "text": [
      "Model: \"model_3\"\n",
      "_________________________________________________________________\n",
      " Layer (type)                Output Shape              Param #   \n",
      "=================================================================\n",
      " Universal_Sentence_Encoder-  [(None,)]                0         \n",
      " Google (InputLayer)                                             \n",
      "                                                                 \n",
      " keras_layer_3 (KerasLayer)  (None, 512)               147354880 \n",
      "                                                                 \n",
      " dropout1 (Dropout)          (None, 512)               0         \n",
      "                                                                 \n",
      " dense_63 (Dense)            (None, 350)               179550    \n",
      "                                                                 \n",
      " dropout5 (Dropout)          (None, 350)               0         \n",
      "                                                                 \n",
      " output (Dense)              (None, 5)                 1755      \n",
      "                                                                 \n",
      "=================================================================\n",
      "Total params: 147,536,185\n",
      "Trainable params: 181,305\n",
      "Non-trainable params: 147,354,880\n",
      "_________________________________________________________________\n"
     ]
    }
   ],
   "source": [
    "model2.summary()"
   ]
  },
  {
   "cell_type": "code",
   "execution_count": null,
   "id": "H-_NbRJHaboh",
   "metadata": {
    "id": "H-_NbRJHaboh"
   },
   "outputs": [],
   "source": [
    "METRICS = [\n",
    "      tf.keras.metrics.BinaryAccuracy(name='accuracy'),\n",
    "      tf.keras.metrics.Recall(name='recall')\n",
    "]\n",
    "ADAM = Adam(learning_rate=0.08,epsilon=1e-04,name='Adam')\n",
    "sgd = SGD(learning_rate=0.01, momentum=0.2, nesterov=True, name='SGD')\n",
    "model2.compile(optimizer=ADAM,\n",
    "              loss='categorical_crossentropy',\n",
    "              metrics=METRICS)"
   ]
  },
  {
   "cell_type": "code",
   "execution_count": null,
   "id": "ZS0ca1YaeyLg",
   "metadata": {
    "colab": {
     "base_uri": "https://localhost:8080/"
    },
    "id": "ZS0ca1YaeyLg",
    "outputId": "032b8e46-9e8a-4240-ad49-9955fcc0f25e"
   },
   "outputs": [
    {
     "name": "stdout",
     "output_type": "stream",
     "text": [
      "Epoch 1/105\n",
      "37/37 [==============================] - 67s 2s/step - loss: 1.0767 - accuracy: 0.8509 - recall: 0.4244 - val_loss: 1.5034 - val_accuracy: 0.7635 - val_recall: 0.2143\n",
      "Epoch 2/105\n",
      "37/37 [==============================] - 47s 1s/step - loss: 0.5466 - accuracy: 0.9178 - recall: 0.7487 - val_loss: 1.5164 - val_accuracy: 0.7952 - val_recall: 0.4127\n",
      "Epoch 3/105\n",
      "37/37 [==============================] - 48s 1s/step - loss: 0.4762 - accuracy: 0.9292 - recall: 0.7903 - val_loss: 1.3586 - val_accuracy: 0.8159 - val_recall: 0.4127\n",
      "Epoch 4/105\n",
      "37/37 [==============================] - 46s 1s/step - loss: 0.4075 - accuracy: 0.9394 - recall: 0.8132 - val_loss: 1.7246 - val_accuracy: 0.8032 - val_recall: 0.4365\n",
      "Epoch 5/105\n",
      "37/37 [==============================] - 46s 1s/step - loss: 0.4021 - accuracy: 0.9428 - recall: 0.8234 - val_loss: 1.7748 - val_accuracy: 0.8048 - val_recall: 0.3889\n",
      "Epoch 6/105\n",
      "37/37 [==============================] - 46s 1s/step - loss: 0.4147 - accuracy: 0.9396 - recall: 0.8175 - val_loss: 2.2448 - val_accuracy: 0.7698 - val_recall: 0.3333\n",
      "Epoch 7/105\n",
      "37/37 [==============================] - 46s 1s/step - loss: 0.4240 - accuracy: 0.9428 - recall: 0.8268 - val_loss: 1.7323 - val_accuracy: 0.7984 - val_recall: 0.3889\n",
      "Epoch 8/105\n",
      "37/37 [==============================] - 47s 1s/step - loss: 0.3225 - accuracy: 0.9542 - recall: 0.8642 - val_loss: 1.6200 - val_accuracy: 0.8603 - val_recall: 0.6190\n",
      "Epoch 9/105\n",
      "37/37 [==============================] - 48s 1s/step - loss: 0.3152 - accuracy: 0.9584 - recall: 0.8803 - val_loss: 1.5757 - val_accuracy: 0.8476 - val_recall: 0.5397\n",
      "Epoch 10/105\n",
      "37/37 [==============================] - 48s 1s/step - loss: 0.3353 - accuracy: 0.9528 - recall: 0.8548 - val_loss: 1.7147 - val_accuracy: 0.8222 - val_recall: 0.4841\n",
      "Epoch 11/105\n",
      "37/37 [==============================] - 48s 1s/step - loss: 0.3527 - accuracy: 0.9525 - recall: 0.8608 - val_loss: 1.6659 - val_accuracy: 0.8270 - val_recall: 0.5159\n",
      "Epoch 12/105\n",
      "37/37 [==============================] - 48s 1s/step - loss: 0.3490 - accuracy: 0.9523 - recall: 0.8582 - val_loss: 1.5093 - val_accuracy: 0.8333 - val_recall: 0.4286\n",
      "Epoch 13/105\n",
      "37/37 [==============================] - 48s 1s/step - loss: 0.3269 - accuracy: 0.9516 - recall: 0.8455 - val_loss: 1.7938 - val_accuracy: 0.8111 - val_recall: 0.4365\n",
      "Epoch 14/105\n",
      "37/37 [==============================] - 48s 1s/step - loss: 0.2620 - accuracy: 0.9635 - recall: 0.8871 - val_loss: 1.5736 - val_accuracy: 0.8206 - val_recall: 0.4444\n",
      "Epoch 15/105\n",
      "37/37 [==============================] - 48s 1s/step - loss: 0.2870 - accuracy: 0.9596 - recall: 0.8727 - val_loss: 1.4443 - val_accuracy: 0.8476 - val_recall: 0.5476\n",
      "Epoch 16/105\n",
      "37/37 [==============================] - 48s 1s/step - loss: 0.2867 - accuracy: 0.9626 - recall: 0.8786 - val_loss: 1.6570 - val_accuracy: 0.8063 - val_recall: 0.3730\n",
      "Epoch 17/105\n",
      "37/37 [==============================] - 48s 1s/step - loss: 0.2561 - accuracy: 0.9647 - recall: 0.8922 - val_loss: 1.3788 - val_accuracy: 0.8540 - val_recall: 0.5952\n",
      "Epoch 18/105\n",
      "37/37 [==============================] - 48s 1s/step - loss: 0.2668 - accuracy: 0.9645 - recall: 0.8879 - val_loss: 1.4567 - val_accuracy: 0.8603 - val_recall: 0.5873\n"
     ]
    },
    {
     "data": {
      "text/plain": [
       "<keras.callbacks.History at 0x7f363ab032d0>"
      ]
     },
     "execution_count": 185,
     "metadata": {},
     "output_type": "execute_result"
    }
   ],
   "source": [
    "ES = EarlyStopping(monitor='val_accuracy', min_delta=0.01,patience=10,mode='max',restore_best_weights=True)\n",
    "RLRP = ReduceLROnPlateau(monitor='val_accuracy', factor=0.0001, patience=5, verbose=1, mode='auto', min_delta=0.001)\n",
    "model2.fit(X_train, y_train, epochs=105,validation_data=(X_test,y_test),callbacks=[ES])"
   ]
  },
  {
   "cell_type": "code",
   "execution_count": null,
   "id": "r4CZAYST3uiZ",
   "metadata": {
    "colab": {
     "base_uri": "https://localhost:8080/"
    },
    "id": "r4CZAYST3uiZ",
    "outputId": "d2f1bac0-74eb-4ee5-a691-88f71598bfd9"
   },
   "outputs": [
    {
     "name": "stdout",
     "output_type": "stream",
     "text": [
      "              precision    recall  f1-score   support\n",
      "\n",
      "           0       0.80      0.81      0.80        94\n",
      "           1       0.18      0.18      0.18        11\n",
      "           2       0.17      0.14      0.15         7\n",
      "           3       0.29      0.17      0.21        12\n",
      "           4       0.14      0.50      0.22         2\n",
      "\n",
      "    accuracy                           0.65       126\n",
      "   macro avg       0.32      0.36      0.31       126\n",
      "weighted avg       0.65      0.65      0.65       126\n",
      "\n"
     ]
    }
   ],
   "source": [
    "prediction = model2.predict(X_test)\n",
    "value,classes_pred = tf.math.top_k(prediction, k=1, sorted=True, name=None)\n",
    "classes_actual = y_test.idxmax(axis=1)\n",
    "print(classification_report(classes_actual,classes_pred))"
   ]
  },
  {
   "cell_type": "markdown",
   "id": "tOIcczJ3EfmK",
   "metadata": {
    "id": "tOIcczJ3EfmK"
   },
   "source": [
    "## Model 2 pickled"
   ]
  },
  {
   "cell_type": "code",
   "execution_count": null,
   "id": "Xx7rXkq67qXX",
   "metadata": {
    "id": "Xx7rXkq67qXX"
   },
   "outputs": [],
   "source": [
    "model2.save(project_path+\"Googleencoder_Arch2.h5\")"
   ]
  },
  {
   "cell_type": "markdown",
   "id": "SaCVjduwNFX4",
   "metadata": {
    "id": "SaCVjduwNFX4"
   },
   "source": [
    "## Universal Sentence Encoder - Google - Architecture3"
   ]
  },
  {
   "cell_type": "code",
   "execution_count": null,
   "id": "t7mEkhK39z8x",
   "metadata": {
    "colab": {
     "base_uri": "https://localhost:8080/"
    },
    "id": "t7mEkhK39z8x",
    "outputId": "f9261eeb-2d09-4db4-c217-1412bc5fde8b"
   },
   "outputs": [
    {
     "name": "stdout",
     "output_type": "stream",
     "text": [
      "Epoch 1/105\n",
      "37/37 [==============================] - 23s 356ms/step - loss: 1.5499 - accuracy: 0.8005 - recall: 0.0043 - val_loss: 1.4548 - val_accuracy: 0.7968 - val_recall: 0.0000e+00\n",
      "Epoch 2/105\n",
      "37/37 [==============================] - 4s 116ms/step - loss: 1.1666 - accuracy: 0.8252 - recall: 0.2810 - val_loss: 1.7798 - val_accuracy: 0.7270 - val_recall: 0.0397\n",
      "Epoch 3/105\n",
      "37/37 [==============================] - 6s 155ms/step - loss: 0.7691 - accuracy: 0.8828 - recall: 0.5983 - val_loss: 1.2127 - val_accuracy: 0.8238 - val_recall: 0.4206\n",
      "Epoch 4/105\n",
      "37/37 [==============================] - 5s 146ms/step - loss: 0.6685 - accuracy: 0.8986 - recall: 0.6750 - val_loss: 1.0225 - val_accuracy: 0.8651 - val_recall: 0.5635\n",
      "Epoch 5/105\n",
      "37/37 [==============================] - 5s 122ms/step - loss: 0.5742 - accuracy: 0.9067 - recall: 0.6991 - val_loss: 1.3071 - val_accuracy: 0.8190 - val_recall: 0.4365\n",
      "Epoch 6/105\n",
      "37/37 [==============================] - 5s 124ms/step - loss: 0.6467 - accuracy: 0.9060 - recall: 0.6940 - val_loss: 1.3449 - val_accuracy: 0.7857 - val_recall: 0.3254\n",
      "Epoch 7/105\n",
      "37/37 [==============================] - 4s 112ms/step - loss: 0.5411 - accuracy: 0.9222 - recall: 0.7466 - val_loss: 1.3466 - val_accuracy: 0.8143 - val_recall: 0.4841\n",
      "Epoch 8/105\n",
      "37/37 [==============================] - 4s 113ms/step - loss: 0.4486 - accuracy: 0.9309 - recall: 0.7784 - val_loss: 1.3867 - val_accuracy: 0.8349 - val_recall: 0.5159\n",
      "Epoch 9/105\n",
      "37/37 [==============================] - 4s 113ms/step - loss: 0.5189 - accuracy: 0.9262 - recall: 0.7638 - val_loss: 1.1273 - val_accuracy: 0.8508 - val_recall: 0.4841\n",
      "Epoch 10/105\n",
      "37/37 [==============================] - 4s 114ms/step - loss: 0.4590 - accuracy: 0.9347 - recall: 0.7940 - val_loss: 2.1329 - val_accuracy: 0.7286 - val_recall: 0.2143\n",
      "Epoch 11/105\n",
      "37/37 [==============================] - 4s 114ms/step - loss: 0.4661 - accuracy: 0.9317 - recall: 0.7724 - val_loss: 1.1959 - val_accuracy: 0.8651 - val_recall: 0.6349\n",
      "Epoch 12/105\n",
      "37/37 [==============================] - 6s 152ms/step - loss: 0.3788 - accuracy: 0.9419 - recall: 0.8233 - val_loss: 1.0923 - val_accuracy: 0.8841 - val_recall: 0.6667\n",
      "Epoch 13/105\n",
      "37/37 [==============================] - 4s 116ms/step - loss: 0.3805 - accuracy: 0.9405 - recall: 0.8250 - val_loss: 1.3639 - val_accuracy: 0.8635 - val_recall: 0.5794\n",
      "Epoch 14/105\n",
      "37/37 [==============================] - 4s 114ms/step - loss: 0.4238 - accuracy: 0.9371 - recall: 0.8052 - val_loss: 1.2838 - val_accuracy: 0.8492 - val_recall: 0.4683\n",
      "Epoch 15/105\n",
      "37/37 [==============================] - 4s 115ms/step - loss: 0.4625 - accuracy: 0.9369 - recall: 0.7922 - val_loss: 1.2066 - val_accuracy: 0.8540 - val_recall: 0.4921\n",
      "Epoch 16/105\n",
      "37/37 [==============================] - 4s 114ms/step - loss: 0.3545 - accuracy: 0.9509 - recall: 0.8500 - val_loss: 1.1531 - val_accuracy: 0.8698 - val_recall: 0.5873\n",
      "Epoch 17/105\n",
      "37/37 [==============================] - 4s 114ms/step - loss: 0.3823 - accuracy: 0.9429 - recall: 0.8198 - val_loss: 1.1437 - val_accuracy: 0.8619 - val_recall: 0.5635\n",
      "Epoch 18/105\n",
      "37/37 [==============================] - 4s 113ms/step - loss: 0.4401 - accuracy: 0.9367 - recall: 0.7655 - val_loss: 1.4078 - val_accuracy: 0.8063 - val_recall: 0.2937\n",
      "Epoch 19/105\n",
      "37/37 [==============================] - 4s 118ms/step - loss: 0.4020 - accuracy: 0.9447 - recall: 0.8034 - val_loss: 1.3321 - val_accuracy: 0.8381 - val_recall: 0.4603\n",
      "Epoch 20/105\n",
      "37/37 [==============================] - 4s 114ms/step - loss: 0.3944 - accuracy: 0.9483 - recall: 0.8190 - val_loss: 1.2118 - val_accuracy: 0.8698 - val_recall: 0.4841\n",
      "Epoch 21/105\n",
      "37/37 [==============================] - 4s 120ms/step - loss: 0.3827 - accuracy: 0.9450 - recall: 0.8086 - val_loss: 1.2252 - val_accuracy: 0.8413 - val_recall: 0.4048\n",
      "Epoch 22/105\n",
      "37/37 [==============================] - 6s 150ms/step - loss: 0.3321 - accuracy: 0.9517 - recall: 0.8362 - val_loss: 1.2305 - val_accuracy: 0.8571 - val_recall: 0.4524\n"
     ]
    },
    {
     "data": {
      "text/plain": [
       "<keras.callbacks.History at 0x7f9a7fe2fe50>"
      ]
     },
     "execution_count": 62,
     "metadata": {},
     "output_type": "execute_result"
    }
   ],
   "source": [
    "text_input = tf.keras.layers.Input(shape=(), dtype=tf.string, name='text')\n",
    "outputs = bert_encoder(text_input)\n",
    "\n",
    "# Neural network layers\n",
    "l = tf.keras.layers.Dropout(0.4, name=\"dropout1\")(outputs)\n",
    "l = tf.keras.layers.Dense(350, activation='relu')(l)\n",
    "l = tf.keras.layers.Dropout(0.4, name=\"dropout2\")(l)\n",
    "l = tf.keras.layers.Dense(150, activation='relu')(l)\n",
    "l = tf.keras.layers.Dropout(0.4, name=\"dropout3\")(l)\n",
    "l = tf.keras.layers.Dense(5, activation='softmax', name=\"output\")(l)\n",
    "\n",
    "\n",
    "\n",
    "# Use inputs and outputs to construct a final model\n",
    "model3 = tf.keras.Model(inputs=[text_input], outputs = [l])\n",
    "\n",
    "METRICS = [\n",
    "      tf.keras.metrics.BinaryAccuracy(name='accuracy'),\n",
    "      tf.keras.metrics.Recall(name='recall')\n",
    "]\n",
    "ADAM = Adam(learning_rate=0.08,epsilon=1e-02,name='Adam')\n",
    "sgd = SGD(learning_rate=0.01, momentum=0.2, nesterov=True, name='SGD')\n",
    "model3.compile(optimizer=ADAM,\n",
    "              loss='categorical_crossentropy',\n",
    "              metrics=METRICS)\n",
    "\n",
    "ES = EarlyStopping(monitor='val_accuracy', min_delta=0.01,patience=10,mode='max',restore_best_weights=True)\n",
    "RLRP = ReduceLROnPlateau(monitor='val_accuracy', factor=0.001, patience=2, verbose=1, mode='auto', min_delta=0.001)\n",
    "model3.fit(X_train, y_train, epochs=105,validation_data=(X_test,y_test),callbacks=[ES])"
   ]
  },
  {
   "cell_type": "code",
   "execution_count": null,
   "id": "J5P8ZJgGEA0f",
   "metadata": {
    "colab": {
     "base_uri": "https://localhost:8080/"
    },
    "id": "J5P8ZJgGEA0f",
    "outputId": "e77be60c-d63a-4fd7-e970-1dc3904ca367"
   },
   "outputs": [
    {
     "name": "stdout",
     "output_type": "stream",
     "text": [
      "              precision    recall  f1-score   support\n",
      "\n",
      "           0       0.78      0.91      0.84        94\n",
      "           1       0.50      0.09      0.15        11\n",
      "           2       0.00      0.00      0.00         7\n",
      "           3       0.00      0.00      0.00        12\n",
      "           4       0.00      0.00      0.00         2\n",
      "\n",
      "    accuracy                           0.69       126\n",
      "   macro avg       0.26      0.20      0.20       126\n",
      "weighted avg       0.63      0.69      0.64       126\n",
      "\n"
     ]
    }
   ],
   "source": [
    "prediction = model3.predict(X_test)\n",
    "value,classes_pred = tf.math.top_k(prediction, k=1, sorted=True, name=None)\n",
    "classes_actual = y_test.idxmax(axis=1)\n",
    "print(classification_report(classes_actual,classes_pred))"
   ]
  },
  {
   "cell_type": "markdown",
   "id": "yU5AbKm8NxIk",
   "metadata": {
    "id": "yU5AbKm8NxIk"
   },
   "source": [
    "## Universal Sentence Encoder - Google - Architecture4"
   ]
  },
  {
   "cell_type": "code",
   "execution_count": null,
   "id": "Dgj1vomzEydQ",
   "metadata": {
    "colab": {
     "base_uri": "https://localhost:8080/"
    },
    "id": "Dgj1vomzEydQ",
    "outputId": "6a15cf57-f3be-4f48-d1b0-1133f6f20121"
   },
   "outputs": [
    {
     "name": "stdout",
     "output_type": "stream",
     "text": [
      "Epoch 1/105\n",
      "37/37 [==============================] - 54s 1s/step - loss: 790.8370 - accuracy: 0.7470 - recall: 0.0849 - val_loss: 1.6264 - val_accuracy: 0.8000 - val_recall: 0.0000e+00\n",
      "Epoch 2/105\n",
      "37/37 [==============================] - 33s 902ms/step - loss: 1.6065 - accuracy: 0.8000 - recall: 0.0000e+00 - val_loss: 1.6864 - val_accuracy: 0.8000 - val_recall: 0.0000e+00\n",
      "Epoch 3/105\n",
      "37/37 [==============================] - 32s 872ms/step - loss: 1.6075 - accuracy: 0.8000 - recall: 0.0000e+00 - val_loss: 1.6516 - val_accuracy: 0.8000 - val_recall: 0.0000e+00\n",
      "Epoch 4/105\n",
      "37/37 [==============================] - 33s 890ms/step - loss: 1.6069 - accuracy: 0.8000 - recall: 0.0000e+00 - val_loss: 1.6398 - val_accuracy: 0.8000 - val_recall: 0.0000e+00\n",
      "Epoch 5/105\n",
      "37/37 [==============================] - 33s 888ms/step - loss: 1.6075 - accuracy: 0.8000 - recall: 0.0000e+00 - val_loss: 1.6579 - val_accuracy: 0.8000 - val_recall: 0.0000e+00\n",
      "Epoch 6/105\n",
      "37/37 [==============================] - 33s 898ms/step - loss: 1.6087 - accuracy: 0.8000 - recall: 0.0000e+00 - val_loss: 1.6074 - val_accuracy: 0.8000 - val_recall: 0.0000e+00\n",
      "Epoch 7/105\n",
      "37/37 [==============================] - 33s 904ms/step - loss: 1.6093 - accuracy: 0.8000 - recall: 0.0000e+00 - val_loss: 1.7311 - val_accuracy: 0.8000 - val_recall: 0.0000e+00\n",
      "Epoch 8/105\n",
      "37/37 [==============================] - 34s 917ms/step - loss: 1.6086 - accuracy: 0.8000 - recall: 0.0000e+00 - val_loss: 1.6470 - val_accuracy: 0.8000 - val_recall: 0.0000e+00\n",
      "Epoch 9/105\n",
      "37/37 [==============================] - 34s 915ms/step - loss: 1.6077 - accuracy: 0.8000 - recall: 0.0000e+00 - val_loss: 1.6214 - val_accuracy: 0.8000 - val_recall: 0.0000e+00\n",
      "Epoch 10/105\n",
      "37/37 [==============================] - 34s 930ms/step - loss: 1.6099 - accuracy: 0.8000 - recall: 0.0000e+00 - val_loss: 1.6272 - val_accuracy: 0.8000 - val_recall: 0.0000e+00\n",
      "Epoch 11/105\n",
      "37/37 [==============================] - 36s 966ms/step - loss: 1.6067 - accuracy: 0.8000 - recall: 0.0000e+00 - val_loss: 1.6879 - val_accuracy: 0.8000 - val_recall: 0.0000e+00\n"
     ]
    },
    {
     "data": {
      "text/plain": [
       "<keras.callbacks.History at 0x7f6109d3e590>"
      ]
     },
     "execution_count": 12,
     "metadata": {},
     "output_type": "execute_result"
    }
   ],
   "source": [
    "text_input = tf.keras.layers.Input(shape=(), dtype=tf.string, name='text')\n",
    "outputs = bert_encoder(text_input)\n",
    "\n",
    "# Neural network layers\n",
    "l = tf.keras.layers.Dropout(0.2, name=\"dropout1\")(outputs)\n",
    "l = tf.keras.layers.Embedding(input_dim = 512+1,output_dim = 500)(l)\n",
    "l = tf.keras.layers.SimpleRNN(300, return_sequences = True)(l)\n",
    "l = tf.keras.layers.Flatten()(l)\n",
    "l = tf.keras.layers.Dense(100,activation='relu')(l)\n",
    "l = tf.keras.layers.Dense(5, activation='softmax', name=\"output\")(l)\n",
    "\n",
    "\n",
    "\n",
    "# Use inputs and outputs to construct a final model\n",
    "model4 = tf.keras.Model(inputs=[text_input], outputs = [l])\n",
    "\n",
    "METRICS = [\n",
    "      tf.keras.metrics.BinaryAccuracy(name='accuracy'),\n",
    "      tf.keras.metrics.Recall(name='recall')\n",
    "]\n",
    "ADAM = Adam(learning_rate=0.08,epsilon=1e-02,name='Adam')\n",
    "sgd = SGD(learning_rate=0.01, momentum=0.2, nesterov=True, name='SGD')\n",
    "model4.compile(optimizer=ADAM,\n",
    "              loss='categorical_crossentropy',\n",
    "              metrics=METRICS)\n",
    "\n",
    "ES = EarlyStopping(monitor='val_accuracy', min_delta=0.01,patience=10,mode='max',restore_best_weights=True)\n",
    "RLRP = ReduceLROnPlateau(monitor='val_accuracy', factor=0.001, patience=2, verbose=1, mode='auto', min_delta=0.001)\n",
    "model4.fit(X_train, y_train, epochs=105,validation_data=(X_test,y_test),callbacks=[ES])"
   ]
  },
  {
   "cell_type": "code",
   "execution_count": null,
   "id": "r1r4ZeAOOFNS",
   "metadata": {
    "colab": {
     "base_uri": "https://localhost:8080/"
    },
    "id": "r1r4ZeAOOFNS",
    "outputId": "56e71063-f814-4cbd-fe08-57a05e98b253"
   },
   "outputs": [
    {
     "name": "stdout",
     "output_type": "stream",
     "text": [
      "              precision    recall  f1-score   support\n",
      "\n",
      "           0       0.00      0.00      0.00        94\n",
      "           1       0.00      0.00      0.00        11\n",
      "           2       0.00      0.00      0.00         7\n",
      "           3       0.10      1.00      0.17        12\n",
      "           4       0.00      0.00      0.00         2\n",
      "\n",
      "    accuracy                           0.10       126\n",
      "   macro avg       0.02      0.20      0.03       126\n",
      "weighted avg       0.01      0.10      0.02       126\n",
      "\n"
     ]
    }
   ],
   "source": [
    "prediction = model4.predict(X_test)\n",
    "value,classes_pred = tf.math.top_k(prediction, k=1, sorted=True, name=None)\n",
    "classes_actual = y_test.idxmax(axis=1)\n",
    "print(classification_report(classes_actual,classes_pred))"
   ]
  },
  {
   "cell_type": "markdown",
   "id": "lrnuw28I2B-W",
   "metadata": {
    "id": "lrnuw28I2B-W"
   },
   "source": [
    "## 1. On the whole the Universal Sentence Encoder - Google - Architecture2 performs the best and hence we pickle the model and use it for future use.\n",
    "\n",
    "## 2. Although we have managed to get a better model to predict all the classes, we still dont have a very good F1 score for all models.\n",
    "\n",
    "## 3. Once the model is deployed in production environment, we will focus on gathering all the inputs given by customers and the prediction shared by us. Along with this we will also focus on getting the feedback from customers or identify the actual accident levels and focus on identifying the Data and Concept Drift.\n",
    "\n",
    "## 4. Through this we will also be able to identify the model's performance and retrain once we get enough data.\n",
    "\n",
    "\n",
    "# End of Milestone2\n",
    "\n"
   ]
  }
 ],
 "metadata": {
  "accelerator": "GPU",
  "colab": {
   "collapsed_sections": [
    "09486916",
    "544cc16c"
   ],
   "name": "Capstone - Milestone 1,2,3.ipynb",
   "provenance": []
  },
  "kernelspec": {
   "display_name": "Python 3",
   "language": "python",
   "name": "python3"
  },
  "language_info": {
   "codemirror_mode": {
    "name": "ipython",
    "version": 3
   },
   "file_extension": ".py",
   "mimetype": "text/x-python",
   "name": "python",
   "nbconvert_exporter": "python",
   "pygments_lexer": "ipython3",
   "version": "3.8.3"
  },
  "widgets": {
   "application/vnd.jupyter.widget-state+json": {
    "014d99f675b4462190ceec354f09e38b": {
     "model_module": "@jupyter-widgets/base",
     "model_module_version": "1.2.0",
     "model_name": "LayoutModel",
     "state": {
      "_model_module": "@jupyter-widgets/base",
      "_model_module_version": "1.2.0",
      "_model_name": "LayoutModel",
      "_view_count": null,
      "_view_module": "@jupyter-widgets/base",
      "_view_module_version": "1.2.0",
      "_view_name": "LayoutView",
      "align_content": null,
      "align_items": null,
      "align_self": null,
      "border": null,
      "bottom": null,
      "display": null,
      "flex": null,
      "flex_flow": null,
      "grid_area": null,
      "grid_auto_columns": null,
      "grid_auto_flow": null,
      "grid_auto_rows": null,
      "grid_column": null,
      "grid_gap": null,
      "grid_row": null,
      "grid_template_areas": null,
      "grid_template_columns": null,
      "grid_template_rows": null,
      "height": null,
      "justify_content": null,
      "justify_items": null,
      "left": null,
      "margin": null,
      "max_height": null,
      "max_width": null,
      "min_height": null,
      "min_width": null,
      "object_fit": null,
      "object_position": null,
      "order": null,
      "overflow": null,
      "overflow_x": null,
      "overflow_y": null,
      "padding": null,
      "right": null,
      "top": null,
      "visibility": null,
      "width": null
     }
    },
    "06ce67a253f340c9a82ebc60087a69f3": {
     "model_module": "@jupyter-widgets/controls",
     "model_module_version": "1.5.0",
     "model_name": "HTMLModel",
     "state": {
      "_dom_classes": [],
      "_model_module": "@jupyter-widgets/controls",
      "_model_module_version": "1.5.0",
      "_model_name": "HTMLModel",
      "_view_count": null,
      "_view_module": "@jupyter-widgets/controls",
      "_view_module_version": "1.5.0",
      "_view_name": "HTMLView",
      "description": "",
      "description_tooltip": null,
      "layout": "IPY_MODEL_98c550303e6b4141932b6186e0237870",
      "placeholder": "​",
      "style": "IPY_MODEL_3964a5dadde449ab8c44ec62a4339991",
      "value": "Downloading: 100%"
     }
    },
    "0c6baa969f884b16a33b2dd2d46ff191": {
     "model_module": "@jupyter-widgets/base",
     "model_module_version": "1.2.0",
     "model_name": "LayoutModel",
     "state": {
      "_model_module": "@jupyter-widgets/base",
      "_model_module_version": "1.2.0",
      "_model_name": "LayoutModel",
      "_view_count": null,
      "_view_module": "@jupyter-widgets/base",
      "_view_module_version": "1.2.0",
      "_view_name": "LayoutView",
      "align_content": null,
      "align_items": null,
      "align_self": null,
      "border": null,
      "bottom": null,
      "display": null,
      "flex": null,
      "flex_flow": null,
      "grid_area": null,
      "grid_auto_columns": null,
      "grid_auto_flow": null,
      "grid_auto_rows": null,
      "grid_column": null,
      "grid_gap": null,
      "grid_row": null,
      "grid_template_areas": null,
      "grid_template_columns": null,
      "grid_template_rows": null,
      "height": null,
      "justify_content": null,
      "justify_items": null,
      "left": null,
      "margin": null,
      "max_height": null,
      "max_width": null,
      "min_height": null,
      "min_width": null,
      "object_fit": null,
      "object_position": null,
      "order": null,
      "overflow": null,
      "overflow_x": null,
      "overflow_y": null,
      "padding": null,
      "right": null,
      "top": null,
      "visibility": null,
      "width": null
     }
    },
    "0cc3cc28b9f64bb19bc50891283dd820": {
     "model_module": "@jupyter-widgets/controls",
     "model_module_version": "1.5.0",
     "model_name": "FloatProgressModel",
     "state": {
      "_dom_classes": [],
      "_model_module": "@jupyter-widgets/controls",
      "_model_module_version": "1.5.0",
      "_model_name": "FloatProgressModel",
      "_view_count": null,
      "_view_module": "@jupyter-widgets/controls",
      "_view_module_version": "1.5.0",
      "_view_name": "ProgressView",
      "bar_style": "success",
      "description": "",
      "description_tooltip": null,
      "layout": "IPY_MODEL_3173a28e578d4c878f3d1d16ee86e21c",
      "max": 28,
      "min": 0,
      "orientation": "horizontal",
      "style": "IPY_MODEL_8ed5de280b364432ada3538dc4ee2d9c",
      "value": 28
     }
    },
    "0f36f1a06cc2496b8aaea2aa6aed4b6f": {
     "model_module": "@jupyter-widgets/base",
     "model_module_version": "1.2.0",
     "model_name": "LayoutModel",
     "state": {
      "_model_module": "@jupyter-widgets/base",
      "_model_module_version": "1.2.0",
      "_model_name": "LayoutModel",
      "_view_count": null,
      "_view_module": "@jupyter-widgets/base",
      "_view_module_version": "1.2.0",
      "_view_name": "LayoutView",
      "align_content": null,
      "align_items": null,
      "align_self": null,
      "border": null,
      "bottom": null,
      "display": null,
      "flex": null,
      "flex_flow": null,
      "grid_area": null,
      "grid_auto_columns": null,
      "grid_auto_flow": null,
      "grid_auto_rows": null,
      "grid_column": null,
      "grid_gap": null,
      "grid_row": null,
      "grid_template_areas": null,
      "grid_template_columns": null,
      "grid_template_rows": null,
      "height": null,
      "justify_content": null,
      "justify_items": null,
      "left": null,
      "margin": null,
      "max_height": null,
      "max_width": null,
      "min_height": null,
      "min_width": null,
      "object_fit": null,
      "object_position": null,
      "order": null,
      "overflow": null,
      "overflow_x": null,
      "overflow_y": null,
      "padding": null,
      "right": null,
      "top": null,
      "visibility": null,
      "width": null
     }
    },
    "157cef0ab7cb4e5bb1335bead3304e96": {
     "model_module": "@jupyter-widgets/base",
     "model_module_version": "1.2.0",
     "model_name": "LayoutModel",
     "state": {
      "_model_module": "@jupyter-widgets/base",
      "_model_module_version": "1.2.0",
      "_model_name": "LayoutModel",
      "_view_count": null,
      "_view_module": "@jupyter-widgets/base",
      "_view_module_version": "1.2.0",
      "_view_name": "LayoutView",
      "align_content": null,
      "align_items": null,
      "align_self": null,
      "border": null,
      "bottom": null,
      "display": null,
      "flex": null,
      "flex_flow": null,
      "grid_area": null,
      "grid_auto_columns": null,
      "grid_auto_flow": null,
      "grid_auto_rows": null,
      "grid_column": null,
      "grid_gap": null,
      "grid_row": null,
      "grid_template_areas": null,
      "grid_template_columns": null,
      "grid_template_rows": null,
      "height": null,
      "justify_content": null,
      "justify_items": null,
      "left": null,
      "margin": null,
      "max_height": null,
      "max_width": null,
      "min_height": null,
      "min_width": null,
      "object_fit": null,
      "object_position": null,
      "order": null,
      "overflow": null,
      "overflow_x": null,
      "overflow_y": null,
      "padding": null,
      "right": null,
      "top": null,
      "visibility": null,
      "width": null
     }
    },
    "1b349260cc0346f98a525b1e7eae2350": {
     "model_module": "@jupyter-widgets/controls",
     "model_module_version": "1.5.0",
     "model_name": "HTMLModel",
     "state": {
      "_dom_classes": [],
      "_model_module": "@jupyter-widgets/controls",
      "_model_module_version": "1.5.0",
      "_model_name": "HTMLModel",
      "_view_count": null,
      "_view_module": "@jupyter-widgets/controls",
      "_view_module_version": "1.5.0",
      "_view_name": "HTMLView",
      "description": "",
      "description_tooltip": null,
      "layout": "IPY_MODEL_0f36f1a06cc2496b8aaea2aa6aed4b6f",
      "placeholder": "​",
      "style": "IPY_MODEL_54d959ddd43d415482dc10717e1102ea",
      "value": "Downloading: 100%"
     }
    },
    "1bdc3cc8ac03489e8ab292c8aff427e7": {
     "model_module": "@jupyter-widgets/controls",
     "model_module_version": "1.5.0",
     "model_name": "FloatProgressModel",
     "state": {
      "_dom_classes": [],
      "_model_module": "@jupyter-widgets/controls",
      "_model_module_version": "1.5.0",
      "_model_name": "FloatProgressModel",
      "_view_count": null,
      "_view_module": "@jupyter-widgets/controls",
      "_view_module_version": "1.5.0",
      "_view_name": "ProgressView",
      "bar_style": "success",
      "description": "",
      "description_tooltip": null,
      "layout": "IPY_MODEL_2830a2d9ba3d4aaeaba8b626a063f4d2",
      "max": 570,
      "min": 0,
      "orientation": "horizontal",
      "style": "IPY_MODEL_ac32f36a875642668d5b28211df2a854",
      "value": 570
     }
    },
    "238359a3915f4a3b8988e8f6f2e9eec4": {
     "model_module": "@jupyter-widgets/controls",
     "model_module_version": "1.5.0",
     "model_name": "DescriptionStyleModel",
     "state": {
      "_model_module": "@jupyter-widgets/controls",
      "_model_module_version": "1.5.0",
      "_model_name": "DescriptionStyleModel",
      "_view_count": null,
      "_view_module": "@jupyter-widgets/base",
      "_view_module_version": "1.2.0",
      "_view_name": "StyleView",
      "description_width": ""
     }
    },
    "23a1dff97ec74f83b22dd5d6a057664c": {
     "model_module": "@jupyter-widgets/controls",
     "model_module_version": "1.5.0",
     "model_name": "HTMLModel",
     "state": {
      "_dom_classes": [],
      "_model_module": "@jupyter-widgets/controls",
      "_model_module_version": "1.5.0",
      "_model_name": "HTMLModel",
      "_view_count": null,
      "_view_module": "@jupyter-widgets/controls",
      "_view_module_version": "1.5.0",
      "_view_name": "HTMLView",
      "description": "",
      "description_tooltip": null,
      "layout": "IPY_MODEL_88b1febfb0d24bd59f1a0242686126bc",
      "placeholder": "​",
      "style": "IPY_MODEL_4cdd4d46ed01424cbf137edfba4c5748",
      "value": " 570/570 [00:00&lt;00:00, 14.5kB/s]"
     }
    },
    "263d48feb369475ea1f3e2eb2adae5f2": {
     "model_module": "@jupyter-widgets/controls",
     "model_module_version": "1.5.0",
     "model_name": "HBoxModel",
     "state": {
      "_dom_classes": [],
      "_model_module": "@jupyter-widgets/controls",
      "_model_module_version": "1.5.0",
      "_model_name": "HBoxModel",
      "_view_count": null,
      "_view_module": "@jupyter-widgets/controls",
      "_view_module_version": "1.5.0",
      "_view_name": "HBoxView",
      "box_style": "",
      "children": [
       "IPY_MODEL_06ce67a253f340c9a82ebc60087a69f3",
       "IPY_MODEL_29fc5053765348c89f4c575d82013f3b",
       "IPY_MODEL_bd9b9d576a504fee915f6192c1ebd5dd"
      ],
      "layout": "IPY_MODEL_157cef0ab7cb4e5bb1335bead3304e96"
     }
    },
    "2830a2d9ba3d4aaeaba8b626a063f4d2": {
     "model_module": "@jupyter-widgets/base",
     "model_module_version": "1.2.0",
     "model_name": "LayoutModel",
     "state": {
      "_model_module": "@jupyter-widgets/base",
      "_model_module_version": "1.2.0",
      "_model_name": "LayoutModel",
      "_view_count": null,
      "_view_module": "@jupyter-widgets/base",
      "_view_module_version": "1.2.0",
      "_view_name": "LayoutView",
      "align_content": null,
      "align_items": null,
      "align_self": null,
      "border": null,
      "bottom": null,
      "display": null,
      "flex": null,
      "flex_flow": null,
      "grid_area": null,
      "grid_auto_columns": null,
      "grid_auto_flow": null,
      "grid_auto_rows": null,
      "grid_column": null,
      "grid_gap": null,
      "grid_row": null,
      "grid_template_areas": null,
      "grid_template_columns": null,
      "grid_template_rows": null,
      "height": null,
      "justify_content": null,
      "justify_items": null,
      "left": null,
      "margin": null,
      "max_height": null,
      "max_width": null,
      "min_height": null,
      "min_width": null,
      "object_fit": null,
      "object_position": null,
      "order": null,
      "overflow": null,
      "overflow_x": null,
      "overflow_y": null,
      "padding": null,
      "right": null,
      "top": null,
      "visibility": null,
      "width": null
     }
    },
    "29fc5053765348c89f4c575d82013f3b": {
     "model_module": "@jupyter-widgets/controls",
     "model_module_version": "1.5.0",
     "model_name": "FloatProgressModel",
     "state": {
      "_dom_classes": [],
      "_model_module": "@jupyter-widgets/controls",
      "_model_module_version": "1.5.0",
      "_model_name": "FloatProgressModel",
      "_view_count": null,
      "_view_module": "@jupyter-widgets/controls",
      "_view_module_version": "1.5.0",
      "_view_name": "ProgressView",
      "bar_style": "success",
      "description": "",
      "description_tooltip": null,
      "layout": "IPY_MODEL_f3edd89ce46b45149d887bf55efb6304",
      "max": 231508,
      "min": 0,
      "orientation": "horizontal",
      "style": "IPY_MODEL_baa629b662a941ec9be4faebc5850b30",
      "value": 231508
     }
    },
    "30489b8f130443d195795904a95b8bf4": {
     "model_module": "@jupyter-widgets/controls",
     "model_module_version": "1.5.0",
     "model_name": "FloatProgressModel",
     "state": {
      "_dom_classes": [],
      "_model_module": "@jupyter-widgets/controls",
      "_model_module_version": "1.5.0",
      "_model_name": "FloatProgressModel",
      "_view_count": null,
      "_view_module": "@jupyter-widgets/controls",
      "_view_module_version": "1.5.0",
      "_view_name": "ProgressView",
      "bar_style": "success",
      "description": "",
      "description_tooltip": null,
      "layout": "IPY_MODEL_a000b6d2f3a847afa40dbe496556be79",
      "max": 440473133,
      "min": 0,
      "orientation": "horizontal",
      "style": "IPY_MODEL_4be82e459d2441069a057b0d222495a1",
      "value": 440473133
     }
    },
    "3173a28e578d4c878f3d1d16ee86e21c": {
     "model_module": "@jupyter-widgets/base",
     "model_module_version": "1.2.0",
     "model_name": "LayoutModel",
     "state": {
      "_model_module": "@jupyter-widgets/base",
      "_model_module_version": "1.2.0",
      "_model_name": "LayoutModel",
      "_view_count": null,
      "_view_module": "@jupyter-widgets/base",
      "_view_module_version": "1.2.0",
      "_view_name": "LayoutView",
      "align_content": null,
      "align_items": null,
      "align_self": null,
      "border": null,
      "bottom": null,
      "display": null,
      "flex": null,
      "flex_flow": null,
      "grid_area": null,
      "grid_auto_columns": null,
      "grid_auto_flow": null,
      "grid_auto_rows": null,
      "grid_column": null,
      "grid_gap": null,
      "grid_row": null,
      "grid_template_areas": null,
      "grid_template_columns": null,
      "grid_template_rows": null,
      "height": null,
      "justify_content": null,
      "justify_items": null,
      "left": null,
      "margin": null,
      "max_height": null,
      "max_width": null,
      "min_height": null,
      "min_width": null,
      "object_fit": null,
      "object_position": null,
      "order": null,
      "overflow": null,
      "overflow_x": null,
      "overflow_y": null,
      "padding": null,
      "right": null,
      "top": null,
      "visibility": null,
      "width": null
     }
    },
    "3964a5dadde449ab8c44ec62a4339991": {
     "model_module": "@jupyter-widgets/controls",
     "model_module_version": "1.5.0",
     "model_name": "DescriptionStyleModel",
     "state": {
      "_model_module": "@jupyter-widgets/controls",
      "_model_module_version": "1.5.0",
      "_model_name": "DescriptionStyleModel",
      "_view_count": null,
      "_view_module": "@jupyter-widgets/base",
      "_view_module_version": "1.2.0",
      "_view_name": "StyleView",
      "description_width": ""
     }
    },
    "3cbe7f7723ac494f9d3163d7e814b186": {
     "model_module": "@jupyter-widgets/base",
     "model_module_version": "1.2.0",
     "model_name": "LayoutModel",
     "state": {
      "_model_module": "@jupyter-widgets/base",
      "_model_module_version": "1.2.0",
      "_model_name": "LayoutModel",
      "_view_count": null,
      "_view_module": "@jupyter-widgets/base",
      "_view_module_version": "1.2.0",
      "_view_name": "LayoutView",
      "align_content": null,
      "align_items": null,
      "align_self": null,
      "border": null,
      "bottom": null,
      "display": null,
      "flex": null,
      "flex_flow": null,
      "grid_area": null,
      "grid_auto_columns": null,
      "grid_auto_flow": null,
      "grid_auto_rows": null,
      "grid_column": null,
      "grid_gap": null,
      "grid_row": null,
      "grid_template_areas": null,
      "grid_template_columns": null,
      "grid_template_rows": null,
      "height": null,
      "justify_content": null,
      "justify_items": null,
      "left": null,
      "margin": null,
      "max_height": null,
      "max_width": null,
      "min_height": null,
      "min_width": null,
      "object_fit": null,
      "object_position": null,
      "order": null,
      "overflow": null,
      "overflow_x": null,
      "overflow_y": null,
      "padding": null,
      "right": null,
      "top": null,
      "visibility": null,
      "width": null
     }
    },
    "3edf448bd27742e59ec59e24594ecc0f": {
     "model_module": "@jupyter-widgets/controls",
     "model_module_version": "1.5.0",
     "model_name": "DescriptionStyleModel",
     "state": {
      "_model_module": "@jupyter-widgets/controls",
      "_model_module_version": "1.5.0",
      "_model_name": "DescriptionStyleModel",
      "_view_count": null,
      "_view_module": "@jupyter-widgets/base",
      "_view_module_version": "1.2.0",
      "_view_name": "StyleView",
      "description_width": ""
     }
    },
    "3f3c0f26ee604408b2b5c45659a90ec8": {
     "model_module": "@jupyter-widgets/controls",
     "model_module_version": "1.5.0",
     "model_name": "DescriptionStyleModel",
     "state": {
      "_model_module": "@jupyter-widgets/controls",
      "_model_module_version": "1.5.0",
      "_model_name": "DescriptionStyleModel",
      "_view_count": null,
      "_view_module": "@jupyter-widgets/base",
      "_view_module_version": "1.2.0",
      "_view_name": "StyleView",
      "description_width": ""
     }
    },
    "3f4d23eadf704659af44bd6102ab68b1": {
     "model_module": "@jupyter-widgets/base",
     "model_module_version": "1.2.0",
     "model_name": "LayoutModel",
     "state": {
      "_model_module": "@jupyter-widgets/base",
      "_model_module_version": "1.2.0",
      "_model_name": "LayoutModel",
      "_view_count": null,
      "_view_module": "@jupyter-widgets/base",
      "_view_module_version": "1.2.0",
      "_view_name": "LayoutView",
      "align_content": null,
      "align_items": null,
      "align_self": null,
      "border": null,
      "bottom": null,
      "display": null,
      "flex": null,
      "flex_flow": null,
      "grid_area": null,
      "grid_auto_columns": null,
      "grid_auto_flow": null,
      "grid_auto_rows": null,
      "grid_column": null,
      "grid_gap": null,
      "grid_row": null,
      "grid_template_areas": null,
      "grid_template_columns": null,
      "grid_template_rows": null,
      "height": null,
      "justify_content": null,
      "justify_items": null,
      "left": null,
      "margin": null,
      "max_height": null,
      "max_width": null,
      "min_height": null,
      "min_width": null,
      "object_fit": null,
      "object_position": null,
      "order": null,
      "overflow": null,
      "overflow_x": null,
      "overflow_y": null,
      "padding": null,
      "right": null,
      "top": null,
      "visibility": null,
      "width": null
     }
    },
    "4be82e459d2441069a057b0d222495a1": {
     "model_module": "@jupyter-widgets/controls",
     "model_module_version": "1.5.0",
     "model_name": "ProgressStyleModel",
     "state": {
      "_model_module": "@jupyter-widgets/controls",
      "_model_module_version": "1.5.0",
      "_model_name": "ProgressStyleModel",
      "_view_count": null,
      "_view_module": "@jupyter-widgets/base",
      "_view_module_version": "1.2.0",
      "_view_name": "StyleView",
      "bar_color": null,
      "description_width": ""
     }
    },
    "4cdd4d46ed01424cbf137edfba4c5748": {
     "model_module": "@jupyter-widgets/controls",
     "model_module_version": "1.5.0",
     "model_name": "DescriptionStyleModel",
     "state": {
      "_model_module": "@jupyter-widgets/controls",
      "_model_module_version": "1.5.0",
      "_model_name": "DescriptionStyleModel",
      "_view_count": null,
      "_view_module": "@jupyter-widgets/base",
      "_view_module_version": "1.2.0",
      "_view_name": "StyleView",
      "description_width": ""
     }
    },
    "54d959ddd43d415482dc10717e1102ea": {
     "model_module": "@jupyter-widgets/controls",
     "model_module_version": "1.5.0",
     "model_name": "DescriptionStyleModel",
     "state": {
      "_model_module": "@jupyter-widgets/controls",
      "_model_module_version": "1.5.0",
      "_model_name": "DescriptionStyleModel",
      "_view_count": null,
      "_view_module": "@jupyter-widgets/base",
      "_view_module_version": "1.2.0",
      "_view_name": "StyleView",
      "description_width": ""
     }
    },
    "6f681ddb8eb84fde8e2bdbee3ccc2483": {
     "model_module": "@jupyter-widgets/controls",
     "model_module_version": "1.5.0",
     "model_name": "HTMLModel",
     "state": {
      "_dom_classes": [],
      "_model_module": "@jupyter-widgets/controls",
      "_model_module_version": "1.5.0",
      "_model_name": "HTMLModel",
      "_view_count": null,
      "_view_module": "@jupyter-widgets/controls",
      "_view_module_version": "1.5.0",
      "_view_name": "HTMLView",
      "description": "",
      "description_tooltip": null,
      "layout": "IPY_MODEL_bc2bb5006eb648f5a39b81f48a64bc5a",
      "placeholder": "​",
      "style": "IPY_MODEL_e63d1dd528f94656a17674cca7be76b0",
      "value": "Downloading: 100%"
     }
    },
    "866330e251354933a702df58fe382fad": {
     "model_module": "@jupyter-widgets/base",
     "model_module_version": "1.2.0",
     "model_name": "LayoutModel",
     "state": {
      "_model_module": "@jupyter-widgets/base",
      "_model_module_version": "1.2.0",
      "_model_name": "LayoutModel",
      "_view_count": null,
      "_view_module": "@jupyter-widgets/base",
      "_view_module_version": "1.2.0",
      "_view_name": "LayoutView",
      "align_content": null,
      "align_items": null,
      "align_self": null,
      "border": null,
      "bottom": null,
      "display": null,
      "flex": null,
      "flex_flow": null,
      "grid_area": null,
      "grid_auto_columns": null,
      "grid_auto_flow": null,
      "grid_auto_rows": null,
      "grid_column": null,
      "grid_gap": null,
      "grid_row": null,
      "grid_template_areas": null,
      "grid_template_columns": null,
      "grid_template_rows": null,
      "height": null,
      "justify_content": null,
      "justify_items": null,
      "left": null,
      "margin": null,
      "max_height": null,
      "max_width": null,
      "min_height": null,
      "min_width": null,
      "object_fit": null,
      "object_position": null,
      "order": null,
      "overflow": null,
      "overflow_x": null,
      "overflow_y": null,
      "padding": null,
      "right": null,
      "top": null,
      "visibility": null,
      "width": null
     }
    },
    "88b1febfb0d24bd59f1a0242686126bc": {
     "model_module": "@jupyter-widgets/base",
     "model_module_version": "1.2.0",
     "model_name": "LayoutModel",
     "state": {
      "_model_module": "@jupyter-widgets/base",
      "_model_module_version": "1.2.0",
      "_model_name": "LayoutModel",
      "_view_count": null,
      "_view_module": "@jupyter-widgets/base",
      "_view_module_version": "1.2.0",
      "_view_name": "LayoutView",
      "align_content": null,
      "align_items": null,
      "align_self": null,
      "border": null,
      "bottom": null,
      "display": null,
      "flex": null,
      "flex_flow": null,
      "grid_area": null,
      "grid_auto_columns": null,
      "grid_auto_flow": null,
      "grid_auto_rows": null,
      "grid_column": null,
      "grid_gap": null,
      "grid_row": null,
      "grid_template_areas": null,
      "grid_template_columns": null,
      "grid_template_rows": null,
      "height": null,
      "justify_content": null,
      "justify_items": null,
      "left": null,
      "margin": null,
      "max_height": null,
      "max_width": null,
      "min_height": null,
      "min_width": null,
      "object_fit": null,
      "object_position": null,
      "order": null,
      "overflow": null,
      "overflow_x": null,
      "overflow_y": null,
      "padding": null,
      "right": null,
      "top": null,
      "visibility": null,
      "width": null
     }
    },
    "88b38251d3a24f9c959fcbaa866bb205": {
     "model_module": "@jupyter-widgets/controls",
     "model_module_version": "1.5.0",
     "model_name": "HTMLModel",
     "state": {
      "_dom_classes": [],
      "_model_module": "@jupyter-widgets/controls",
      "_model_module_version": "1.5.0",
      "_model_name": "HTMLModel",
      "_view_count": null,
      "_view_module": "@jupyter-widgets/controls",
      "_view_module_version": "1.5.0",
      "_view_name": "HTMLView",
      "description": "",
      "description_tooltip": null,
      "layout": "IPY_MODEL_3f4d23eadf704659af44bd6102ab68b1",
      "placeholder": "​",
      "style": "IPY_MODEL_d15100da693b4269b195048fcd190b2c",
      "value": " 420M/420M [00:18&lt;00:00, 26.6MB/s]"
     }
    },
    "8ed5de280b364432ada3538dc4ee2d9c": {
     "model_module": "@jupyter-widgets/controls",
     "model_module_version": "1.5.0",
     "model_name": "ProgressStyleModel",
     "state": {
      "_model_module": "@jupyter-widgets/controls",
      "_model_module_version": "1.5.0",
      "_model_name": "ProgressStyleModel",
      "_view_count": null,
      "_view_module": "@jupyter-widgets/base",
      "_view_module_version": "1.2.0",
      "_view_name": "StyleView",
      "bar_color": null,
      "description_width": ""
     }
    },
    "95affe54d87c4d489b1e779bb7116684": {
     "model_module": "@jupyter-widgets/base",
     "model_module_version": "1.2.0",
     "model_name": "LayoutModel",
     "state": {
      "_model_module": "@jupyter-widgets/base",
      "_model_module_version": "1.2.0",
      "_model_name": "LayoutModel",
      "_view_count": null,
      "_view_module": "@jupyter-widgets/base",
      "_view_module_version": "1.2.0",
      "_view_name": "LayoutView",
      "align_content": null,
      "align_items": null,
      "align_self": null,
      "border": null,
      "bottom": null,
      "display": null,
      "flex": null,
      "flex_flow": null,
      "grid_area": null,
      "grid_auto_columns": null,
      "grid_auto_flow": null,
      "grid_auto_rows": null,
      "grid_column": null,
      "grid_gap": null,
      "grid_row": null,
      "grid_template_areas": null,
      "grid_template_columns": null,
      "grid_template_rows": null,
      "height": null,
      "justify_content": null,
      "justify_items": null,
      "left": null,
      "margin": null,
      "max_height": null,
      "max_width": null,
      "min_height": null,
      "min_width": null,
      "object_fit": null,
      "object_position": null,
      "order": null,
      "overflow": null,
      "overflow_x": null,
      "overflow_y": null,
      "padding": null,
      "right": null,
      "top": null,
      "visibility": null,
      "width": null
     }
    },
    "98c550303e6b4141932b6186e0237870": {
     "model_module": "@jupyter-widgets/base",
     "model_module_version": "1.2.0",
     "model_name": "LayoutModel",
     "state": {
      "_model_module": "@jupyter-widgets/base",
      "_model_module_version": "1.2.0",
      "_model_name": "LayoutModel",
      "_view_count": null,
      "_view_module": "@jupyter-widgets/base",
      "_view_module_version": "1.2.0",
      "_view_name": "LayoutView",
      "align_content": null,
      "align_items": null,
      "align_self": null,
      "border": null,
      "bottom": null,
      "display": null,
      "flex": null,
      "flex_flow": null,
      "grid_area": null,
      "grid_auto_columns": null,
      "grid_auto_flow": null,
      "grid_auto_rows": null,
      "grid_column": null,
      "grid_gap": null,
      "grid_row": null,
      "grid_template_areas": null,
      "grid_template_columns": null,
      "grid_template_rows": null,
      "height": null,
      "justify_content": null,
      "justify_items": null,
      "left": null,
      "margin": null,
      "max_height": null,
      "max_width": null,
      "min_height": null,
      "min_width": null,
      "object_fit": null,
      "object_position": null,
      "order": null,
      "overflow": null,
      "overflow_x": null,
      "overflow_y": null,
      "padding": null,
      "right": null,
      "top": null,
      "visibility": null,
      "width": null
     }
    },
    "9b80103e4d254f918febfecb087a91fd": {
     "model_module": "@jupyter-widgets/base",
     "model_module_version": "1.2.0",
     "model_name": "LayoutModel",
     "state": {
      "_model_module": "@jupyter-widgets/base",
      "_model_module_version": "1.2.0",
      "_model_name": "LayoutModel",
      "_view_count": null,
      "_view_module": "@jupyter-widgets/base",
      "_view_module_version": "1.2.0",
      "_view_name": "LayoutView",
      "align_content": null,
      "align_items": null,
      "align_self": null,
      "border": null,
      "bottom": null,
      "display": null,
      "flex": null,
      "flex_flow": null,
      "grid_area": null,
      "grid_auto_columns": null,
      "grid_auto_flow": null,
      "grid_auto_rows": null,
      "grid_column": null,
      "grid_gap": null,
      "grid_row": null,
      "grid_template_areas": null,
      "grid_template_columns": null,
      "grid_template_rows": null,
      "height": null,
      "justify_content": null,
      "justify_items": null,
      "left": null,
      "margin": null,
      "max_height": null,
      "max_width": null,
      "min_height": null,
      "min_width": null,
      "object_fit": null,
      "object_position": null,
      "order": null,
      "overflow": null,
      "overflow_x": null,
      "overflow_y": null,
      "padding": null,
      "right": null,
      "top": null,
      "visibility": null,
      "width": null
     }
    },
    "9ef15dd59ae34bb9bd3c6c8f550b3dbe": {
     "model_module": "@jupyter-widgets/base",
     "model_module_version": "1.2.0",
     "model_name": "LayoutModel",
     "state": {
      "_model_module": "@jupyter-widgets/base",
      "_model_module_version": "1.2.0",
      "_model_name": "LayoutModel",
      "_view_count": null,
      "_view_module": "@jupyter-widgets/base",
      "_view_module_version": "1.2.0",
      "_view_name": "LayoutView",
      "align_content": null,
      "align_items": null,
      "align_self": null,
      "border": null,
      "bottom": null,
      "display": null,
      "flex": null,
      "flex_flow": null,
      "grid_area": null,
      "grid_auto_columns": null,
      "grid_auto_flow": null,
      "grid_auto_rows": null,
      "grid_column": null,
      "grid_gap": null,
      "grid_row": null,
      "grid_template_areas": null,
      "grid_template_columns": null,
      "grid_template_rows": null,
      "height": null,
      "justify_content": null,
      "justify_items": null,
      "left": null,
      "margin": null,
      "max_height": null,
      "max_width": null,
      "min_height": null,
      "min_width": null,
      "object_fit": null,
      "object_position": null,
      "order": null,
      "overflow": null,
      "overflow_x": null,
      "overflow_y": null,
      "padding": null,
      "right": null,
      "top": null,
      "visibility": null,
      "width": null
     }
    },
    "a000b6d2f3a847afa40dbe496556be79": {
     "model_module": "@jupyter-widgets/base",
     "model_module_version": "1.2.0",
     "model_name": "LayoutModel",
     "state": {
      "_model_module": "@jupyter-widgets/base",
      "_model_module_version": "1.2.0",
      "_model_name": "LayoutModel",
      "_view_count": null,
      "_view_module": "@jupyter-widgets/base",
      "_view_module_version": "1.2.0",
      "_view_name": "LayoutView",
      "align_content": null,
      "align_items": null,
      "align_self": null,
      "border": null,
      "bottom": null,
      "display": null,
      "flex": null,
      "flex_flow": null,
      "grid_area": null,
      "grid_auto_columns": null,
      "grid_auto_flow": null,
      "grid_auto_rows": null,
      "grid_column": null,
      "grid_gap": null,
      "grid_row": null,
      "grid_template_areas": null,
      "grid_template_columns": null,
      "grid_template_rows": null,
      "height": null,
      "justify_content": null,
      "justify_items": null,
      "left": null,
      "margin": null,
      "max_height": null,
      "max_width": null,
      "min_height": null,
      "min_width": null,
      "object_fit": null,
      "object_position": null,
      "order": null,
      "overflow": null,
      "overflow_x": null,
      "overflow_y": null,
      "padding": null,
      "right": null,
      "top": null,
      "visibility": null,
      "width": null
     }
    },
    "a34678b3a198491b8d8ea84877a7c336": {
     "model_module": "@jupyter-widgets/controls",
     "model_module_version": "1.5.0",
     "model_name": "DescriptionStyleModel",
     "state": {
      "_model_module": "@jupyter-widgets/controls",
      "_model_module_version": "1.5.0",
      "_model_name": "DescriptionStyleModel",
      "_view_count": null,
      "_view_module": "@jupyter-widgets/base",
      "_view_module_version": "1.2.0",
      "_view_name": "StyleView",
      "description_width": ""
     }
    },
    "a6e94a30484c4843957d89c699ffb8f9": {
     "model_module": "@jupyter-widgets/controls",
     "model_module_version": "1.5.0",
     "model_name": "ProgressStyleModel",
     "state": {
      "_model_module": "@jupyter-widgets/controls",
      "_model_module_version": "1.5.0",
      "_model_name": "ProgressStyleModel",
      "_view_count": null,
      "_view_module": "@jupyter-widgets/base",
      "_view_module_version": "1.2.0",
      "_view_name": "StyleView",
      "bar_color": null,
      "description_width": ""
     }
    },
    "a72c75d73f13479fa7d24326cbb96bbb": {
     "model_module": "@jupyter-widgets/base",
     "model_module_version": "1.2.0",
     "model_name": "LayoutModel",
     "state": {
      "_model_module": "@jupyter-widgets/base",
      "_model_module_version": "1.2.0",
      "_model_name": "LayoutModel",
      "_view_count": null,
      "_view_module": "@jupyter-widgets/base",
      "_view_module_version": "1.2.0",
      "_view_name": "LayoutView",
      "align_content": null,
      "align_items": null,
      "align_self": null,
      "border": null,
      "bottom": null,
      "display": null,
      "flex": null,
      "flex_flow": null,
      "grid_area": null,
      "grid_auto_columns": null,
      "grid_auto_flow": null,
      "grid_auto_rows": null,
      "grid_column": null,
      "grid_gap": null,
      "grid_row": null,
      "grid_template_areas": null,
      "grid_template_columns": null,
      "grid_template_rows": null,
      "height": null,
      "justify_content": null,
      "justify_items": null,
      "left": null,
      "margin": null,
      "max_height": null,
      "max_width": null,
      "min_height": null,
      "min_width": null,
      "object_fit": null,
      "object_position": null,
      "order": null,
      "overflow": null,
      "overflow_x": null,
      "overflow_y": null,
      "padding": null,
      "right": null,
      "top": null,
      "visibility": null,
      "width": null
     }
    },
    "ac32f36a875642668d5b28211df2a854": {
     "model_module": "@jupyter-widgets/controls",
     "model_module_version": "1.5.0",
     "model_name": "ProgressStyleModel",
     "state": {
      "_model_module": "@jupyter-widgets/controls",
      "_model_module_version": "1.5.0",
      "_model_name": "ProgressStyleModel",
      "_view_count": null,
      "_view_module": "@jupyter-widgets/base",
      "_view_module_version": "1.2.0",
      "_view_name": "StyleView",
      "bar_color": null,
      "description_width": ""
     }
    },
    "ae07bedbfdee4f5f899f315b6bab9785": {
     "model_module": "@jupyter-widgets/controls",
     "model_module_version": "1.5.0",
     "model_name": "HBoxModel",
     "state": {
      "_dom_classes": [],
      "_model_module": "@jupyter-widgets/controls",
      "_model_module_version": "1.5.0",
      "_model_name": "HBoxModel",
      "_view_count": null,
      "_view_module": "@jupyter-widgets/controls",
      "_view_module_version": "1.5.0",
      "_view_name": "HBoxView",
      "box_style": "",
      "children": [
       "IPY_MODEL_6f681ddb8eb84fde8e2bdbee3ccc2483",
       "IPY_MODEL_0cc3cc28b9f64bb19bc50891283dd820",
       "IPY_MODEL_c072137e87c84a25a263b12a579a64f5"
      ],
      "layout": "IPY_MODEL_9ef15dd59ae34bb9bd3c6c8f550b3dbe"
     }
    },
    "af8c4b4b24354ff181d58b685e059927": {
     "model_module": "@jupyter-widgets/base",
     "model_module_version": "1.2.0",
     "model_name": "LayoutModel",
     "state": {
      "_model_module": "@jupyter-widgets/base",
      "_model_module_version": "1.2.0",
      "_model_name": "LayoutModel",
      "_view_count": null,
      "_view_module": "@jupyter-widgets/base",
      "_view_module_version": "1.2.0",
      "_view_name": "LayoutView",
      "align_content": null,
      "align_items": null,
      "align_self": null,
      "border": null,
      "bottom": null,
      "display": null,
      "flex": null,
      "flex_flow": null,
      "grid_area": null,
      "grid_auto_columns": null,
      "grid_auto_flow": null,
      "grid_auto_rows": null,
      "grid_column": null,
      "grid_gap": null,
      "grid_row": null,
      "grid_template_areas": null,
      "grid_template_columns": null,
      "grid_template_rows": null,
      "height": null,
      "justify_content": null,
      "justify_items": null,
      "left": null,
      "margin": null,
      "max_height": null,
      "max_width": null,
      "min_height": null,
      "min_width": null,
      "object_fit": null,
      "object_position": null,
      "order": null,
      "overflow": null,
      "overflow_x": null,
      "overflow_y": null,
      "padding": null,
      "right": null,
      "top": null,
      "visibility": null,
      "width": null
     }
    },
    "b50fb6d5fa2d44d0acb749914ed4d9dd": {
     "model_module": "@jupyter-widgets/controls",
     "model_module_version": "1.5.0",
     "model_name": "HBoxModel",
     "state": {
      "_dom_classes": [],
      "_model_module": "@jupyter-widgets/controls",
      "_model_module_version": "1.5.0",
      "_model_name": "HBoxModel",
      "_view_count": null,
      "_view_module": "@jupyter-widgets/controls",
      "_view_module_version": "1.5.0",
      "_view_name": "HBoxView",
      "box_style": "",
      "children": [
       "IPY_MODEL_e5133e1df0ba4780a8ea477fa998d75e",
       "IPY_MODEL_ed1c4bff44a14efd95886da1893887db",
       "IPY_MODEL_c510cb1931a7401bb6862c25b7e39890"
      ],
      "layout": "IPY_MODEL_95affe54d87c4d489b1e779bb7116684"
     }
    },
    "baa629b662a941ec9be4faebc5850b30": {
     "model_module": "@jupyter-widgets/controls",
     "model_module_version": "1.5.0",
     "model_name": "ProgressStyleModel",
     "state": {
      "_model_module": "@jupyter-widgets/controls",
      "_model_module_version": "1.5.0",
      "_model_name": "ProgressStyleModel",
      "_view_count": null,
      "_view_module": "@jupyter-widgets/base",
      "_view_module_version": "1.2.0",
      "_view_name": "StyleView",
      "bar_color": null,
      "description_width": ""
     }
    },
    "bc22663963b5443487cf631d373c7bf6": {
     "model_module": "@jupyter-widgets/controls",
     "model_module_version": "1.5.0",
     "model_name": "HBoxModel",
     "state": {
      "_dom_classes": [],
      "_model_module": "@jupyter-widgets/controls",
      "_model_module_version": "1.5.0",
      "_model_name": "HBoxModel",
      "_view_count": null,
      "_view_module": "@jupyter-widgets/controls",
      "_view_module_version": "1.5.0",
      "_view_name": "HBoxView",
      "box_style": "",
      "children": [
       "IPY_MODEL_f969e24f9f3e4b98953ac67d80972f39",
       "IPY_MODEL_1bdc3cc8ac03489e8ab292c8aff427e7",
       "IPY_MODEL_23a1dff97ec74f83b22dd5d6a057664c"
      ],
      "layout": "IPY_MODEL_af8c4b4b24354ff181d58b685e059927"
     }
    },
    "bc2bb5006eb648f5a39b81f48a64bc5a": {
     "model_module": "@jupyter-widgets/base",
     "model_module_version": "1.2.0",
     "model_name": "LayoutModel",
     "state": {
      "_model_module": "@jupyter-widgets/base",
      "_model_module_version": "1.2.0",
      "_model_name": "LayoutModel",
      "_view_count": null,
      "_view_module": "@jupyter-widgets/base",
      "_view_module_version": "1.2.0",
      "_view_name": "LayoutView",
      "align_content": null,
      "align_items": null,
      "align_self": null,
      "border": null,
      "bottom": null,
      "display": null,
      "flex": null,
      "flex_flow": null,
      "grid_area": null,
      "grid_auto_columns": null,
      "grid_auto_flow": null,
      "grid_auto_rows": null,
      "grid_column": null,
      "grid_gap": null,
      "grid_row": null,
      "grid_template_areas": null,
      "grid_template_columns": null,
      "grid_template_rows": null,
      "height": null,
      "justify_content": null,
      "justify_items": null,
      "left": null,
      "margin": null,
      "max_height": null,
      "max_width": null,
      "min_height": null,
      "min_width": null,
      "object_fit": null,
      "object_position": null,
      "order": null,
      "overflow": null,
      "overflow_x": null,
      "overflow_y": null,
      "padding": null,
      "right": null,
      "top": null,
      "visibility": null,
      "width": null
     }
    },
    "bd9b9d576a504fee915f6192c1ebd5dd": {
     "model_module": "@jupyter-widgets/controls",
     "model_module_version": "1.5.0",
     "model_name": "HTMLModel",
     "state": {
      "_dom_classes": [],
      "_model_module": "@jupyter-widgets/controls",
      "_model_module_version": "1.5.0",
      "_model_name": "HTMLModel",
      "_view_count": null,
      "_view_module": "@jupyter-widgets/controls",
      "_view_module_version": "1.5.0",
      "_view_name": "HTMLView",
      "description": "",
      "description_tooltip": null,
      "layout": "IPY_MODEL_0c6baa969f884b16a33b2dd2d46ff191",
      "placeholder": "​",
      "style": "IPY_MODEL_a34678b3a198491b8d8ea84877a7c336",
      "value": " 226k/226k [00:00&lt;00:00, 962kB/s]"
     }
    },
    "c072137e87c84a25a263b12a579a64f5": {
     "model_module": "@jupyter-widgets/controls",
     "model_module_version": "1.5.0",
     "model_name": "HTMLModel",
     "state": {
      "_dom_classes": [],
      "_model_module": "@jupyter-widgets/controls",
      "_model_module_version": "1.5.0",
      "_model_name": "HTMLModel",
      "_view_count": null,
      "_view_module": "@jupyter-widgets/controls",
      "_view_module_version": "1.5.0",
      "_view_name": "HTMLView",
      "description": "",
      "description_tooltip": null,
      "layout": "IPY_MODEL_9b80103e4d254f918febfecb087a91fd",
      "placeholder": "​",
      "style": "IPY_MODEL_f5c5a43def514cbc854d322f1004e11a",
      "value": " 28.0/28.0 [00:00&lt;00:00, 785B/s]"
     }
    },
    "c216fcbfb6ec4b2aae867f5fce1e5384": {
     "model_module": "@jupyter-widgets/base",
     "model_module_version": "1.2.0",
     "model_name": "LayoutModel",
     "state": {
      "_model_module": "@jupyter-widgets/base",
      "_model_module_version": "1.2.0",
      "_model_name": "LayoutModel",
      "_view_count": null,
      "_view_module": "@jupyter-widgets/base",
      "_view_module_version": "1.2.0",
      "_view_name": "LayoutView",
      "align_content": null,
      "align_items": null,
      "align_self": null,
      "border": null,
      "bottom": null,
      "display": null,
      "flex": null,
      "flex_flow": null,
      "grid_area": null,
      "grid_auto_columns": null,
      "grid_auto_flow": null,
      "grid_auto_rows": null,
      "grid_column": null,
      "grid_gap": null,
      "grid_row": null,
      "grid_template_areas": null,
      "grid_template_columns": null,
      "grid_template_rows": null,
      "height": null,
      "justify_content": null,
      "justify_items": null,
      "left": null,
      "margin": null,
      "max_height": null,
      "max_width": null,
      "min_height": null,
      "min_width": null,
      "object_fit": null,
      "object_position": null,
      "order": null,
      "overflow": null,
      "overflow_x": null,
      "overflow_y": null,
      "padding": null,
      "right": null,
      "top": null,
      "visibility": null,
      "width": null
     }
    },
    "c510cb1931a7401bb6862c25b7e39890": {
     "model_module": "@jupyter-widgets/controls",
     "model_module_version": "1.5.0",
     "model_name": "HTMLModel",
     "state": {
      "_dom_classes": [],
      "_model_module": "@jupyter-widgets/controls",
      "_model_module_version": "1.5.0",
      "_model_name": "HTMLModel",
      "_view_count": null,
      "_view_module": "@jupyter-widgets/controls",
      "_view_module_version": "1.5.0",
      "_view_name": "HTMLView",
      "description": "",
      "description_tooltip": null,
      "layout": "IPY_MODEL_a72c75d73f13479fa7d24326cbb96bbb",
      "placeholder": "​",
      "style": "IPY_MODEL_238359a3915f4a3b8988e8f6f2e9eec4",
      "value": " 455k/455k [00:00&lt;00:00, 923kB/s]"
     }
    },
    "d15100da693b4269b195048fcd190b2c": {
     "model_module": "@jupyter-widgets/controls",
     "model_module_version": "1.5.0",
     "model_name": "DescriptionStyleModel",
     "state": {
      "_model_module": "@jupyter-widgets/controls",
      "_model_module_version": "1.5.0",
      "_model_name": "DescriptionStyleModel",
      "_view_count": null,
      "_view_module": "@jupyter-widgets/base",
      "_view_module_version": "1.2.0",
      "_view_name": "StyleView",
      "description_width": ""
     }
    },
    "e5133e1df0ba4780a8ea477fa998d75e": {
     "model_module": "@jupyter-widgets/controls",
     "model_module_version": "1.5.0",
     "model_name": "HTMLModel",
     "state": {
      "_dom_classes": [],
      "_model_module": "@jupyter-widgets/controls",
      "_model_module_version": "1.5.0",
      "_model_name": "HTMLModel",
      "_view_count": null,
      "_view_module": "@jupyter-widgets/controls",
      "_view_module_version": "1.5.0",
      "_view_name": "HTMLView",
      "description": "",
      "description_tooltip": null,
      "layout": "IPY_MODEL_866330e251354933a702df58fe382fad",
      "placeholder": "​",
      "style": "IPY_MODEL_3edf448bd27742e59ec59e24594ecc0f",
      "value": "Downloading: 100%"
     }
    },
    "e63d1dd528f94656a17674cca7be76b0": {
     "model_module": "@jupyter-widgets/controls",
     "model_module_version": "1.5.0",
     "model_name": "DescriptionStyleModel",
     "state": {
      "_model_module": "@jupyter-widgets/controls",
      "_model_module_version": "1.5.0",
      "_model_name": "DescriptionStyleModel",
      "_view_count": null,
      "_view_module": "@jupyter-widgets/base",
      "_view_module_version": "1.2.0",
      "_view_name": "StyleView",
      "description_width": ""
     }
    },
    "ed1c4bff44a14efd95886da1893887db": {
     "model_module": "@jupyter-widgets/controls",
     "model_module_version": "1.5.0",
     "model_name": "FloatProgressModel",
     "state": {
      "_dom_classes": [],
      "_model_module": "@jupyter-widgets/controls",
      "_model_module_version": "1.5.0",
      "_model_name": "FloatProgressModel",
      "_view_count": null,
      "_view_module": "@jupyter-widgets/controls",
      "_view_module_version": "1.5.0",
      "_view_name": "ProgressView",
      "bar_style": "success",
      "description": "",
      "description_tooltip": null,
      "layout": "IPY_MODEL_3cbe7f7723ac494f9d3163d7e814b186",
      "max": 466062,
      "min": 0,
      "orientation": "horizontal",
      "style": "IPY_MODEL_a6e94a30484c4843957d89c699ffb8f9",
      "value": 466062
     }
    },
    "f13aa12fbb5e4dd69364e6f5c174e665": {
     "model_module": "@jupyter-widgets/controls",
     "model_module_version": "1.5.0",
     "model_name": "HBoxModel",
     "state": {
      "_dom_classes": [],
      "_model_module": "@jupyter-widgets/controls",
      "_model_module_version": "1.5.0",
      "_model_name": "HBoxModel",
      "_view_count": null,
      "_view_module": "@jupyter-widgets/controls",
      "_view_module_version": "1.5.0",
      "_view_name": "HBoxView",
      "box_style": "",
      "children": [
       "IPY_MODEL_1b349260cc0346f98a525b1e7eae2350",
       "IPY_MODEL_30489b8f130443d195795904a95b8bf4",
       "IPY_MODEL_88b38251d3a24f9c959fcbaa866bb205"
      ],
      "layout": "IPY_MODEL_c216fcbfb6ec4b2aae867f5fce1e5384"
     }
    },
    "f3edd89ce46b45149d887bf55efb6304": {
     "model_module": "@jupyter-widgets/base",
     "model_module_version": "1.2.0",
     "model_name": "LayoutModel",
     "state": {
      "_model_module": "@jupyter-widgets/base",
      "_model_module_version": "1.2.0",
      "_model_name": "LayoutModel",
      "_view_count": null,
      "_view_module": "@jupyter-widgets/base",
      "_view_module_version": "1.2.0",
      "_view_name": "LayoutView",
      "align_content": null,
      "align_items": null,
      "align_self": null,
      "border": null,
      "bottom": null,
      "display": null,
      "flex": null,
      "flex_flow": null,
      "grid_area": null,
      "grid_auto_columns": null,
      "grid_auto_flow": null,
      "grid_auto_rows": null,
      "grid_column": null,
      "grid_gap": null,
      "grid_row": null,
      "grid_template_areas": null,
      "grid_template_columns": null,
      "grid_template_rows": null,
      "height": null,
      "justify_content": null,
      "justify_items": null,
      "left": null,
      "margin": null,
      "max_height": null,
      "max_width": null,
      "min_height": null,
      "min_width": null,
      "object_fit": null,
      "object_position": null,
      "order": null,
      "overflow": null,
      "overflow_x": null,
      "overflow_y": null,
      "padding": null,
      "right": null,
      "top": null,
      "visibility": null,
      "width": null
     }
    },
    "f5c5a43def514cbc854d322f1004e11a": {
     "model_module": "@jupyter-widgets/controls",
     "model_module_version": "1.5.0",
     "model_name": "DescriptionStyleModel",
     "state": {
      "_model_module": "@jupyter-widgets/controls",
      "_model_module_version": "1.5.0",
      "_model_name": "DescriptionStyleModel",
      "_view_count": null,
      "_view_module": "@jupyter-widgets/base",
      "_view_module_version": "1.2.0",
      "_view_name": "StyleView",
      "description_width": ""
     }
    },
    "f969e24f9f3e4b98953ac67d80972f39": {
     "model_module": "@jupyter-widgets/controls",
     "model_module_version": "1.5.0",
     "model_name": "HTMLModel",
     "state": {
      "_dom_classes": [],
      "_model_module": "@jupyter-widgets/controls",
      "_model_module_version": "1.5.0",
      "_model_name": "HTMLModel",
      "_view_count": null,
      "_view_module": "@jupyter-widgets/controls",
      "_view_module_version": "1.5.0",
      "_view_name": "HTMLView",
      "description": "",
      "description_tooltip": null,
      "layout": "IPY_MODEL_014d99f675b4462190ceec354f09e38b",
      "placeholder": "​",
      "style": "IPY_MODEL_3f3c0f26ee604408b2b5c45659a90ec8",
      "value": "Downloading: 100%"
     }
    }
   }
  }
 },
 "nbformat": 4,
 "nbformat_minor": 5
}
